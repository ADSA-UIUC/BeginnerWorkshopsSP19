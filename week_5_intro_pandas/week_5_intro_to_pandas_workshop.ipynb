{
  "nbformat": 4,
  "nbformat_minor": 0,
  "metadata": {
    "colab": {
      "name": "week_4_intro_to_pandas_workshop.ipynb",
      "version": "0.3.2",
      "provenance": []
    },
    "kernelspec": {
      "display_name": "Python 3",
      "language": "python",
      "name": "python3"
    }
  },
  "cells": [
    {
      "metadata": {
        "id": "faCDglr2QtxW",
        "colab_type": "text"
      },
      "cell_type": "markdown",
      "source": [
        "![ADSA Logo](http://i.imgur.com/BV0CdHZ.png?2 \"ADSA Logo\")"
      ]
    },
    {
      "metadata": {
        "id": "N577Ay9mQtxY",
        "colab_type": "text"
      },
      "cell_type": "markdown",
      "source": [
        "# Spring 2019 ADSA Workshop - Introduction to Pandas and Matplotlib\n",
        "Workshop content adapted from:\n",
        "* [Data Science from Scratch - First Principles with Python](http://www.amazon.com/Data-Science-Scratch-Principles-Python/dp/149190142X)\n",
        "* [Greg Reda's Intro to pandas data structures](http://www.gregreda.com/2013/10/26/intro-to-pandas-data-structures/)\n",
        "* [Dr. Robert Brunner INFO 490](https://github.com/UI-DataScience/info490-fa16)\n",
        "\n",
        "\n",
        "This workshop will dive into data processing and visualization with Numpy, Pandas, and Matplotlib.\n",
        "\n",
        "***"
      ]
    },
    {
      "metadata": {
        "id": "pAcVNIQKQtxZ",
        "colab_type": "text"
      },
      "cell_type": "markdown",
      "source": [
        "# Pandas"
      ]
    },
    {
      "metadata": {
        "id": "9N8E4CppQtxa",
        "colab_type": "text"
      },
      "cell_type": "markdown",
      "source": [
        "As stated on the official [pandas site](http://pandas.pydata.org/) \"pandas is an open source, BSD-licensed library providing high-performance, easy-to-use data structures and data analysis tools for the Python programming language.\" Pandas is built on top of NumPy, and provides two key data structures for processing data: Series and DataFrames."
      ]
    },
    {
      "metadata": {
        "id": "HAAYibgiQtxc",
        "colab_type": "text"
      },
      "cell_type": "markdown",
      "source": [
        "To begin, we first need to import pandas and numpy:"
      ]
    },
    {
      "metadata": {
        "id": "4w2GevUMQtxc",
        "colab_type": "code",
        "colab": {}
      },
      "cell_type": "code",
      "source": [
        "import pandas as pd\n",
        "import numpy as np\n",
        "\n",
        "'''\n",
        "For easiest visual display later on.\n",
        "'''\n",
        "pd.set_option('max_columns', 50)\n",
        "\n",
        "'''\n",
        "This line is Jupyter Notebook specific and allows for graphs\n",
        "to be displayed in the notebook.\n",
        "''' \n",
        "%matplotlib inline"
      ],
      "execution_count": 0,
      "outputs": []
    },
    {
      "metadata": {
        "id": "Lzw17DVeQtxf",
        "colab_type": "text"
      },
      "cell_type": "markdown",
      "source": [
        "## Series"
      ]
    },
    {
      "metadata": {
        "id": "Aq-hXMkLQtxg",
        "colab_type": "text"
      },
      "cell_type": "markdown",
      "source": [
        "A Series is a one-dimensional object containing a series of items, and is similar to an array or list in Python. A Numpy series assigns a labeled index to every entry in the series, and uses the numbers 0 through n (length of the series - 1) by default."
      ]
    },
    {
      "metadata": {
        "id": "FvqGiuOcQtxh",
        "colab_type": "text"
      },
      "cell_type": "markdown",
      "source": [
        "### Creating a Series"
      ]
    },
    {
      "metadata": {
        "id": "utgSkW--Qtxh",
        "colab_type": "text"
      },
      "cell_type": "markdown",
      "source": [
        "To make a series, we can pass in a Python list to the pd.Series() function. Note the convenient printing format and indices given when we print the series."
      ]
    },
    {
      "metadata": {
        "id": "sdR7mt0_Qtxi",
        "colab_type": "code",
        "colab": {}
      },
      "cell_type": "code",
      "source": [
        "s = pd.Series(['ADSA', 5, True, -3.14 ])\n",
        "print(s)"
      ],
      "execution_count": 0,
      "outputs": []
    },
    {
      "metadata": {
        "id": "_Z3tC35KQtxk",
        "colab_type": "text"
      },
      "cell_type": "markdown",
      "source": [
        "If you want, you can specify index labels to be used rather than the default 0 to n, by passing in an index list. (Note that the index list must be the same length as the series)."
      ]
    },
    {
      "metadata": {
        "id": "_27_RAejQtxl",
        "colab_type": "code",
        "colab": {}
      },
      "cell_type": "code",
      "source": [
        "s = pd.Series(['ADSA', 5, True, -3.76 ], index=['A', 'B', 'C', 'D'])\n",
        "print(s)"
      ],
      "execution_count": 0,
      "outputs": []
    },
    {
      "metadata": {
        "id": "AC-Q9zwVQtxp",
        "colab_type": "text"
      },
      "cell_type": "markdown",
      "source": [
        "Now, let's say you have to create a series that has your day's agenda on it. Today, you will hang out with friends, do homework, play xbox, and study for your midterm. Since this is an agenda, you want to label the indexes as 1,2,3,4 so that they can be listed in order. How would you do this?"
      ]
    },
    {
      "metadata": {
        "id": "JrJSXgxXQtxp",
        "colab_type": "code",
        "colab": {}
      },
      "cell_type": "code",
      "source": [
        "#INSERT CODE HERE"
      ],
      "execution_count": 0,
      "outputs": []
    },
    {
      "metadata": {
        "id": "pR3_fb9hQtxs",
        "colab_type": "text"
      },
      "cell_type": "markdown",
      "source": [
        "We can also take an existing Python dictionary and convert it to a series by passing it into the pd.Series() function."
      ]
    },
    {
      "metadata": {
        "id": "AXXySK_yQtxt",
        "colab_type": "code",
        "colab": {}
      },
      "cell_type": "code",
      "source": [
        "# Let's assume we have a dictionary of cities and weather data\n",
        "d = {'Chicago': 75,\n",
        "     'Boston': 65,\n",
        "     'New York': 70,\n",
        "     'San Francisco': 80,\n",
        "     'Los Angeles': 82,\n",
        "     'Austin': None\n",
        "}\n",
        "\n",
        "weather = pd.Series(d)\n",
        "print(weather)"
      ],
      "execution_count": 0,
      "outputs": []
    },
    {
      "metadata": {
        "id": "n9i7Ls3PQtxw",
        "colab_type": "text"
      },
      "cell_type": "markdown",
      "source": [
        "### Querying a Series"
      ]
    },
    {
      "metadata": {
        "id": "ptePpV8qQtxx",
        "colab_type": "text"
      },
      "cell_type": "markdown",
      "source": [
        "We can then access data for specific indices by passing either a single index, or a list of indices in brackets."
      ]
    },
    {
      "metadata": {
        "id": "ruVWbaatQtxz",
        "colab_type": "code",
        "colab": {}
      },
      "cell_type": "code",
      "source": [
        "print(weather['Chicago'])\n",
        "\n",
        "print('\\n')\n",
        "\n",
        "print(weather[['Chicago', 'Austin']])"
      ],
      "execution_count": 0,
      "outputs": []
    },
    {
      "metadata": {
        "id": "BVXqrZKoQtx1",
        "colab_type": "text"
      },
      "cell_type": "markdown",
      "source": [
        "We can use boolean statements involving our series in order to check if something is in a series or generate a series of true and false values for those entries which satisfy the statement."
      ]
    },
    {
      "metadata": {
        "id": "aLEHs3isQtx2",
        "colab_type": "code",
        "colab": {}
      },
      "cell_type": "code",
      "source": [
        "print('Chicago' in weather)\n",
        "\n",
        "print('\\n')\n",
        "\n",
        "weather_less_than_80 = weather < 80\n",
        "print(weather_less_than_80)"
      ],
      "execution_count": 0,
      "outputs": []
    },
    {
      "metadata": {
        "id": "WSkLGC5sQtx5",
        "colab_type": "text"
      },
      "cell_type": "markdown",
      "source": [
        "By passing in these boolean statements, we can query the series for entries which satisfy the boolean."
      ]
    },
    {
      "metadata": {
        "id": "s89LpDBGQtx7",
        "colab_type": "code",
        "colab": {}
      },
      "cell_type": "code",
      "source": [
        "print(weather[weather < 80])\n",
        "\n",
        "print('\\n')"
      ],
      "execution_count": 0,
      "outputs": []
    },
    {
      "metadata": {
        "id": "WwvkYLmZQtx-",
        "colab_type": "text"
      },
      "cell_type": "markdown",
      "source": [
        "Suppose we had a series which contained the various incomes of Apple Employees"
      ]
    },
    {
      "metadata": {
        "id": "G3KTBd08Qtx_",
        "colab_type": "code",
        "colab": {}
      },
      "cell_type": "code",
      "source": [
        "q = {'Employee 1': 100000,\n",
        "     'Employee 2': 95000,\n",
        "     'Employee 3': 140000,\n",
        "     'Employee 4': 80000,\n",
        "     'Employee 5': 90000,\n",
        "     'Employee 6': 250000\n",
        "}\n",
        "income = pd.Series(q)\n",
        "print(income)"
      ],
      "execution_count": 0,
      "outputs": []
    },
    {
      "metadata": {
        "id": "Mq4iH8x-QtyD",
        "colab_type": "text"
      },
      "cell_type": "markdown",
      "source": [
        "If Apple decides to raise the income of everyone who is making less than $100,000, how will they identify these people? "
      ]
    },
    {
      "metadata": {
        "id": "4QrNJxv_QtyE",
        "colab_type": "code",
        "colab": {}
      },
      "cell_type": "code",
      "source": [
        "print(income[income < 100000])"
      ],
      "execution_count": 0,
      "outputs": []
    },
    {
      "metadata": {
        "id": "18ajhL3JQtyG",
        "colab_type": "text"
      },
      "cell_type": "markdown",
      "source": [
        "### Combining Series"
      ]
    },
    {
      "metadata": {
        "id": "WdfnWA5bQtyI",
        "colab_type": "text"
      },
      "cell_type": "markdown",
      "source": [
        "We can also perform scalar multiplication and division, and numpy operations on series."
      ]
    },
    {
      "metadata": {
        "id": "GDtC8iqtQtyJ",
        "colab_type": "code",
        "colab": {}
      },
      "cell_type": "code",
      "source": [
        "print(weather / 3)\n",
        "\n",
        "print('\\n')\n",
        "\n",
        "print(weather * 2)\n",
        "\n",
        "print('\\n')\n",
        "\n",
        "print(np.square(weather))"
      ],
      "execution_count": 0,
      "outputs": []
    },
    {
      "metadata": {
        "id": "0_wmAq5hQtyL",
        "colab_type": "text"
      },
      "cell_type": "markdown",
      "source": [
        "So if we work with the same example with the income of the Apple employees, how will we increase just the salary of those making less than 100,000 by a multiple of 1.25 ?"
      ]
    },
    {
      "metadata": {
        "id": "qiZMSPb0QtyM",
        "colab_type": "code",
        "colab": {}
      },
      "cell_type": "code",
      "source": [
        "#INSERT CODE HERE"
      ],
      "execution_count": 0,
      "outputs": []
    },
    {
      "metadata": {
        "id": "sE1Yv8rbQtyO",
        "colab_type": "text"
      },
      "cell_type": "markdown",
      "source": [
        "We can also add two series together. If the same index exists in both series, then their values will be added, otherwise a Null/NaN (Not a Number) value will be assigned to the resulting series."
      ]
    },
    {
      "metadata": {
        "id": "kmnNTgTMQtyQ",
        "colab_type": "code",
        "colab": {}
      },
      "cell_type": "code",
      "source": [
        "# Note that the two dictionaries share the key 'New York' but not Chicago or Boston\n",
        "d1 = {'Chicago': 65, \n",
        "      'New York': 55\n",
        "     }\n",
        "\n",
        "d2 = {'New York': 10,\n",
        "      'Boston': 60\n",
        "     }\n",
        "\n",
        "s1 = pd.Series(d1)\n",
        "s2 = pd.Series(d2)\n",
        "\n",
        "# The value for New York will be added, but the values for Chicago and Boston are indeterminate and marked as NaN\n",
        "s3 = s1 + s2\n",
        "print(s3)"
      ],
      "execution_count": 0,
      "outputs": []
    },
    {
      "metadata": {
        "id": "ElxrrMDPQtyT",
        "colab_type": "text"
      },
      "cell_type": "markdown",
      "source": [
        "Finally, to tell if values in a series or Null (NaN) or not, we can use the functions .isnull() and .notnull() respectively. Note that we can use the same boolean logic as before to either display True and False values for every index, or query for indices which are Null."
      ]
    },
    {
      "metadata": {
        "id": "rx1ncDaKQtyU",
        "colab_type": "code",
        "colab": {}
      },
      "cell_type": "code",
      "source": [
        "print(s3.isnull())\n",
        "\n",
        "print('\\n')\n",
        "\n",
        "print(s3[s3.isnull()])"
      ],
      "execution_count": 0,
      "outputs": []
    },
    {
      "metadata": {
        "id": "Yg4yunIKQtyW",
        "colab_type": "text"
      },
      "cell_type": "markdown",
      "source": [
        "## DataFrames"
      ]
    },
    {
      "metadata": {
        "id": "9zz_u6S9QtyY",
        "colab_type": "text"
      },
      "cell_type": "markdown",
      "source": [
        "A DataFrame is a table-based Pandas data structure made up of rows and columns, just like a spreadsheet. Another way to think of DataFrames are as a group of Series in which each index is a column in the table."
      ]
    },
    {
      "metadata": {
        "id": "4kNZKJUlQtyY",
        "colab_type": "text"
      },
      "cell_type": "markdown",
      "source": [
        "### Creating a DataFrame from a Dictionary"
      ]
    },
    {
      "metadata": {
        "id": "uj42UQS0QtyY",
        "colab_type": "text"
      },
      "cell_type": "markdown",
      "source": [
        "In order to create a DataFrame from Python structures, we can create a dictionary of lists, in which each dictionary key is a column of the table, and each entry in the key's list is the value for that column in each row. \n",
        "\n",
        "We then call the pd.DataFrame(data, columns) function where data = the Python dictionary to be passed in, and columns = the ordering in which the columns appear in the table (If no order is specified, column names will be listed alphabetically).\n",
        "\n"
      ]
    },
    {
      "metadata": {
        "id": "TcQ6Xs0RQtyZ",
        "colab_type": "code",
        "colab": {}
      },
      "cell_type": "code",
      "source": [
        "d = {'student': ['Aaron', 'Josh', 'Tom', 'Justin', 'Andrew'],\n",
        "     'credits': ['15', '14', '17', '18', '14'],\n",
        "     'gpa': [3.52, 3.67, 3.43, 3.85, 3.32]\n",
        "}\n",
        "\n",
        "students = pd.DataFrame(d, columns=['student', 'credits', 'gpa'])\n",
        "students"
      ],
      "execution_count": 0,
      "outputs": []
    },
    {
      "metadata": {
        "id": "8lOhnkELQtyc",
        "colab_type": "text"
      },
      "cell_type": "markdown",
      "source": [
        "### Creating a DataFrame from a CSV"
      ]
    },
    {
      "metadata": {
        "id": "sx6r2cQmQtyc",
        "colab_type": "text"
      },
      "cell_type": "markdown",
      "source": [
        "Often times, the dataset we have will be in CSV (Comma Separated Value) form. CSV files exist as a series of values separated by commas. For this tutorial, we have pulled a sample CSV file from the [Kaggle Titanic Project](https://www.kaggle.com/c/titanic/data?train.csv) containing data on the passengers of the Titanic.\n",
        "\n",
        "To see what the Titanic data looks like as a CSV, click [here](https://raw.githubusercontent.com/pcsanwald/kaggle-titanic/master/train.csv). "
      ]
    },
    {
      "metadata": {
        "id": "pDTBGbXSQtye",
        "colab_type": "text"
      },
      "cell_type": "markdown",
      "source": [
        "We can easily take data from a CSV file and import it into a DataFrame by using the pd.read_csv() function. By passing in header=0, we tell Pandas that the header information is contained on row 0.\n",
        "\n",
        "We can then read the first 5 entries by using the .head() function."
      ]
    },
    {
      "metadata": {
        "id": "a3vqK9amQtyf",
        "colab_type": "code",
        "colab": {}
      },
      "cell_type": "code",
      "source": [
        "import io\n",
        "from google.colab import files\n",
        "uploaded = files.upload()\n",
        "\n",
        "df = pd.read_csv(io.StringIO(uploaded['train.csv'].decode('utf-8')))\n",
        "\n",
        "# Note that the csv data is now a Pandas DataFrame\n",
        "print(type(df))\n",
        "\n",
        "# Returns first 5 entries\n",
        "df.head()"
      ],
      "execution_count": 0,
      "outputs": []
    },
    {
      "metadata": {
        "id": "tis5GMZLQtyi",
        "colab_type": "text"
      },
      "cell_type": "markdown",
      "source": [
        "To view the last n entries, we can use the .tail(n) function."
      ]
    },
    {
      "metadata": {
        "id": "PwPTz4k8Qtyj",
        "colab_type": "code",
        "colab": {}
      },
      "cell_type": "code",
      "source": [
        "df.tail(5)"
      ],
      "execution_count": 0,
      "outputs": []
    },
    {
      "metadata": {
        "id": "_MrqbRI6Qtym",
        "colab_type": "text"
      },
      "cell_type": "markdown",
      "source": [
        "### Analyzing the Data"
      ]
    },
    {
      "metadata": {
        "id": "cQLb3xaxQtyn",
        "colab_type": "text"
      },
      "cell_type": "markdown",
      "source": [
        "By calling the .info() function, we can see information regarding the column names, total number of entries, and types for each column."
      ]
    },
    {
      "metadata": {
        "id": "NyyJMjiRQtyq",
        "colab_type": "code",
        "colab": {}
      },
      "cell_type": "code",
      "source": [
        "df.info()"
      ],
      "execution_count": 0,
      "outputs": []
    },
    {
      "metadata": {
        "id": "lnkpOmPjQtyt",
        "colab_type": "text"
      },
      "cell_type": "markdown",
      "source": [
        "From this data, we can see that we have 891 entries (rows) in our DataFrame. We can also infer that since Age, Cabin, and Embarked do not have 891 entries, there are some rows for which that information is Null."
      ]
    },
    {
      "metadata": {
        "id": "coCn1zQFQtyu",
        "colab_type": "text"
      },
      "cell_type": "markdown",
      "source": [
        "### Summarizing the Data"
      ]
    },
    {
      "metadata": {
        "id": "yEWMRTOVQtyv",
        "colab_type": "text"
      },
      "cell_type": "markdown",
      "source": [
        "The .describe() function can be incredibly useful when analzing a data set. By calling this function, Pandas will tell us the count, mean, standard deviation, interquartile range, maximum, and minumum values for each column in our data set which has a numerical type.\n",
        "\n",
        "We must however, remember that there are Null values in the Age, Cabin, and Embarked columns, meaning you should take that into considering when discussing their described values."
      ]
    },
    {
      "metadata": {
        "id": "VWXQiUevQtyv",
        "colab_type": "code",
        "colab": {}
      },
      "cell_type": "code",
      "source": [
        "df.describe()"
      ],
      "execution_count": 0,
      "outputs": []
    },
    {
      "metadata": {
        "id": "nGBaEcX4Qtyy",
        "colab_type": "text"
      },
      "cell_type": "markdown",
      "source": [
        "### Data Munging (Cleaning)"
      ]
    },
    {
      "metadata": {
        "id": "VZL6p2lUQtyz",
        "colab_type": "text"
      },
      "cell_type": "markdown",
      "source": [
        "Pandas provides many tools to manipulate, filter, combine, and transform your data. We will now cover the syntax and some of the things you can do."
      ]
    },
    {
      "metadata": {
        "id": "-YFsjvPNQty0",
        "colab_type": "text"
      },
      "cell_type": "markdown",
      "source": [
        "### Filtering Data"
      ]
    },
    {
      "metadata": {
        "id": "Vz3wAV_9Qty1",
        "colab_type": "text"
      },
      "cell_type": "markdown",
      "source": [
        "To grab the first 10 rows from the age column, we can enter the key and indices in square brackets [ ]. Alternatively, you can acess a column by typing its name right after the DataFrame name like df.Survived[0:10]."
      ]
    },
    {
      "metadata": {
        "id": "tMm5juDPQty2",
        "colab_type": "code",
        "colab": {}
      },
      "cell_type": "code",
      "source": [
        "# Without indices, we can grab the entire column\n",
        "# df.Age or df['Age']\n",
        "print(df['Age'][0:10])\n",
        "print('')\n",
        "# This is equivalent\n",
        "print(df.Age[0:10])"
      ],
      "execution_count": 0,
      "outputs": []
    },
    {
      "metadata": {
        "id": "feG8iNV4Qty4",
        "colab_type": "text"
      },
      "cell_type": "markdown",
      "source": [
        "If we look at the type of each column, we can see that DataFrames are actually made up of Pandas Series."
      ]
    },
    {
      "metadata": {
        "id": "pLhRltrTQty5",
        "colab_type": "code",
        "colab": {}
      },
      "cell_type": "code",
      "source": [
        "type(df.Age)"
      ],
      "execution_count": 0,
      "outputs": []
    },
    {
      "metadata": {
        "id": "HX5-hmfzQty7",
        "colab_type": "text"
      },
      "cell_type": "markdown",
      "source": [
        "By grabbing an individual column as a series, we can calculate the mean, median, or a number of statistical values by using methods of the same name."
      ]
    },
    {
      "metadata": {
        "id": "2OzbnLkpQty8",
        "colab_type": "code",
        "colab": {}
      },
      "cell_type": "code",
      "source": [
        "print('MEAN: ' + str(df.Age.mean()))\n",
        "print('MEDIAN: ' + str(df.Age.median()))\n",
        "print('MAX: ' + str(df.Age.max()))\n",
        "print('MIN: ' + str(df.Age.min()))\n",
        "print('SUM: ' + str(df.Age.sum()))"
      ],
      "execution_count": 0,
      "outputs": []
    },
    {
      "metadata": {
        "id": "KEvGOrSzQty-",
        "colab_type": "text"
      },
      "cell_type": "markdown",
      "source": [
        "We can also grab a number of columns at once by passing in a list of columns."
      ]
    },
    {
      "metadata": {
        "id": "4RKTKWZxQty-",
        "colab_type": "code",
        "colab": {}
      },
      "cell_type": "code",
      "source": [
        "df[['Sex', 'Pclass', 'Age']]"
      ],
      "execution_count": 0,
      "outputs": []
    },
    {
      "metadata": {
        "id": "9hFXp0bsQtzE",
        "colab_type": "text"
      },
      "cell_type": "markdown",
      "source": [
        "### Example using survey data"
      ]
    },
    {
      "metadata": {
        "id": "VfUaWYE1QtzF",
        "colab_type": "text"
      },
      "cell_type": "markdown",
      "source": [
        "Now, we are going to use an example with a survey. First, we need to load the csv "
      ]
    },
    {
      "metadata": {
        "id": "3d9OxE71QtzG",
        "colab_type": "code",
        "colab": {}
      },
      "cell_type": "code",
      "source": [
        "uploaded = files.upload()\n",
        "st = pd.read_csv(io.StringIO(uploaded['Stat100_2013fall_survey01.csv'].decode('utf-8')))\n",
        "\n",
        "# Returns first 10 entries\n",
        "st.head(10)"
      ],
      "execution_count": 0,
      "outputs": []
    },
    {
      "metadata": {
        "id": "enyTH8Y3QtzJ",
        "colab_type": "text"
      },
      "cell_type": "markdown",
      "source": [
        "This DataFrame contains various information about different people. Suppose we wanted to find the mean and median of the number of shoes of the first 10 people. How would we do this?"
      ]
    },
    {
      "metadata": {
        "id": "aBeHoxEZQtzK",
        "colab_type": "text"
      },
      "cell_type": "markdown",
      "source": [
        "First we would want to view ONLY the shoeNums column of the first 10 people. Write the code for that here "
      ]
    },
    {
      "metadata": {
        "id": "q6dIp70GQtzM",
        "colab_type": "code",
        "colab": {}
      },
      "cell_type": "code",
      "source": [
        "print(st.shoeNums[0:10])"
      ],
      "execution_count": 0,
      "outputs": []
    },
    {
      "metadata": {
        "id": "QvMR_2nzQtzS",
        "colab_type": "text"
      },
      "cell_type": "markdown",
      "source": [
        "Then, we would want to print the mean and median of this data. "
      ]
    },
    {
      "metadata": {
        "id": "aVIezuaxQtzU",
        "colab_type": "code",
        "colab": {}
      },
      "cell_type": "code",
      "source": [
        "print('MEAN: ' + str(st.shoeNums.mean()))\n",
        "print('MEDIAN: ' + str(st.shoeNums.median()))"
      ],
      "execution_count": 0,
      "outputs": []
    },
    {
      "metadata": {
        "id": "kZ1z5yodQtzZ",
        "colab_type": "text"
      },
      "cell_type": "markdown",
      "source": [
        "### Querying DataFrames"
      ]
    },
    {
      "metadata": {
        "id": "bhrBxoUTQtzb",
        "colab_type": "text"
      },
      "cell_type": "markdown",
      "source": [
        "Just as we discussed above in the Series section, we can pass in boolean arguments to query for data which satisfies a description.\n",
        "\n",
        "For instance, let's say we want to look at every passenger of the Titanic who was over the age of 70, we could do this:"
      ]
    },
    {
      "metadata": {
        "id": "YI4F33pBQtzc",
        "colab_type": "code",
        "colab": {}
      },
      "cell_type": "code",
      "source": [
        "df[df.Age > 70]"
      ],
      "execution_count": 0,
      "outputs": []
    },
    {
      "metadata": {
        "id": "tarLtxCzQtze",
        "colab_type": "text"
      },
      "cell_type": "markdown",
      "source": [
        "DataFrames allow us to run multiple queries on our data sets as well by either using parenthesis and an & sign, or by passing in two expressions in square brackets.\n",
        "\n",
        "For example, we can pull all female passengers over the age of 60 by running this:"
      ]
    },
    {
      "metadata": {
        "id": "kES_xFOPQtzf",
        "colab_type": "code",
        "colab": {}
      },
      "cell_type": "code",
      "source": [
        "df[(df.Sex == 'female') & (df.Age > 60)]\n",
        "# or equivalently\n",
        "# df[df.Sex == 'female'][df.Age > 60]"
      ],
      "execution_count": 0,
      "outputs": []
    },
    {
      "metadata": {
        "id": "g5ttkeD5Qtzi",
        "colab_type": "text"
      },
      "cell_type": "markdown",
      "source": [
        "And we can further specify which additional column names we which to view by again passing a list of column names."
      ]
    },
    {
      "metadata": {
        "id": "ABimTT2KQtzi",
        "colab_type": "code",
        "colab": {}
      },
      "cell_type": "code",
      "source": [
        "df[(df.Sex == 'female') & (df.Age > 60)] [['Age','Sex','Ticket','Fare']]"
      ],
      "execution_count": 0,
      "outputs": []
    },
    {
      "metadata": {
        "id": "FKvQeCG0Qtzl",
        "colab_type": "text"
      },
      "cell_type": "markdown",
      "source": [
        "If we were curious in investigating all the Null values for Age we discovered earlier, we can easily grab them. "
      ]
    },
    {
      "metadata": {
        "id": "TEYB1r1RQtzl",
        "colab_type": "code",
        "colab": {}
      },
      "cell_type": "code",
      "source": [
        "df[df.Age.isnull()][['Age','Sex','Pclass']]"
      ],
      "execution_count": 0,
      "outputs": []
    },
    {
      "metadata": {
        "id": "QeIqZhVAQtzn",
        "colab_type": "text"
      },
      "cell_type": "markdown",
      "source": [
        "Going back to our example with the number of shoes, how would we identify all the female sophmores who sleep more than 9 hours a day?"
      ]
    },
    {
      "metadata": {
        "id": "y4vZnkucQtzo",
        "colab_type": "code",
        "colab": {}
      },
      "cell_type": "code",
      "source": [
        "# INSERT CODE HERE"
      ],
      "execution_count": 0,
      "outputs": []
    },
    {
      "metadata": {
        "id": "jtdVtqDcQtzr",
        "colab_type": "text"
      },
      "cell_type": "markdown",
      "source": [
        "***"
      ]
    },
    {
      "metadata": {
        "id": "Je2bG8PLQtzs",
        "colab_type": "text"
      },
      "cell_type": "markdown",
      "source": [
        "# Data Visualization"
      ]
    },
    {
      "metadata": {
        "id": "VnQ5EAa4Qtzu",
        "colab_type": "text"
      },
      "cell_type": "markdown",
      "source": [
        "\"A fundamental part of the data scientist’s toolkit is data visualization. Although it is\n",
        "very easy to create visualizations, it’s much harder to produce good ones.\n",
        "There are two primary uses for data visualization:\n",
        "* To explore data\n",
        "* To communicate data\"\n",
        "\n",
        "-Joel Grus, Data Science from Scratch"
      ]
    },
    {
      "metadata": {
        "id": "Q-xqkEbKQtzu",
        "colab_type": "code",
        "colab": {}
      },
      "cell_type": "code",
      "source": [
        "from IPython.display import YouTubeVideo\n",
        "YouTubeVideo('5Zg-C8AAIGg', start=18) "
      ],
      "execution_count": 0,
      "outputs": []
    },
    {
      "metadata": {
        "id": "gUx_rPOKQtzy",
        "colab_type": "text"
      },
      "cell_type": "markdown",
      "source": [
        "There are many tools that we can use to visualize data, however one of the most widely used tools is the [matplotlib](http://matplotlib.org/) library. While other libraries such as [d3.js](https://d3js.org/) are more commonly used for web visualizations, the matplotlib.pyplot module does an excellent job at quickly producing bar charts, line charts, and scatterplots in Python.\n",
        "\n",
        "To begin, we will first import the pyplot module from matplotlib."
      ]
    },
    {
      "metadata": {
        "id": "rNUfMmYsQtzz",
        "colab_type": "code",
        "colab": {}
      },
      "cell_type": "code",
      "source": [
        "%matplotlib inline\n",
        "\n",
        "import matplotlib\n",
        "import matplotlib.pyplot as plt\n"
      ],
      "execution_count": 0,
      "outputs": []
    },
    {
      "metadata": {
        "id": "HbV5vCcGQtz0",
        "colab_type": "text"
      },
      "cell_type": "markdown",
      "source": [
        "## Bar Charts"
      ]
    },
    {
      "metadata": {
        "id": "vJh5qXyUQtz1",
        "colab_type": "text"
      },
      "cell_type": "markdown",
      "source": [
        "A bar chart can be a very helpful, simple visualization when you need to illustrate quantities of a discrete set of items. With matplotlib, we can take two lists, labels and heights, and easily create a bar chart.\n",
        "\n",
        "We can use the plt.bar() method to create bargraphs. This function takes in a list of xcoordinates to start each bar, and a list of corresponding heights for each bar."
      ]
    },
    {
      "metadata": {
        "id": "cbhFXFqCQtz1",
        "colab_type": "text"
      },
      "cell_type": "markdown",
      "source": [
        "The following is an example of how we could create a simple bargraph to visualize the number of academy awards won by movies."
      ]
    },
    {
      "metadata": {
        "id": "NNY5YGatQtz2",
        "colab_type": "code",
        "colab": {}
      },
      "cell_type": "code",
      "source": [
        "# These are movies we wish to plot, as well as the number of awards won\n",
        "movies = [\"Annie Hall\", \"Ben-Hur\", \"Casablanca\", \"Gandhi\", \"West Side Story\"]\n",
        "num_oscars = [5, 11, 3, 8, 10]\n",
        "\n",
        "'''\n",
        "Bars start from xcoordinate 0 by default, so to make the graph look nicer, we can add\n",
        "0.1 to each bar xcoordinate to shift them a bit to the right.\n",
        "\n",
        "One way to do this is to use a list comprehension along with a range from 0 to the length\n",
        "of movies, and yield a list of each index + 0.1.\n",
        "'''\n",
        "xcoords = [i+0.1  for i in range(0, len(movies))]\n",
        "print(xcoords)\n",
        "\n",
        "# plot bars with left x-coordinates [xcoords], heights [num_oscars]\n",
        "plt.bar(xcoords, num_oscars)\n",
        "\n",
        "# We can add titles and x/y labels by using the following plt methods\n",
        "plt.xlabel('Movies')\n",
        "plt.ylabel(\"# of Academy Awards\")\n",
        "plt.title(\"My Favorite Movies\")\n",
        "\n",
        "# To add a label for each bar, we can use .xticks with a list of xcoordinates and strings\n",
        "# We move over the xcoordinates by 0.5 this time just to properly center them\n",
        "plt.xticks([i + 0.5 for i in range(0, len(movies))], movies)\n",
        "\n",
        "# Finally, we can display the graph with plt.show()\n",
        "plt.show()"
      ],
      "execution_count": 0,
      "outputs": []
    },
    {
      "metadata": {
        "id": "6mGPNRyGQtz6",
        "colab_type": "text"
      },
      "cell_type": "markdown",
      "source": [
        "Bargraphs are also great for creating histograms, graphs in which the y-axis illustrates frequency of the x-axis' values. \n",
        "\n",
        "Below is an example of how to create a histogram for exam distributions. In this example, we use a few other parameters in our plot. When we call plt.bar(), we pass in a bar width parameter, and we also call plt.axis() to change the range of x and y-coordinates shown."
      ]
    },
    {
      "metadata": {
        "id": "IwHTfJeqQtz6",
        "colab_type": "code",
        "colab": {}
      },
      "cell_type": "code",
      "source": [
        "# Dictionary like structure which countains a count of the frequency of something\n",
        "from collections import Counter\n",
        "\n",
        "grades = [83,95,91,87,70,0,85,82,100,67,73,77,0]\n",
        "\n",
        "# The lambda keyword creates quick functions\n",
        "# dec is a function which takes input grade and rounds it to the lowest nearest multiple of 10 \n",
        "dec = lambda grade: (grade // 10) * 10\n",
        "\n",
        "# This creates a dictionary of the frequency count of grades in each percentage range by 10's\n",
        "histogram = Counter(dec(grade) for grade in grades)\n",
        "print(histogram.keys())  # Retrieves all the keys\n",
        "print(histogram.values())  # Retrieves frequencies\n",
        "\n",
        "# We now create our graph. Note that we are scooting over the xcoords by 4 to make it look nice\n",
        "plt.bar([x - 4 for x in histogram.keys()],\n",
        "       histogram.values(),\n",
        "       8) # We are passing in a value for the optional bar width parameter\n",
        "\n",
        "# Extends the x-axis to show values from -5-105, and y to show 0-5\n",
        "plt.axis([-5, 105, 0, 5])\n",
        "\n",
        "# Labels each x-axis bar by 10's\n",
        "plt.xticks([10 * i for i in range(11)])\n",
        "\n",
        "# The rest of our labels\n",
        "plt.xlabel(\"Decile\")\n",
        "plt.ylabel(\"# of Students\")\n",
        "plt.title(\"Distribution of Exam Grades\")\n",
        "plt.show()"
      ],
      "execution_count": 0,
      "outputs": []
    },
    {
      "metadata": {
        "id": "TPkqgvfqQtz8",
        "colab_type": "text"
      },
      "cell_type": "markdown",
      "source": [
        "### Line Charts"
      ]
    },
    {
      "metadata": {
        "id": "C9wZnGYpQtz8",
        "colab_type": "text"
      },
      "cell_type": "markdown",
      "source": [
        "Line charts can be very useful in illustrating trends, and be very useful for visualizing data. We can use the plt.plot() method in order to create line charts with Matplotlib. \n",
        "\n",
        "Below is an example of a fake stock market chart comparing two companies:"
      ]
    },
    {
      "metadata": {
        "id": "yTHiRKxeQtz-",
        "colab_type": "code",
        "colab": {}
      },
      "cell_type": "code",
      "source": [
        "# Fake company stock data\n",
        "company1 = [53.0, 52.2, 57.3, 60.0, 62.2, 54.5, 61.1]\n",
        "company2 = [42.0, 43.2, 47.4, 49.0, 55.0, 57.2, 60.0]\n",
        "years = [2010, 2011, 2012, 2013, 2014, 2015, 2016]\n",
        "\n",
        "# The xcoords are the same for both, so we can just grab them for company 1\n",
        "xcoords = [i for i in range(0, len(company1))]\n",
        "print(xcoords)\n",
        "\n",
        "# plt.plot() takes in the xcoodinates, ycoordinates, and an optional color/label name\n",
        "plt.plot(xcoords, company1, 'g-', label='Company 1')\n",
        "plt.plot(xcoords, company2, 'r-', label='Company 2')\n",
        "\n",
        "plt.legend(loc=2) # This enables and determines the location of the graph's legend\n",
        "plt.xlabel(\"Stock Trends\")\n",
        "plt.ylabel('Price ($)')\n",
        "plt.title(\"Stock Trends\")\n",
        "\n",
        "plt.xticks([i for i in range(0, len(years))], years) # Adds the years as labels\n",
        "\n",
        "plt.show()"
      ],
      "execution_count": 0,
      "outputs": []
    },
    {
      "metadata": {
        "id": "EL_yENJaQt0D",
        "colab_type": "text"
      },
      "cell_type": "markdown",
      "source": [
        "### Scatter Plots"
      ]
    },
    {
      "metadata": {
        "id": "yycIxjv8Qt0F",
        "colab_type": "text"
      },
      "cell_type": "markdown",
      "source": [
        "Finally, scatter plots can be useful for illustrating the relationship between two variables. We can use the plt.scatter() function to create scatter plots in matplotlib.\n",
        "\n",
        "Below is an example of a scatter plot showing the relatinoship between number of online friends vs the number of minutes spent on a social media website."
      ]
    },
    {
      "metadata": {
        "id": "CtiFaPEnQt0H",
        "colab_type": "code",
        "colab": {}
      },
      "cell_type": "code",
      "source": [
        "friends = [ 70, 65, 72, 63, 71, 64, 60, 64, 67]\n",
        "minutes = [175, 170, 205, 120, 220, 130, 105, 145, 190]\n",
        "labels = ['a', 'b', 'c', 'd', 'e', 'f', 'g', 'h', 'i'] # A list of arbitrary labels for the scatter points\n",
        "\n",
        "# Creates scatter plot\n",
        "plt.scatter(friends, minutes)\n",
        "\n",
        "# label each point. Zipping creates a list of tuples that looks like [('a', 70, 175), ('b', 65, 170)...] etc.\n",
        "for label, friend_count, minute_count in zip(labels, friends, minutes):\n",
        "    plt.annotate(label,\n",
        "    xy=(friend_count, minute_count), # put the label with its point\n",
        "    xytext=(5, -5), # offsets the label by +5x and -5y\n",
        "    textcoords='offset points') # tells matplotlib that the xytext sh\n",
        "\n",
        "    \n",
        "plt.title(\"Daily Minutes vs. Number of Friends\")\n",
        "plt.xlabel(\"# of friends\")\n",
        "plt.ylabel(\"daily minutes spent on the site\")\n",
        "plt.show()"
      ],
      "execution_count": 0,
      "outputs": []
    },
    {
      "metadata": {
        "id": "yrsNNPtIQt0J",
        "colab_type": "code",
        "colab": {}
      },
      "cell_type": "code",
      "source": [
        "test_1_grades = [ 99, 90, 85, 97, 80]\n",
        "test_2_grades = [100, 85, 60, 90, 70]\n",
        "plt.scatter(test_1_grades, test_2_grades)\n",
        "plt.title(\"Axes Aren't Comparable\")\n",
        "plt.xlabel(\"test 1 grade\")\n",
        "plt.ylabel(\"test 2 grade\")\n",
        "plt.show()"
      ],
      "execution_count": 0,
      "outputs": []
    },
    {
      "metadata": {
        "id": "HzEC5cb9Qt0L",
        "colab_type": "text"
      },
      "cell_type": "markdown",
      "source": [
        "***\n",
        "## Using `urllib` to Access Web Data and `BeautifulSoup` to Parse it.\n",
        "\n",
        "`urllib` is a very easy-to-use module to fetch URLs (Uniform Resource Locators). You can use this module to easily read and use web content in your code. We are going to use this module to build an app that gets weather data.\n",
        "\n",
        "`BeautifulSoup` on the other hand is HTML and XML parser. It creates a parse tree from the parsed webpage and can be used to access several tags in the HTML page. This makes it a very useful tool for web-scraping.\n",
        "\n",
        "Let's start by seeing what reading the Python.org homepage through `urllib` looks like. Then we will use `BeautifulSoup` to print all the links present in the webpage!   \n",
        "For more information visit: https://www.crummy.com/software/BeautifulSoup/bs4/doc/"
      ]
    },
    {
      "metadata": {
        "id": "H35SYNczQt0L",
        "colab_type": "code",
        "colab": {}
      },
      "cell_type": "code",
      "source": [
        "import urllib\n",
        "from urllib.request import urlopen\n",
        "from bs4 import BeautifulSoup\n",
        "url = 'http://python.org'\n",
        "response = urlopen(url)\n",
        "html = response.read()\n",
        "\n",
        "#print html\n",
        "# We can use BeautifulSoup to parse the web tree to give us only the web-links instead.\n",
        "soup = BeautifulSoup(html, \"html.parser\") #Create a soup object. Check its class using:  print type(soup)\n",
        "print(type(soup))\n",
        "for link in soup.find_all('a', href=True): #Finding all the tags containing 'a' and its a link\n",
        "    if \"http\" in link['href']:\n",
        "        print(link['href'])"
      ],
      "execution_count": 0,
      "outputs": []
    },
    {
      "metadata": {
        "id": "yMbUWLo3Qt0O",
        "colab_type": "text"
      },
      "cell_type": "markdown",
      "source": [
        "This prints out the complete source HTML of the website. We have this data stored as a regular string in the html variable, and we can now do whatever we want with it.\n",
        "\n",
        "### Build a Weather Reporting Program!"
      ]
    },
    {
      "metadata": {
        "id": "KiQPZVo8Qt0O",
        "colab_type": "text"
      },
      "cell_type": "markdown",
      "source": [
        "Let's now use the `urllib` module to build a small program that tells you the city and the current weather when you give it the zip code of a place.\n",
        "For the weather data, we will use the service OpenWeatherMap.org. Copy the URL http://api.openweathermap.org/data/2.5/weather?zip=61820,us&appid=cf7f4e0a615b5f48f4601377a2c98a75 into the address bar in a new tab. The website shows text about the weather information in the area of zipcode 61820 (Champaign). Let's load this information through `urllib`."
      ]
    },
    {
      "metadata": {
        "id": "VmA9mrdbQt0Q",
        "colab_type": "code",
        "colab": {}
      },
      "cell_type": "code",
      "source": [
        "appid = 'cf7f4e0a615b5f48f4601377a2c98a75'\n",
        "zipcode = '61820'\n",
        "url = 'http://api.openweathermap.org/data/2.5/weather?zip={},us&APPID={}'.format(zipcode, appid)\n",
        "response = urlopen(url)\n",
        "weather_html = response.read().decode('utf-8')\n",
        "\n",
        "print(weather_html)"
      ],
      "execution_count": 0,
      "outputs": []
    },
    {
      "metadata": {
        "id": "o_0sA47vQt0U",
        "colab_type": "text"
      },
      "cell_type": "markdown",
      "source": [
        "The string that we have received is formatted in JSON, which is very similar to a Python dictionary. Let's parse this JSON data into a Python dictionary, and also pretty print it so that we can understand the structure of the data."
      ]
    },
    {
      "metadata": {
        "id": "3JYM44P4Qt0V",
        "colab_type": "code",
        "colab": {}
      },
      "cell_type": "code",
      "source": [
        "from json import JSONDecoder, dumps\n",
        "\n",
        "decoder = JSONDecoder()\n",
        "weather_data = decoder.decode(weather_html)\n",
        "pretty_weather_data = dumps(weather_data, indent=2, separators=(',', ': '))\n",
        "\n",
        "print(pretty_weather_data)"
      ],
      "execution_count": 0,
      "outputs": []
    },
    {
      "metadata": {
        "id": "6OhnY_zMQt0Y",
        "colab_type": "text"
      },
      "cell_type": "markdown",
      "source": [
        "The information we want to build our program is the name field and the temp field which is inside the main sub-dictionary."
      ]
    },
    {
      "metadata": {
        "id": "NBg4Ko6bQt0a",
        "colab_type": "code",
        "colab": {}
      },
      "cell_type": "code",
      "source": [
        "city = weather_data['name']\n",
        "\n",
        "temp_kelvin = weather_data['main']['temp']\n",
        "temp_fah = 1.8 * (temp_kelvin - 273.15) + 32\n",
        "\n",
        "print(\"We are in {0} and it is {1} degrees outside!\".format(city, temp_fah))"
      ],
      "execution_count": 0,
      "outputs": []
    },
    {
      "metadata": {
        "id": "WNPiNpYTQt0d",
        "colab_type": "text"
      },
      "cell_type": "markdown",
      "source": [
        "Let's put all of this into a nice and easy to use function."
      ]
    },
    {
      "metadata": {
        "id": "J99G9h7GQt0d",
        "colab_type": "code",
        "colab": {}
      },
      "cell_type": "code",
      "source": [
        "def tell_me_weather(zipcode):\n",
        "    # import urllib\n",
        "    appid = 'cf7f4e0a615b5f48f4601377a2c98a75'\n",
        "    url = 'http://api.openweathermap.org/data/2.5/weather?zip={0},us&APPID={1}'.format(zipcode, appid)\n",
        "    response = urlopen(url)\n",
        "    weather_html = response.read().decode('utf-8')\n",
        "    \n",
        "    # from json import JSONDecoder, dumps\n",
        "\n",
        "    decoder = JSONDecoder()\n",
        "    weather_data = decoder.decode(weather_html)\n",
        "    \n",
        "    city = weather_data['name']\n",
        "\n",
        "    temp_kelvin = weather_data['main']['temp']\n",
        "    temp_fah = 1.8 * (temp_kelvin - 273.15) + 32\n",
        "\n",
        "    print(\"You are in {0} and it is {1} degrees outside!\".format(city, temp_fah))"
      ],
      "execution_count": 0,
      "outputs": []
    },
    {
      "metadata": {
        "id": "t_UnqYoeQt0g",
        "colab_type": "text"
      },
      "cell_type": "markdown",
      "source": [
        "Now let's use our new tell_me_weather function!"
      ]
    },
    {
      "metadata": {
        "id": "q1dDN8epQt0i",
        "colab_type": "code",
        "colab": {}
      },
      "cell_type": "code",
      "source": [
        "tell_me_weather(61801)\n",
        "tell_me_weather(60601)\n",
        "tell_me_weather(94102)"
      ],
      "execution_count": 0,
      "outputs": []
    }
  ]
}