{
  "nbformat": 4,
  "nbformat_minor": 0,
  "metadata": {
    "colab": {
      "name": "week_4_intro_to_pandas.ipynb",
      "version": "0.3.2",
      "provenance": []
    },
    "kernelspec": {
      "display_name": "Python 3",
      "language": "python",
      "name": "python3"
    }
  },
  "cells": [
    {
      "metadata": {
        "id": "w7hyBgoELfeu",
        "colab_type": "text"
      },
      "cell_type": "markdown",
      "source": [
        "![ADSA Logo](http://i.imgur.com/BV0CdHZ.png?2 \"ADSA Logo\")"
      ]
    },
    {
      "metadata": {
        "id": "ejJN2M5fLfev",
        "colab_type": "text"
      },
      "cell_type": "markdown",
      "source": [
        "# Spring 2019 ADSA Workshop - Introduction to Pandas and Matplotlib\n",
        "Workshop content adapted from:\n",
        "* [Data Science from Scratch - First Principles with Python](http://www.amazon.com/Data-Science-Scratch-Principles-Python/dp/149190142X)\n",
        "* [Greg Reda's Intro to pandas data structures](http://www.gregreda.com/2013/10/26/intro-to-pandas-data-structures/)\n",
        "* [Dr. Robert Brunner INFO 490](https://github.com/UI-DataScience/info490-fa16)\n",
        "\n",
        "\n",
        "This workshop will dive into data processing and visualization with Numpy, Pandas, and Matplotlib.\n",
        "\n",
        "***"
      ]
    },
    {
      "metadata": {
        "id": "CtrJqj_3Lfey",
        "colab_type": "text"
      },
      "cell_type": "markdown",
      "source": [
        "# Pandas"
      ]
    },
    {
      "metadata": {
        "id": "zTktycfiLfez",
        "colab_type": "text"
      },
      "cell_type": "markdown",
      "source": [
        "As stated on the official [pandas site](http://pandas.pydata.org/) \"pandas is an open source, BSD-licensed library providing high-performance, easy-to-use data structures and data analysis tools for the Python programming language.\" Pandas is built on top of NumPy, and provides two key data structures for processing data: Series and DataFrames."
      ]
    },
    {
      "metadata": {
        "id": "unZd7--VLfe2",
        "colab_type": "text"
      },
      "cell_type": "markdown",
      "source": [
        "To begin, we first need to import pandas and numpy:"
      ]
    },
    {
      "metadata": {
        "id": "14m3xJoSLfe4",
        "colab_type": "code",
        "colab": {}
      },
      "cell_type": "code",
      "source": [
        "import pandas as pd\n",
        "import numpy as np\n",
        "\n",
        "'''\n",
        "For easiest visual display later on.\n",
        "'''\n",
        "pd.set_option('max_columns', 50)\n",
        "\n",
        "'''\n",
        "This line is Jupyter Notebook specific and allows for graphs\n",
        "to be displayed in the notebook.\n",
        "''' \n",
        "%matplotlib inline"
      ],
      "execution_count": 0,
      "outputs": []
    },
    {
      "metadata": {
        "id": "4rQ90nJ-LffB",
        "colab_type": "text"
      },
      "cell_type": "markdown",
      "source": [
        "## Series"
      ]
    },
    {
      "metadata": {
        "id": "ipLLOL15LffC",
        "colab_type": "text"
      },
      "cell_type": "markdown",
      "source": [
        "A Series is a one-dimensional object containing a series of items, and is similar to an array or list in Python. A Numpy series assigns a labeled index to every entry in the series, and uses the numbers 0 through n (length of the series - 1) by default."
      ]
    },
    {
      "metadata": {
        "id": "sR18lqWzLffF",
        "colab_type": "text"
      },
      "cell_type": "markdown",
      "source": [
        "### Creating a Series"
      ]
    },
    {
      "metadata": {
        "id": "90M9Q5axLffG",
        "colab_type": "text"
      },
      "cell_type": "markdown",
      "source": [
        "To make a series, we can pass in a Python list to the pd.Series() function. Note the convenient printing format and indices given when we print the series."
      ]
    },
    {
      "metadata": {
        "id": "vGsuLEyfLffH",
        "colab_type": "code",
        "colab": {
          "base_uri": "https://localhost:8080/",
          "height": 98
        },
        "outputId": "e13a8289-89e2-4c09-fb46-b388472e088d"
      },
      "cell_type": "code",
      "source": [
        "s = pd.Series(['ADSA', 5, True, -3.14 ])\n",
        "print(s)"
      ],
      "execution_count": 2,
      "outputs": [
        {
          "output_type": "stream",
          "text": [
            "0    ADSA\n",
            "1       5\n",
            "2    True\n",
            "3   -3.14\n",
            "dtype: object\n"
          ],
          "name": "stdout"
        }
      ]
    },
    {
      "metadata": {
        "id": "DbT3TVWYLffO",
        "colab_type": "text"
      },
      "cell_type": "markdown",
      "source": [
        "If you want, you can specify index labels to be used rather than the default 0 to n, by passing in an index list. (Note that the index list must be the same length as the series)."
      ]
    },
    {
      "metadata": {
        "id": "VV8RBD32LffP",
        "colab_type": "code",
        "colab": {
          "base_uri": "https://localhost:8080/",
          "height": 98
        },
        "outputId": "1fd91daf-11e6-47f8-b1d4-9f51ae715160"
      },
      "cell_type": "code",
      "source": [
        "s = pd.Series(['ADSA', 5, True, -3.76 ], index=['A', 'B', 'C', 'D'])\n",
        "print(s)"
      ],
      "execution_count": 3,
      "outputs": [
        {
          "output_type": "stream",
          "text": [
            "A    ADSA\n",
            "B       5\n",
            "C    True\n",
            "D   -3.76\n",
            "dtype: object\n"
          ],
          "name": "stdout"
        }
      ]
    },
    {
      "metadata": {
        "id": "QJMYcxbmLffS",
        "colab_type": "text"
      },
      "cell_type": "markdown",
      "source": [
        "Now, let's say you have to create a series that has your day's agenda on it. Today, you will hang out with friends, do homework, play xbox, and study for your midterm. Since this is an agenda, you want to label the indexes as 1,2,3,4 so that they can be listed in order. How would you do this?"
      ]
    },
    {
      "metadata": {
        "id": "LthAyvj8LffT",
        "colab_type": "code",
        "colab": {
          "base_uri": "https://localhost:8080/",
          "height": 98
        },
        "outputId": "21ab14c9-5c99-4f8f-b0b1-426688292a25"
      },
      "cell_type": "code",
      "source": [
        "s = pd.Series(['Hang out with friends', 'Homework', 'Play Xbox', 'Study for midterm', ], index=['1', '2', '3', '4'])\n",
        "print(s)"
      ],
      "execution_count": 4,
      "outputs": [
        {
          "output_type": "stream",
          "text": [
            "1    Hang out with friends\n",
            "2                 Homework\n",
            "3                Play Xbox\n",
            "4        Study for midterm\n",
            "dtype: object\n"
          ],
          "name": "stdout"
        }
      ]
    },
    {
      "metadata": {
        "id": "IW3df6r8LffW",
        "colab_type": "text"
      },
      "cell_type": "markdown",
      "source": [
        "We can also take an existing Python dictionary and convert it to a series by passing it into the pd.Series() function."
      ]
    },
    {
      "metadata": {
        "id": "MOuw6IRXLffX",
        "colab_type": "code",
        "colab": {
          "base_uri": "https://localhost:8080/",
          "height": 131
        },
        "outputId": "8d481101-2576-44d2-9c7c-ff856c2ac6c1"
      },
      "cell_type": "code",
      "source": [
        "# Let's assume we have a dictionary of cities and weather data\n",
        "d = {'Chicago': 75,\n",
        "     'Boston': 65,\n",
        "     'New York': 70,\n",
        "     'San Francisco': 80,\n",
        "     'Los Angeles': 82,\n",
        "     'Austin': None\n",
        "}\n",
        "\n",
        "weather = pd.Series(d)\n",
        "print(weather)"
      ],
      "execution_count": 5,
      "outputs": [
        {
          "output_type": "stream",
          "text": [
            "Austin            NaN\n",
            "Boston           65.0\n",
            "Chicago          75.0\n",
            "Los Angeles      82.0\n",
            "New York         70.0\n",
            "San Francisco    80.0\n",
            "dtype: float64\n"
          ],
          "name": "stdout"
        }
      ]
    },
    {
      "metadata": {
        "id": "aQxhc_gdLffZ",
        "colab_type": "text"
      },
      "cell_type": "markdown",
      "source": [
        "### Querying a Series"
      ]
    },
    {
      "metadata": {
        "id": "7Q-WwasYLffa",
        "colab_type": "text"
      },
      "cell_type": "markdown",
      "source": [
        "We can then access data for specific indices by passing either a single index, or a list of indices in brackets."
      ]
    },
    {
      "metadata": {
        "id": "_g9_yn9JLffb",
        "colab_type": "code",
        "colab": {
          "base_uri": "https://localhost:8080/",
          "height": 115
        },
        "outputId": "457cf0ec-f799-45cf-ea2d-09a8fecc8a5c"
      },
      "cell_type": "code",
      "source": [
        "print(weather['Chicago'])\n",
        "\n",
        "print('\\n')\n",
        "\n",
        "print(weather[['Chicago', 'Austin']])"
      ],
      "execution_count": 6,
      "outputs": [
        {
          "output_type": "stream",
          "text": [
            "75.0\n",
            "\n",
            "\n",
            "Chicago    75.0\n",
            "Austin      NaN\n",
            "dtype: float64\n"
          ],
          "name": "stdout"
        }
      ]
    },
    {
      "metadata": {
        "id": "j0uDkpIqLffg",
        "colab_type": "text"
      },
      "cell_type": "markdown",
      "source": [
        "We can use boolean statements involving our series in order to check if something is in a series or generate a series of true and false values for those entries which satisfy the statement."
      ]
    },
    {
      "metadata": {
        "id": "6RzSNNbCLffh",
        "colab_type": "code",
        "colab": {
          "base_uri": "https://localhost:8080/",
          "height": 180
        },
        "outputId": "174cdf8c-4f9d-4ffb-f364-c41a8de82df3"
      },
      "cell_type": "code",
      "source": [
        "print('Chicago' in weather)\n",
        "\n",
        "print('\\n')\n",
        "\n",
        "weather_less_than_80 = weather < 80\n",
        "print(weather_less_than_80)"
      ],
      "execution_count": 7,
      "outputs": [
        {
          "output_type": "stream",
          "text": [
            "True\n",
            "\n",
            "\n",
            "Austin           False\n",
            "Boston            True\n",
            "Chicago           True\n",
            "Los Angeles      False\n",
            "New York          True\n",
            "San Francisco    False\n",
            "dtype: bool\n"
          ],
          "name": "stdout"
        }
      ]
    },
    {
      "metadata": {
        "id": "3PfA9nGALffl",
        "colab_type": "text"
      },
      "cell_type": "markdown",
      "source": [
        "By passing in these boolean statements, we can query the series for entries which satisfy the boolean."
      ]
    },
    {
      "metadata": {
        "id": "7quJP2zVLffn",
        "colab_type": "code",
        "colab": {
          "base_uri": "https://localhost:8080/",
          "height": 115
        },
        "outputId": "d66972fe-f302-4a0c-b564-c5aeee2f1432"
      },
      "cell_type": "code",
      "source": [
        "print(weather[weather < 80])\n",
        "\n",
        "print('\\n')"
      ],
      "execution_count": 8,
      "outputs": [
        {
          "output_type": "stream",
          "text": [
            "Boston      65.0\n",
            "Chicago     75.0\n",
            "New York    70.0\n",
            "dtype: float64\n",
            "\n",
            "\n"
          ],
          "name": "stdout"
        }
      ]
    },
    {
      "metadata": {
        "id": "21vKItF8Lffq",
        "colab_type": "text"
      },
      "cell_type": "markdown",
      "source": [
        "Suppose we had a series which contained the various incomes of Apple Employees"
      ]
    },
    {
      "metadata": {
        "id": "4GgZFntFLffr",
        "colab_type": "code",
        "colab": {
          "base_uri": "https://localhost:8080/",
          "height": 131
        },
        "outputId": "a59a876f-74e4-4746-ec31-e67ac611c4a8"
      },
      "cell_type": "code",
      "source": [
        "q = {'Employee 1': 100000,\n",
        "     'Employee 2': 95000,\n",
        "     'Employee 3': 140000,\n",
        "     'Employee 4': 80000,\n",
        "     'Employee 5': 90000,\n",
        "     'Employee 6': 250000\n",
        "}\n",
        "income = pd.Series(q)\n",
        "print(income)"
      ],
      "execution_count": 9,
      "outputs": [
        {
          "output_type": "stream",
          "text": [
            "Employee 1    100000\n",
            "Employee 2     95000\n",
            "Employee 3    140000\n",
            "Employee 4     80000\n",
            "Employee 5     90000\n",
            "Employee 6    250000\n",
            "dtype: int64\n"
          ],
          "name": "stdout"
        }
      ]
    },
    {
      "metadata": {
        "id": "s6n9aIqXLffu",
        "colab_type": "text"
      },
      "cell_type": "markdown",
      "source": [
        "If Apple decides to raise the income of everyone who is making less than $100,000, how will they identify these people? "
      ]
    },
    {
      "metadata": {
        "id": "JOQbnuPhLffu",
        "colab_type": "code",
        "colab": {
          "base_uri": "https://localhost:8080/",
          "height": 82
        },
        "outputId": "90894c38-535a-4e17-cc2e-128fa411c6e5"
      },
      "cell_type": "code",
      "source": [
        "print(income[income < 100000])"
      ],
      "execution_count": 10,
      "outputs": [
        {
          "output_type": "stream",
          "text": [
            "Employee 2    95000\n",
            "Employee 4    80000\n",
            "Employee 5    90000\n",
            "dtype: int64\n"
          ],
          "name": "stdout"
        }
      ]
    },
    {
      "metadata": {
        "id": "47d-pk-WLffy",
        "colab_type": "text"
      },
      "cell_type": "markdown",
      "source": [
        "### Combining Series"
      ]
    },
    {
      "metadata": {
        "id": "Zs4F2nmuLffz",
        "colab_type": "text"
      },
      "cell_type": "markdown",
      "source": [
        "We can also perform scalar multiplication and division, and numpy operations on series."
      ]
    },
    {
      "metadata": {
        "id": "Euj6MONXLff0",
        "colab_type": "code",
        "colab": {
          "base_uri": "https://localhost:8080/",
          "height": 443
        },
        "outputId": "156cbee9-d60e-4c42-fac2-5d01a775eb5e"
      },
      "cell_type": "code",
      "source": [
        "print(weather / 3)\n",
        "\n",
        "print('\\n')\n",
        "\n",
        "print(weather * 2)\n",
        "\n",
        "print('\\n')\n",
        "\n",
        "print(np.square(weather))"
      ],
      "execution_count": 11,
      "outputs": [
        {
          "output_type": "stream",
          "text": [
            "Austin                 NaN\n",
            "Boston           21.666667\n",
            "Chicago          25.000000\n",
            "Los Angeles      27.333333\n",
            "New York         23.333333\n",
            "San Francisco    26.666667\n",
            "dtype: float64\n",
            "\n",
            "\n",
            "Austin             NaN\n",
            "Boston           130.0\n",
            "Chicago          150.0\n",
            "Los Angeles      164.0\n",
            "New York         140.0\n",
            "San Francisco    160.0\n",
            "dtype: float64\n",
            "\n",
            "\n",
            "Austin              NaN\n",
            "Boston           4225.0\n",
            "Chicago          5625.0\n",
            "Los Angeles      6724.0\n",
            "New York         4900.0\n",
            "San Francisco    6400.0\n",
            "dtype: float64\n"
          ],
          "name": "stdout"
        }
      ]
    },
    {
      "metadata": {
        "id": "lHuSQcviLff3",
        "colab_type": "text"
      },
      "cell_type": "markdown",
      "source": [
        "So if we work with the same example with the income of the Apple employees, how will we increase just the salary of those making less than 100,000 by a multiple of 1.25 ?"
      ]
    },
    {
      "metadata": {
        "id": "PtEIDn9JLff5",
        "colab_type": "code",
        "colab": {
          "base_uri": "https://localhost:8080/",
          "height": 102
        },
        "outputId": "169b5d4c-2d1b-4baa-abde-b5a70d803b75"
      },
      "cell_type": "code",
      "source": [
        "print(income[income < 100000] * 1.25)"
      ],
      "execution_count": 12,
      "outputs": [
        {
          "output_type": "stream",
          "text": [
            "Employee 2    118750.0\n",
            "Employee 4    100000.0\n",
            "Employee 5    112500.0\n",
            "dtype: float64\n"
          ],
          "name": "stdout"
        }
      ]
    },
    {
      "metadata": {
        "id": "T7AUYDKoLff8",
        "colab_type": "text"
      },
      "cell_type": "markdown",
      "source": [
        "We can also add two series together. If the same index exists in both series, then their values will be added, otherwise a Null/NaN (Not a Number) value will be assigned to the resulting series."
      ]
    },
    {
      "metadata": {
        "id": "cWTiFkooLff-",
        "colab_type": "code",
        "colab": {
          "base_uri": "https://localhost:8080/",
          "height": 102
        },
        "outputId": "5c9eb94a-178f-45e2-8357-40dc20ad5df6"
      },
      "cell_type": "code",
      "source": [
        "# Note that the two dictionaries share the key 'New York' but not Chicago or Boston\n",
        "d1 = {'Chicago': 65, \n",
        "      'New York': 55\n",
        "     }\n",
        "\n",
        "d2 = {'New York': 10,\n",
        "      'Boston': 60\n",
        "     }\n",
        "\n",
        "s1 = pd.Series(d1)\n",
        "s2 = pd.Series(d2)\n",
        "\n",
        "# The value for New York will be added, but the values for Chicago and Boston are indeterminate and marked as NaN\n",
        "s3 = s1 + s2\n",
        "print(s3)"
      ],
      "execution_count": 13,
      "outputs": [
        {
          "output_type": "stream",
          "text": [
            "Boston       NaN\n",
            "Chicago      NaN\n",
            "New York    65.0\n",
            "dtype: float64\n"
          ],
          "name": "stdout"
        }
      ]
    },
    {
      "metadata": {
        "id": "jva2gBcILfgB",
        "colab_type": "text"
      },
      "cell_type": "markdown",
      "source": [
        "Finally, to tell if values in a series or Null (NaN) or not, we can use the functions .isnull() and .notnull() respectively. Note that we can use the same boolean logic as before to either display True and False values for every index, or query for indices which are Null."
      ]
    },
    {
      "metadata": {
        "id": "KdILrRLGLfgD",
        "colab_type": "code",
        "colab": {
          "base_uri": "https://localhost:8080/",
          "height": 183
        },
        "outputId": "5798f43e-3cee-46da-96ef-218638514fb5"
      },
      "cell_type": "code",
      "source": [
        "print(s3.isnull())\n",
        "\n",
        "print('\\n')\n",
        "\n",
        "print(s3[s3.isnull()])"
      ],
      "execution_count": 14,
      "outputs": [
        {
          "output_type": "stream",
          "text": [
            "Boston       True\n",
            "Chicago      True\n",
            "New York    False\n",
            "dtype: bool\n",
            "\n",
            "\n",
            "Boston    NaN\n",
            "Chicago   NaN\n",
            "dtype: float64\n"
          ],
          "name": "stdout"
        }
      ]
    },
    {
      "metadata": {
        "id": "oLM2804xLfgG",
        "colab_type": "text"
      },
      "cell_type": "markdown",
      "source": [
        "## DataFrames"
      ]
    },
    {
      "metadata": {
        "id": "Xw7TFjapLfgG",
        "colab_type": "text"
      },
      "cell_type": "markdown",
      "source": [
        "A DataFrame is a table-based Pandas data structure made up of rows and columns, just like a spreadsheet. Another way to think of DataFrames are as a group of Series in which each index is a column in the table."
      ]
    },
    {
      "metadata": {
        "id": "2KaDXIBbLfgI",
        "colab_type": "text"
      },
      "cell_type": "markdown",
      "source": [
        "### Creating a DataFrame from a Dictionary"
      ]
    },
    {
      "metadata": {
        "id": "GBwV2Vy-LfgI",
        "colab_type": "text"
      },
      "cell_type": "markdown",
      "source": [
        "In order to create a DataFrame from Python structures, we can create a dictionary of lists, in which each dictionary key is a column of the table, and each entry in the key's list is the value for that column in each row. \n",
        "\n",
        "We then call the pd.DataFrame(data, columns) function where data = the Python dictionary to be passed in, and columns = the ordering in which the columns appear in the table (If no order is specified, column names will be listed alphabetically).\n",
        "\n"
      ]
    },
    {
      "metadata": {
        "id": "VmPnF8VwLfgI",
        "colab_type": "code",
        "colab": {
          "base_uri": "https://localhost:8080/",
          "height": 191
        },
        "outputId": "f703650e-6a29-4753-9a78-00491d5575ae"
      },
      "cell_type": "code",
      "source": [
        "d = {'student': ['Aaron', 'Josh', 'Tom', 'Justin', 'Andrew'],\n",
        "     'credits': ['15', '14', '17', '18', '14'],\n",
        "     'gpa': [3.52, 3.67, 3.43, 3.85, 3.32]\n",
        "}\n",
        "\n",
        "students = pd.DataFrame(d, columns=['student', 'credits', 'gpa'])\n",
        "students"
      ],
      "execution_count": 15,
      "outputs": [
        {
          "output_type": "execute_result",
          "data": {
            "text/html": [
              "<div>\n",
              "<style scoped>\n",
              "    .dataframe tbody tr th:only-of-type {\n",
              "        vertical-align: middle;\n",
              "    }\n",
              "\n",
              "    .dataframe tbody tr th {\n",
              "        vertical-align: top;\n",
              "    }\n",
              "\n",
              "    .dataframe thead th {\n",
              "        text-align: right;\n",
              "    }\n",
              "</style>\n",
              "<table border=\"1\" class=\"dataframe\">\n",
              "  <thead>\n",
              "    <tr style=\"text-align: right;\">\n",
              "      <th></th>\n",
              "      <th>student</th>\n",
              "      <th>credits</th>\n",
              "      <th>gpa</th>\n",
              "    </tr>\n",
              "  </thead>\n",
              "  <tbody>\n",
              "    <tr>\n",
              "      <th>0</th>\n",
              "      <td>Aaron</td>\n",
              "      <td>15</td>\n",
              "      <td>3.52</td>\n",
              "    </tr>\n",
              "    <tr>\n",
              "      <th>1</th>\n",
              "      <td>Josh</td>\n",
              "      <td>14</td>\n",
              "      <td>3.67</td>\n",
              "    </tr>\n",
              "    <tr>\n",
              "      <th>2</th>\n",
              "      <td>Tom</td>\n",
              "      <td>17</td>\n",
              "      <td>3.43</td>\n",
              "    </tr>\n",
              "    <tr>\n",
              "      <th>3</th>\n",
              "      <td>Justin</td>\n",
              "      <td>18</td>\n",
              "      <td>3.85</td>\n",
              "    </tr>\n",
              "    <tr>\n",
              "      <th>4</th>\n",
              "      <td>Andrew</td>\n",
              "      <td>14</td>\n",
              "      <td>3.32</td>\n",
              "    </tr>\n",
              "  </tbody>\n",
              "</table>\n",
              "</div>"
            ],
            "text/plain": [
              "  student credits   gpa\n",
              "0   Aaron      15  3.52\n",
              "1    Josh      14  3.67\n",
              "2     Tom      17  3.43\n",
              "3  Justin      18  3.85\n",
              "4  Andrew      14  3.32"
            ]
          },
          "metadata": {
            "tags": []
          },
          "execution_count": 15
        }
      ]
    },
    {
      "metadata": {
        "id": "JTbcAhRMLfgM",
        "colab_type": "text"
      },
      "cell_type": "markdown",
      "source": [
        "### Creating a DataFrame from a CSV"
      ]
    },
    {
      "metadata": {
        "id": "2NNyhweHLfgM",
        "colab_type": "text"
      },
      "cell_type": "markdown",
      "source": [
        "Often times, the dataset we have will be in CSV (Comma Separated Value) form. CSV files exist as a series of values separated by commas. For this tutorial, we have pulled a sample CSV file from the [Kaggle Titanic Project](https://www.kaggle.com/c/titanic/data?train.csv) containing data on the passengers of the Titanic.\n",
        "\n",
        "To see what the Titanic data looks like as a CSV, click [here](https://raw.githubusercontent.com/pcsanwald/kaggle-titanic/master/train.csv). "
      ]
    },
    {
      "metadata": {
        "id": "ySptAK5HLfgM",
        "colab_type": "text"
      },
      "cell_type": "markdown",
      "source": [
        "We can easily take data from a CSV file and import it into a DataFrame by using the pd.read_csv() function. By passing in header=0, we tell Pandas that the header information is contained on row 0.\n",
        "\n",
        "We can then read the first 5 entries by using the .head() function."
      ]
    },
    {
      "metadata": {
        "id": "8ZeKGihzLfgM",
        "colab_type": "code",
        "colab": {
          "resources": {
            "http://localhost:8080/nbextensions/google.colab/files.js": {
              "data": "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",
              "ok": true,
              "headers": [
                [
                  "content-type",
                  "application/javascript"
                ]
              ],
              "status": 200,
              "status_text": ""
            }
          },
          "base_uri": "https://localhost:8080/",
          "height": 258
        },
        "outputId": "53389249-95e1-423c-db9f-3df855eda872"
      },
      "cell_type": "code",
      "source": [
        "import io\n",
        "from google.colab import files\n",
        "uploaded = files.upload()\n",
        "\n",
        "df = pd.read_csv(io.StringIO(uploaded['train.csv'].decode('utf-8')))\n",
        "\n",
        "# Note that the csv data is now a Pandas DataFrame\n",
        "print(type(df))\n",
        "\n",
        "# Returns first 5 entries\n",
        "df.head()"
      ],
      "execution_count": 19,
      "outputs": [
        {
          "output_type": "display_data",
          "data": {
            "text/html": [
              "\n",
              "     <input type=\"file\" id=\"files-fff6f8b2-9c18-40e8-a473-efcf03b5d2ad\" name=\"files[]\" multiple disabled />\n",
              "     <output id=\"result-fff6f8b2-9c18-40e8-a473-efcf03b5d2ad\">\n",
              "      Upload widget is only available when the cell has been executed in the\n",
              "      current browser session. Please rerun this cell to enable.\n",
              "      </output>\n",
              "      <script src=\"/nbextensions/google.colab/files.js\"></script> "
            ],
            "text/plain": [
              "<IPython.core.display.HTML object>"
            ]
          },
          "metadata": {
            "tags": []
          }
        },
        {
          "output_type": "stream",
          "text": [
            "Saving train.csv to train.csv\n",
            "<class 'pandas.core.frame.DataFrame'>\n"
          ],
          "name": "stdout"
        },
        {
          "output_type": "execute_result",
          "data": {
            "text/html": [
              "<div>\n",
              "<style scoped>\n",
              "    .dataframe tbody tr th:only-of-type {\n",
              "        vertical-align: middle;\n",
              "    }\n",
              "\n",
              "    .dataframe tbody tr th {\n",
              "        vertical-align: top;\n",
              "    }\n",
              "\n",
              "    .dataframe thead th {\n",
              "        text-align: right;\n",
              "    }\n",
              "</style>\n",
              "<table border=\"1\" class=\"dataframe\">\n",
              "  <thead>\n",
              "    <tr style=\"text-align: right;\">\n",
              "      <th></th>\n",
              "      <th>PassengerId</th>\n",
              "      <th>Survived</th>\n",
              "      <th>Pclass</th>\n",
              "      <th>Name</th>\n",
              "      <th>Sex</th>\n",
              "      <th>Age</th>\n",
              "      <th>SibSp</th>\n",
              "      <th>Parch</th>\n",
              "      <th>Ticket</th>\n",
              "      <th>Fare</th>\n",
              "      <th>Cabin</th>\n",
              "      <th>Embarked</th>\n",
              "    </tr>\n",
              "  </thead>\n",
              "  <tbody>\n",
              "    <tr>\n",
              "      <th>0</th>\n",
              "      <td>1</td>\n",
              "      <td>0</td>\n",
              "      <td>3</td>\n",
              "      <td>Braund, Mr. Owen Harris</td>\n",
              "      <td>male</td>\n",
              "      <td>22.0</td>\n",
              "      <td>1</td>\n",
              "      <td>0</td>\n",
              "      <td>A/5 21171</td>\n",
              "      <td>7.2500</td>\n",
              "      <td>NaN</td>\n",
              "      <td>S</td>\n",
              "    </tr>\n",
              "    <tr>\n",
              "      <th>1</th>\n",
              "      <td>2</td>\n",
              "      <td>1</td>\n",
              "      <td>1</td>\n",
              "      <td>Cumings, Mrs. John Bradley (Florence Briggs Th...</td>\n",
              "      <td>female</td>\n",
              "      <td>38.0</td>\n",
              "      <td>1</td>\n",
              "      <td>0</td>\n",
              "      <td>PC 17599</td>\n",
              "      <td>71.2833</td>\n",
              "      <td>C85</td>\n",
              "      <td>C</td>\n",
              "    </tr>\n",
              "    <tr>\n",
              "      <th>2</th>\n",
              "      <td>3</td>\n",
              "      <td>1</td>\n",
              "      <td>3</td>\n",
              "      <td>Heikkinen, Miss. Laina</td>\n",
              "      <td>female</td>\n",
              "      <td>26.0</td>\n",
              "      <td>0</td>\n",
              "      <td>0</td>\n",
              "      <td>STON/O2. 3101282</td>\n",
              "      <td>7.9250</td>\n",
              "      <td>NaN</td>\n",
              "      <td>S</td>\n",
              "    </tr>\n",
              "    <tr>\n",
              "      <th>3</th>\n",
              "      <td>4</td>\n",
              "      <td>1</td>\n",
              "      <td>1</td>\n",
              "      <td>Futrelle, Mrs. Jacques Heath (Lily May Peel)</td>\n",
              "      <td>female</td>\n",
              "      <td>35.0</td>\n",
              "      <td>1</td>\n",
              "      <td>0</td>\n",
              "      <td>113803</td>\n",
              "      <td>53.1000</td>\n",
              "      <td>C123</td>\n",
              "      <td>S</td>\n",
              "    </tr>\n",
              "    <tr>\n",
              "      <th>4</th>\n",
              "      <td>5</td>\n",
              "      <td>0</td>\n",
              "      <td>3</td>\n",
              "      <td>Allen, Mr. William Henry</td>\n",
              "      <td>male</td>\n",
              "      <td>35.0</td>\n",
              "      <td>0</td>\n",
              "      <td>0</td>\n",
              "      <td>373450</td>\n",
              "      <td>8.0500</td>\n",
              "      <td>NaN</td>\n",
              "      <td>S</td>\n",
              "    </tr>\n",
              "  </tbody>\n",
              "</table>\n",
              "</div>"
            ],
            "text/plain": [
              "   PassengerId  Survived  Pclass  \\\n",
              "0            1         0       3   \n",
              "1            2         1       1   \n",
              "2            3         1       3   \n",
              "3            4         1       1   \n",
              "4            5         0       3   \n",
              "\n",
              "                                                Name     Sex   Age  SibSp  \\\n",
              "0                            Braund, Mr. Owen Harris    male  22.0      1   \n",
              "1  Cumings, Mrs. John Bradley (Florence Briggs Th...  female  38.0      1   \n",
              "2                             Heikkinen, Miss. Laina  female  26.0      0   \n",
              "3       Futrelle, Mrs. Jacques Heath (Lily May Peel)  female  35.0      1   \n",
              "4                           Allen, Mr. William Henry    male  35.0      0   \n",
              "\n",
              "   Parch            Ticket     Fare Cabin Embarked  \n",
              "0      0         A/5 21171   7.2500   NaN        S  \n",
              "1      0          PC 17599  71.2833   C85        C  \n",
              "2      0  STON/O2. 3101282   7.9250   NaN        S  \n",
              "3      0            113803  53.1000  C123        S  \n",
              "4      0            373450   8.0500   NaN        S  "
            ]
          },
          "metadata": {
            "tags": []
          },
          "execution_count": 19
        }
      ]
    },
    {
      "metadata": {
        "id": "UqLJeahzLfgQ",
        "colab_type": "text"
      },
      "cell_type": "markdown",
      "source": [
        "To view the last n entries, we can use the .tail(n) function."
      ]
    },
    {
      "metadata": {
        "id": "oS-ncSqzLfgR",
        "colab_type": "code",
        "colab": {
          "base_uri": "https://localhost:8080/",
          "height": 191
        },
        "outputId": "cbf9b7f6-5a35-491e-f3fa-cbb884dc155f"
      },
      "cell_type": "code",
      "source": [
        "df.tail(5)"
      ],
      "execution_count": 20,
      "outputs": [
        {
          "output_type": "execute_result",
          "data": {
            "text/html": [
              "<div>\n",
              "<style scoped>\n",
              "    .dataframe tbody tr th:only-of-type {\n",
              "        vertical-align: middle;\n",
              "    }\n",
              "\n",
              "    .dataframe tbody tr th {\n",
              "        vertical-align: top;\n",
              "    }\n",
              "\n",
              "    .dataframe thead th {\n",
              "        text-align: right;\n",
              "    }\n",
              "</style>\n",
              "<table border=\"1\" class=\"dataframe\">\n",
              "  <thead>\n",
              "    <tr style=\"text-align: right;\">\n",
              "      <th></th>\n",
              "      <th>PassengerId</th>\n",
              "      <th>Survived</th>\n",
              "      <th>Pclass</th>\n",
              "      <th>Name</th>\n",
              "      <th>Sex</th>\n",
              "      <th>Age</th>\n",
              "      <th>SibSp</th>\n",
              "      <th>Parch</th>\n",
              "      <th>Ticket</th>\n",
              "      <th>Fare</th>\n",
              "      <th>Cabin</th>\n",
              "      <th>Embarked</th>\n",
              "    </tr>\n",
              "  </thead>\n",
              "  <tbody>\n",
              "    <tr>\n",
              "      <th>886</th>\n",
              "      <td>887</td>\n",
              "      <td>0</td>\n",
              "      <td>2</td>\n",
              "      <td>Montvila, Rev. Juozas</td>\n",
              "      <td>male</td>\n",
              "      <td>27.0</td>\n",
              "      <td>0</td>\n",
              "      <td>0</td>\n",
              "      <td>211536</td>\n",
              "      <td>13.00</td>\n",
              "      <td>NaN</td>\n",
              "      <td>S</td>\n",
              "    </tr>\n",
              "    <tr>\n",
              "      <th>887</th>\n",
              "      <td>888</td>\n",
              "      <td>1</td>\n",
              "      <td>1</td>\n",
              "      <td>Graham, Miss. Margaret Edith</td>\n",
              "      <td>female</td>\n",
              "      <td>19.0</td>\n",
              "      <td>0</td>\n",
              "      <td>0</td>\n",
              "      <td>112053</td>\n",
              "      <td>30.00</td>\n",
              "      <td>B42</td>\n",
              "      <td>S</td>\n",
              "    </tr>\n",
              "    <tr>\n",
              "      <th>888</th>\n",
              "      <td>889</td>\n",
              "      <td>0</td>\n",
              "      <td>3</td>\n",
              "      <td>Johnston, Miss. Catherine Helen \"Carrie\"</td>\n",
              "      <td>female</td>\n",
              "      <td>NaN</td>\n",
              "      <td>1</td>\n",
              "      <td>2</td>\n",
              "      <td>W./C. 6607</td>\n",
              "      <td>23.45</td>\n",
              "      <td>NaN</td>\n",
              "      <td>S</td>\n",
              "    </tr>\n",
              "    <tr>\n",
              "      <th>889</th>\n",
              "      <td>890</td>\n",
              "      <td>1</td>\n",
              "      <td>1</td>\n",
              "      <td>Behr, Mr. Karl Howell</td>\n",
              "      <td>male</td>\n",
              "      <td>26.0</td>\n",
              "      <td>0</td>\n",
              "      <td>0</td>\n",
              "      <td>111369</td>\n",
              "      <td>30.00</td>\n",
              "      <td>C148</td>\n",
              "      <td>C</td>\n",
              "    </tr>\n",
              "    <tr>\n",
              "      <th>890</th>\n",
              "      <td>891</td>\n",
              "      <td>0</td>\n",
              "      <td>3</td>\n",
              "      <td>Dooley, Mr. Patrick</td>\n",
              "      <td>male</td>\n",
              "      <td>32.0</td>\n",
              "      <td>0</td>\n",
              "      <td>0</td>\n",
              "      <td>370376</td>\n",
              "      <td>7.75</td>\n",
              "      <td>NaN</td>\n",
              "      <td>Q</td>\n",
              "    </tr>\n",
              "  </tbody>\n",
              "</table>\n",
              "</div>"
            ],
            "text/plain": [
              "     PassengerId  Survived  Pclass                                      Name  \\\n",
              "886          887         0       2                     Montvila, Rev. Juozas   \n",
              "887          888         1       1              Graham, Miss. Margaret Edith   \n",
              "888          889         0       3  Johnston, Miss. Catherine Helen \"Carrie\"   \n",
              "889          890         1       1                     Behr, Mr. Karl Howell   \n",
              "890          891         0       3                       Dooley, Mr. Patrick   \n",
              "\n",
              "        Sex   Age  SibSp  Parch      Ticket   Fare Cabin Embarked  \n",
              "886    male  27.0      0      0      211536  13.00   NaN        S  \n",
              "887  female  19.0      0      0      112053  30.00   B42        S  \n",
              "888  female   NaN      1      2  W./C. 6607  23.45   NaN        S  \n",
              "889    male  26.0      0      0      111369  30.00  C148        C  \n",
              "890    male  32.0      0      0      370376   7.75   NaN        Q  "
            ]
          },
          "metadata": {
            "tags": []
          },
          "execution_count": 20
        }
      ]
    },
    {
      "metadata": {
        "id": "xU8UQd2XLfgV",
        "colab_type": "text"
      },
      "cell_type": "markdown",
      "source": [
        "### Analyzing the Data"
      ]
    },
    {
      "metadata": {
        "id": "lcTLWNpsLfgW",
        "colab_type": "text"
      },
      "cell_type": "markdown",
      "source": [
        "By calling the .info() function, we can see information regarding the column names, total number of entries, and types for each column."
      ]
    },
    {
      "metadata": {
        "id": "o-Ui8cN1LfgX",
        "colab_type": "code",
        "colab": {
          "base_uri": "https://localhost:8080/",
          "height": 293
        },
        "outputId": "69f99b0e-793f-45c0-d9fb-4b141f05e09b"
      },
      "cell_type": "code",
      "source": [
        "df.info()"
      ],
      "execution_count": 21,
      "outputs": [
        {
          "output_type": "stream",
          "text": [
            "<class 'pandas.core.frame.DataFrame'>\n",
            "RangeIndex: 891 entries, 0 to 890\n",
            "Data columns (total 12 columns):\n",
            "PassengerId    891 non-null int64\n",
            "Survived       891 non-null int64\n",
            "Pclass         891 non-null int64\n",
            "Name           891 non-null object\n",
            "Sex            891 non-null object\n",
            "Age            714 non-null float64\n",
            "SibSp          891 non-null int64\n",
            "Parch          891 non-null int64\n",
            "Ticket         891 non-null object\n",
            "Fare           891 non-null float64\n",
            "Cabin          204 non-null object\n",
            "Embarked       889 non-null object\n",
            "dtypes: float64(2), int64(5), object(5)\n",
            "memory usage: 83.6+ KB\n"
          ],
          "name": "stdout"
        }
      ]
    },
    {
      "metadata": {
        "id": "nBL2-aPDLfgc",
        "colab_type": "text"
      },
      "cell_type": "markdown",
      "source": [
        "From this data, we can see that we have 891 entries (rows) in our DataFrame. We can also infer that since Age, Cabin, and Embarked do not have 891 entries, there are some rows for which that information is Null."
      ]
    },
    {
      "metadata": {
        "id": "-d7VHFqlLfgd",
        "colab_type": "text"
      },
      "cell_type": "markdown",
      "source": [
        "### Summarizing the Data"
      ]
    },
    {
      "metadata": {
        "id": "gjvECysMLfge",
        "colab_type": "text"
      },
      "cell_type": "markdown",
      "source": [
        "The .describe() function can be incredibly useful when analzing a data set. By calling this function, Pandas will tell us the count, mean, standard deviation, interquartile range, maximum, and minumum values for each column in our data set which has a numerical type.\n",
        "\n",
        "We must however, remember that there are Null values in the Age, Cabin, and Embarked columns, meaning you should take that into considering when discussing their described values."
      ]
    },
    {
      "metadata": {
        "id": "UZMmdytCLfgf",
        "colab_type": "code",
        "colab": {
          "base_uri": "https://localhost:8080/",
          "height": 277
        },
        "outputId": "d0285301-d194-45a4-e539-9a3a83c3a71a"
      },
      "cell_type": "code",
      "source": [
        "df.describe()"
      ],
      "execution_count": 22,
      "outputs": [
        {
          "output_type": "execute_result",
          "data": {
            "text/html": [
              "<div>\n",
              "<style scoped>\n",
              "    .dataframe tbody tr th:only-of-type {\n",
              "        vertical-align: middle;\n",
              "    }\n",
              "\n",
              "    .dataframe tbody tr th {\n",
              "        vertical-align: top;\n",
              "    }\n",
              "\n",
              "    .dataframe thead th {\n",
              "        text-align: right;\n",
              "    }\n",
              "</style>\n",
              "<table border=\"1\" class=\"dataframe\">\n",
              "  <thead>\n",
              "    <tr style=\"text-align: right;\">\n",
              "      <th></th>\n",
              "      <th>PassengerId</th>\n",
              "      <th>Survived</th>\n",
              "      <th>Pclass</th>\n",
              "      <th>Age</th>\n",
              "      <th>SibSp</th>\n",
              "      <th>Parch</th>\n",
              "      <th>Fare</th>\n",
              "    </tr>\n",
              "  </thead>\n",
              "  <tbody>\n",
              "    <tr>\n",
              "      <th>count</th>\n",
              "      <td>891.000000</td>\n",
              "      <td>891.000000</td>\n",
              "      <td>891.000000</td>\n",
              "      <td>714.000000</td>\n",
              "      <td>891.000000</td>\n",
              "      <td>891.000000</td>\n",
              "      <td>891.000000</td>\n",
              "    </tr>\n",
              "    <tr>\n",
              "      <th>mean</th>\n",
              "      <td>446.000000</td>\n",
              "      <td>0.383838</td>\n",
              "      <td>2.308642</td>\n",
              "      <td>29.699118</td>\n",
              "      <td>0.523008</td>\n",
              "      <td>0.381594</td>\n",
              "      <td>32.204208</td>\n",
              "    </tr>\n",
              "    <tr>\n",
              "      <th>std</th>\n",
              "      <td>257.353842</td>\n",
              "      <td>0.486592</td>\n",
              "      <td>0.836071</td>\n",
              "      <td>14.526497</td>\n",
              "      <td>1.102743</td>\n",
              "      <td>0.806057</td>\n",
              "      <td>49.693429</td>\n",
              "    </tr>\n",
              "    <tr>\n",
              "      <th>min</th>\n",
              "      <td>1.000000</td>\n",
              "      <td>0.000000</td>\n",
              "      <td>1.000000</td>\n",
              "      <td>0.420000</td>\n",
              "      <td>0.000000</td>\n",
              "      <td>0.000000</td>\n",
              "      <td>0.000000</td>\n",
              "    </tr>\n",
              "    <tr>\n",
              "      <th>25%</th>\n",
              "      <td>223.500000</td>\n",
              "      <td>0.000000</td>\n",
              "      <td>2.000000</td>\n",
              "      <td>20.125000</td>\n",
              "      <td>0.000000</td>\n",
              "      <td>0.000000</td>\n",
              "      <td>7.910400</td>\n",
              "    </tr>\n",
              "    <tr>\n",
              "      <th>50%</th>\n",
              "      <td>446.000000</td>\n",
              "      <td>0.000000</td>\n",
              "      <td>3.000000</td>\n",
              "      <td>28.000000</td>\n",
              "      <td>0.000000</td>\n",
              "      <td>0.000000</td>\n",
              "      <td>14.454200</td>\n",
              "    </tr>\n",
              "    <tr>\n",
              "      <th>75%</th>\n",
              "      <td>668.500000</td>\n",
              "      <td>1.000000</td>\n",
              "      <td>3.000000</td>\n",
              "      <td>38.000000</td>\n",
              "      <td>1.000000</td>\n",
              "      <td>0.000000</td>\n",
              "      <td>31.000000</td>\n",
              "    </tr>\n",
              "    <tr>\n",
              "      <th>max</th>\n",
              "      <td>891.000000</td>\n",
              "      <td>1.000000</td>\n",
              "      <td>3.000000</td>\n",
              "      <td>80.000000</td>\n",
              "      <td>8.000000</td>\n",
              "      <td>6.000000</td>\n",
              "      <td>512.329200</td>\n",
              "    </tr>\n",
              "  </tbody>\n",
              "</table>\n",
              "</div>"
            ],
            "text/plain": [
              "       PassengerId    Survived      Pclass         Age       SibSp  \\\n",
              "count   891.000000  891.000000  891.000000  714.000000  891.000000   \n",
              "mean    446.000000    0.383838    2.308642   29.699118    0.523008   \n",
              "std     257.353842    0.486592    0.836071   14.526497    1.102743   \n",
              "min       1.000000    0.000000    1.000000    0.420000    0.000000   \n",
              "25%     223.500000    0.000000    2.000000   20.125000    0.000000   \n",
              "50%     446.000000    0.000000    3.000000   28.000000    0.000000   \n",
              "75%     668.500000    1.000000    3.000000   38.000000    1.000000   \n",
              "max     891.000000    1.000000    3.000000   80.000000    8.000000   \n",
              "\n",
              "            Parch        Fare  \n",
              "count  891.000000  891.000000  \n",
              "mean     0.381594   32.204208  \n",
              "std      0.806057   49.693429  \n",
              "min      0.000000    0.000000  \n",
              "25%      0.000000    7.910400  \n",
              "50%      0.000000   14.454200  \n",
              "75%      0.000000   31.000000  \n",
              "max      6.000000  512.329200  "
            ]
          },
          "metadata": {
            "tags": []
          },
          "execution_count": 22
        }
      ]
    },
    {
      "metadata": {
        "id": "aFeigTfFLfgh",
        "colab_type": "text"
      },
      "cell_type": "markdown",
      "source": [
        "### Data Munging (Cleaning)"
      ]
    },
    {
      "metadata": {
        "id": "Yoze8ucHLfgi",
        "colab_type": "text"
      },
      "cell_type": "markdown",
      "source": [
        "Pandas provides many tools to manipulate, filter, combine, and transform your data. We will now cover the syntax and some of the things you can do."
      ]
    },
    {
      "metadata": {
        "id": "aXsSSFHaLfgi",
        "colab_type": "text"
      },
      "cell_type": "markdown",
      "source": [
        "### Filtering Data"
      ]
    },
    {
      "metadata": {
        "id": "2B1Nx13ULfgj",
        "colab_type": "text"
      },
      "cell_type": "markdown",
      "source": [
        "To grab the first 10 rows from the age column, we can enter the key and indices in square brackets [ ]. Alternatively, you can acess a column by typing its name right after the DataFrame name like df.Survived[0:10]."
      ]
    },
    {
      "metadata": {
        "id": "uggDMT0QLfgk",
        "colab_type": "code",
        "colab": {
          "base_uri": "https://localhost:8080/",
          "height": 391
        },
        "outputId": "0b52bb67-d0c4-4d00-e455-3bbe2c080194"
      },
      "cell_type": "code",
      "source": [
        "# Without indices, we can grab the entire column\n",
        "# df.Age or df['Age']\n",
        "print(df['Age'][0:10])\n",
        "print('')\n",
        "# This is equivalent\n",
        "print(df.Age[0:10])"
      ],
      "execution_count": 23,
      "outputs": [
        {
          "output_type": "stream",
          "text": [
            "0    22.0\n",
            "1    38.0\n",
            "2    26.0\n",
            "3    35.0\n",
            "4    35.0\n",
            "5     NaN\n",
            "6    54.0\n",
            "7     2.0\n",
            "8    27.0\n",
            "9    14.0\n",
            "Name: Age, dtype: float64\n",
            "\n",
            "0    22.0\n",
            "1    38.0\n",
            "2    26.0\n",
            "3    35.0\n",
            "4    35.0\n",
            "5     NaN\n",
            "6    54.0\n",
            "7     2.0\n",
            "8    27.0\n",
            "9    14.0\n",
            "Name: Age, dtype: float64\n"
          ],
          "name": "stdout"
        }
      ]
    },
    {
      "metadata": {
        "id": "kl0eGAlZLfgl",
        "colab_type": "text"
      },
      "cell_type": "markdown",
      "source": [
        "If we look at the type of each column, we can see that DataFrames are actually made up of Pandas Series."
      ]
    },
    {
      "metadata": {
        "id": "AJXJSArOLfgm",
        "colab_type": "code",
        "colab": {
          "base_uri": "https://localhost:8080/",
          "height": 33
        },
        "outputId": "7614148e-e942-4b45-f8b5-c02b284ac1e3"
      },
      "cell_type": "code",
      "source": [
        "type(df.Age)"
      ],
      "execution_count": 24,
      "outputs": [
        {
          "output_type": "execute_result",
          "data": {
            "text/plain": [
              "pandas.core.series.Series"
            ]
          },
          "metadata": {
            "tags": []
          },
          "execution_count": 24
        }
      ]
    },
    {
      "metadata": {
        "id": "-oid9vwLLfgo",
        "colab_type": "text"
      },
      "cell_type": "markdown",
      "source": [
        "By grabbing an individual column as a series, we can calculate the mean, median, or a number of statistical values by using methods of the same name."
      ]
    },
    {
      "metadata": {
        "id": "zOcBN3XFLfgp",
        "colab_type": "code",
        "colab": {
          "base_uri": "https://localhost:8080/",
          "height": 98
        },
        "outputId": "3b931869-cff2-4f2f-f63e-412f80f01efe"
      },
      "cell_type": "code",
      "source": [
        "print('MEAN: ' + str(df.Age.mean()))\n",
        "print('MEDIAN: ' + str(df.Age.median()))\n",
        "print('MAX: ' + str(df.Age.max()))\n",
        "print('MIN: ' + str(df.Age.min()))\n",
        "print('SUM: ' + str(df.Age.sum()))"
      ],
      "execution_count": 26,
      "outputs": [
        {
          "output_type": "stream",
          "text": [
            "MEAN: 29.69911764705882\n",
            "MEDIAN: 28.0\n",
            "MAX: 80.0\n",
            "MIN: 0.42\n",
            "SUM: 21205.17\n"
          ],
          "name": "stdout"
        }
      ]
    },
    {
      "metadata": {
        "id": "vsjq34ITLfgt",
        "colab_type": "text"
      },
      "cell_type": "markdown",
      "source": [
        "We can also grab a number of columns at once by passing in a list of columns."
      ]
    },
    {
      "metadata": {
        "id": "2IZRNgdnLfgt",
        "colab_type": "code",
        "colab": {
          "base_uri": "https://localhost:8080/",
          "height": 1828
        },
        "outputId": "a58a4c2f-4ec9-452b-f3fd-ea96a65e41c6"
      },
      "cell_type": "code",
      "source": [
        "df[['Sex', 'Pclass', 'Age']]"
      ],
      "execution_count": 27,
      "outputs": [
        {
          "output_type": "execute_result",
          "data": {
            "text/html": [
              "<div>\n",
              "<style scoped>\n",
              "    .dataframe tbody tr th:only-of-type {\n",
              "        vertical-align: middle;\n",
              "    }\n",
              "\n",
              "    .dataframe tbody tr th {\n",
              "        vertical-align: top;\n",
              "    }\n",
              "\n",
              "    .dataframe thead th {\n",
              "        text-align: right;\n",
              "    }\n",
              "</style>\n",
              "<table border=\"1\" class=\"dataframe\">\n",
              "  <thead>\n",
              "    <tr style=\"text-align: right;\">\n",
              "      <th></th>\n",
              "      <th>Sex</th>\n",
              "      <th>Pclass</th>\n",
              "      <th>Age</th>\n",
              "    </tr>\n",
              "  </thead>\n",
              "  <tbody>\n",
              "    <tr>\n",
              "      <th>0</th>\n",
              "      <td>male</td>\n",
              "      <td>3</td>\n",
              "      <td>22.0</td>\n",
              "    </tr>\n",
              "    <tr>\n",
              "      <th>1</th>\n",
              "      <td>female</td>\n",
              "      <td>1</td>\n",
              "      <td>38.0</td>\n",
              "    </tr>\n",
              "    <tr>\n",
              "      <th>2</th>\n",
              "      <td>female</td>\n",
              "      <td>3</td>\n",
              "      <td>26.0</td>\n",
              "    </tr>\n",
              "    <tr>\n",
              "      <th>3</th>\n",
              "      <td>female</td>\n",
              "      <td>1</td>\n",
              "      <td>35.0</td>\n",
              "    </tr>\n",
              "    <tr>\n",
              "      <th>4</th>\n",
              "      <td>male</td>\n",
              "      <td>3</td>\n",
              "      <td>35.0</td>\n",
              "    </tr>\n",
              "    <tr>\n",
              "      <th>5</th>\n",
              "      <td>male</td>\n",
              "      <td>3</td>\n",
              "      <td>NaN</td>\n",
              "    </tr>\n",
              "    <tr>\n",
              "      <th>6</th>\n",
              "      <td>male</td>\n",
              "      <td>1</td>\n",
              "      <td>54.0</td>\n",
              "    </tr>\n",
              "    <tr>\n",
              "      <th>7</th>\n",
              "      <td>male</td>\n",
              "      <td>3</td>\n",
              "      <td>2.0</td>\n",
              "    </tr>\n",
              "    <tr>\n",
              "      <th>8</th>\n",
              "      <td>female</td>\n",
              "      <td>3</td>\n",
              "      <td>27.0</td>\n",
              "    </tr>\n",
              "    <tr>\n",
              "      <th>9</th>\n",
              "      <td>female</td>\n",
              "      <td>2</td>\n",
              "      <td>14.0</td>\n",
              "    </tr>\n",
              "    <tr>\n",
              "      <th>10</th>\n",
              "      <td>female</td>\n",
              "      <td>3</td>\n",
              "      <td>4.0</td>\n",
              "    </tr>\n",
              "    <tr>\n",
              "      <th>11</th>\n",
              "      <td>female</td>\n",
              "      <td>1</td>\n",
              "      <td>58.0</td>\n",
              "    </tr>\n",
              "    <tr>\n",
              "      <th>12</th>\n",
              "      <td>male</td>\n",
              "      <td>3</td>\n",
              "      <td>20.0</td>\n",
              "    </tr>\n",
              "    <tr>\n",
              "      <th>13</th>\n",
              "      <td>male</td>\n",
              "      <td>3</td>\n",
              "      <td>39.0</td>\n",
              "    </tr>\n",
              "    <tr>\n",
              "      <th>14</th>\n",
              "      <td>female</td>\n",
              "      <td>3</td>\n",
              "      <td>14.0</td>\n",
              "    </tr>\n",
              "    <tr>\n",
              "      <th>15</th>\n",
              "      <td>female</td>\n",
              "      <td>2</td>\n",
              "      <td>55.0</td>\n",
              "    </tr>\n",
              "    <tr>\n",
              "      <th>16</th>\n",
              "      <td>male</td>\n",
              "      <td>3</td>\n",
              "      <td>2.0</td>\n",
              "    </tr>\n",
              "    <tr>\n",
              "      <th>17</th>\n",
              "      <td>male</td>\n",
              "      <td>2</td>\n",
              "      <td>NaN</td>\n",
              "    </tr>\n",
              "    <tr>\n",
              "      <th>18</th>\n",
              "      <td>female</td>\n",
              "      <td>3</td>\n",
              "      <td>31.0</td>\n",
              "    </tr>\n",
              "    <tr>\n",
              "      <th>19</th>\n",
              "      <td>female</td>\n",
              "      <td>3</td>\n",
              "      <td>NaN</td>\n",
              "    </tr>\n",
              "    <tr>\n",
              "      <th>20</th>\n",
              "      <td>male</td>\n",
              "      <td>2</td>\n",
              "      <td>35.0</td>\n",
              "    </tr>\n",
              "    <tr>\n",
              "      <th>21</th>\n",
              "      <td>male</td>\n",
              "      <td>2</td>\n",
              "      <td>34.0</td>\n",
              "    </tr>\n",
              "    <tr>\n",
              "      <th>22</th>\n",
              "      <td>female</td>\n",
              "      <td>3</td>\n",
              "      <td>15.0</td>\n",
              "    </tr>\n",
              "    <tr>\n",
              "      <th>23</th>\n",
              "      <td>male</td>\n",
              "      <td>1</td>\n",
              "      <td>28.0</td>\n",
              "    </tr>\n",
              "    <tr>\n",
              "      <th>24</th>\n",
              "      <td>female</td>\n",
              "      <td>3</td>\n",
              "      <td>8.0</td>\n",
              "    </tr>\n",
              "    <tr>\n",
              "      <th>25</th>\n",
              "      <td>female</td>\n",
              "      <td>3</td>\n",
              "      <td>38.0</td>\n",
              "    </tr>\n",
              "    <tr>\n",
              "      <th>26</th>\n",
              "      <td>male</td>\n",
              "      <td>3</td>\n",
              "      <td>NaN</td>\n",
              "    </tr>\n",
              "    <tr>\n",
              "      <th>27</th>\n",
              "      <td>male</td>\n",
              "      <td>1</td>\n",
              "      <td>19.0</td>\n",
              "    </tr>\n",
              "    <tr>\n",
              "      <th>28</th>\n",
              "      <td>female</td>\n",
              "      <td>3</td>\n",
              "      <td>NaN</td>\n",
              "    </tr>\n",
              "    <tr>\n",
              "      <th>29</th>\n",
              "      <td>male</td>\n",
              "      <td>3</td>\n",
              "      <td>NaN</td>\n",
              "    </tr>\n",
              "    <tr>\n",
              "      <th>...</th>\n",
              "      <td>...</td>\n",
              "      <td>...</td>\n",
              "      <td>...</td>\n",
              "    </tr>\n",
              "    <tr>\n",
              "      <th>861</th>\n",
              "      <td>male</td>\n",
              "      <td>2</td>\n",
              "      <td>21.0</td>\n",
              "    </tr>\n",
              "    <tr>\n",
              "      <th>862</th>\n",
              "      <td>female</td>\n",
              "      <td>1</td>\n",
              "      <td>48.0</td>\n",
              "    </tr>\n",
              "    <tr>\n",
              "      <th>863</th>\n",
              "      <td>female</td>\n",
              "      <td>3</td>\n",
              "      <td>NaN</td>\n",
              "    </tr>\n",
              "    <tr>\n",
              "      <th>864</th>\n",
              "      <td>male</td>\n",
              "      <td>2</td>\n",
              "      <td>24.0</td>\n",
              "    </tr>\n",
              "    <tr>\n",
              "      <th>865</th>\n",
              "      <td>female</td>\n",
              "      <td>2</td>\n",
              "      <td>42.0</td>\n",
              "    </tr>\n",
              "    <tr>\n",
              "      <th>866</th>\n",
              "      <td>female</td>\n",
              "      <td>2</td>\n",
              "      <td>27.0</td>\n",
              "    </tr>\n",
              "    <tr>\n",
              "      <th>867</th>\n",
              "      <td>male</td>\n",
              "      <td>1</td>\n",
              "      <td>31.0</td>\n",
              "    </tr>\n",
              "    <tr>\n",
              "      <th>868</th>\n",
              "      <td>male</td>\n",
              "      <td>3</td>\n",
              "      <td>NaN</td>\n",
              "    </tr>\n",
              "    <tr>\n",
              "      <th>869</th>\n",
              "      <td>male</td>\n",
              "      <td>3</td>\n",
              "      <td>4.0</td>\n",
              "    </tr>\n",
              "    <tr>\n",
              "      <th>870</th>\n",
              "      <td>male</td>\n",
              "      <td>3</td>\n",
              "      <td>26.0</td>\n",
              "    </tr>\n",
              "    <tr>\n",
              "      <th>871</th>\n",
              "      <td>female</td>\n",
              "      <td>1</td>\n",
              "      <td>47.0</td>\n",
              "    </tr>\n",
              "    <tr>\n",
              "      <th>872</th>\n",
              "      <td>male</td>\n",
              "      <td>1</td>\n",
              "      <td>33.0</td>\n",
              "    </tr>\n",
              "    <tr>\n",
              "      <th>873</th>\n",
              "      <td>male</td>\n",
              "      <td>3</td>\n",
              "      <td>47.0</td>\n",
              "    </tr>\n",
              "    <tr>\n",
              "      <th>874</th>\n",
              "      <td>female</td>\n",
              "      <td>2</td>\n",
              "      <td>28.0</td>\n",
              "    </tr>\n",
              "    <tr>\n",
              "      <th>875</th>\n",
              "      <td>female</td>\n",
              "      <td>3</td>\n",
              "      <td>15.0</td>\n",
              "    </tr>\n",
              "    <tr>\n",
              "      <th>876</th>\n",
              "      <td>male</td>\n",
              "      <td>3</td>\n",
              "      <td>20.0</td>\n",
              "    </tr>\n",
              "    <tr>\n",
              "      <th>877</th>\n",
              "      <td>male</td>\n",
              "      <td>3</td>\n",
              "      <td>19.0</td>\n",
              "    </tr>\n",
              "    <tr>\n",
              "      <th>878</th>\n",
              "      <td>male</td>\n",
              "      <td>3</td>\n",
              "      <td>NaN</td>\n",
              "    </tr>\n",
              "    <tr>\n",
              "      <th>879</th>\n",
              "      <td>female</td>\n",
              "      <td>1</td>\n",
              "      <td>56.0</td>\n",
              "    </tr>\n",
              "    <tr>\n",
              "      <th>880</th>\n",
              "      <td>female</td>\n",
              "      <td>2</td>\n",
              "      <td>25.0</td>\n",
              "    </tr>\n",
              "    <tr>\n",
              "      <th>881</th>\n",
              "      <td>male</td>\n",
              "      <td>3</td>\n",
              "      <td>33.0</td>\n",
              "    </tr>\n",
              "    <tr>\n",
              "      <th>882</th>\n",
              "      <td>female</td>\n",
              "      <td>3</td>\n",
              "      <td>22.0</td>\n",
              "    </tr>\n",
              "    <tr>\n",
              "      <th>883</th>\n",
              "      <td>male</td>\n",
              "      <td>2</td>\n",
              "      <td>28.0</td>\n",
              "    </tr>\n",
              "    <tr>\n",
              "      <th>884</th>\n",
              "      <td>male</td>\n",
              "      <td>3</td>\n",
              "      <td>25.0</td>\n",
              "    </tr>\n",
              "    <tr>\n",
              "      <th>885</th>\n",
              "      <td>female</td>\n",
              "      <td>3</td>\n",
              "      <td>39.0</td>\n",
              "    </tr>\n",
              "    <tr>\n",
              "      <th>886</th>\n",
              "      <td>male</td>\n",
              "      <td>2</td>\n",
              "      <td>27.0</td>\n",
              "    </tr>\n",
              "    <tr>\n",
              "      <th>887</th>\n",
              "      <td>female</td>\n",
              "      <td>1</td>\n",
              "      <td>19.0</td>\n",
              "    </tr>\n",
              "    <tr>\n",
              "      <th>888</th>\n",
              "      <td>female</td>\n",
              "      <td>3</td>\n",
              "      <td>NaN</td>\n",
              "    </tr>\n",
              "    <tr>\n",
              "      <th>889</th>\n",
              "      <td>male</td>\n",
              "      <td>1</td>\n",
              "      <td>26.0</td>\n",
              "    </tr>\n",
              "    <tr>\n",
              "      <th>890</th>\n",
              "      <td>male</td>\n",
              "      <td>3</td>\n",
              "      <td>32.0</td>\n",
              "    </tr>\n",
              "  </tbody>\n",
              "</table>\n",
              "<p>891 rows × 3 columns</p>\n",
              "</div>"
            ],
            "text/plain": [
              "        Sex  Pclass   Age\n",
              "0      male       3  22.0\n",
              "1    female       1  38.0\n",
              "2    female       3  26.0\n",
              "3    female       1  35.0\n",
              "4      male       3  35.0\n",
              "5      male       3   NaN\n",
              "6      male       1  54.0\n",
              "7      male       3   2.0\n",
              "8    female       3  27.0\n",
              "9    female       2  14.0\n",
              "10   female       3   4.0\n",
              "11   female       1  58.0\n",
              "12     male       3  20.0\n",
              "13     male       3  39.0\n",
              "14   female       3  14.0\n",
              "15   female       2  55.0\n",
              "16     male       3   2.0\n",
              "17     male       2   NaN\n",
              "18   female       3  31.0\n",
              "19   female       3   NaN\n",
              "20     male       2  35.0\n",
              "21     male       2  34.0\n",
              "22   female       3  15.0\n",
              "23     male       1  28.0\n",
              "24   female       3   8.0\n",
              "25   female       3  38.0\n",
              "26     male       3   NaN\n",
              "27     male       1  19.0\n",
              "28   female       3   NaN\n",
              "29     male       3   NaN\n",
              "..      ...     ...   ...\n",
              "861    male       2  21.0\n",
              "862  female       1  48.0\n",
              "863  female       3   NaN\n",
              "864    male       2  24.0\n",
              "865  female       2  42.0\n",
              "866  female       2  27.0\n",
              "867    male       1  31.0\n",
              "868    male       3   NaN\n",
              "869    male       3   4.0\n",
              "870    male       3  26.0\n",
              "871  female       1  47.0\n",
              "872    male       1  33.0\n",
              "873    male       3  47.0\n",
              "874  female       2  28.0\n",
              "875  female       3  15.0\n",
              "876    male       3  20.0\n",
              "877    male       3  19.0\n",
              "878    male       3   NaN\n",
              "879  female       1  56.0\n",
              "880  female       2  25.0\n",
              "881    male       3  33.0\n",
              "882  female       3  22.0\n",
              "883    male       2  28.0\n",
              "884    male       3  25.0\n",
              "885  female       3  39.0\n",
              "886    male       2  27.0\n",
              "887  female       1  19.0\n",
              "888  female       3   NaN\n",
              "889    male       1  26.0\n",
              "890    male       3  32.0\n",
              "\n",
              "[891 rows x 3 columns]"
            ]
          },
          "metadata": {
            "tags": []
          },
          "execution_count": 27
        }
      ]
    },
    {
      "metadata": {
        "id": "BYvJH7UsLfgw",
        "colab_type": "text"
      },
      "cell_type": "markdown",
      "source": [
        "### Example using survey data"
      ]
    },
    {
      "metadata": {
        "id": "neRdK_H1Lfgx",
        "colab_type": "text"
      },
      "cell_type": "markdown",
      "source": [
        "Now, we are going to use an example with a survey. First, we need to load the csv "
      ]
    },
    {
      "metadata": {
        "id": "0nO0yPvDLfgy",
        "colab_type": "code",
        "colab": {
          "resources": {
            "http://localhost:8080/nbextensions/google.colab/files.js": {
              "data": "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",
              "ok": true,
              "headers": [
                [
                  "content-type",
                  "application/javascript"
                ]
              ],
              "status": 200,
              "status_text": ""
            }
          },
          "base_uri": "https://localhost:8080/",
          "height": 386
        },
        "outputId": "e7109993-1d13-4bfe-b341-c3f2cd7f772b"
      },
      "cell_type": "code",
      "source": [
        "uploaded = files.upload()\n",
        "st = pd.read_csv(io.StringIO(uploaded['Stat100_2013fall_survey01.csv'].decode('utf-8')))\n",
        "# Returns first 10 entries\n",
        "st.head(10)"
      ],
      "execution_count": 30,
      "outputs": [
        {
          "output_type": "display_data",
          "data": {
            "text/html": [
              "\n",
              "     <input type=\"file\" id=\"files-b5268d39-5bed-4868-8f39-2acfe91f9ac2\" name=\"files[]\" multiple disabled />\n",
              "     <output id=\"result-b5268d39-5bed-4868-8f39-2acfe91f9ac2\">\n",
              "      Upload widget is only available when the cell has been executed in the\n",
              "      current browser session. Please rerun this cell to enable.\n",
              "      </output>\n",
              "      <script src=\"/nbextensions/google.colab/files.js\"></script> "
            ],
            "text/plain": [
              "<IPython.core.display.HTML object>"
            ]
          },
          "metadata": {
            "tags": []
          }
        },
        {
          "output_type": "stream",
          "text": [
            "Saving Stat100_2013fall_survey01.csv to Stat100_2013fall_survey01.csv\n"
          ],
          "name": "stdout"
        },
        {
          "output_type": "execute_result",
          "data": {
            "text/html": [
              "<div>\n",
              "<style scoped>\n",
              "    .dataframe tbody tr th:only-of-type {\n",
              "        vertical-align: middle;\n",
              "    }\n",
              "\n",
              "    .dataframe tbody tr th {\n",
              "        vertical-align: top;\n",
              "    }\n",
              "\n",
              "    .dataframe thead th {\n",
              "        text-align: right;\n",
              "    }\n",
              "</style>\n",
              "<table border=\"1\" class=\"dataframe\">\n",
              "  <thead>\n",
              "    <tr style=\"text-align: right;\">\n",
              "      <th></th>\n",
              "      <th>gender</th>\n",
              "      <th>height</th>\n",
              "      <th>weight</th>\n",
              "      <th>shoeSize</th>\n",
              "      <th>shoeNums</th>\n",
              "      <th>schoolYear</th>\n",
              "      <th>pets</th>\n",
              "      <th>siblings</th>\n",
              "      <th>speed</th>\n",
              "      <th>cash</th>\n",
              "      <th>sleep</th>\n",
              "      <th>ageMother</th>\n",
              "      <th>ageFather</th>\n",
              "      <th>random</th>\n",
              "      <th>love</th>\n",
              "      <th>charity</th>\n",
              "    </tr>\n",
              "  </thead>\n",
              "  <tbody>\n",
              "    <tr>\n",
              "      <th>0</th>\n",
              "      <td>female</td>\n",
              "      <td>72</td>\n",
              "      <td>174</td>\n",
              "      <td>11.0</td>\n",
              "      <td>17</td>\n",
              "      <td>Sophomore</td>\n",
              "      <td>4</td>\n",
              "      <td>5</td>\n",
              "      <td>80</td>\n",
              "      <td>3</td>\n",
              "      <td>7.0</td>\n",
              "      <td>42</td>\n",
              "      <td>36</td>\n",
              "      <td>6</td>\n",
              "      <td>one</td>\n",
              "      <td>25</td>\n",
              "    </tr>\n",
              "    <tr>\n",
              "      <th>1</th>\n",
              "      <td>female</td>\n",
              "      <td>67</td>\n",
              "      <td>140</td>\n",
              "      <td>8.5</td>\n",
              "      <td>100</td>\n",
              "      <td>Sophomore</td>\n",
              "      <td>0</td>\n",
              "      <td>1</td>\n",
              "      <td>110</td>\n",
              "      <td>76</td>\n",
              "      <td>8.5</td>\n",
              "      <td>55</td>\n",
              "      <td>61</td>\n",
              "      <td>6</td>\n",
              "      <td>dozens</td>\n",
              "      <td>90</td>\n",
              "    </tr>\n",
              "    <tr>\n",
              "      <th>2</th>\n",
              "      <td>female</td>\n",
              "      <td>64</td>\n",
              "      <td>107</td>\n",
              "      <td>6.0</td>\n",
              "      <td>25</td>\n",
              "      <td>Sophomore</td>\n",
              "      <td>5</td>\n",
              "      <td>2</td>\n",
              "      <td>100</td>\n",
              "      <td>75</td>\n",
              "      <td>7.5</td>\n",
              "      <td>58</td>\n",
              "      <td>60</td>\n",
              "      <td>4</td>\n",
              "      <td>few</td>\n",
              "      <td>75</td>\n",
              "    </tr>\n",
              "    <tr>\n",
              "      <th>3</th>\n",
              "      <td>male</td>\n",
              "      <td>70</td>\n",
              "      <td>185</td>\n",
              "      <td>11.0</td>\n",
              "      <td>7</td>\n",
              "      <td>Sophomore</td>\n",
              "      <td>3</td>\n",
              "      <td>2</td>\n",
              "      <td>95</td>\n",
              "      <td>35</td>\n",
              "      <td>7.0</td>\n",
              "      <td>53</td>\n",
              "      <td>55</td>\n",
              "      <td>8</td>\n",
              "      <td>few</td>\n",
              "      <td>60</td>\n",
              "    </tr>\n",
              "    <tr>\n",
              "      <th>4</th>\n",
              "      <td>female</td>\n",
              "      <td>62</td>\n",
              "      <td>133</td>\n",
              "      <td>7.0</td>\n",
              "      <td>8</td>\n",
              "      <td>Sophomore</td>\n",
              "      <td>30</td>\n",
              "      <td>1</td>\n",
              "      <td>195</td>\n",
              "      <td>18</td>\n",
              "      <td>6.0</td>\n",
              "      <td>41</td>\n",
              "      <td>49</td>\n",
              "      <td>6</td>\n",
              "      <td>hundreds</td>\n",
              "      <td>70</td>\n",
              "    </tr>\n",
              "    <tr>\n",
              "      <th>5</th>\n",
              "      <td>female</td>\n",
              "      <td>65</td>\n",
              "      <td>136</td>\n",
              "      <td>6.5</td>\n",
              "      <td>10</td>\n",
              "      <td>Freshman</td>\n",
              "      <td>2</td>\n",
              "      <td>2</td>\n",
              "      <td>80</td>\n",
              "      <td>20</td>\n",
              "      <td>7.0</td>\n",
              "      <td>51</td>\n",
              "      <td>49</td>\n",
              "      <td>3</td>\n",
              "      <td>one</td>\n",
              "      <td>100</td>\n",
              "    </tr>\n",
              "    <tr>\n",
              "      <th>6</th>\n",
              "      <td>male</td>\n",
              "      <td>67</td>\n",
              "      <td>162</td>\n",
              "      <td>10.0</td>\n",
              "      <td>20</td>\n",
              "      <td>Sophomore</td>\n",
              "      <td>0</td>\n",
              "      <td>2</td>\n",
              "      <td>115</td>\n",
              "      <td>50</td>\n",
              "      <td>5.0</td>\n",
              "      <td>38</td>\n",
              "      <td>45</td>\n",
              "      <td>10</td>\n",
              "      <td>few</td>\n",
              "      <td>70</td>\n",
              "    </tr>\n",
              "    <tr>\n",
              "      <th>7</th>\n",
              "      <td>male</td>\n",
              "      <td>71</td>\n",
              "      <td>165</td>\n",
              "      <td>10.5</td>\n",
              "      <td>11</td>\n",
              "      <td>Sophomore</td>\n",
              "      <td>0</td>\n",
              "      <td>1</td>\n",
              "      <td>120</td>\n",
              "      <td>10</td>\n",
              "      <td>7.0</td>\n",
              "      <td>53</td>\n",
              "      <td>56</td>\n",
              "      <td>5</td>\n",
              "      <td>few</td>\n",
              "      <td>50</td>\n",
              "    </tr>\n",
              "    <tr>\n",
              "      <th>8</th>\n",
              "      <td>male</td>\n",
              "      <td>72</td>\n",
              "      <td>135</td>\n",
              "      <td>10.5</td>\n",
              "      <td>5</td>\n",
              "      <td>Freshman</td>\n",
              "      <td>0</td>\n",
              "      <td>2</td>\n",
              "      <td>80</td>\n",
              "      <td>70</td>\n",
              "      <td>8.0</td>\n",
              "      <td>52</td>\n",
              "      <td>53</td>\n",
              "      <td>7</td>\n",
              "      <td>dozens</td>\n",
              "      <td>65</td>\n",
              "    </tr>\n",
              "    <tr>\n",
              "      <th>9</th>\n",
              "      <td>female</td>\n",
              "      <td>66</td>\n",
              "      <td>148</td>\n",
              "      <td>8.5</td>\n",
              "      <td>15</td>\n",
              "      <td>Junior</td>\n",
              "      <td>0</td>\n",
              "      <td>1</td>\n",
              "      <td>85</td>\n",
              "      <td>20</td>\n",
              "      <td>7.0</td>\n",
              "      <td>55</td>\n",
              "      <td>58</td>\n",
              "      <td>8</td>\n",
              "      <td>one</td>\n",
              "      <td>10</td>\n",
              "    </tr>\n",
              "  </tbody>\n",
              "</table>\n",
              "</div>"
            ],
            "text/plain": [
              "   gender  height  weight  shoeSize  shoeNums schoolYear  pets  siblings  \\\n",
              "0  female      72     174      11.0        17  Sophomore     4         5   \n",
              "1  female      67     140       8.5       100  Sophomore     0         1   \n",
              "2  female      64     107       6.0        25  Sophomore     5         2   \n",
              "3    male      70     185      11.0         7  Sophomore     3         2   \n",
              "4  female      62     133       7.0         8  Sophomore    30         1   \n",
              "5  female      65     136       6.5        10   Freshman     2         2   \n",
              "6    male      67     162      10.0        20  Sophomore     0         2   \n",
              "7    male      71     165      10.5        11  Sophomore     0         1   \n",
              "8    male      72     135      10.5         5   Freshman     0         2   \n",
              "9  female      66     148       8.5        15     Junior     0         1   \n",
              "\n",
              "   speed  cash  sleep  ageMother  ageFather  random      love  charity  \n",
              "0     80     3    7.0         42         36       6       one       25  \n",
              "1    110    76    8.5         55         61       6    dozens       90  \n",
              "2    100    75    7.5         58         60       4       few       75  \n",
              "3     95    35    7.0         53         55       8       few       60  \n",
              "4    195    18    6.0         41         49       6  hundreds       70  \n",
              "5     80    20    7.0         51         49       3       one      100  \n",
              "6    115    50    5.0         38         45      10       few       70  \n",
              "7    120    10    7.0         53         56       5       few       50  \n",
              "8     80    70    8.0         52         53       7    dozens       65  \n",
              "9     85    20    7.0         55         58       8       one       10  "
            ]
          },
          "metadata": {
            "tags": []
          },
          "execution_count": 30
        }
      ]
    },
    {
      "metadata": {
        "id": "oysguWtgLfg4",
        "colab_type": "text"
      },
      "cell_type": "markdown",
      "source": [
        "This DataFrame contains various information about different people. Suppose we wanted to find the mean and median of the number of shoes of the first 10 people. How would we do this?"
      ]
    },
    {
      "metadata": {
        "id": "KNrcpOm4Lfg4",
        "colab_type": "text"
      },
      "cell_type": "markdown",
      "source": [
        "First we would want to view ONLY the shoeNums column of the first 10 people. Write the code for that here "
      ]
    },
    {
      "metadata": {
        "id": "LsuYWwp8Lfg5",
        "colab_type": "code",
        "colab": {
          "base_uri": "https://localhost:8080/",
          "height": 196
        },
        "outputId": "ff4ab6b4-e56c-44b0-82e9-262852f623e0"
      },
      "cell_type": "code",
      "source": [
        "print(st.shoeNums[0:10])"
      ],
      "execution_count": 31,
      "outputs": [
        {
          "output_type": "stream",
          "text": [
            "0     17\n",
            "1    100\n",
            "2     25\n",
            "3      7\n",
            "4      8\n",
            "5     10\n",
            "6     20\n",
            "7     11\n",
            "8      5\n",
            "9     15\n",
            "Name: shoeNums, dtype: int64\n"
          ],
          "name": "stdout"
        }
      ]
    },
    {
      "metadata": {
        "id": "GTMtIctZLfg7",
        "colab_type": "text"
      },
      "cell_type": "markdown",
      "source": [
        "Then, we would want to print the mean and median of this data. "
      ]
    },
    {
      "metadata": {
        "id": "vgqAUDR8Lfg8",
        "colab_type": "code",
        "colab": {
          "base_uri": "https://localhost:8080/",
          "height": 50
        },
        "outputId": "3492790f-53c4-4e96-d066-696e41eb4732"
      },
      "cell_type": "code",
      "source": [
        "print('MEAN: ' + str(st.shoeNums.mean()))\n",
        "print('MEDIAN: ' + str(st.shoeNums.median()))"
      ],
      "execution_count": 33,
      "outputs": [
        {
          "output_type": "stream",
          "text": [
            "MEAN: 15.03420523138833\n",
            "MEDIAN: 12.0\n"
          ],
          "name": "stdout"
        }
      ]
    },
    {
      "metadata": {
        "id": "0QSWEII0LfhB",
        "colab_type": "text"
      },
      "cell_type": "markdown",
      "source": [
        "### Querying DataFrames"
      ]
    },
    {
      "metadata": {
        "id": "siv_EDxJLfhB",
        "colab_type": "text"
      },
      "cell_type": "markdown",
      "source": [
        "Just as we discussed above in the Series section, we can pass in boolean arguments to query for data which satisfies a description.\n",
        "\n",
        "For instance, let's say we want to look at every passenger of the Titanic who was over the age of 70, we could do this:"
      ]
    },
    {
      "metadata": {
        "id": "mDFtWwuYLfhC",
        "colab_type": "code",
        "colab": {
          "base_uri": "https://localhost:8080/",
          "height": 191
        },
        "outputId": "e9815019-d0ee-4c5e-8cde-39df968ecb5f"
      },
      "cell_type": "code",
      "source": [
        "df[df.Age > 70]"
      ],
      "execution_count": 34,
      "outputs": [
        {
          "output_type": "execute_result",
          "data": {
            "text/html": [
              "<div>\n",
              "<style scoped>\n",
              "    .dataframe tbody tr th:only-of-type {\n",
              "        vertical-align: middle;\n",
              "    }\n",
              "\n",
              "    .dataframe tbody tr th {\n",
              "        vertical-align: top;\n",
              "    }\n",
              "\n",
              "    .dataframe thead th {\n",
              "        text-align: right;\n",
              "    }\n",
              "</style>\n",
              "<table border=\"1\" class=\"dataframe\">\n",
              "  <thead>\n",
              "    <tr style=\"text-align: right;\">\n",
              "      <th></th>\n",
              "      <th>PassengerId</th>\n",
              "      <th>Survived</th>\n",
              "      <th>Pclass</th>\n",
              "      <th>Name</th>\n",
              "      <th>Sex</th>\n",
              "      <th>Age</th>\n",
              "      <th>SibSp</th>\n",
              "      <th>Parch</th>\n",
              "      <th>Ticket</th>\n",
              "      <th>Fare</th>\n",
              "      <th>Cabin</th>\n",
              "      <th>Embarked</th>\n",
              "    </tr>\n",
              "  </thead>\n",
              "  <tbody>\n",
              "    <tr>\n",
              "      <th>96</th>\n",
              "      <td>97</td>\n",
              "      <td>0</td>\n",
              "      <td>1</td>\n",
              "      <td>Goldschmidt, Mr. George B</td>\n",
              "      <td>male</td>\n",
              "      <td>71.0</td>\n",
              "      <td>0</td>\n",
              "      <td>0</td>\n",
              "      <td>PC 17754</td>\n",
              "      <td>34.6542</td>\n",
              "      <td>A5</td>\n",
              "      <td>C</td>\n",
              "    </tr>\n",
              "    <tr>\n",
              "      <th>116</th>\n",
              "      <td>117</td>\n",
              "      <td>0</td>\n",
              "      <td>3</td>\n",
              "      <td>Connors, Mr. Patrick</td>\n",
              "      <td>male</td>\n",
              "      <td>70.5</td>\n",
              "      <td>0</td>\n",
              "      <td>0</td>\n",
              "      <td>370369</td>\n",
              "      <td>7.7500</td>\n",
              "      <td>NaN</td>\n",
              "      <td>Q</td>\n",
              "    </tr>\n",
              "    <tr>\n",
              "      <th>493</th>\n",
              "      <td>494</td>\n",
              "      <td>0</td>\n",
              "      <td>1</td>\n",
              "      <td>Artagaveytia, Mr. Ramon</td>\n",
              "      <td>male</td>\n",
              "      <td>71.0</td>\n",
              "      <td>0</td>\n",
              "      <td>0</td>\n",
              "      <td>PC 17609</td>\n",
              "      <td>49.5042</td>\n",
              "      <td>NaN</td>\n",
              "      <td>C</td>\n",
              "    </tr>\n",
              "    <tr>\n",
              "      <th>630</th>\n",
              "      <td>631</td>\n",
              "      <td>1</td>\n",
              "      <td>1</td>\n",
              "      <td>Barkworth, Mr. Algernon Henry Wilson</td>\n",
              "      <td>male</td>\n",
              "      <td>80.0</td>\n",
              "      <td>0</td>\n",
              "      <td>0</td>\n",
              "      <td>27042</td>\n",
              "      <td>30.0000</td>\n",
              "      <td>A23</td>\n",
              "      <td>S</td>\n",
              "    </tr>\n",
              "    <tr>\n",
              "      <th>851</th>\n",
              "      <td>852</td>\n",
              "      <td>0</td>\n",
              "      <td>3</td>\n",
              "      <td>Svensson, Mr. Johan</td>\n",
              "      <td>male</td>\n",
              "      <td>74.0</td>\n",
              "      <td>0</td>\n",
              "      <td>0</td>\n",
              "      <td>347060</td>\n",
              "      <td>7.7750</td>\n",
              "      <td>NaN</td>\n",
              "      <td>S</td>\n",
              "    </tr>\n",
              "  </tbody>\n",
              "</table>\n",
              "</div>"
            ],
            "text/plain": [
              "     PassengerId  Survived  Pclass                                  Name  \\\n",
              "96            97         0       1             Goldschmidt, Mr. George B   \n",
              "116          117         0       3                  Connors, Mr. Patrick   \n",
              "493          494         0       1               Artagaveytia, Mr. Ramon   \n",
              "630          631         1       1  Barkworth, Mr. Algernon Henry Wilson   \n",
              "851          852         0       3                   Svensson, Mr. Johan   \n",
              "\n",
              "      Sex   Age  SibSp  Parch    Ticket     Fare Cabin Embarked  \n",
              "96   male  71.0      0      0  PC 17754  34.6542    A5        C  \n",
              "116  male  70.5      0      0    370369   7.7500   NaN        Q  \n",
              "493  male  71.0      0      0  PC 17609  49.5042   NaN        C  \n",
              "630  male  80.0      0      0     27042  30.0000   A23        S  \n",
              "851  male  74.0      0      0    347060   7.7750   NaN        S  "
            ]
          },
          "metadata": {
            "tags": []
          },
          "execution_count": 34
        }
      ]
    },
    {
      "metadata": {
        "id": "1cmwW4M0LfhE",
        "colab_type": "text"
      },
      "cell_type": "markdown",
      "source": [
        "DataFrames allow us to run multiple queries on our data sets as well by either using parenthesis and an & sign, or by passing in two expressions in square brackets.\n",
        "\n",
        "For example, we can pull all female passengers over the age of 60 by running this:"
      ]
    },
    {
      "metadata": {
        "id": "u6KWbGyWLfhG",
        "colab_type": "code",
        "colab": {
          "base_uri": "https://localhost:8080/",
          "height": 133
        },
        "outputId": "a0f1188a-8ca5-4b1b-b67b-2d3a6f6819e1"
      },
      "cell_type": "code",
      "source": [
        "df[(df.Sex == 'female') & (df.Age > 60)]\n",
        "# or equivalently\n",
        "# df[df.Sex == 'female'][df.Age > 60]"
      ],
      "execution_count": 35,
      "outputs": [
        {
          "output_type": "execute_result",
          "data": {
            "text/html": [
              "<div>\n",
              "<style scoped>\n",
              "    .dataframe tbody tr th:only-of-type {\n",
              "        vertical-align: middle;\n",
              "    }\n",
              "\n",
              "    .dataframe tbody tr th {\n",
              "        vertical-align: top;\n",
              "    }\n",
              "\n",
              "    .dataframe thead th {\n",
              "        text-align: right;\n",
              "    }\n",
              "</style>\n",
              "<table border=\"1\" class=\"dataframe\">\n",
              "  <thead>\n",
              "    <tr style=\"text-align: right;\">\n",
              "      <th></th>\n",
              "      <th>PassengerId</th>\n",
              "      <th>Survived</th>\n",
              "      <th>Pclass</th>\n",
              "      <th>Name</th>\n",
              "      <th>Sex</th>\n",
              "      <th>Age</th>\n",
              "      <th>SibSp</th>\n",
              "      <th>Parch</th>\n",
              "      <th>Ticket</th>\n",
              "      <th>Fare</th>\n",
              "      <th>Cabin</th>\n",
              "      <th>Embarked</th>\n",
              "    </tr>\n",
              "  </thead>\n",
              "  <tbody>\n",
              "    <tr>\n",
              "      <th>275</th>\n",
              "      <td>276</td>\n",
              "      <td>1</td>\n",
              "      <td>1</td>\n",
              "      <td>Andrews, Miss. Kornelia Theodosia</td>\n",
              "      <td>female</td>\n",
              "      <td>63.0</td>\n",
              "      <td>1</td>\n",
              "      <td>0</td>\n",
              "      <td>13502</td>\n",
              "      <td>77.9583</td>\n",
              "      <td>D7</td>\n",
              "      <td>S</td>\n",
              "    </tr>\n",
              "    <tr>\n",
              "      <th>483</th>\n",
              "      <td>484</td>\n",
              "      <td>1</td>\n",
              "      <td>3</td>\n",
              "      <td>Turkula, Mrs. (Hedwig)</td>\n",
              "      <td>female</td>\n",
              "      <td>63.0</td>\n",
              "      <td>0</td>\n",
              "      <td>0</td>\n",
              "      <td>4134</td>\n",
              "      <td>9.5875</td>\n",
              "      <td>NaN</td>\n",
              "      <td>S</td>\n",
              "    </tr>\n",
              "    <tr>\n",
              "      <th>829</th>\n",
              "      <td>830</td>\n",
              "      <td>1</td>\n",
              "      <td>1</td>\n",
              "      <td>Stone, Mrs. George Nelson (Martha Evelyn)</td>\n",
              "      <td>female</td>\n",
              "      <td>62.0</td>\n",
              "      <td>0</td>\n",
              "      <td>0</td>\n",
              "      <td>113572</td>\n",
              "      <td>80.0000</td>\n",
              "      <td>B28</td>\n",
              "      <td>NaN</td>\n",
              "    </tr>\n",
              "  </tbody>\n",
              "</table>\n",
              "</div>"
            ],
            "text/plain": [
              "     PassengerId  Survived  Pclass                                       Name  \\\n",
              "275          276         1       1          Andrews, Miss. Kornelia Theodosia   \n",
              "483          484         1       3                     Turkula, Mrs. (Hedwig)   \n",
              "829          830         1       1  Stone, Mrs. George Nelson (Martha Evelyn)   \n",
              "\n",
              "        Sex   Age  SibSp  Parch  Ticket     Fare Cabin Embarked  \n",
              "275  female  63.0      1      0   13502  77.9583    D7        S  \n",
              "483  female  63.0      0      0    4134   9.5875   NaN        S  \n",
              "829  female  62.0      0      0  113572  80.0000   B28      NaN  "
            ]
          },
          "metadata": {
            "tags": []
          },
          "execution_count": 35
        }
      ]
    },
    {
      "metadata": {
        "id": "IpmN54Y_LfhJ",
        "colab_type": "text"
      },
      "cell_type": "markdown",
      "source": [
        "And we can further specify which additional column names we which to view by again passing a list of column names."
      ]
    },
    {
      "metadata": {
        "id": "U-httvRILfhK",
        "colab_type": "code",
        "colab": {
          "base_uri": "https://localhost:8080/",
          "height": 133
        },
        "outputId": "6ad914d6-f917-406a-b997-a002ca4129eb"
      },
      "cell_type": "code",
      "source": [
        "df[(df.Sex == 'female') & (df.Age > 60)] [['Age','Sex','Ticket','Fare']]"
      ],
      "execution_count": 36,
      "outputs": [
        {
          "output_type": "execute_result",
          "data": {
            "text/html": [
              "<div>\n",
              "<style scoped>\n",
              "    .dataframe tbody tr th:only-of-type {\n",
              "        vertical-align: middle;\n",
              "    }\n",
              "\n",
              "    .dataframe tbody tr th {\n",
              "        vertical-align: top;\n",
              "    }\n",
              "\n",
              "    .dataframe thead th {\n",
              "        text-align: right;\n",
              "    }\n",
              "</style>\n",
              "<table border=\"1\" class=\"dataframe\">\n",
              "  <thead>\n",
              "    <tr style=\"text-align: right;\">\n",
              "      <th></th>\n",
              "      <th>Age</th>\n",
              "      <th>Sex</th>\n",
              "      <th>Ticket</th>\n",
              "      <th>Fare</th>\n",
              "    </tr>\n",
              "  </thead>\n",
              "  <tbody>\n",
              "    <tr>\n",
              "      <th>275</th>\n",
              "      <td>63.0</td>\n",
              "      <td>female</td>\n",
              "      <td>13502</td>\n",
              "      <td>77.9583</td>\n",
              "    </tr>\n",
              "    <tr>\n",
              "      <th>483</th>\n",
              "      <td>63.0</td>\n",
              "      <td>female</td>\n",
              "      <td>4134</td>\n",
              "      <td>9.5875</td>\n",
              "    </tr>\n",
              "    <tr>\n",
              "      <th>829</th>\n",
              "      <td>62.0</td>\n",
              "      <td>female</td>\n",
              "      <td>113572</td>\n",
              "      <td>80.0000</td>\n",
              "    </tr>\n",
              "  </tbody>\n",
              "</table>\n",
              "</div>"
            ],
            "text/plain": [
              "      Age     Sex  Ticket     Fare\n",
              "275  63.0  female   13502  77.9583\n",
              "483  63.0  female    4134   9.5875\n",
              "829  62.0  female  113572  80.0000"
            ]
          },
          "metadata": {
            "tags": []
          },
          "execution_count": 36
        }
      ]
    },
    {
      "metadata": {
        "id": "WApyN5M1LfhM",
        "colab_type": "text"
      },
      "cell_type": "markdown",
      "source": [
        "If we were curious in investigating all the Null values for Age we discovered earlier, we can easily grab them. "
      ]
    },
    {
      "metadata": {
        "id": "jf-8oFDELfhS",
        "colab_type": "code",
        "colab": {
          "base_uri": "https://localhost:8080/",
          "height": 1828
        },
        "outputId": "63ede70f-afb9-48e0-c6b9-98be4259c8cf"
      },
      "cell_type": "code",
      "source": [
        "df[df.Age.isnull()][['Age','Sex','Pclass']]"
      ],
      "execution_count": 37,
      "outputs": [
        {
          "output_type": "execute_result",
          "data": {
            "text/html": [
              "<div>\n",
              "<style scoped>\n",
              "    .dataframe tbody tr th:only-of-type {\n",
              "        vertical-align: middle;\n",
              "    }\n",
              "\n",
              "    .dataframe tbody tr th {\n",
              "        vertical-align: top;\n",
              "    }\n",
              "\n",
              "    .dataframe thead th {\n",
              "        text-align: right;\n",
              "    }\n",
              "</style>\n",
              "<table border=\"1\" class=\"dataframe\">\n",
              "  <thead>\n",
              "    <tr style=\"text-align: right;\">\n",
              "      <th></th>\n",
              "      <th>Age</th>\n",
              "      <th>Sex</th>\n",
              "      <th>Pclass</th>\n",
              "    </tr>\n",
              "  </thead>\n",
              "  <tbody>\n",
              "    <tr>\n",
              "      <th>5</th>\n",
              "      <td>NaN</td>\n",
              "      <td>male</td>\n",
              "      <td>3</td>\n",
              "    </tr>\n",
              "    <tr>\n",
              "      <th>17</th>\n",
              "      <td>NaN</td>\n",
              "      <td>male</td>\n",
              "      <td>2</td>\n",
              "    </tr>\n",
              "    <tr>\n",
              "      <th>19</th>\n",
              "      <td>NaN</td>\n",
              "      <td>female</td>\n",
              "      <td>3</td>\n",
              "    </tr>\n",
              "    <tr>\n",
              "      <th>26</th>\n",
              "      <td>NaN</td>\n",
              "      <td>male</td>\n",
              "      <td>3</td>\n",
              "    </tr>\n",
              "    <tr>\n",
              "      <th>28</th>\n",
              "      <td>NaN</td>\n",
              "      <td>female</td>\n",
              "      <td>3</td>\n",
              "    </tr>\n",
              "    <tr>\n",
              "      <th>29</th>\n",
              "      <td>NaN</td>\n",
              "      <td>male</td>\n",
              "      <td>3</td>\n",
              "    </tr>\n",
              "    <tr>\n",
              "      <th>31</th>\n",
              "      <td>NaN</td>\n",
              "      <td>female</td>\n",
              "      <td>1</td>\n",
              "    </tr>\n",
              "    <tr>\n",
              "      <th>32</th>\n",
              "      <td>NaN</td>\n",
              "      <td>female</td>\n",
              "      <td>3</td>\n",
              "    </tr>\n",
              "    <tr>\n",
              "      <th>36</th>\n",
              "      <td>NaN</td>\n",
              "      <td>male</td>\n",
              "      <td>3</td>\n",
              "    </tr>\n",
              "    <tr>\n",
              "      <th>42</th>\n",
              "      <td>NaN</td>\n",
              "      <td>male</td>\n",
              "      <td>3</td>\n",
              "    </tr>\n",
              "    <tr>\n",
              "      <th>45</th>\n",
              "      <td>NaN</td>\n",
              "      <td>male</td>\n",
              "      <td>3</td>\n",
              "    </tr>\n",
              "    <tr>\n",
              "      <th>46</th>\n",
              "      <td>NaN</td>\n",
              "      <td>male</td>\n",
              "      <td>3</td>\n",
              "    </tr>\n",
              "    <tr>\n",
              "      <th>47</th>\n",
              "      <td>NaN</td>\n",
              "      <td>female</td>\n",
              "      <td>3</td>\n",
              "    </tr>\n",
              "    <tr>\n",
              "      <th>48</th>\n",
              "      <td>NaN</td>\n",
              "      <td>male</td>\n",
              "      <td>3</td>\n",
              "    </tr>\n",
              "    <tr>\n",
              "      <th>55</th>\n",
              "      <td>NaN</td>\n",
              "      <td>male</td>\n",
              "      <td>1</td>\n",
              "    </tr>\n",
              "    <tr>\n",
              "      <th>64</th>\n",
              "      <td>NaN</td>\n",
              "      <td>male</td>\n",
              "      <td>1</td>\n",
              "    </tr>\n",
              "    <tr>\n",
              "      <th>65</th>\n",
              "      <td>NaN</td>\n",
              "      <td>male</td>\n",
              "      <td>3</td>\n",
              "    </tr>\n",
              "    <tr>\n",
              "      <th>76</th>\n",
              "      <td>NaN</td>\n",
              "      <td>male</td>\n",
              "      <td>3</td>\n",
              "    </tr>\n",
              "    <tr>\n",
              "      <th>77</th>\n",
              "      <td>NaN</td>\n",
              "      <td>male</td>\n",
              "      <td>3</td>\n",
              "    </tr>\n",
              "    <tr>\n",
              "      <th>82</th>\n",
              "      <td>NaN</td>\n",
              "      <td>female</td>\n",
              "      <td>3</td>\n",
              "    </tr>\n",
              "    <tr>\n",
              "      <th>87</th>\n",
              "      <td>NaN</td>\n",
              "      <td>male</td>\n",
              "      <td>3</td>\n",
              "    </tr>\n",
              "    <tr>\n",
              "      <th>95</th>\n",
              "      <td>NaN</td>\n",
              "      <td>male</td>\n",
              "      <td>3</td>\n",
              "    </tr>\n",
              "    <tr>\n",
              "      <th>101</th>\n",
              "      <td>NaN</td>\n",
              "      <td>male</td>\n",
              "      <td>3</td>\n",
              "    </tr>\n",
              "    <tr>\n",
              "      <th>107</th>\n",
              "      <td>NaN</td>\n",
              "      <td>male</td>\n",
              "      <td>3</td>\n",
              "    </tr>\n",
              "    <tr>\n",
              "      <th>109</th>\n",
              "      <td>NaN</td>\n",
              "      <td>female</td>\n",
              "      <td>3</td>\n",
              "    </tr>\n",
              "    <tr>\n",
              "      <th>121</th>\n",
              "      <td>NaN</td>\n",
              "      <td>male</td>\n",
              "      <td>3</td>\n",
              "    </tr>\n",
              "    <tr>\n",
              "      <th>126</th>\n",
              "      <td>NaN</td>\n",
              "      <td>male</td>\n",
              "      <td>3</td>\n",
              "    </tr>\n",
              "    <tr>\n",
              "      <th>128</th>\n",
              "      <td>NaN</td>\n",
              "      <td>female</td>\n",
              "      <td>3</td>\n",
              "    </tr>\n",
              "    <tr>\n",
              "      <th>140</th>\n",
              "      <td>NaN</td>\n",
              "      <td>female</td>\n",
              "      <td>3</td>\n",
              "    </tr>\n",
              "    <tr>\n",
              "      <th>154</th>\n",
              "      <td>NaN</td>\n",
              "      <td>male</td>\n",
              "      <td>3</td>\n",
              "    </tr>\n",
              "    <tr>\n",
              "      <th>...</th>\n",
              "      <td>...</td>\n",
              "      <td>...</td>\n",
              "      <td>...</td>\n",
              "    </tr>\n",
              "    <tr>\n",
              "      <th>718</th>\n",
              "      <td>NaN</td>\n",
              "      <td>male</td>\n",
              "      <td>3</td>\n",
              "    </tr>\n",
              "    <tr>\n",
              "      <th>727</th>\n",
              "      <td>NaN</td>\n",
              "      <td>female</td>\n",
              "      <td>3</td>\n",
              "    </tr>\n",
              "    <tr>\n",
              "      <th>732</th>\n",
              "      <td>NaN</td>\n",
              "      <td>male</td>\n",
              "      <td>2</td>\n",
              "    </tr>\n",
              "    <tr>\n",
              "      <th>738</th>\n",
              "      <td>NaN</td>\n",
              "      <td>male</td>\n",
              "      <td>3</td>\n",
              "    </tr>\n",
              "    <tr>\n",
              "      <th>739</th>\n",
              "      <td>NaN</td>\n",
              "      <td>male</td>\n",
              "      <td>3</td>\n",
              "    </tr>\n",
              "    <tr>\n",
              "      <th>740</th>\n",
              "      <td>NaN</td>\n",
              "      <td>male</td>\n",
              "      <td>1</td>\n",
              "    </tr>\n",
              "    <tr>\n",
              "      <th>760</th>\n",
              "      <td>NaN</td>\n",
              "      <td>male</td>\n",
              "      <td>3</td>\n",
              "    </tr>\n",
              "    <tr>\n",
              "      <th>766</th>\n",
              "      <td>NaN</td>\n",
              "      <td>male</td>\n",
              "      <td>1</td>\n",
              "    </tr>\n",
              "    <tr>\n",
              "      <th>768</th>\n",
              "      <td>NaN</td>\n",
              "      <td>male</td>\n",
              "      <td>3</td>\n",
              "    </tr>\n",
              "    <tr>\n",
              "      <th>773</th>\n",
              "      <td>NaN</td>\n",
              "      <td>male</td>\n",
              "      <td>3</td>\n",
              "    </tr>\n",
              "    <tr>\n",
              "      <th>776</th>\n",
              "      <td>NaN</td>\n",
              "      <td>male</td>\n",
              "      <td>3</td>\n",
              "    </tr>\n",
              "    <tr>\n",
              "      <th>778</th>\n",
              "      <td>NaN</td>\n",
              "      <td>male</td>\n",
              "      <td>3</td>\n",
              "    </tr>\n",
              "    <tr>\n",
              "      <th>783</th>\n",
              "      <td>NaN</td>\n",
              "      <td>male</td>\n",
              "      <td>3</td>\n",
              "    </tr>\n",
              "    <tr>\n",
              "      <th>790</th>\n",
              "      <td>NaN</td>\n",
              "      <td>male</td>\n",
              "      <td>3</td>\n",
              "    </tr>\n",
              "    <tr>\n",
              "      <th>792</th>\n",
              "      <td>NaN</td>\n",
              "      <td>female</td>\n",
              "      <td>3</td>\n",
              "    </tr>\n",
              "    <tr>\n",
              "      <th>793</th>\n",
              "      <td>NaN</td>\n",
              "      <td>male</td>\n",
              "      <td>1</td>\n",
              "    </tr>\n",
              "    <tr>\n",
              "      <th>815</th>\n",
              "      <td>NaN</td>\n",
              "      <td>male</td>\n",
              "      <td>1</td>\n",
              "    </tr>\n",
              "    <tr>\n",
              "      <th>825</th>\n",
              "      <td>NaN</td>\n",
              "      <td>male</td>\n",
              "      <td>3</td>\n",
              "    </tr>\n",
              "    <tr>\n",
              "      <th>826</th>\n",
              "      <td>NaN</td>\n",
              "      <td>male</td>\n",
              "      <td>3</td>\n",
              "    </tr>\n",
              "    <tr>\n",
              "      <th>828</th>\n",
              "      <td>NaN</td>\n",
              "      <td>male</td>\n",
              "      <td>3</td>\n",
              "    </tr>\n",
              "    <tr>\n",
              "      <th>832</th>\n",
              "      <td>NaN</td>\n",
              "      <td>male</td>\n",
              "      <td>3</td>\n",
              "    </tr>\n",
              "    <tr>\n",
              "      <th>837</th>\n",
              "      <td>NaN</td>\n",
              "      <td>male</td>\n",
              "      <td>3</td>\n",
              "    </tr>\n",
              "    <tr>\n",
              "      <th>839</th>\n",
              "      <td>NaN</td>\n",
              "      <td>male</td>\n",
              "      <td>1</td>\n",
              "    </tr>\n",
              "    <tr>\n",
              "      <th>846</th>\n",
              "      <td>NaN</td>\n",
              "      <td>male</td>\n",
              "      <td>3</td>\n",
              "    </tr>\n",
              "    <tr>\n",
              "      <th>849</th>\n",
              "      <td>NaN</td>\n",
              "      <td>female</td>\n",
              "      <td>1</td>\n",
              "    </tr>\n",
              "    <tr>\n",
              "      <th>859</th>\n",
              "      <td>NaN</td>\n",
              "      <td>male</td>\n",
              "      <td>3</td>\n",
              "    </tr>\n",
              "    <tr>\n",
              "      <th>863</th>\n",
              "      <td>NaN</td>\n",
              "      <td>female</td>\n",
              "      <td>3</td>\n",
              "    </tr>\n",
              "    <tr>\n",
              "      <th>868</th>\n",
              "      <td>NaN</td>\n",
              "      <td>male</td>\n",
              "      <td>3</td>\n",
              "    </tr>\n",
              "    <tr>\n",
              "      <th>878</th>\n",
              "      <td>NaN</td>\n",
              "      <td>male</td>\n",
              "      <td>3</td>\n",
              "    </tr>\n",
              "    <tr>\n",
              "      <th>888</th>\n",
              "      <td>NaN</td>\n",
              "      <td>female</td>\n",
              "      <td>3</td>\n",
              "    </tr>\n",
              "  </tbody>\n",
              "</table>\n",
              "<p>177 rows × 3 columns</p>\n",
              "</div>"
            ],
            "text/plain": [
              "     Age     Sex  Pclass\n",
              "5    NaN    male       3\n",
              "17   NaN    male       2\n",
              "19   NaN  female       3\n",
              "26   NaN    male       3\n",
              "28   NaN  female       3\n",
              "29   NaN    male       3\n",
              "31   NaN  female       1\n",
              "32   NaN  female       3\n",
              "36   NaN    male       3\n",
              "42   NaN    male       3\n",
              "45   NaN    male       3\n",
              "46   NaN    male       3\n",
              "47   NaN  female       3\n",
              "48   NaN    male       3\n",
              "55   NaN    male       1\n",
              "64   NaN    male       1\n",
              "65   NaN    male       3\n",
              "76   NaN    male       3\n",
              "77   NaN    male       3\n",
              "82   NaN  female       3\n",
              "87   NaN    male       3\n",
              "95   NaN    male       3\n",
              "101  NaN    male       3\n",
              "107  NaN    male       3\n",
              "109  NaN  female       3\n",
              "121  NaN    male       3\n",
              "126  NaN    male       3\n",
              "128  NaN  female       3\n",
              "140  NaN  female       3\n",
              "154  NaN    male       3\n",
              "..   ...     ...     ...\n",
              "718  NaN    male       3\n",
              "727  NaN  female       3\n",
              "732  NaN    male       2\n",
              "738  NaN    male       3\n",
              "739  NaN    male       3\n",
              "740  NaN    male       1\n",
              "760  NaN    male       3\n",
              "766  NaN    male       1\n",
              "768  NaN    male       3\n",
              "773  NaN    male       3\n",
              "776  NaN    male       3\n",
              "778  NaN    male       3\n",
              "783  NaN    male       3\n",
              "790  NaN    male       3\n",
              "792  NaN  female       3\n",
              "793  NaN    male       1\n",
              "815  NaN    male       1\n",
              "825  NaN    male       3\n",
              "826  NaN    male       3\n",
              "828  NaN    male       3\n",
              "832  NaN    male       3\n",
              "837  NaN    male       3\n",
              "839  NaN    male       1\n",
              "846  NaN    male       3\n",
              "849  NaN  female       1\n",
              "859  NaN    male       3\n",
              "863  NaN  female       3\n",
              "868  NaN    male       3\n",
              "878  NaN    male       3\n",
              "888  NaN  female       3\n",
              "\n",
              "[177 rows x 3 columns]"
            ]
          },
          "metadata": {
            "tags": []
          },
          "execution_count": 37
        }
      ]
    },
    {
      "metadata": {
        "id": "K5k_EYgeLfhW",
        "colab_type": "text"
      },
      "cell_type": "markdown",
      "source": [
        "Going back to our example with the number of shoes, how would we identify all the female sophmores who sleep more than 9 hours a day?"
      ]
    },
    {
      "metadata": {
        "id": "EVe-D_mvLfhX",
        "colab_type": "code",
        "colab": {
          "base_uri": "https://localhost:8080/",
          "height": 392
        },
        "outputId": "d72e9a08-241f-4715-9e69-2da42f3128c7"
      },
      "cell_type": "code",
      "source": [
        "st[st.sleep > 9]"
      ],
      "execution_count": 38,
      "outputs": [
        {
          "output_type": "execute_result",
          "data": {
            "text/html": [
              "<div>\n",
              "<style scoped>\n",
              "    .dataframe tbody tr th:only-of-type {\n",
              "        vertical-align: middle;\n",
              "    }\n",
              "\n",
              "    .dataframe tbody tr th {\n",
              "        vertical-align: top;\n",
              "    }\n",
              "\n",
              "    .dataframe thead th {\n",
              "        text-align: right;\n",
              "    }\n",
              "</style>\n",
              "<table border=\"1\" class=\"dataframe\">\n",
              "  <thead>\n",
              "    <tr style=\"text-align: right;\">\n",
              "      <th></th>\n",
              "      <th>gender</th>\n",
              "      <th>height</th>\n",
              "      <th>weight</th>\n",
              "      <th>shoeSize</th>\n",
              "      <th>shoeNums</th>\n",
              "      <th>schoolYear</th>\n",
              "      <th>pets</th>\n",
              "      <th>siblings</th>\n",
              "      <th>speed</th>\n",
              "      <th>cash</th>\n",
              "      <th>sleep</th>\n",
              "      <th>ageMother</th>\n",
              "      <th>ageFather</th>\n",
              "      <th>random</th>\n",
              "      <th>love</th>\n",
              "      <th>charity</th>\n",
              "    </tr>\n",
              "  </thead>\n",
              "  <tbody>\n",
              "    <tr>\n",
              "      <th>81</th>\n",
              "      <td>female</td>\n",
              "      <td>68</td>\n",
              "      <td>135</td>\n",
              "      <td>8.5</td>\n",
              "      <td>16</td>\n",
              "      <td>Sophomore</td>\n",
              "      <td>0</td>\n",
              "      <td>1</td>\n",
              "      <td>80</td>\n",
              "      <td>8</td>\n",
              "      <td>9.5</td>\n",
              "      <td>50</td>\n",
              "      <td>47</td>\n",
              "      <td>1</td>\n",
              "      <td>one</td>\n",
              "      <td>50</td>\n",
              "    </tr>\n",
              "    <tr>\n",
              "      <th>96</th>\n",
              "      <td>male</td>\n",
              "      <td>70</td>\n",
              "      <td>195</td>\n",
              "      <td>11.0</td>\n",
              "      <td>7</td>\n",
              "      <td>Sophomore</td>\n",
              "      <td>0</td>\n",
              "      <td>1</td>\n",
              "      <td>110</td>\n",
              "      <td>35</td>\n",
              "      <td>10.0</td>\n",
              "      <td>45</td>\n",
              "      <td>45</td>\n",
              "      <td>7</td>\n",
              "      <td>few</td>\n",
              "      <td>50</td>\n",
              "    </tr>\n",
              "    <tr>\n",
              "      <th>135</th>\n",
              "      <td>female</td>\n",
              "      <td>62</td>\n",
              "      <td>150</td>\n",
              "      <td>9.0</td>\n",
              "      <td>9</td>\n",
              "      <td>Sophomore</td>\n",
              "      <td>0</td>\n",
              "      <td>3</td>\n",
              "      <td>50</td>\n",
              "      <td>30</td>\n",
              "      <td>10.0</td>\n",
              "      <td>43</td>\n",
              "      <td>52</td>\n",
              "      <td>3</td>\n",
              "      <td>few</td>\n",
              "      <td>75</td>\n",
              "    </tr>\n",
              "    <tr>\n",
              "      <th>148</th>\n",
              "      <td>female</td>\n",
              "      <td>67</td>\n",
              "      <td>135</td>\n",
              "      <td>7.5</td>\n",
              "      <td>25</td>\n",
              "      <td>Freshman</td>\n",
              "      <td>6</td>\n",
              "      <td>2</td>\n",
              "      <td>95</td>\n",
              "      <td>20</td>\n",
              "      <td>10.0</td>\n",
              "      <td>50</td>\n",
              "      <td>51</td>\n",
              "      <td>2</td>\n",
              "      <td>few</td>\n",
              "      <td>100</td>\n",
              "    </tr>\n",
              "    <tr>\n",
              "      <th>233</th>\n",
              "      <td>female</td>\n",
              "      <td>63</td>\n",
              "      <td>118</td>\n",
              "      <td>6.5</td>\n",
              "      <td>20</td>\n",
              "      <td>Sophomore</td>\n",
              "      <td>2</td>\n",
              "      <td>2</td>\n",
              "      <td>85</td>\n",
              "      <td>0</td>\n",
              "      <td>10.0</td>\n",
              "      <td>49</td>\n",
              "      <td>51</td>\n",
              "      <td>8</td>\n",
              "      <td>one</td>\n",
              "      <td>98</td>\n",
              "    </tr>\n",
              "    <tr>\n",
              "      <th>326</th>\n",
              "      <td>female</td>\n",
              "      <td>65</td>\n",
              "      <td>110</td>\n",
              "      <td>7.5</td>\n",
              "      <td>4</td>\n",
              "      <td>Sophomore</td>\n",
              "      <td>1</td>\n",
              "      <td>7</td>\n",
              "      <td>62</td>\n",
              "      <td>200</td>\n",
              "      <td>9.5</td>\n",
              "      <td>40</td>\n",
              "      <td>50</td>\n",
              "      <td>7</td>\n",
              "      <td>one</td>\n",
              "      <td>50</td>\n",
              "    </tr>\n",
              "    <tr>\n",
              "      <th>345</th>\n",
              "      <td>female</td>\n",
              "      <td>65</td>\n",
              "      <td>145</td>\n",
              "      <td>7.5</td>\n",
              "      <td>20</td>\n",
              "      <td>Sophomore</td>\n",
              "      <td>1</td>\n",
              "      <td>1</td>\n",
              "      <td>85</td>\n",
              "      <td>20</td>\n",
              "      <td>10.0</td>\n",
              "      <td>50</td>\n",
              "      <td>53</td>\n",
              "      <td>9</td>\n",
              "      <td>few</td>\n",
              "      <td>50</td>\n",
              "    </tr>\n",
              "    <tr>\n",
              "      <th>406</th>\n",
              "      <td>male</td>\n",
              "      <td>70</td>\n",
              "      <td>162</td>\n",
              "      <td>10.5</td>\n",
              "      <td>10</td>\n",
              "      <td>Sophomore</td>\n",
              "      <td>1</td>\n",
              "      <td>3</td>\n",
              "      <td>103</td>\n",
              "      <td>20</td>\n",
              "      <td>9.5</td>\n",
              "      <td>51</td>\n",
              "      <td>55</td>\n",
              "      <td>7</td>\n",
              "      <td>dozens</td>\n",
              "      <td>10</td>\n",
              "    </tr>\n",
              "    <tr>\n",
              "      <th>501</th>\n",
              "      <td>male</td>\n",
              "      <td>71</td>\n",
              "      <td>175</td>\n",
              "      <td>10.0</td>\n",
              "      <td>2</td>\n",
              "      <td>Sophomore</td>\n",
              "      <td>3</td>\n",
              "      <td>3</td>\n",
              "      <td>97</td>\n",
              "      <td>9</td>\n",
              "      <td>9.5</td>\n",
              "      <td>52</td>\n",
              "      <td>53</td>\n",
              "      <td>2</td>\n",
              "      <td>dozens</td>\n",
              "      <td>50</td>\n",
              "    </tr>\n",
              "    <tr>\n",
              "      <th>796</th>\n",
              "      <td>female</td>\n",
              "      <td>66</td>\n",
              "      <td>143</td>\n",
              "      <td>9.0</td>\n",
              "      <td>9</td>\n",
              "      <td>Senior</td>\n",
              "      <td>1</td>\n",
              "      <td>0</td>\n",
              "      <td>80</td>\n",
              "      <td>50</td>\n",
              "      <td>9.5</td>\n",
              "      <td>57</td>\n",
              "      <td>58</td>\n",
              "      <td>3</td>\n",
              "      <td>few</td>\n",
              "      <td>20</td>\n",
              "    </tr>\n",
              "    <tr>\n",
              "      <th>960</th>\n",
              "      <td>male</td>\n",
              "      <td>69</td>\n",
              "      <td>150</td>\n",
              "      <td>9.0</td>\n",
              "      <td>3</td>\n",
              "      <td>Junior</td>\n",
              "      <td>0</td>\n",
              "      <td>1</td>\n",
              "      <td>88</td>\n",
              "      <td>90</td>\n",
              "      <td>9.5</td>\n",
              "      <td>49</td>\n",
              "      <td>50</td>\n",
              "      <td>5</td>\n",
              "      <td>few</td>\n",
              "      <td>50</td>\n",
              "    </tr>\n",
              "    <tr>\n",
              "      <th>963</th>\n",
              "      <td>male</td>\n",
              "      <td>67</td>\n",
              "      <td>112</td>\n",
              "      <td>9.0</td>\n",
              "      <td>2</td>\n",
              "      <td>Freshman</td>\n",
              "      <td>2</td>\n",
              "      <td>3</td>\n",
              "      <td>112</td>\n",
              "      <td>0</td>\n",
              "      <td>10.0</td>\n",
              "      <td>48</td>\n",
              "      <td>48</td>\n",
              "      <td>4</td>\n",
              "      <td>dozens</td>\n",
              "      <td>100</td>\n",
              "    </tr>\n",
              "  </tbody>\n",
              "</table>\n",
              "</div>"
            ],
            "text/plain": [
              "     gender  height  weight  shoeSize  shoeNums schoolYear  pets  siblings  \\\n",
              "81   female      68     135       8.5        16  Sophomore     0         1   \n",
              "96     male      70     195      11.0         7  Sophomore     0         1   \n",
              "135  female      62     150       9.0         9  Sophomore     0         3   \n",
              "148  female      67     135       7.5        25   Freshman     6         2   \n",
              "233  female      63     118       6.5        20  Sophomore     2         2   \n",
              "326  female      65     110       7.5         4  Sophomore     1         7   \n",
              "345  female      65     145       7.5        20  Sophomore     1         1   \n",
              "406    male      70     162      10.5        10  Sophomore     1         3   \n",
              "501    male      71     175      10.0         2  Sophomore     3         3   \n",
              "796  female      66     143       9.0         9     Senior     1         0   \n",
              "960    male      69     150       9.0         3     Junior     0         1   \n",
              "963    male      67     112       9.0         2   Freshman     2         3   \n",
              "\n",
              "     speed  cash  sleep  ageMother  ageFather  random    love  charity  \n",
              "81      80     8    9.5         50         47       1     one       50  \n",
              "96     110    35   10.0         45         45       7     few       50  \n",
              "135     50    30   10.0         43         52       3     few       75  \n",
              "148     95    20   10.0         50         51       2     few      100  \n",
              "233     85     0   10.0         49         51       8     one       98  \n",
              "326     62   200    9.5         40         50       7     one       50  \n",
              "345     85    20   10.0         50         53       9     few       50  \n",
              "406    103    20    9.5         51         55       7  dozens       10  \n",
              "501     97     9    9.5         52         53       2  dozens       50  \n",
              "796     80    50    9.5         57         58       3     few       20  \n",
              "960     88    90    9.5         49         50       5     few       50  \n",
              "963    112     0   10.0         48         48       4  dozens      100  "
            ]
          },
          "metadata": {
            "tags": []
          },
          "execution_count": 38
        }
      ]
    },
    {
      "metadata": {
        "id": "Mo_cv_zlLfhY",
        "colab_type": "text"
      },
      "cell_type": "markdown",
      "source": [
        "***"
      ]
    },
    {
      "metadata": {
        "id": "8bDFauYnLfhZ",
        "colab_type": "text"
      },
      "cell_type": "markdown",
      "source": [
        "# Data Visualization"
      ]
    },
    {
      "metadata": {
        "id": "Ncm3CQozLfha",
        "colab_type": "text"
      },
      "cell_type": "markdown",
      "source": [
        "\"A fundamental part of the data scientist’s toolkit is data visualization. Although it is\n",
        "very easy to create visualizations, it’s much harder to produce good ones.\n",
        "There are two primary uses for data visualization:\n",
        "* To explore data\n",
        "* To communicate data\"\n",
        "\n",
        "-Joel Grus, Data Science from Scratch"
      ]
    },
    {
      "metadata": {
        "id": "QooLVP_mLfha",
        "colab_type": "code",
        "colab": {
          "base_uri": "https://localhost:8080/",
          "height": 321
        },
        "outputId": "f229759a-b27b-4d5b-fd31-970ca8260a9e"
      },
      "cell_type": "code",
      "source": [
        "from IPython.display import YouTubeVideo\n",
        "YouTubeVideo('5Zg-C8AAIGg', start=18) "
      ],
      "execution_count": 39,
      "outputs": [
        {
          "output_type": "execute_result",
          "data": {
            "text/html": [
              "\n",
              "        <iframe\n",
              "            width=\"400\"\n",
              "            height=\"300\"\n",
              "            src=\"https://www.youtube.com/embed/5Zg-C8AAIGg?start=18\"\n",
              "            frameborder=\"0\"\n",
              "            allowfullscreen\n",
              "        ></iframe>\n",
              "        "
            ],
            "text/plain": [
              "<IPython.lib.display.YouTubeVideo at 0x7f76138f55f8>"
            ],
            "image/jpeg": "[encoded data removed]"
          },
          "metadata": {
            "tags": []
          },
          "execution_count": 39
        }
      ]
    },
    {
      "metadata": {
        "id": "YP0OdS12Lfhc",
        "colab_type": "text"
      },
      "cell_type": "markdown",
      "source": [
        "There are many tools that we can use to visualize data, however one of the most widely used tools is the [matplotlib](http://matplotlib.org/) library. While other libraries such as [d3.js](https://d3js.org/) are more commonly used for web visualizations, the matplotlib.pyplot module does an excellent job at quickly producing bar charts, line charts, and scatterplots in Python.\n",
        "\n",
        "To begin, we will first import the pyplot module from matplotlib."
      ]
    },
    {
      "metadata": {
        "id": "h_9i06MnLfhc",
        "colab_type": "code",
        "colab": {}
      },
      "cell_type": "code",
      "source": [
        "%matplotlib inline\n",
        "\n",
        "import matplotlib\n",
        "import matplotlib.pyplot as plt\n"
      ],
      "execution_count": 0,
      "outputs": []
    },
    {
      "metadata": {
        "id": "rNyRe8MvLfhe",
        "colab_type": "text"
      },
      "cell_type": "markdown",
      "source": [
        "## Bar Charts"
      ]
    },
    {
      "metadata": {
        "id": "7eS3JB9yLfhf",
        "colab_type": "text"
      },
      "cell_type": "markdown",
      "source": [
        "A bar chart can be a very helpful, simple visualization when you need to illustrate quantities of a discrete set of items. With matplotlib, we can take two lists, labels and heights, and easily create a bar chart.\n",
        "\n",
        "We can use the plt.bar() method to create bargraphs. This function takes in a list of xcoordinates to start each bar, and a list of corresponding heights for each bar."
      ]
    },
    {
      "metadata": {
        "id": "k-Zj3RMILfhf",
        "colab_type": "text"
      },
      "cell_type": "markdown",
      "source": [
        "The following is an example of how we could create a simple bargraph to visualize the number of academy awards won by movies."
      ]
    },
    {
      "metadata": {
        "id": "48OPZJnrLfhf",
        "colab_type": "code",
        "colab": {
          "base_uri": "https://localhost:8080/",
          "height": 311
        },
        "outputId": "ab2f3779-7f40-4ec3-e9c2-0dc714bcf656"
      },
      "cell_type": "code",
      "source": [
        "# These are movies we wish to plot, as well as the number of awards won\n",
        "movies = [\"Annie Hall\", \"Ben-Hur\", \"Casablanca\", \"Gandhi\", \"West Side Story\"]\n",
        "num_oscars = [5, 11, 3, 8, 10]\n",
        "\n",
        "'''\n",
        "Bars start from xcoordinate 0 by default, so to make the graph look nicer, we can add\n",
        "0.1 to each bar xcoordinate to shift them a bit to the right.\n",
        "\n",
        "One way to do this is to use a list comprehension along with a range from 0 to the length\n",
        "of movies, and yield a list of each index + 0.1.\n",
        "'''\n",
        "xcoords = [i+0.1  for i in range(0, len(movies))]\n",
        "print(xcoords)\n",
        "\n",
        "# plot bars with left x-coordinates [xcoords], heights [num_oscars]\n",
        "plt.bar(xcoords, num_oscars)\n",
        "\n",
        "# We can add titles and x/y labels by using the following plt methods\n",
        "plt.xlabel('Movies')\n",
        "plt.ylabel(\"# of Academy Awards\")\n",
        "plt.title(\"My Favorite Movies\")\n",
        "\n",
        "# To add a label for each bar, we can use .xticks with a list of xcoordinates and strings\n",
        "# We move over the xcoordinates by 0.5 this time just to properly center them\n",
        "plt.xticks([i + 0.5 for i in range(0, len(movies))], movies)\n",
        "\n",
        "# Finally, we can display the graph with plt.show()\n",
        "plt.show()"
      ],
      "execution_count": 41,
      "outputs": [
        {
          "output_type": "stream",
          "text": [
            "[0.1, 1.1, 2.1, 3.1, 4.1]\n"
          ],
          "name": "stdout"
        },
        {
          "output_type": "display_data",
          "data": {
            "image/png": "[encoded data removed]",
            "text/plain": [
              "<matplotlib.figure.Figure at 0x7f76138fa9b0>"
            ]
          },
          "metadata": {
            "tags": []
          }
        }
      ]
    },
    {
      "metadata": {
        "id": "js27Hjt1Lfhj",
        "colab_type": "text"
      },
      "cell_type": "markdown",
      "source": [
        "Bargraphs are also great for creating histograms, graphs in which the y-axis illustrates frequency of the x-axis' values. \n",
        "\n",
        "Below is an example of how to create a histogram for exam distributions. In this example, we use a few other parameters in our plot. When we call plt.bar(), we pass in a bar width parameter, and we also call plt.axis() to change the range of x and y-coordinates shown."
      ]
    },
    {
      "metadata": {
        "id": "KnXuPm-xLfhk",
        "colab_type": "code",
        "colab": {
          "base_uri": "https://localhost:8080/",
          "height": 327
        },
        "outputId": "eb98a384-bb64-4c32-b00c-33f93c7ba209"
      },
      "cell_type": "code",
      "source": [
        "# Dictionary like structure which countains a count of the frequency of something\n",
        "from collections import Counter\n",
        "\n",
        "grades = [83,95,91,87,70,0,85,82,100,67,73,77,0]\n",
        "\n",
        "# The lambda keyword creates quick functions\n",
        "# dec is a function which takes input grade and rounds it to the lowest nearest multiple of 10 \n",
        "dec = lambda grade: (grade // 10) * 10\n",
        "\n",
        "# This creates a dictionary of the frequency count of grades in each percentage range by 10's\n",
        "histogram = Counter(dec(grade) for grade in grades)\n",
        "print(histogram.keys())  # Retrieves all the keys\n",
        "print(histogram.values())  # Retrieves frequencies\n",
        "\n",
        "# We now create our graph. Note that we are scooting over the xcoords by 4 to make it look nice\n",
        "plt.bar([x - 4 for x in histogram.keys()],\n",
        "       histogram.values(),\n",
        "       8) # We are passing in a value for the optional bar width parameter\n",
        "\n",
        "# Extends the x-axis to show values from -5-105, and y to show 0-5\n",
        "plt.axis([-5, 105, 0, 5])\n",
        "\n",
        "# Labels each x-axis bar by 10's\n",
        "plt.xticks([10 * i for i in range(11)])\n",
        "\n",
        "# The rest of our labels\n",
        "plt.xlabel(\"Decile\")\n",
        "plt.ylabel(\"# of Students\")\n",
        "plt.title(\"Distribution of Exam Grades\")\n",
        "plt.show()"
      ],
      "execution_count": 42,
      "outputs": [
        {
          "output_type": "stream",
          "text": [
            "dict_keys([80, 90, 70, 0, 100, 60])\n",
            "dict_values([4, 2, 3, 2, 1, 1])\n"
          ],
          "name": "stdout"
        },
        {
          "output_type": "display_data",
          "data": {
            "image/png": "[encoded data removed]",
            "text/plain": [
              "<matplotlib.figure.Figure at 0x7f76138faa20>"
            ]
          },
          "metadata": {
            "tags": []
          }
        }
      ]
    },
    {
      "metadata": {
        "id": "n__y9mfBLfhm",
        "colab_type": "text"
      },
      "cell_type": "markdown",
      "source": [
        "### Line Charts"
      ]
    },
    {
      "metadata": {
        "id": "i3rkRPRILfhn",
        "colab_type": "text"
      },
      "cell_type": "markdown",
      "source": [
        "Line charts can be very useful in illustrating trends, and be very useful for visualizing data. We can use the plt.plot() method in order to create line charts with Matplotlib. \n",
        "\n",
        "Below is an example of a fake stock market chart comparing two companies:"
      ]
    },
    {
      "metadata": {
        "id": "uj_hklC6Lfhn",
        "colab_type": "code",
        "colab": {
          "base_uri": "https://localhost:8080/",
          "height": 311
        },
        "outputId": "82bfd3b2-7fc1-4abc-9b57-1fc806f92a1c"
      },
      "cell_type": "code",
      "source": [
        "# Fake company stock data\n",
        "company1 = [53.0, 52.2, 57.3, 60.0, 62.2, 54.5, 61.1]\n",
        "company2 = [42.0, 43.2, 47.4, 49.0, 55.0, 57.2, 60.0]\n",
        "years = [2010, 2011, 2012, 2013, 2014, 2015, 2016]\n",
        "\n",
        "# The xcoords are the same for both, so we can just grab them for company 1\n",
        "xcoords = [i for i in range(0, len(company1))]\n",
        "print(xcoords)\n",
        "\n",
        "# plt.plot() takes in the xcoodinates, ycoordinates, and an optional color/label name\n",
        "plt.plot(xcoords, company1, 'g-', label='Company 1')\n",
        "plt.plot(xcoords, company2, 'r-', label='Company 2')\n",
        "\n",
        "plt.legend(loc=2) # This enables and determines the location of the graph's legend\n",
        "plt.xlabel(\"Stock Trends\")\n",
        "plt.ylabel('Price ($)')\n",
        "plt.title(\"Stock Trends\")\n",
        "\n",
        "plt.xticks([i for i in range(0, len(years))], years) # Adds the years as labels\n",
        "\n",
        "plt.show()"
      ],
      "execution_count": 43,
      "outputs": [
        {
          "output_type": "stream",
          "text": [
            "[0, 1, 2, 3, 4, 5, 6]\n"
          ],
          "name": "stdout"
        },
        {
          "output_type": "display_data",
          "data": {
            "image/png": "[encoded data removed]",
            "text/plain": [
              "<matplotlib.figure.Figure at 0x7f7610b6b7b8>"
            ]
          },
          "metadata": {
            "tags": []
          }
        }
      ]
    },
    {
      "metadata": {
        "id": "ZPGMnLVjLfhr",
        "colab_type": "text"
      },
      "cell_type": "markdown",
      "source": [
        "### Scatter Plots"
      ]
    },
    {
      "metadata": {
        "id": "iXLRhaUtLfhs",
        "colab_type": "text"
      },
      "cell_type": "markdown",
      "source": [
        "Finally, scatter plots can be useful for illustrating the relationship between two variables. We can use the plt.scatter() function to create scatter plots in matplotlib.\n",
        "\n",
        "Below is an example of a scatter plot showing the relatinoship between number of online friends vs the number of minutes spent on a social media website."
      ]
    },
    {
      "metadata": {
        "id": "t_pg8NDCLfht",
        "colab_type": "code",
        "colab": {
          "base_uri": "https://localhost:8080/",
          "height": 295
        },
        "outputId": "cfd65cd2-2682-4343-831c-eb3d8b883c14"
      },
      "cell_type": "code",
      "source": [
        "friends = [ 70, 65, 72, 63, 71, 64, 60, 64, 67]\n",
        "minutes = [175, 170, 205, 120, 220, 130, 105, 145, 190]\n",
        "labels = ['a', 'b', 'c', 'd', 'e', 'f', 'g', 'h', 'i'] # A list of arbitrary labels for the scatter points\n",
        "\n",
        "# Creates scatter plot\n",
        "plt.scatter(friends, minutes)\n",
        "\n",
        "# label each point. Zipping creates a list of tuples that looks like [('a', 70, 175), ('b', 65, 170)...] etc.\n",
        "for label, friend_count, minute_count in zip(labels, friends, minutes):\n",
        "    plt.annotate(label,\n",
        "    xy=(friend_count, minute_count), # put the label with its point\n",
        "    xytext=(5, -5), # offsets the label by +5x and -5y\n",
        "    textcoords='offset points') # tells matplotlib that the xytext sh\n",
        "\n",
        "    \n",
        "plt.title(\"Daily Minutes vs. Number of Friends\")\n",
        "plt.xlabel(\"# of friends\")\n",
        "plt.ylabel(\"daily minutes spent on the site\")\n",
        "plt.show()"
      ],
      "execution_count": 44,
      "outputs": [
        {
          "output_type": "display_data",
          "data": {
            "image/png": "[encoded data removed]",
            "text/plain": [
              "<matplotlib.figure.Figure at 0x7f761347e940>"
            ]
          },
          "metadata": {
            "tags": []
          }
        }
      ]
    },
    {
      "metadata": {
        "id": "NU3qY9DjLfhv",
        "colab_type": "code",
        "colab": {
          "base_uri": "https://localhost:8080/",
          "height": 295
        },
        "outputId": "367b7f97-6448-4ff4-8079-d5e099abf223"
      },
      "cell_type": "code",
      "source": [
        "test_1_grades = [ 99, 90, 85, 97, 80]\n",
        "test_2_grades = [100, 85, 60, 90, 70]\n",
        "plt.scatter(test_1_grades, test_2_grades)\n",
        "plt.title(\"Axes Aren't Comparable\")\n",
        "plt.xlabel(\"test 1 grade\")\n",
        "plt.ylabel(\"test 2 grade\")\n",
        "plt.show()"
      ],
      "execution_count": 45,
      "outputs": [
        {
          "output_type": "display_data",
          "data": {
            "image/png": "[encoded data removed]",
            "text/plain": [
              "<matplotlib.figure.Figure at 0x7f76139147b8>"
            ]
          },
          "metadata": {
            "tags": []
          }
        }
      ]
    },
    {
      "metadata": {
        "id": "Yj4FF3ULLfhz",
        "colab_type": "text"
      },
      "cell_type": "markdown",
      "source": [
        "***\n",
        "## Using `urllib` to Access Web Data and `BeautifulSoup` to Parse it.\n",
        "\n",
        "`urllib` is a very easy-to-use module to fetch URLs (Uniform Resource Locators). You can use this module to easily read and use web content in your code. We are going to use this module to build an app that gets weather data.\n",
        "\n",
        "`BeautifulSoup` on the other hand is HTML and XML parser. It creates a parse tree from the parsed webpage and can be used to access several tags in the HTML page. This makes it a very useful tool for web-scraping.\n",
        "\n",
        "Let's start by seeing what reading the Python.org homepage through `urllib` looks like. Then we will use `BeautifulSoup` to print all the links present in the webpage!   \n",
        "For more information visit: https://www.crummy.com/software/BeautifulSoup/bs4/doc/"
      ]
    },
    {
      "metadata": {
        "id": "MkguMxNaLfhz",
        "colab_type": "code",
        "colab": {
          "base_uri": "https://localhost:8080/",
          "height": 1122
        },
        "outputId": "3501120c-4dfb-4a7e-de5b-274a7b01c23f"
      },
      "cell_type": "code",
      "source": [
        "import urllib\n",
        "from urllib.request import urlopen\n",
        "from bs4 import BeautifulSoup\n",
        "url = 'http://python.org'\n",
        "response = urlopen(url)\n",
        "html = response.read()\n",
        "\n",
        "#print html\n",
        "# We can use BeautifulSoup to parse the web tree to give us only the web-links instead.\n",
        "soup = BeautifulSoup(html, \"html.parser\") #Create a soup object. Check its class using:  print type(soup)\n",
        "print(type(soup))\n",
        "for link in soup.find_all('a', href=True): #Finding all the tags containing 'a' and its a link\n",
        "    if \"http\" in link['href']:\n",
        "        print(link['href'])"
      ],
      "execution_count": 46,
      "outputs": [
        {
          "output_type": "stream",
          "text": [
            "<class 'bs4.BeautifulSoup'>\n",
            "https://docs.python.org\n",
            "https://pypi.python.org/\n",
            "http://plus.google.com/+Python\n",
            "http://www.facebook.com/pythonlang?fref=ts\n",
            "http://twitter.com/ThePSF\n",
            "http://brochure.getpython.info/\n",
            "https://docs.python.org/3/license.html\n",
            "https://wiki.python.org/moin/BeginnersGuide\n",
            "https://devguide.python.org/\n",
            "https://docs.python.org/faq/\n",
            "http://wiki.python.org/moin/Languages\n",
            "http://python.org/dev/peps/\n",
            "https://wiki.python.org/moin/PythonBooks\n",
            "https://wiki.python.org/moin/\n",
            "https://www.python.org/psf/codeofconduct/\n",
            "http://planetpython.org/\n",
            "http://pyfound.blogspot.com/\n",
            "http://pycon.blogspot.com/\n",
            "https://wiki.python.org/moin/PythonEventsCalendar#Submitting_an_Event\n",
            "http://docs.python.org/3/tutorial/introduction.html#using-python-as-a-calculator\n",
            "https://docs.python.org\n",
            "http://blog.python.org\n",
            "http://feedproxy.google.com/~r/PythonInsider/~3/5EA0ClmtbD8/python-356-and-python-349-are-now.html\n",
            "http://feedproxy.google.com/~r/PythonInsider/~3/RMqgTQsV720/python-3.html\n",
            "http://feedproxy.google.com/~r/PythonInsider/~3/PuHgTVhNAAE/python-370rc1-and-366rc1-now-available.html\n",
            "http://feedproxy.google.com/~r/PythonInsider/~3/rPQiRIs2Qhg/python-370b5-bonus-beta-is-now.html\n",
            "http://feedproxy.google.com/~r/PythonInsider/~3/vo7OgsISIdQ/python-370b4-final-37-beta-now.html\n",
            "http://www.djangoproject.com/\n",
            "http://www.pylonsproject.org/\n",
            "http://bottlepy.org\n",
            "http://tornadoweb.org\n",
            "http://flask.pocoo.org/\n",
            "http://www.web2py.com/\n",
            "http://wiki.python.org/moin/TkInter\n",
            "https://wiki.gnome.org/Projects/PyGObject\n",
            "http://www.riverbankcomputing.co.uk/software/pyqt/intro\n",
            "https://wiki.qt.io/PySide\n",
            "https://kivy.org/\n",
            "http://www.wxpython.org/\n",
            "http://www.scipy.org\n",
            "http://pandas.pydata.org/\n",
            "http://ipython.org\n",
            "http://buildbot.net/\n",
            "http://trac.edgewall.org/\n",
            "http://roundup.sourceforge.net/\n",
            "http://www.ansible.com\n",
            "http://www.saltstack.com\n",
            "https://www.openstack.org\n",
            "http://brochure.getpython.info/\n",
            "https://docs.python.org/3/license.html\n",
            "https://wiki.python.org/moin/BeginnersGuide\n",
            "https://devguide.python.org/\n",
            "https://docs.python.org/faq/\n",
            "http://wiki.python.org/moin/Languages\n",
            "http://python.org/dev/peps/\n",
            "https://wiki.python.org/moin/PythonBooks\n",
            "https://wiki.python.org/moin/\n",
            "https://www.python.org/psf/codeofconduct/\n",
            "http://planetpython.org/\n",
            "http://pyfound.blogspot.com/\n",
            "http://pycon.blogspot.com/\n",
            "https://wiki.python.org/moin/PythonEventsCalendar#Submitting_an_Event\n",
            "https://devguide.python.org/\n",
            "https://bugs.python.org/\n",
            "https://mail.python.org/mailman/listinfo/python-dev\n",
            "https://github.com/python/pythondotorg/issues\n",
            "https://status.python.org/\n"
          ],
          "name": "stdout"
        }
      ]
    },
    {
      "metadata": {
        "id": "z5f12BRyLfh3",
        "colab_type": "text"
      },
      "cell_type": "markdown",
      "source": [
        "This prints out the complete source HTML of the website. We have this data stored as a regular string in the html variable, and we can now do whatever we want with it."
      ]
    },
    {
      "metadata": {
        "id": "GbiqRMT7Lfh4",
        "colab_type": "text"
      },
      "cell_type": "markdown",
      "source": [
        "### Build a Weather Reporting Program!\n",
        "\n",
        "Let's now use the `urllib` module to build a small program that tells you the city and the current weather when you give it the zip code of a place.\n",
        "For the weather data, we will use the service OpenWeatherMap.org. Copy the URL http://api.openweathermap.org/data/2.5/weather?zip=61820,us&appid=cf7f4e0a615b5f48f4601377a2c98a75 into the address bar in a new tab. The website shows text about the weather information in the area of zipcode 61820 (Champaign). Let's load this information through `urllib`."
      ]
    },
    {
      "metadata": {
        "id": "BI5CdSc2Lfh5",
        "colab_type": "code",
        "colab": {
          "base_uri": "https://localhost:8080/",
          "height": 53
        },
        "outputId": "7ff62bc6-0129-43ac-f6e0-5f6e2710e61a"
      },
      "cell_type": "code",
      "source": [
        "appid = 'cf7f4e0a615b5f48f4601377a2c98a75'\n",
        "zipcode = '61820'\n",
        "url = 'http://api.openweathermap.org/data/2.5/weather?zip={},us&APPID={}'.format(zipcode, appid)\n",
        "response = urlopen(url)\n",
        "weather_html = response.read().decode('utf-8')\n",
        "\n",
        "print(weather_html)"
      ],
      "execution_count": 47,
      "outputs": [
        {
          "output_type": "stream",
          "text": [
            "{\"coord\":{\"lon\":-88.24,\"lat\":40.12},\"weather\":[{\"id\":800,\"main\":\"Clear\",\"description\":\"clear sky\",\"icon\":\"01n\"}],\"base\":\"stations\",\"main\":{\"temp\":285.62,\"pressure\":1022,\"humidity\":83,\"temp_min\":283.75,\"temp_max\":287.15},\"visibility\":16093,\"wind\":{\"speed\":3.1,\"deg\":60},\"clouds\":{\"all\":1},\"dt\":1537667760,\"sys\":{\"type\":1,\"id\":960,\"message\":0.0038,\"country\":\"US\",\"sunrise\":1537702898,\"sunset\":1537746490},\"id\":420012386,\"name\":\"Bloomington\",\"cod\":200}\n"
          ],
          "name": "stdout"
        }
      ]
    },
    {
      "metadata": {
        "id": "xCPnvlMrLfh7",
        "colab_type": "text"
      },
      "cell_type": "markdown",
      "source": [
        "The string that we have received is formatted in JSON, which is very similar to a Python dictionary. Let's parse this JSON data into a Python dictionary, and also pretty print it so that we can understand the structure of the data."
      ]
    },
    {
      "metadata": {
        "id": "6j-0g_5KLfh7",
        "colab_type": "code",
        "colab": {
          "base_uri": "https://localhost:8080/",
          "height": 700
        },
        "outputId": "fecdcb76-7c91-47d4-f221-8294f3a0c434"
      },
      "cell_type": "code",
      "source": [
        "from json import JSONDecoder, dumps\n",
        "\n",
        "decoder = JSONDecoder()\n",
        "weather_data = decoder.decode(weather_html)\n",
        "pretty_weather_data = dumps(weather_data, indent=2, separators=(',', ': '))\n",
        "\n",
        "print(pretty_weather_data)"
      ],
      "execution_count": 48,
      "outputs": [
        {
          "output_type": "stream",
          "text": [
            "{\n",
            "  \"coord\": {\n",
            "    \"lon\": -88.24,\n",
            "    \"lat\": 40.12\n",
            "  },\n",
            "  \"weather\": [\n",
            "    {\n",
            "      \"id\": 800,\n",
            "      \"main\": \"Clear\",\n",
            "      \"description\": \"clear sky\",\n",
            "      \"icon\": \"01n\"\n",
            "    }\n",
            "  ],\n",
            "  \"base\": \"stations\",\n",
            "  \"main\": {\n",
            "    \"temp\": 285.62,\n",
            "    \"pressure\": 1022,\n",
            "    \"humidity\": 83,\n",
            "    \"temp_min\": 283.75,\n",
            "    \"temp_max\": 287.15\n",
            "  },\n",
            "  \"visibility\": 16093,\n",
            "  \"wind\": {\n",
            "    \"speed\": 3.1,\n",
            "    \"deg\": 60\n",
            "  },\n",
            "  \"clouds\": {\n",
            "    \"all\": 1\n",
            "  },\n",
            "  \"dt\": 1537667760,\n",
            "  \"sys\": {\n",
            "    \"type\": 1,\n",
            "    \"id\": 960,\n",
            "    \"message\": 0.0038,\n",
            "    \"country\": \"US\",\n",
            "    \"sunrise\": 1537702898,\n",
            "    \"sunset\": 1537746490\n",
            "  },\n",
            "  \"id\": 420012386,\n",
            "  \"name\": \"Bloomington\",\n",
            "  \"cod\": 200\n",
            "}\n"
          ],
          "name": "stdout"
        }
      ]
    },
    {
      "metadata": {
        "id": "3htlvvVRLfiB",
        "colab_type": "text"
      },
      "cell_type": "markdown",
      "source": [
        "The information we want to build our program is the name field and the temp field which is inside the main sub-dictionary."
      ]
    },
    {
      "metadata": {
        "id": "mUEGSYvGLfiD",
        "colab_type": "code",
        "colab": {
          "base_uri": "https://localhost:8080/",
          "height": 33
        },
        "outputId": "9d16df20-b8ca-40cd-f7e7-5680a2ff34aa"
      },
      "cell_type": "code",
      "source": [
        "city = weather_data['name']\n",
        "\n",
        "temp_kelvin = weather_data['main']['temp']\n",
        "temp_fah = 1.8 * (temp_kelvin - 273.15) + 32\n",
        "\n",
        "print(\"We are in {0} and it is {1} degrees outside!\".format(city, temp_fah))"
      ],
      "execution_count": 49,
      "outputs": [
        {
          "output_type": "stream",
          "text": [
            "We are in Bloomington and it is 54.446000000000055 degrees outside!\n"
          ],
          "name": "stdout"
        }
      ]
    },
    {
      "metadata": {
        "id": "C7nLFIVOLfiH",
        "colab_type": "text"
      },
      "cell_type": "markdown",
      "source": [
        "Let's put all of this into a nice and easy to use function."
      ]
    },
    {
      "metadata": {
        "id": "4oLqzBK4LfiI",
        "colab_type": "code",
        "colab": {}
      },
      "cell_type": "code",
      "source": [
        "def tell_me_weather(zipcode):\n",
        "    # import urllib\n",
        "    appid = 'cf7f4e0a615b5f48f4601377a2c98a75'\n",
        "    url = 'http://api.openweathermap.org/data/2.5/weather?zip={0},us&APPID={1}'.format(zipcode, appid)\n",
        "    response = urlopen(url)\n",
        "    weather_html = response.read().decode('utf-8')\n",
        "    \n",
        "    # from json import JSONDecoder, dumps\n",
        "\n",
        "    decoder = JSONDecoder()\n",
        "    weather_data = decoder.decode(weather_html)\n",
        "    \n",
        "    city = weather_data['name']\n",
        "\n",
        "    temp_kelvin = weather_data['main']['temp']\n",
        "    temp_fah = 1.8 * (temp_kelvin - 273.15) + 32\n",
        "\n",
        "    print(\"You are in {0} and it is {1} degrees outside!\".format(city, temp_fah))"
      ],
      "execution_count": 0,
      "outputs": []
    },
    {
      "metadata": {
        "id": "HlaefXk2LfiK",
        "colab_type": "text"
      },
      "cell_type": "markdown",
      "source": [
        "Now let's use our new tell_me_weather function!"
      ]
    },
    {
      "metadata": {
        "id": "2uFhvYvgLfiK",
        "colab_type": "code",
        "colab": {
          "base_uri": "https://localhost:8080/",
          "height": 66
        },
        "outputId": "378c64a0-1bc8-49b4-c7ee-dc7dbfa43522"
      },
      "cell_type": "code",
      "source": [
        "tell_me_weather(61801)\n",
        "tell_me_weather(60601)\n",
        "tell_me_weather(94102)"
      ],
      "execution_count": 51,
      "outputs": [
        {
          "output_type": "stream",
          "text": [
            "You are in Bloomington and it is 54.320000000000064 degrees outside!\n",
            "You are in Chicago and it is 54.464000000000034 degrees outside!\n",
            "You are in San Francisco and it is 64.67000000000007 degrees outside!\n"
          ],
          "name": "stdout"
        }
      ]
    }
  ]
}