{
  "nbformat": 4,
  "nbformat_minor": 0,
  "metadata": {
    "colab": {
      "name": "week_2_intro_completed.ipynb",
      "version": "0.3.2",
      "provenance": [],
      "collapsed_sections": []
    }
  },
  "cells": [
    {
      "metadata": {
        "id": "9JjEgNOYnf9X",
        "colab_type": "text"
      },
      "cell_type": "markdown",
      "source": [
        "![ADSA Logo](http://i.imgur.com/BV0CdHZ.png?2 \"ADSA Logo\")"
      ]
    },
    {
      "metadata": {
        "id": "ds15bpiNnrTv",
        "colab_type": "text"
      },
      "cell_type": "markdown",
      "source": [
        "# Fall 2018 ADSA Workshop - First Installment"
      ]
    },
    {
      "metadata": {
        "id": "Lugfg08MsU-H",
        "colab_type": "text"
      },
      "cell_type": "markdown",
      "source": [
        "##Workshops to come\n"
      ]
    },
    {
      "metadata": {
        "id": "9fDGfmwbsi7V",
        "colab_type": "text"
      },
      "cell_type": "markdown",
      "source": [
        "###Foundational Workshops\n",
        "- Week 3: Advanced Python \n",
        "- Week 4: Statistics and Probabilities using Numpy\n",
        "- Week 5: Dataframes with Pandas\n",
        "\n",
        "###Machine Learning Workshops\n",
        "- Week 6: Introduction to Machine Learning\n",
        "  - Fundamentals of Machine Learning\n",
        "  - Nearest Neighbors\n",
        "  - Decision Trees\n",
        "  - Naive Bayes\n",
        "- Week 7: Machine Learning Continued\n",
        "\n",
        "\n",
        "*All of these workshops will be posted on our google calendar. *\n",
        "\n",
        "\n",
        "----"
      ]
    },
    {
      "metadata": {
        "id": "hQEpZlObuJZx",
        "colab_type": "text"
      },
      "cell_type": "markdown",
      "source": [
        "##What is Data Science? "
      ]
    },
    {
      "metadata": {
        "id": "aJKdPx3zuSwh",
        "colab_type": "text"
      },
      "cell_type": "markdown",
      "source": [
        "Data Science is an interdisciplinary field that draws concepts from many different disciplines such as Math, Statistics, Visualization, Computer Science, etc. \n",
        "\n",
        "Today, data is all around us! Data Science uses some of this data to make educated decision, predict the future, or confirm existing ideas. \n",
        "\n",
        "Some concrete examples include: \n",
        "- Recommender Systems \n",
        "- Targeted Advertisement"
      ]
    },
    {
      "metadata": {
        "id": "yKxu3B1GxcsK",
        "colab_type": "text"
      },
      "cell_type": "markdown",
      "source": [
        "##What is Machine Learning? "
      ]
    },
    {
      "metadata": {
        "id": "cL6Fa9LAxrWK",
        "colab_type": "text"
      },
      "cell_type": "markdown",
      "source": [
        "Machine learning is an application of artificial intelligence (AI) that provides systems the ability to automatically learn and improve from experience without being explicitly programmed.\n",
        "\n",
        "Some concrete examples include: \n",
        "  - Autonomous Cars\n",
        "  - Credit card fraud detection \n",
        "  - Facial Recognition\n",
        "  \n",
        "  ----- "
      ]
    },
    {
      "metadata": {
        "id": "KNacxJBQyIL9",
        "colab_type": "text"
      },
      "cell_type": "markdown",
      "source": [
        "## Let us look at what's to come!"
      ]
    },
    {
      "metadata": {
        "id": "1CGWobmC1vIM",
        "colab_type": "text"
      },
      "cell_type": "markdown",
      "source": [
        "## [The Classifcation Problem][statisticalclassification]\n",
        " \n",
        "In machine learning and statistics, classification is the problem of identifying to which of a set of categories (sub-populations) a new observation belongs, on the basis of a training set of data containing observations (or instances) whose category membership is known.\n",
        "\n",
        "[statisticalclassification]:https://en.wikipedia.org/wiki/Statistical_classification"
      ]
    },
    {
      "metadata": {
        "id": "GNGeH-110Ivs",
        "colab_type": "text"
      },
      "cell_type": "markdown",
      "source": [
        "## [k-Nearest Neighbors][knn] (K-NN)\n",
        "\n",
        "The first algorithm we will explore is one of the simplest, the\n",
        "[k-nearest neighbor][knn] algorithm. Fundamentally, this algorithm is\n",
        "remarkable simple and is based on the principle that data values in an\n",
        "$N$- dimensional space are generally located near other similar objects.\n",
        "The number of nearest neighbors, k, is a tuning parameter, and can be\n",
        "specified a priori or in some algorithms empirically determined. The\n",
        "basic principle behind k-nn is demonstrated in the following figure from\n",
        "Wikipedia:\n",
        "\n",
        "![knn Image from Wikipedia][knni]\n",
        "\n",
        "As shown in the image, when a new datum is added, the classification\n",
        "must be assigned. In the case of k-nn, this is done by looking at the\n",
        "nearest neighbors and using some statistical evaluation of their\n",
        "classes. For example, we could use some weighted combination of the\n",
        "nearest neighbors, where the weight might be determined by the relative\n",
        "distance of each neighbor from the datum of interest. \n",
        "\n",
        "\n",
        "[knn]: https://en.wikipedia.org/wiki/K-nearest_neighbors_algorithm\n",
        "[knni]: https://upload.wikimedia.org/wikipedia/commons/thumb/e/e7/KnnClassification.svg/500px-KnnClassification.svg.png"
      ]
    },
    {
      "metadata": {
        "id": "unIfEW9P0fSk",
        "colab_type": "text"
      },
      "cell_type": "markdown",
      "source": [
        "##Decision Trees\n",
        "\n",
        "Decision trees are one of the few models that allow users to interpret exactly why the classifier makes a decision. Under the hood, the decision tree classifer asks a series of yes or no questions. Based on the answers, the classifier will return its decision.\n",
        "\n",
        "[Decision Tree Example Image]\n",
        "\n",
        "[Decision Tree Example Image]: https://www.xoriant.com/blog/product-engineering/decision-trees-machine-learning-algorithm.html\n",
        "\n",
        "\n",
        "----"
      ]
    },
    {
      "metadata": {
        "id": "imlk8MCnJ9w_",
        "colab_type": "text"
      },
      "cell_type": "markdown",
      "source": [
        "## What is Python?\n",
        "Python is a general purpose programming language created in the late 1980s, and named after Monty Python, that’s used by thousands of people to do things from testing microchips at Intel, to powering Instagram, to building video games with the PyGame library. It’s small, very closely resembles the English language, and has hundreds of existing third-party libraries. Some of these libraries are scientific and numeric computing libraries which can be used to analyze large amounts of data! \n"
      ]
    },
    {
      "metadata": {
        "id": "GFp8pZdxKEuq",
        "colab_type": "text"
      },
      "cell_type": "markdown",
      "source": [
        "Today, we will learn how to: \n",
        "* Declare variables\n",
        "* Work with strings of text in Python\n",
        "* Perform arithmetic operations in Python\n",
        "* Use if-else conditionals\n",
        "* Create loops\n",
        "* Work with basic data structures\n",
        "* Declare functions"
      ]
    },
    {
      "metadata": {
        "id": "E_lybIf_j_Q5",
        "colab_type": "text"
      },
      "cell_type": "markdown",
      "source": [
        ""
      ]
    },
    {
      "metadata": {
        "id": "FygLCxIWJzRE",
        "colab_type": "text"
      },
      "cell_type": "markdown",
      "source": [
        "## Hello world!"
      ]
    },
    {
      "metadata": {
        "id": "XsU6iKBrJzRF",
        "colab_type": "text"
      },
      "cell_type": "markdown",
      "source": [
        "Let's start with a classic \"Hello world!\" program. In order to print text to a screen in Python, we can use the `print` function followed by text in quotations. Run the code block below to see its output."
      ]
    },
    {
      "metadata": {
        "id": "LJvJooJZJzRG",
        "colab_type": "code",
        "colab": {
          "base_uri": "https://localhost:8080/",
          "height": 34
        },
        "outputId": "f14755aa-dc5c-4153-df69-8c5836c40292"
      },
      "cell_type": "code",
      "source": [
        "print(\"Hello world!\")"
      ],
      "execution_count": 1,
      "outputs": [
        {
          "output_type": "stream",
          "text": [
            "Hello world!\n"
          ],
          "name": "stdout"
        }
      ]
    },
    {
      "metadata": {
        "id": "LhIpkHGvJzRM",
        "colab_type": "text"
      },
      "cell_type": "markdown",
      "source": [
        "### Exercise \n",
        "Now try printing `\"I am learning Python!\"` onto the screen by typing your code into the block below."
      ]
    },
    {
      "metadata": {
        "id": "ew_DmP9FJzRN",
        "colab_type": "code",
        "colab": {
          "base_uri": "https://localhost:8080/",
          "height": 34
        },
        "outputId": "faff2467-f1b9-43ca-c03c-018be2ed6aef"
      },
      "cell_type": "code",
      "source": [
        "print(\"I am learning Python\")"
      ],
      "execution_count": 2,
      "outputs": [
        {
          "output_type": "stream",
          "text": [
            "I am learning Python\n"
          ],
          "name": "stdout"
        }
      ]
    },
    {
      "metadata": {
        "id": "hqDCupwcJzRS",
        "colab_type": "text"
      },
      "cell_type": "markdown",
      "source": [
        "***\n",
        "## Comments\n",
        "If any line starts with a `#`, then the Python interpreter ignores that line when running your code. You can use these lines, called comments, to annotate and explain your code. '''...''' can be used for multiline comments as well!"
      ]
    },
    {
      "metadata": {
        "id": "aJJ_RD5pJzRS",
        "colab_type": "code",
        "colab": {
          "base_uri": "https://localhost:8080/",
          "height": 34
        },
        "outputId": "c1fdc76a-228a-49f3-c0e1-2a8adc31ffee"
      },
      "cell_type": "code",
      "source": [
        "# This is a comment.\n",
        "# This line is not executed by the interpreter.\n",
        "# print \"This won't print\" because it has a #\n",
        "# The line below this does not start with #, it will be executed.\n",
        "\n",
        "'''\n",
        "This is a multiline comment,\n",
        "it can have as many lines as\n",
        "you want!\n",
        "'''\n",
        "\n",
        "print(\"This is not a comment.\")"
      ],
      "execution_count": 3,
      "outputs": [
        {
          "output_type": "stream",
          "text": [
            "This is not a comment.\n"
          ],
          "name": "stdout"
        }
      ]
    },
    {
      "metadata": {
        "id": "60J2r0QpJzRV",
        "colab_type": "text"
      },
      "cell_type": "markdown",
      "source": [
        "***\n",
        "## Variables and Data Types"
      ]
    },
    {
      "metadata": {
        "id": "FB22bCk2JzRW",
        "colab_type": "text"
      },
      "cell_type": "markdown",
      "source": [
        "A variable is used to hold a value. Variables and values have an associated datatype. Common datatypes are:\n",
        "* `string` (text)\n",
        "* `int` (integer)\n",
        "* `float` (decimal value)\n",
        "* `bool` (binary `True` or `False` values)\n",
        "* Many more \n",
        "\n",
        "In many programming languages, you must specify what datatype your variable is, however, Python is able to tell the type based on the value you enter. When you declare a variable, you give the variable a name, and specify its value."
      ]
    },
    {
      "metadata": {
        "id": "VzkhigNTJzRX",
        "colab_type": "text"
      },
      "cell_type": "markdown",
      "source": [
        "### Strings\n",
        "Strings are a set of characters. They must always be enclosed in either single or double-quotes. This is how you declare the string variable with name `my_string` and value `\"Hello!\"`."
      ]
    },
    {
      "metadata": {
        "id": "qZ-q1xZKJzRY",
        "colab_type": "code",
        "colab": {}
      },
      "cell_type": "code",
      "source": [
        "my_string = \"Data Science\""
      ],
      "execution_count": 0,
      "outputs": []
    },
    {
      "metadata": {
        "id": "6Tl333cVJzRa",
        "colab_type": "text"
      },
      "cell_type": "markdown",
      "source": [
        "Now we can print the variable `my_string` using the print command like so: `print my_string`. Note that in Python 3 you have to write this as print(my_string) with parenthesis."
      ]
    },
    {
      "metadata": {
        "id": "QsJ4WoWMJzRb",
        "colab_type": "code",
        "colab": {
          "base_uri": "https://localhost:8080/",
          "height": 34
        },
        "outputId": "71444b7c-32e3-4711-c71e-098b687f124a"
      },
      "cell_type": "code",
      "source": [
        "print(my_string)"
      ],
      "execution_count": 5,
      "outputs": [
        {
          "output_type": "stream",
          "text": [
            "Data Science\n"
          ],
          "name": "stdout"
        }
      ]
    },
    {
      "metadata": {
        "id": "Ziv8AcWoJzRg",
        "colab_type": "code",
        "colab": {
          "base_uri": "https://localhost:8080/",
          "height": 85
        },
        "outputId": "06531f81-9077-4068-e4d7-0dff6ac65e1c"
      },
      "cell_type": "code",
      "source": [
        "multi_line_string = \"\"\"This is the first line of our string\n",
        "and this is the second,\n",
        "and woah! A third line!\n",
        "\"\"\"\n",
        "\n",
        "print(multi_line_string)"
      ],
      "execution_count": 6,
      "outputs": [
        {
          "output_type": "stream",
          "text": [
            "This is the first line of our string\n",
            "and this is the second,\n",
            "and woah! A third line!\n",
            "\n"
          ],
          "name": "stdout"
        }
      ]
    },
    {
      "metadata": {
        "id": "na2MCYeJJzRj",
        "colab_type": "text"
      },
      "cell_type": "markdown",
      "source": [
        "To determine the length (number of characters in a string) we can use the built-in Python function len() like this:"
      ]
    },
    {
      "metadata": {
        "id": "dI18nOuXJzRk",
        "colab_type": "code",
        "colab": {
          "base_uri": "https://localhost:8080/",
          "height": 51
        },
        "outputId": "c4672e14-b202-4001-a1ba-a372e8a1e718"
      },
      "cell_type": "code",
      "source": [
        "print(len('You can enter a string like this'))\n",
        "\n",
        "new_string = 'Or you can enter a variable like this!'\n",
        "\n",
        "print(len(new_string))"
      ],
      "execution_count": 7,
      "outputs": [
        {
          "output_type": "stream",
          "text": [
            "32\n",
            "38\n"
          ],
          "name": "stdout"
        }
      ]
    },
    {
      "metadata": {
        "id": "3879rP88JzRn",
        "colab_type": "text"
      },
      "cell_type": "markdown",
      "source": [
        "Many other string operations exist which can be found here: https://docs.python.org/2/library/string.html\n",
        "\n",
        "For instance, if we wanted to turn a string to lowercase, we could use the .lower() method like this:"
      ]
    },
    {
      "metadata": {
        "id": "g0N_GhokJzRq",
        "colab_type": "code",
        "colab": {
          "base_uri": "https://localhost:8080/",
          "height": 34
        },
        "outputId": "c53abcb7-df64-4a3c-e6a2-ec7f40150e26"
      },
      "cell_type": "code",
      "source": [
        "my_string = \"HELLO\"\n",
        "\n",
        "print(my_string.lower())"
      ],
      "execution_count": 8,
      "outputs": [
        {
          "output_type": "stream",
          "text": [
            "hello\n"
          ],
          "name": "stdout"
        }
      ]
    },
    {
      "metadata": {
        "id": "7YVGL-NlJzRu",
        "colab_type": "text"
      },
      "cell_type": "markdown",
      "source": [
        "#### Concatenating Strings\n",
        "You can combine multiple strings into a single string using the `+`. In the code below, we are concatenating the strings in variables `first_name` and `last_name` to create the variable `full_name`, and then printing it. Replace the value for first_name and last_name with your name, and run the program. "
      ]
    },
    {
      "metadata": {
        "id": "a4IIn5jSJzRw",
        "colab_type": "code",
        "colab": {
          "base_uri": "https://localhost:8080/",
          "height": 34
        },
        "outputId": "dc4ea44c-fea5-44cf-87e3-1db3e7fd937d"
      },
      "cell_type": "code",
      "source": [
        "first_name = 'Joe '\n",
        "last_name = 'Python'\n",
        "\n",
        "full_name = first_name + last_name \n",
        "print(full_name)"
      ],
      "execution_count": 9,
      "outputs": [
        {
          "output_type": "stream",
          "text": [
            "Joe Python\n"
          ],
          "name": "stdout"
        }
      ]
    },
    {
      "metadata": {
        "id": "e059APp3JzRy",
        "colab_type": "text"
      },
      "cell_type": "markdown",
      "source": [
        "Now create two strings with names `word1` and `word2` and concatenate them to form the string `BigData`. Store this in the variable `my_word`."
      ]
    },
    {
      "metadata": {
        "id": "c9bcRqb1JzRz",
        "colab_type": "code",
        "colab": {
          "base_uri": "https://localhost:8080/",
          "height": 34
        },
        "outputId": "ecf0b95f-330a-4a05-e69a-99fea5950620"
      },
      "cell_type": "code",
      "source": [
        "word1 = 'Big'\n",
        "word2 = 'Data'\n",
        "\n",
        "my_word = word1 + word2\n",
        "print(my_word)"
      ],
      "execution_count": 10,
      "outputs": [
        {
          "output_type": "stream",
          "text": [
            "BigData\n"
          ],
          "name": "stdout"
        }
      ]
    },
    {
      "metadata": {
        "id": "Ng0R5r4jJzR2",
        "colab_type": "text"
      },
      "cell_type": "markdown",
      "source": [
        "You can add a space between the two concatenated strings like so:"
      ]
    },
    {
      "metadata": {
        "id": "10v0K7tJJzR3",
        "colab_type": "code",
        "colab": {
          "base_uri": "https://localhost:8080/",
          "height": 34
        },
        "outputId": "08384605-dca3-4fc5-cea6-0a97d0ecc0b4"
      },
      "cell_type": "code",
      "source": [
        "my_word = word1 + \" \" + word2\n",
        "print(my_word)"
      ],
      "execution_count": 11,
      "outputs": [
        {
          "output_type": "stream",
          "text": [
            "Big Data\n"
          ],
          "name": "stdout"
        }
      ]
    },
    {
      "metadata": {
        "id": "0qXYfYi0JzR6",
        "colab_type": "text"
      },
      "cell_type": "markdown",
      "source": [
        "We can also place variables in strings by using the %s notation like this. This is called a format string."
      ]
    },
    {
      "metadata": {
        "id": "X8Vp_z-lJzR8",
        "colab_type": "code",
        "colab": {
          "base_uri": "https://localhost:8080/",
          "height": 51
        },
        "outputId": "ca1457ae-dcf5-4f78-92f9-81a837d0252f"
      },
      "cell_type": "code",
      "source": [
        "club_name = 'ADSA'\n",
        "print('%s is awesome!' % club_name)\n",
        "\n",
        "school = 'The University of Illinois'\n",
        "campus = 'Urbana-Champaign'\n",
        "print('%s at %s is a cool school.' % (school, campus))"
      ],
      "execution_count": 12,
      "outputs": [
        {
          "output_type": "stream",
          "text": [
            "ADSA is awesome!\n",
            "The University of Illinois at Urbana-Champaign is a cool school.\n"
          ],
          "name": "stdout"
        }
      ]
    },
    {
      "metadata": {
        "id": "CdmE04U-JzR_",
        "colab_type": "text"
      },
      "cell_type": "markdown",
      "source": [
        "### Exercise \n",
        "Now trying making the `my_word_two` variable with a formatted string that prints 'BigData'"
      ]
    },
    {
      "metadata": {
        "id": "_nj12PLXJzSA",
        "colab_type": "code",
        "colab": {
          "base_uri": "https://localhost:8080/",
          "height": 34
        },
        "outputId": "4a479cf8-53d0-44cc-e81c-5e9c8fbaaec0"
      },
      "cell_type": "code",
      "source": [
        "my_word_two = '%s' % (word1 + word2)\n",
        "print(my_word_two)"
      ],
      "execution_count": 13,
      "outputs": [
        {
          "output_type": "stream",
          "text": [
            "BigData\n"
          ],
          "name": "stdout"
        }
      ]
    },
    {
      "metadata": {
        "id": "kRIHLZ2DJzSE",
        "colab_type": "text"
      },
      "cell_type": "markdown",
      "source": [
        "### Type Casting"
      ]
    },
    {
      "metadata": {
        "id": "CeNwuQuLJzSF",
        "colab_type": "text"
      },
      "cell_type": "markdown",
      "source": [
        "Some times Python isn't sure what we want when trying to combine variables of different types."
      ]
    },
    {
      "metadata": {
        "id": "SLH6TxXPJzSG",
        "colab_type": "code",
        "colab": {}
      },
      "cell_type": "code",
      "source": [
        "num = 5\n",
        "#print('My favorite number is ' + 5) # This will print an error"
      ],
      "execution_count": 0,
      "outputs": []
    },
    {
      "metadata": {
        "id": "HN_-VAyvJzSI",
        "colab_type": "text"
      },
      "cell_type": "markdown",
      "source": [
        "In order to get around this example, we can either use a formatted string, or what's known as \"type casting\" or \"type converting\" the variable num. Type casting is a special Python syntax which allows us to change the data type of a variable when we use it. We can use the str(), int(), long(), or a number of functions to convert data types. ([Here](http://www.informit.com/articles/article.aspx?p=459269&seqNum=7) is a larger list of conversion functions)"
      ]
    },
    {
      "metadata": {
        "id": "EAEvMdZDJzSI",
        "colab_type": "code",
        "colab": {
          "base_uri": "https://localhost:8080/",
          "height": 34
        },
        "outputId": "c17657b1-dc40-4415-e28c-74cd39f0135e"
      },
      "cell_type": "code",
      "source": [
        "num = 5\n",
        "print('My favorite number is ' + str(num)) # This will now work"
      ],
      "execution_count": 15,
      "outputs": [
        {
          "output_type": "stream",
          "text": [
            "My favorite number is 5\n"
          ],
          "name": "stdout"
        }
      ]
    },
    {
      "metadata": {
        "id": "9IdR8bpAJzSK",
        "colab_type": "text"
      },
      "cell_type": "markdown",
      "source": [
        "***\n",
        "### Numbers and Math"
      ]
    },
    {
      "metadata": {
        "id": "mjikqB4vJzSL",
        "colab_type": "text"
      },
      "cell_type": "markdown",
      "source": [
        "You can do all of the basic operations with integers. Addition and subtraction use the standard plus and minus symbols. Multiplication uses the asterisk, and division uses a forward slash. Exponents use two asterisks."
      ]
    },
    {
      "metadata": {
        "id": "v00ry-MaJzSM",
        "colab_type": "code",
        "colab": {
          "base_uri": "https://localhost:8080/",
          "height": 34
        },
        "outputId": "9183230b-ded1-4a94-b18f-b335476d671e"
      },
      "cell_type": "code",
      "source": [
        "print(3+2)"
      ],
      "execution_count": 16,
      "outputs": [
        {
          "output_type": "stream",
          "text": [
            "5\n"
          ],
          "name": "stdout"
        }
      ]
    },
    {
      "metadata": {
        "id": "2clgWGQ9JzSO",
        "colab_type": "code",
        "colab": {
          "base_uri": "https://localhost:8080/",
          "height": 34
        },
        "outputId": "46b483b1-953f-4b91-f174-c3d05f542cd6"
      },
      "cell_type": "code",
      "source": [
        "print(3-2)"
      ],
      "execution_count": 17,
      "outputs": [
        {
          "output_type": "stream",
          "text": [
            "1\n"
          ],
          "name": "stdout"
        }
      ]
    },
    {
      "metadata": {
        "id": "wE_9zdtpJzSR",
        "colab_type": "code",
        "colab": {
          "base_uri": "https://localhost:8080/",
          "height": 34
        },
        "outputId": "9cdf7bb0-dd95-49bf-f65c-38fb73cad1ba"
      },
      "cell_type": "code",
      "source": [
        "print(3*2)"
      ],
      "execution_count": 18,
      "outputs": [
        {
          "output_type": "stream",
          "text": [
            "6\n"
          ],
          "name": "stdout"
        }
      ]
    },
    {
      "metadata": {
        "id": "c6Qv-3kBJzSU",
        "colab_type": "code",
        "colab": {
          "base_uri": "https://localhost:8080/",
          "height": 34
        },
        "outputId": "9916d6b4-6791-42e8-d9f8-95168176357d"
      },
      "cell_type": "code",
      "source": [
        "print(3/2) # Dividing two integers returns the nearest integer rounded down in Python 2.7"
      ],
      "execution_count": 19,
      "outputs": [
        {
          "output_type": "stream",
          "text": [
            "1\n"
          ],
          "name": "stdout"
        }
      ]
    },
    {
      "metadata": {
        "id": "xq9yXjN_JzSZ",
        "colab_type": "text"
      },
      "cell_type": "markdown",
      "source": [
        "Didn't expect `3/2 = 1`, did you?\n",
        "\n",
        "In Python 2.7, division returns an integer value. To return a floating point (real) number, you can either convert one of two numbers to a float value, or use Python's `__future__` module"
      ]
    },
    {
      "metadata": {
        "id": "hvhb8xsHJzSa",
        "colab_type": "code",
        "colab": {
          "base_uri": "https://localhost:8080/",
          "height": 51
        },
        "outputId": "ff8a8f83-693d-4eb4-f077-cf78566e66a6"
      },
      "cell_type": "code",
      "source": [
        "print(3%2) # This is the modulus symbol, it divides the number and uses the remainder\n",
        "          # with respect to 2\n",
        "print(6%8) # Here's another example, since 8 doesn't divide 6, the remainder is 6"
      ],
      "execution_count": 20,
      "outputs": [
        {
          "output_type": "stream",
          "text": [
            "1\n",
            "6\n"
          ],
          "name": "stdout"
        }
      ]
    },
    {
      "metadata": {
        "id": "JDugRK9vJzSd",
        "colab_type": "code",
        "colab": {
          "base_uri": "https://localhost:8080/",
          "height": 34
        },
        "outputId": "b4ac9a71-8663-4998-acdc-6175fbfdd67a"
      },
      "cell_type": "code",
      "source": [
        "print(3./2)"
      ],
      "execution_count": 21,
      "outputs": [
        {
          "output_type": "stream",
          "text": [
            "1.5\n"
          ],
          "name": "stdout"
        }
      ]
    },
    {
      "metadata": {
        "id": "vDu4eTBSJzSg",
        "colab_type": "code",
        "colab": {
          "base_uri": "https://localhost:8080/",
          "height": 34
        },
        "outputId": "2422f64d-331b-46c4-e553-db717bd1675e"
      },
      "cell_type": "code",
      "source": [
        "# If we want to return the real value from integer division\n",
        "# we can import the Python module division from __future__\n",
        "from __future__ import division \n",
        "\n",
        "print(3/2)"
      ],
      "execution_count": 22,
      "outputs": [
        {
          "output_type": "stream",
          "text": [
            "1.5\n"
          ],
          "name": "stdout"
        }
      ]
    },
    {
      "metadata": {
        "id": "OF369LSGJzSk",
        "colab_type": "code",
        "colab": {
          "base_uri": "https://localhost:8080/",
          "height": 34
        },
        "outputId": "ae355df1-c516-44a7-bbfa-775001e901c3"
      },
      "cell_type": "code",
      "source": [
        "print(3**2) # This equates to 3^2"
      ],
      "execution_count": 23,
      "outputs": [
        {
          "output_type": "stream",
          "text": [
            "9\n"
          ],
          "name": "stdout"
        }
      ]
    },
    {
      "metadata": {
        "id": "s8FhMxf2JzSn",
        "colab_type": "text"
      },
      "cell_type": "markdown",
      "source": [
        "With decimal numbers (called `float`), you can do the same operations."
      ]
    },
    {
      "metadata": {
        "id": "ZiCsJnl9JzSo",
        "colab_type": "code",
        "colab": {
          "base_uri": "https://localhost:8080/",
          "height": 34
        },
        "outputId": "2eefa10f-807c-4285-d8a8-9f15f2ecc4d9"
      },
      "cell_type": "code",
      "source": [
        "print(1.7*4.4)"
      ],
      "execution_count": 24,
      "outputs": [
        {
          "output_type": "stream",
          "text": [
            "7.48\n"
          ],
          "name": "stdout"
        }
      ]
    },
    {
      "metadata": {
        "id": "d4BdfszEJzSr",
        "colab_type": "code",
        "colab": {
          "base_uri": "https://localhost:8080/",
          "height": 34
        },
        "outputId": "61cb3bb9-cf6e-46ca-ab96-bda591e0c7f6"
      },
      "cell_type": "code",
      "source": [
        "print(33.3/11.1)"
      ],
      "execution_count": 25,
      "outputs": [
        {
          "output_type": "stream",
          "text": [
            "3.0\n"
          ],
          "name": "stdout"
        }
      ]
    },
    {
      "metadata": {
        "id": "5lbltwe-JzSu",
        "colab_type": "text"
      },
      "cell_type": "markdown",
      "source": [
        "And like strings, you can store them in variables and refer to them by the variable names."
      ]
    },
    {
      "metadata": {
        "id": "vvRR9KPGJzSw",
        "colab_type": "code",
        "colab": {
          "base_uri": "https://localhost:8080/",
          "height": 34
        },
        "outputId": "0aac1647-150c-4a0d-daa9-115e4e533f0f"
      },
      "cell_type": "code",
      "source": [
        "x = 5\n",
        "y = 12\n",
        "\n",
        "# The + sign below does not concatenate the two variables X and Y because they are not strings.\n",
        "# The + sign in this case will compute the sum of the two variables.\n",
        "print(x+y)"
      ],
      "execution_count": 26,
      "outputs": [
        {
          "output_type": "stream",
          "text": [
            "17\n"
          ],
          "name": "stdout"
        }
      ]
    },
    {
      "metadata": {
        "id": "FWHq9IN5JzSy",
        "colab_type": "text"
      },
      "cell_type": "markdown",
      "source": [
        "### Exercise \n",
        "Now try storing the value of `x-squared plus y-squared` in the variable z."
      ]
    },
    {
      "metadata": {
        "id": "s3x1Vv3iJzS0",
        "colab_type": "code",
        "colab": {}
      },
      "cell_type": "code",
      "source": [
        "z = 169"
      ],
      "execution_count": 0,
      "outputs": []
    },
    {
      "metadata": {
        "id": "kfOHW70MJzS1",
        "colab_type": "text"
      },
      "cell_type": "markdown",
      "source": [
        "***\n",
        "## If-Else Conditional\n",
        "Has an application ever asked you a question? Maybe it asked you if you really want to quit because unsaved changes might be lost, or if you want to leave a webpage. If you answer OK, one thing happens. But if you answer No or Cancel, something else happens. In all those cases there is a special piece of code that is being run somewhere in the code. It is an if condition.\n",
        "\n",
        "Like all languages, Python allows us to conditionally run code.\n",
        "\n",
        "To have an if condition we need the idea of something being true and something being false. Remember, we call numbers \"integers\" and \"floating point\", and text \"strings\". We call `True` or `False` \"boolean\" values. `True` would represent OK where as `False` would represent No or Cancel in the example above.\n",
        "\n",
        "The literal values in Python for true and false are `True` and `False`"
      ]
    },
    {
      "metadata": {
        "id": "C4hjyCt5JzS2",
        "colab_type": "text"
      },
      "cell_type": "markdown",
      "source": [
        "Try running the blocks of code below to get a sense of how boolean conditions work."
      ]
    },
    {
      "metadata": {
        "id": "TFBmS0M3JzS3",
        "colab_type": "code",
        "colab": {
          "base_uri": "https://localhost:8080/",
          "height": 34
        },
        "outputId": "9398a5b1-8df1-468f-c48b-9d99f9f651c5"
      },
      "cell_type": "code",
      "source": [
        "1 > 2"
      ],
      "execution_count": 28,
      "outputs": [
        {
          "output_type": "execute_result",
          "data": {
            "text/plain": [
              "False"
            ]
          },
          "metadata": {
            "tags": []
          },
          "execution_count": 28
        }
      ]
    },
    {
      "metadata": {
        "id": "VP_V6qHfJzS6",
        "colab_type": "code",
        "colab": {
          "base_uri": "https://localhost:8080/",
          "height": 34
        },
        "outputId": "36304b0d-61c8-42bd-8764-b5e5baaf6316"
      },
      "cell_type": "code",
      "source": [
        "\"Cool\".startswith(\"C\")"
      ],
      "execution_count": 29,
      "outputs": [
        {
          "output_type": "execute_result",
          "data": {
            "text/plain": [
              "True"
            ]
          },
          "metadata": {
            "tags": []
          },
          "execution_count": 29
        }
      ]
    },
    {
      "metadata": {
        "id": "35ZsKLc0JzTA",
        "colab_type": "code",
        "colab": {
          "base_uri": "https://localhost:8080/",
          "height": 34
        },
        "outputId": "b8986013-9fb3-4d6d-cc53-58e972cc1bbe"
      },
      "cell_type": "code",
      "source": [
        "\"Cool\".endswith(\"C\")"
      ],
      "execution_count": 30,
      "outputs": [
        {
          "output_type": "execute_result",
          "data": {
            "text/plain": [
              "False"
            ]
          },
          "metadata": {
            "tags": []
          },
          "execution_count": 30
        }
      ]
    },
    {
      "metadata": {
        "id": "hvKzczwIJzTC",
        "colab_type": "code",
        "colab": {
          "base_uri": "https://localhost:8080/",
          "height": 34
        },
        "outputId": "2df11d73-029e-448b-9af6-66b4d2f8e218"
      },
      "cell_type": "code",
      "source": [
        "\"oo\" in \"Cool\""
      ],
      "execution_count": 31,
      "outputs": [
        {
          "output_type": "execute_result",
          "data": {
            "text/plain": [
              "True"
            ]
          },
          "metadata": {
            "tags": []
          },
          "execution_count": 31
        }
      ]
    },
    {
      "metadata": {
        "id": "mXvd-_y9JzTI",
        "colab_type": "code",
        "colab": {
          "base_uri": "https://localhost:8080/",
          "height": 34
        },
        "outputId": "aacd693e-3403-490b-9ba6-57f367a56edc"
      },
      "cell_type": "code",
      "source": [
        "42 == 1 # note the double equals sign for equality"
      ],
      "execution_count": 32,
      "outputs": [
        {
          "output_type": "execute_result",
          "data": {
            "text/plain": [
              "False"
            ]
          },
          "metadata": {
            "tags": []
          },
          "execution_count": 32
        }
      ]
    },
    {
      "metadata": {
        "id": "BkVRbJzWJzTO",
        "colab_type": "text"
      },
      "cell_type": "markdown",
      "source": [
        "As in the example above, Python differentiates between `=` and `==`. The single equality symbol `=` is used to assign the value on the right to the variable on the left, like so:\n",
        "\n",
        "    my_variable = 59\n",
        "\n",
        "The double equality symbol `==` is used to compare two quantities. `==` gives us a result of `True` or `False`."
      ]
    },
    {
      "metadata": {
        "id": "CM4lIcexJzTO",
        "colab_type": "text"
      },
      "cell_type": "markdown",
      "source": [
        "In order to write an \"if\" statement we need code that spans multiple lines\n",
        "\n",
        "    if condition:\n",
        "        print(\"Condition is True\")\n",
        "    else:\n",
        "        print(\"Condition is False\")\n",
        "\n",
        "Some things to notice. The if condition ends in a colon (\":\"). In Python blocks of code are indicated with a colon (\":\") and are grouped by white space. Notice the else also ends with a colon (\":\"), \"else:\". Let's try changing the condition and see what happens."
      ]
    },
    {
      "metadata": {
        "id": "BwxJ1dDpJzTQ",
        "colab_type": "code",
        "colab": {
          "base_uri": "https://localhost:8080/",
          "height": 34
        },
        "outputId": "a1fd3ad2-bdb6-4535-caa6-f7b80617a8ce"
      },
      "cell_type": "code",
      "source": [
        "# condition holds either a True or False value\n",
        "condition = 1 > 2\n",
        "if condition:\n",
        "    print(\"Condition is True\")\n",
        "else:\n",
        "    print(\"Condition is False\")"
      ],
      "execution_count": 33,
      "outputs": [
        {
          "output_type": "stream",
          "text": [
            "Condition is False\n"
          ],
          "name": "stdout"
        }
      ]
    },
    {
      "metadata": {
        "id": "upJ1TqEXJzTT",
        "colab_type": "text"
      },
      "cell_type": "markdown",
      "source": [
        "About that white space, consider the following code below. Since the last print statement isn't indented it gets run after the if block or the else block. Also note that the comparison condition can be directly used in the if statement and does not have to be stored in a variable."
      ]
    },
    {
      "metadata": {
        "id": "iV8j9rwYJzTT",
        "colab_type": "code",
        "colab": {
          "base_uri": "https://localhost:8080/",
          "height": 51
        },
        "outputId": "def0ac35-4961-48d5-9a6f-721e9b4a6ca1"
      },
      "cell_type": "code",
      "source": [
        "if 35 >= 17:\n",
        "    print(\"Condition is True\")\n",
        "else:\n",
        "    print(\"Condition is False\")\n",
        "print(\"Condition can be True or False, either way this is outputted because it is not indented.\")"
      ],
      "execution_count": 34,
      "outputs": [
        {
          "output_type": "stream",
          "text": [
            "Condition is True\n",
            "Condition can be True or False, either way this is outputted because it is not indented.\n"
          ],
          "name": "stdout"
        }
      ]
    },
    {
      "metadata": {
        "id": "i9BZvy3gJzTX",
        "colab_type": "text"
      },
      "cell_type": "markdown",
      "source": [
        "You can also use boolean logic inside if conditions using the keywords `and`, `or`, and `not`."
      ]
    },
    {
      "metadata": {
        "id": "jkJosIMcJzTX",
        "colab_type": "code",
        "colab": {
          "base_uri": "https://localhost:8080/",
          "height": 34
        },
        "outputId": "7292955b-87a3-43a0-dce9-98102c701d5a"
      },
      "cell_type": "code",
      "source": [
        "if \"zo\" not in \"Cool\" and 20/5 == 4:\n",
        "    print(\"Awesome!\")\n",
        "else:\n",
        "    print(\"Aww shucks!\")"
      ],
      "execution_count": 35,
      "outputs": [
        {
          "output_type": "stream",
          "text": [
            "Awesome!\n"
          ],
          "name": "stdout"
        }
      ]
    },
    {
      "metadata": {
        "id": "-Sz6drIqJzTf",
        "colab_type": "text"
      },
      "cell_type": "markdown",
      "source": [
        "***\n",
        "## Data Structures"
      ]
    },
    {
      "metadata": {
        "id": "a2ejZlzKJzTg",
        "colab_type": "text"
      },
      "cell_type": "markdown",
      "source": [
        "While declaring simple variables to hold data is very useful, once you begin working with a large set of related data or values, it becomes necessary to group this collection of data in some sort of structure to work with.\n",
        "\n",
        "Below, we will discuss a few fundamental data structures in Python and computer science in general."
      ]
    },
    {
      "metadata": {
        "id": "4ynDQGlZJzTh",
        "colab_type": "text"
      },
      "cell_type": "markdown",
      "source": [
        "### Lists"
      ]
    },
    {
      "metadata": {
        "id": "6jF7pv96JzTh",
        "colab_type": "text"
      },
      "cell_type": "markdown",
      "source": [
        "Lists are perhaps the most fundemantal data structure in Python. A Python `List` is very similar to what other languages call an `Array`, however it has some added functionality.\n",
        "\n",
        "A list in Python is just like a shopping list or a list of numbers. They have a defined order and you can add to it or remove from it.\n",
        "\n",
        "Let's take a look at some simple lists."
      ]
    },
    {
      "metadata": {
        "id": "jNvXd9ItJzTj",
        "colab_type": "code",
        "colab": {
          "base_uri": "https://localhost:8080/",
          "height": 34
        },
        "outputId": "d1d506c3-f3a8-453c-cdd0-fa7e0ec57b0f"
      },
      "cell_type": "code",
      "source": [
        "# The empty list\n",
        "[]"
      ],
      "execution_count": 36,
      "outputs": [
        {
          "output_type": "execute_result",
          "data": {
            "text/plain": [
              "[]"
            ]
          },
          "metadata": {
            "tags": []
          },
          "execution_count": 36
        }
      ]
    },
    {
      "metadata": {
        "id": "Rpl8xCm2JzTl",
        "colab_type": "code",
        "colab": {
          "base_uri": "https://localhost:8080/",
          "height": 34
        },
        "outputId": "d59b31c8-79a0-4f16-891d-49a77b646232"
      },
      "cell_type": "code",
      "source": [
        "[\"Milk\", \"Eggs\", \"Bacon\"]"
      ],
      "execution_count": 37,
      "outputs": [
        {
          "output_type": "execute_result",
          "data": {
            "text/plain": [
              "['Milk', 'Eggs', 'Bacon']"
            ]
          },
          "metadata": {
            "tags": []
          },
          "execution_count": 37
        }
      ]
    },
    {
      "metadata": {
        "id": "x8MyUrsnJzTr",
        "colab_type": "code",
        "colab": {
          "base_uri": "https://localhost:8080/",
          "height": 34
        },
        "outputId": "a109db7c-db44-4246-a5f7-9bd84d193449"
      },
      "cell_type": "code",
      "source": [
        "[1, 2, 3]"
      ],
      "execution_count": 38,
      "outputs": [
        {
          "output_type": "execute_result",
          "data": {
            "text/plain": [
              "[1, 2, 3]"
            ]
          },
          "metadata": {
            "tags": []
          },
          "execution_count": 38
        }
      ]
    },
    {
      "metadata": {
        "id": "PgMC5ViZJzTt",
        "colab_type": "text"
      },
      "cell_type": "markdown",
      "source": [
        "List literals are all about square brackets (\"[ ]\") and commas (\",\"). You can create a list of literals by wrapping them in square brackets and separating them with commas.\n",
        "\n",
        "You can even mix different types of things into the same list; numbers, strings, booleans."
      ]
    },
    {
      "metadata": {
        "id": "daHWmSUQJzTu",
        "colab_type": "code",
        "colab": {
          "base_uri": "https://localhost:8080/",
          "height": 34
        },
        "outputId": "08def4cd-11a2-4f9e-dd8b-75360c250740"
      },
      "cell_type": "code",
      "source": [
        "[True, 0, \"Awesome\"]"
      ],
      "execution_count": 39,
      "outputs": [
        {
          "output_type": "execute_result",
          "data": {
            "text/plain": [
              "[True, 0, 'Awesome']"
            ]
          },
          "metadata": {
            "tags": []
          },
          "execution_count": 39
        }
      ]
    },
    {
      "metadata": {
        "id": "Ox6KRKSxJzTx",
        "colab_type": "text"
      },
      "cell_type": "markdown",
      "source": [
        "We can put variables into a list and set a variable to a list."
      ]
    },
    {
      "metadata": {
        "id": "-OiLxEbPJzTx",
        "colab_type": "code",
        "colab": {
          "base_uri": "https://localhost:8080/",
          "height": 34
        },
        "outputId": "61efed7d-2777-4c17-ff50-80b32960e9db"
      },
      "cell_type": "code",
      "source": [
        "your_name = \"Albert O'Connor\"\n",
        "awesome_people = [\"Eric Idle\", your_name]\n",
        "print(awesome_people)"
      ],
      "execution_count": 40,
      "outputs": [
        {
          "output_type": "stream",
          "text": [
            "['Eric Idle', \"Albert O'Connor\"]\n"
          ],
          "name": "stdout"
        }
      ]
    },
    {
      "metadata": {
        "id": "VSoNcOj1JzT0",
        "colab_type": "text"
      },
      "cell_type": "markdown",
      "source": [
        "You can append to a list. The following code lets you add an item to the end of a list."
      ]
    },
    {
      "metadata": {
        "id": "GaOhXW8cJzT1",
        "colab_type": "code",
        "colab": {
          "base_uri": "https://localhost:8080/",
          "height": 34
        },
        "outputId": "d9ac2187-e657-40a1-cb13-e970c8ecfd4e"
      },
      "cell_type": "code",
      "source": [
        "awesome_people.append(\"John Cleese\")\n",
        "print(awesome_people)"
      ],
      "execution_count": 41,
      "outputs": [
        {
          "output_type": "stream",
          "text": [
            "['Eric Idle', \"Albert O'Connor\", 'John Cleese']\n"
          ],
          "name": "stdout"
        }
      ]
    },
    {
      "metadata": {
        "id": "33rPI8VZJzT5",
        "colab_type": "text"
      },
      "cell_type": "markdown",
      "source": [
        "Lists, like in many other languages, are 0-indexed. Which means that when you try to access the first element in the list, you use the index 0 like so:"
      ]
    },
    {
      "metadata": {
        "id": "BWFNoRgOJzT8",
        "colab_type": "code",
        "colab": {
          "base_uri": "https://localhost:8080/",
          "height": 34
        },
        "outputId": "37a1c3fa-be23-44bd-e9d9-f3eb903b0fda"
      },
      "cell_type": "code",
      "source": [
        "awesome_people[0]"
      ],
      "execution_count": 42,
      "outputs": [
        {
          "output_type": "execute_result",
          "data": {
            "text/plain": [
              "'Eric Idle'"
            ]
          },
          "metadata": {
            "tags": []
          },
          "execution_count": 42
        }
      ]
    },
    {
      "metadata": {
        "id": "UJ54C0KVJzUA",
        "colab_type": "text"
      },
      "cell_type": "markdown",
      "source": [
        "And the second element like this:"
      ]
    },
    {
      "metadata": {
        "id": "RFIiP_55JzUC",
        "colab_type": "code",
        "colab": {
          "base_uri": "https://localhost:8080/",
          "height": 34
        },
        "outputId": "bb1f23e4-c279-486f-e0d7-652b48470e65"
      },
      "cell_type": "code",
      "source": [
        "awesome_people[1]"
      ],
      "execution_count": 43,
      "outputs": [
        {
          "output_type": "execute_result",
          "data": {
            "text/plain": [
              "\"Albert O'Connor\""
            ]
          },
          "metadata": {
            "tags": []
          },
          "execution_count": 43
        }
      ]
    },
    {
      "metadata": {
        "id": "XtXRRujLJzUF",
        "colab_type": "text"
      },
      "cell_type": "markdown",
      "source": [
        "There are many Python functions which can be performed on Lists. Here is an example using Python's len() and sum() functions."
      ]
    },
    {
      "metadata": {
        "id": "7A5Dn90PJzUG",
        "colab_type": "code",
        "colab": {
          "base_uri": "https://localhost:8080/",
          "height": 51
        },
        "outputId": "f8e39bac-1036-4e43-f9f9-d71af0005db9"
      },
      "cell_type": "code",
      "source": [
        "my_list = [1,2,3,4,5]\n",
        "\n",
        "print(len(my_list)) # Prints the number of items in the list\n",
        "\n",
        "print (sum(my_list)) # Sums up the total value of all integers in the list"
      ],
      "execution_count": 44,
      "outputs": [
        {
          "output_type": "stream",
          "text": [
            "5\n",
            "15\n"
          ],
          "name": "stdout"
        }
      ]
    },
    {
      "metadata": {
        "id": "HyJI-EXQJzUI",
        "colab_type": "text"
      },
      "cell_type": "markdown",
      "source": [
        "Another useful List operation is `in`, which returns true or false depending on if a value is or is not in a list."
      ]
    },
    {
      "metadata": {
        "id": "uNgSZtwNJzUJ",
        "colab_type": "code",
        "colab": {
          "base_uri": "https://localhost:8080/",
          "height": 51
        },
        "outputId": "3ab08c3b-f270-4ab5-bc33-dbb4345c46de"
      },
      "cell_type": "code",
      "source": [
        "my_list = [1,2,3,4,5]\n",
        "\n",
        "print(3 in my_list) # Checks if the value 3 appears in our list\n",
        "\n",
        "print(6 in my_list) # Checks if the value 6 appears in our list"
      ],
      "execution_count": 45,
      "outputs": [
        {
          "output_type": "stream",
          "text": [
            "True\n",
            "False\n"
          ],
          "name": "stdout"
        }
      ]
    },
    {
      "metadata": {
        "id": "darJqZ8JJzUN",
        "colab_type": "text"
      },
      "cell_type": "markdown",
      "source": [
        "### Exercise \n",
        "Write a program using If-Else conditionals and List operations which prints \"Buy eggs!\" if the word \"Eggs\" is in the shopping list variable, or adds \"Eggs\" to the shopping list if it is not in the list."
      ]
    },
    {
      "metadata": {
        "id": "b3oq_rBrJzUO",
        "colab_type": "code",
        "colab": {}
      },
      "cell_type": "code",
      "source": [
        "shopping_list = ['Bacon', 'Milk'] # Run this once to make the list then enter your code below"
      ],
      "execution_count": 0,
      "outputs": []
    },
    {
      "metadata": {
        "id": "AWZmN2eAJzUP",
        "colab_type": "code",
        "colab": {
          "base_uri": "https://localhost:8080/",
          "height": 34
        },
        "outputId": "93b002b0-3061-46a6-e2ea-7dff13f81075"
      },
      "cell_type": "code",
      "source": [
        "#Enter your code below\n",
        "if \"Eggs\" in shopping_list:\n",
        "    print(\"Buy eggs!\")\n",
        "    print(shopping_list)\n",
        "else:\n",
        "    shopping_list.append(\"Eggs\")\n",
        "    print(shopping_list)"
      ],
      "execution_count": 47,
      "outputs": [
        {
          "output_type": "stream",
          "text": [
            "['Bacon', 'Milk', 'Eggs']\n"
          ],
          "name": "stdout"
        }
      ]
    },
    {
      "metadata": {
        "id": "DsDo8x1kJzUT",
        "colab_type": "code",
        "colab": {
          "base_uri": "https://localhost:8080/",
          "height": 34
        },
        "outputId": "84138ecf-5000-4a35-c663-41cc1e97fb84"
      },
      "cell_type": "code",
      "source": [
        "# To remove, use the remove() function\n",
        "shopping_list.remove(shopping_list[2])\n",
        "print('Remove Shopping List : ' + str(shopping_list))"
      ],
      "execution_count": 48,
      "outputs": [
        {
          "output_type": "stream",
          "text": [
            "Remove Shopping List : ['Bacon', 'Milk']\n"
          ],
          "name": "stdout"
        }
      ]
    },
    {
      "metadata": {
        "id": "Nhr6dweUJzUV",
        "colab_type": "text"
      },
      "cell_type": "markdown",
      "source": [
        "## Dictionaries"
      ]
    },
    {
      "metadata": {
        "id": "9xDKFsKvJzUV",
        "colab_type": "text"
      },
      "cell_type": "markdown",
      "source": [
        "Another fundamental and extremely useful data structure is a Python Dictionary. \n",
        "\n",
        "A dictionary is Python's implementation of a structure known as a Hash Table. Essentially, a dictionary keeps a record of `keys` associated with `values`. Keys can be categories, names, or anything you would like which may have an associated value. When looking through the dictionary, you then have the ability to quickly look up the associated value of a key. \n",
        "\n",
        "Dictionaries are easiest to explain by using an example. Below, I have created an example dictionary in which students in a class are the `keys` in a dictionary, and their grades are the `values`."
      ]
    },
    {
      "metadata": {
        "id": "zjL1nBqSJzUW",
        "colab_type": "code",
        "colab": {}
      },
      "cell_type": "code",
      "source": [
        "empty_dict = {} # Dictionaries are declared using {} curly brackets "
      ],
      "execution_count": 0,
      "outputs": []
    },
    {
      "metadata": {
        "id": "ip2UEdhbJzUY",
        "colab_type": "code",
        "colab": {}
      },
      "cell_type": "code",
      "source": [
        "# In this example, the dictionaries keys are students in a class, and the values are their grades\n",
        "class_grades = {\"Adam\": 86, \"Tim\": 93, \"Bill\": 70} "
      ],
      "execution_count": 0,
      "outputs": []
    },
    {
      "metadata": {
        "id": "N4qovhl1JzUZ",
        "colab_type": "text"
      },
      "cell_type": "markdown",
      "source": [
        "By using [ ] square brackets, we can retrieve the value for any key which exists in the dictionary\n"
      ]
    },
    {
      "metadata": {
        "id": "6He9IOjJJzUZ",
        "colab_type": "code",
        "colab": {
          "base_uri": "https://localhost:8080/",
          "height": 34
        },
        "outputId": "6c27a403-fff7-4acf-dde9-5ce2f810f579"
      },
      "cell_type": "code",
      "source": [
        "print(class_grades[\"Adam\"])"
      ],
      "execution_count": 51,
      "outputs": [
        {
          "output_type": "stream",
          "text": [
            "86\n"
          ],
          "name": "stdout"
        }
      ]
    },
    {
      "metadata": {
        "id": "QMIKz1PsJzUb",
        "colab_type": "text"
      },
      "cell_type": "markdown",
      "source": [
        "Using square brackets to retrieve a value for a key that does not exist returns a `KEY ERROR`\n"
      ]
    },
    {
      "metadata": {
        "id": "45DLw-7XJzUc",
        "colab_type": "code",
        "colab": {}
      },
      "cell_type": "code",
      "source": [
        "#print(class_grades[\"Mark\"])"
      ],
      "execution_count": 0,
      "outputs": []
    },
    {
      "metadata": {
        "id": "iq31thRcJzUc",
        "colab_type": "text"
      },
      "cell_type": "markdown",
      "source": [
        "To resolve this, you can either check if a key exists in the dictionary, or use a Python function called .get() which returns a defaults value of `None` if a key does not exist\n"
      ]
    },
    {
      "metadata": {
        "id": "U85Dx3n7JzUd",
        "colab_type": "code",
        "colab": {
          "base_uri": "https://localhost:8080/",
          "height": 51
        },
        "outputId": "d4f98a27-5dbb-48e0-9629-8a38e4cf6c37"
      },
      "cell_type": "code",
      "source": [
        "# Using the regular in syntax will return true or false \n",
        "print(\"Mark\" in class_grades)\n",
        "\n",
        "# The .get() function returns `None` if the key is not found\n",
        "print(class_grades.get(\"Mark\"))"
      ],
      "execution_count": 53,
      "outputs": [
        {
          "output_type": "stream",
          "text": [
            "False\n",
            "None\n"
          ],
          "name": "stdout"
        }
      ]
    },
    {
      "metadata": {
        "id": "NaPn3LSgJzUg",
        "colab_type": "text"
      },
      "cell_type": "markdown",
      "source": [
        "Dictionaries are commonly used to hold related sets of information, such as a tweet. Twitter and many companies actually use Python and dictionaries to deal with this type of information.\n",
        "\n",
        "Notice below how values can be any datatype, such as Strings, Integers, or even Lists."
      ]
    },
    {
      "metadata": {
        "id": "B8_0LYfwJzUh",
        "colab_type": "code",
        "colab": {}
      },
      "cell_type": "code",
      "source": [
        "tweet = {\n",
        "    \"user\"          : \"adsafan2016\",\n",
        "    \"text\"          : \"Data Science is Awesome\",\n",
        "    \"retweet_count\" : 32567,\n",
        "    \"hashtags\"      : [\"#data\", \"#science\", \"#datascience\", \"#awesome\", \"#yolo\"]\n",
        "}"
      ],
      "execution_count": 0,
      "outputs": []
    },
    {
      "metadata": {
        "id": "DT1fsJd_JzUk",
        "colab_type": "text"
      },
      "cell_type": "markdown",
      "source": [
        "***\n",
        "## Loops"
      ]
    },
    {
      "metadata": {
        "id": "R6lb0SQUJzUk",
        "colab_type": "text"
      },
      "cell_type": "markdown",
      "source": [
        "Indexes are useful, but lists really shine when you start looping.\n",
        "\n",
        "One of the most commonly used types of loops is called a `for` loop. A `for` loop lets you do something for each item in a list or collection. They syntax for a `for` loop is like an if statement, because they have an indented block.\n",
        "\n",
        "They look like this:\n",
        "\n",
        "    for item in list:\n",
        "        print(item) # Do any action per item in the list\n",
        "        \n",
        "A good interpretation of what is happening above in English would be:\n",
        "\n",
        "**\"For each item in list, print that item\"**.\n",
        "\n",
        "\"for\" and \"in\" are required. \"list\" can be any variable or literal which is like a list. \"item\" is the name you want to give each item of the list in the indented block as you iterate through. We call each step where item has a new value an iteration.\n",
        "\n",
        "Let's see it in action with our list:"
      ]
    },
    {
      "metadata": {
        "id": "1jkI5mPRJzUl",
        "colab_type": "code",
        "colab": {
          "base_uri": "https://localhost:8080/",
          "height": 85
        },
        "outputId": "7801aac6-ab1a-42bb-988f-9beb0595532a"
      },
      "cell_type": "code",
      "source": [
        "# This is what out list of awesome people looks like right now:\n",
        "print(awesome_people)\n",
        "\n",
        "for person in awesome_people:\n",
        "    print(person)"
      ],
      "execution_count": 55,
      "outputs": [
        {
          "output_type": "stream",
          "text": [
            "['Eric Idle', \"Albert O'Connor\", 'John Cleese']\n",
            "Eric Idle\n",
            "Albert O'Connor\n",
            "John Cleese\n"
          ],
          "name": "stdout"
        }
      ]
    },
    {
      "metadata": {
        "id": "wiL7M0fHJzUq",
        "colab_type": "text"
      },
      "cell_type": "markdown",
      "source": [
        "This is bascially the same as writing:"
      ]
    },
    {
      "metadata": {
        "id": "1VDlgGI7JzUr",
        "colab_type": "code",
        "colab": {
          "base_uri": "https://localhost:8080/",
          "height": 68
        },
        "outputId": "888caecb-8786-49cf-d4e2-531d01ca8034"
      },
      "cell_type": "code",
      "source": [
        "person = awesome_people[0]\n",
        "print(person)\n",
        "person = awesome_people[1]\n",
        "print(person)\n",
        "person = awesome_people[2]\n",
        "print(person)"
      ],
      "execution_count": 56,
      "outputs": [
        {
          "output_type": "stream",
          "text": [
            "Eric Idle\n",
            "Albert O'Connor\n",
            "John Cleese\n"
          ],
          "name": "stdout"
        }
      ]
    },
    {
      "metadata": {
        "id": "eaA3nylcJzUs",
        "colab_type": "text"
      },
      "cell_type": "markdown",
      "source": [
        "But that is a lot more code than:\n",
        "\n",
        "    for person in awesome_people:\n",
        "        print(person)\n",
        "\n",
        "Considering that our list of awesome people could be very long!\n",
        "\n",
        "You can use the built-in function \"range\" to create lists of numbers easily."
      ]
    },
    {
      "metadata": {
        "id": "FmfxQZC_JzUt",
        "colab_type": "code",
        "colab": {
          "base_uri": "https://localhost:8080/",
          "height": 34
        },
        "outputId": "d04223f1-5f87-4375-b6d3-eb9386009654"
      },
      "cell_type": "code",
      "source": [
        "range(0, 10)"
      ],
      "execution_count": 57,
      "outputs": [
        {
          "output_type": "execute_result",
          "data": {
            "text/plain": [
              "[0, 1, 2, 3, 4, 5, 6, 7, 8, 9]"
            ]
          },
          "metadata": {
            "tags": []
          },
          "execution_count": 57
        }
      ]
    },
    {
      "metadata": {
        "id": "5P1M3TGiJzUw",
        "colab_type": "text"
      },
      "cell_type": "markdown",
      "source": [
        "And then we can use that with a loop to print a list of squares. Note that we use special string formatting here in which `{0}` represents the first variable inside the format parentheses, and `{1}` represents the second variable."
      ]
    },
    {
      "metadata": {
        "id": "MDynazXTJzUx",
        "colab_type": "code",
        "colab": {
          "base_uri": "https://localhost:8080/",
          "height": 187
        },
        "outputId": "f165243b-19d8-421b-fbb3-c3b6f01d50f8"
      },
      "cell_type": "code",
      "source": [
        "for number in range(0, 10):\n",
        "    print(\"{0} squared is {1}\".format(number, number**2))"
      ],
      "execution_count": 58,
      "outputs": [
        {
          "output_type": "stream",
          "text": [
            "0 squared is 0\n",
            "1 squared is 1\n",
            "2 squared is 4\n",
            "3 squared is 9\n",
            "4 squared is 16\n",
            "5 squared is 25\n",
            "6 squared is 36\n",
            "7 squared is 49\n",
            "8 squared is 64\n",
            "9 squared is 81\n"
          ],
          "name": "stdout"
        }
      ]
    },
    {
      "metadata": {
        "id": "GvhOCsplJzUz",
        "colab_type": "text"
      },
      "cell_type": "markdown",
      "source": [
        "***\n",
        "## Functions"
      ]
    },
    {
      "metadata": {
        "id": "9GOSWASNJzUz",
        "colab_type": "text"
      },
      "cell_type": "markdown",
      "source": [
        "Functions are a set of actions that we group together, and give a name to. We can define our own functions, which allows us to \"teach\" Python new behavior.\n",
        "\n",
        "Here is the general syntax for defining and calling functions.\n",
        "\n",
        "    # Let's define a function.\n",
        "    def function_name(argument_1, argument_2):\n",
        "        # Do whatever we want this function to do,\n",
        "        # using argument_1 and argument_2\n",
        "        \n",
        "    # Use function_name to call the function.\n",
        "    function_name(value_1, value_2)"
      ]
    },
    {
      "metadata": {
        "id": "41f_mjccJzUz",
        "colab_type": "text"
      },
      "cell_type": "markdown",
      "source": [
        "* __Defining a function__\n",
        "    * The keyword `def` tells Python that you are about to define a function.\n",
        "    * Functions have a name. A variable name tells you what kind of value the variable contains; a function name should tell you what the function does.\n",
        "    * The values inside parentheses are called __arguments__ or __parameters__. Functions use parameters to get data it may need to execute.\n",
        "        * These are basically variable names, but they are only used in the function.\n",
        "        * They can be different names than what you use in the rest of your program.\n",
        "    * Make sure the function definition line ends with a colon.\n",
        "* __Using your function__\n",
        "    * To call your function, write its name followed by parentheses.\n",
        "    * Inside the parentheses, provide the values for the function's parameters.\n",
        "    * These can be values can be other variables you have defined or literal values."
      ]
    },
    {
      "metadata": {
        "id": "etYCFgFvJzU0",
        "colab_type": "code",
        "colab": {}
      },
      "cell_type": "code",
      "source": [
        "# This function prints a two-line personalized thank you message.\n",
        "def say_hello(name):\n",
        "    # print() is also a function!\n",
        "    # It prints the string you give it onto the screen.\n",
        "    \n",
        "    print('Hello, {0}!'.format(name))\n",
        "    print('How\\'s it going?') # Note that the \\ character allows you to use single quotes without ending the string"
      ],
      "execution_count": 0,
      "outputs": []
    },
    {
      "metadata": {
        "id": "Gs772-ViJzU4",
        "colab_type": "code",
        "colab": {
          "base_uri": "https://localhost:8080/",
          "height": 119
        },
        "outputId": "842b0d21-7198-4ce0-dd8f-f874a361786a"
      },
      "cell_type": "code",
      "source": [
        "# now we can use the function that we just defined\n",
        "say_hello('Adriana')\n",
        "say_hello('Billy')\n",
        "say_hello('Caroline')"
      ],
      "execution_count": 60,
      "outputs": [
        {
          "output_type": "stream",
          "text": [
            "Hello, Adriana!\n",
            "How's it going?\n",
            "Hello, Billy!\n",
            "How's it going?\n",
            "Hello, Caroline!\n",
            "How's it going?\n"
          ],
          "name": "stdout"
        }
      ]
    },
    {
      "metadata": {
        "id": "S6qX2bDZJzU5",
        "colab_type": "text"
      },
      "cell_type": "markdown",
      "source": [
        "You have already used quite a lot of built in functions so far. Here's some more functions that we can use on lists to sort them."
      ]
    },
    {
      "metadata": {
        "id": "GmFXsF3PJzU5",
        "colab_type": "code",
        "colab": {
          "base_uri": "https://localhost:8080/",
          "height": 170
        },
        "outputId": "07ef47c2-1d9b-4ab1-ea8f-1ad724bb1de2"
      },
      "cell_type": "code",
      "source": [
        "students = ['Bernice', 'Aaron', 'Cody']\n",
        "\n",
        "# Use the sort function to put students in alphabetical order.\n",
        "students.sort()\n",
        "\n",
        "# Display the list in its current order.\n",
        "print(\"Students in alphabetical order.\")\n",
        "for student in students:\n",
        "    print(student.title())\n",
        "\n",
        "# Give the sort function the reverse parameter\n",
        "# This puts students in reverse alphabetical order.\n",
        "students.sort(reverse=True)\n",
        "\n",
        "# Display the list in reverse order.\n",
        "print(\"\\nStudents in reverse alphabetical order.\")\n",
        "for student in students:\n",
        "    print(student.title())"
      ],
      "execution_count": 61,
      "outputs": [
        {
          "output_type": "stream",
          "text": [
            "Students in alphabetical order.\n",
            "Aaron\n",
            "Bernice\n",
            "Cody\n",
            "\n",
            "Students in reverse alphabetical order.\n",
            "Cody\n",
            "Bernice\n",
            "Aaron\n"
          ],
          "name": "stdout"
        }
      ]
    },
    {
      "metadata": {
        "id": "F5DRjnjHJzU8",
        "colab_type": "text"
      },
      "cell_type": "markdown",
      "source": [
        "### Returning Values from Functions\n",
        "\n",
        "Functions can also return values. This is useful when we want the function to compute some data and give it back to us to use elsewhere in our code.\n",
        "\n",
        "Note: once a function returns something, Python moves out of that code. So anything after the return statement will not be run."
      ]
    },
    {
      "metadata": {
        "id": "D0iAhE0wJzU8",
        "colab_type": "code",
        "colab": {
          "base_uri": "https://localhost:8080/",
          "height": 51
        },
        "outputId": "8b189ee4-9764-4abc-9ad3-f3c0f7fff430"
      },
      "cell_type": "code",
      "source": [
        "def add_five(number):\n",
        "    print(\"Adding 5 to\", number, \"now...\")\n",
        "    return number + 5\n",
        "    # We have already returned out of the function, the line below is arbitrary\n",
        "    print(\"This will not get printed\")\n",
        "    \n",
        "# Now use your function add_five()\n",
        "num = add_five(10)\n",
        "print(\"New number is:\", num)"
      ],
      "execution_count": 62,
      "outputs": [
        {
          "output_type": "stream",
          "text": [
            "('Adding 5 to', 10, 'now...')\n",
            "('New number is:', 15)\n"
          ],
          "name": "stdout"
        }
      ]
    },
    {
      "metadata": {
        "id": "yTbWmFqiJzU_",
        "colab_type": "code",
        "colab": {
          "base_uri": "https://localhost:8080/",
          "height": 85
        },
        "outputId": "4205bdfb-8682-4b51-fc22-97581f77789c"
      },
      "cell_type": "code",
      "source": [
        "def get_number_word(number):\n",
        "    # Takes in a numerical value, and returns the word corresponding to that number.\n",
        "    if number == 1:\n",
        "        return 'one'\n",
        "    elif number == 2:\n",
        "        return 'two'\n",
        "    elif number == 3:\n",
        "        return 'three'\n",
        "    else:\n",
        "        return 'N/A'\n",
        "    \n",
        "# Let's try out our function.\n",
        "for number in range(0, 4):\n",
        "    number_word = get_number_word(number)\n",
        "    print(number, number_word)"
      ],
      "execution_count": 63,
      "outputs": [
        {
          "output_type": "stream",
          "text": [
            "(0, 'N/A')\n",
            "(1, 'one')\n",
            "(2, 'two')\n",
            "(3, 'three')\n"
          ],
          "name": "stdout"
        }
      ]
    },
    {
      "metadata": {
        "id": "dBwWDO0TJzVB",
        "colab_type": "text"
      },
      "cell_type": "markdown",
      "source": [
        "### Exercise \n",
        "Now try writing a function called `future_age` that takes in a name, current_age, and n_years as parameters, and returns a message with their name saying how old they will be in n_years. For example: future_age('Bill', 20, 13) should return 'Bill will be 33 years old in 13 years'."
      ]
    },
    {
      "metadata": {
        "id": "Pd8tGG8vJzVB",
        "colab_type": "code",
        "colab": {
          "base_uri": "https://localhost:8080/",
          "height": 34
        },
        "outputId": "8bb7804d-fb18-4adc-defe-138d254b3adf"
      },
      "cell_type": "code",
      "source": [
        "def future_age(name, current_age, n_years):\n",
        "    new_age = current_age + n_years\n",
        "    print('%s will be'.format(name, ))\n",
        "    \n",
        "future_age('Bill', 20, 13)"
      ],
      "execution_count": 64,
      "outputs": [
        {
          "output_type": "stream",
          "text": [
            "%s will be\n"
          ],
          "name": "stdout"
        }
      ]
    },
    {
      "metadata": {
        "id": "AiS61JUhJzVE",
        "colab_type": "text"
      },
      "cell_type": "markdown",
      "source": [
        "### Exercise \n",
        "Now you try writing a function called called `factorial`, which takes in a paramter n, and returns `n!`. Then, try testing your function out, factorial(5) should return 120. (Note that the factorial of 0 is 1, so we can start our return variable at 1 rather than 0.)"
      ]
    },
    {
      "metadata": {
        "id": "RmMMlOgHJzVE",
        "colab_type": "code",
        "colab": {
          "base_uri": "https://localhost:8080/",
          "height": 34
        },
        "outputId": "3622e0ab-3402-44a0-aa05-fb380b449672"
      },
      "cell_type": "code",
      "source": [
        "def factorial(n):\n",
        "    count = 1\n",
        "    result = 1\n",
        "    while count <= n:\n",
        "        result = result*count\n",
        "        count += 1\n",
        "    return result\n",
        "    \n",
        "print(factorial(5))"
      ],
      "execution_count": 65,
      "outputs": [
        {
          "output_type": "stream",
          "text": [
            "120\n"
          ],
          "name": "stdout"
        }
      ]
    },
    {
      "metadata": {
        "id": "upyGsYsNJzVF",
        "colab_type": "text"
      },
      "cell_type": "markdown",
      "source": [
        "### Exercise\n",
        "\n",
        "<b>Applies the following:</b>\n",
        "- loops\n",
        "- lists\n",
        "- math operators\n",
        "- functions\n"
      ]
    },
    {
      "metadata": {
        "id": "y0wOfphxJzVG",
        "colab_type": "code",
        "colab": {}
      },
      "cell_type": "code",
      "source": [
        "# execute this line first\n",
        "list_data = [20, 50, 30, 70, 42, 30, 56, 72, 88, 90, 4, 65, 77, 42, 57]"
      ],
      "execution_count": 0,
      "outputs": []
    },
    {
      "metadata": {
        "id": "Lo7UbuW6JzVH",
        "colab_type": "code",
        "colab": {
          "base_uri": "https://localhost:8080/",
          "height": 85
        },
        "outputId": "33703b92-36e6-4bfe-cf1f-c936f6c22866"
      },
      "cell_type": "code",
      "source": [
        "# write a function that will take any list of numbers and sum up the values\n",
        "# this function should return the sum of the list.\n",
        "# add parameters if necessary\n",
        "def sum_list(data):\n",
        "    data_sum = 0\n",
        "    for nums in data:\n",
        "        data_sum = data_sum + nums\n",
        "    # also can use the sum() function\n",
        "    return data_sum # may need to modify this\n",
        "\n",
        "# write another function that will take the sum and print out each digit separately\n",
        "# example - 793 should print out '7', '9', and '3'\n",
        "def print_digits(data):\n",
        "    list_sum = sum_list(data)\n",
        "    for digits in range(0,len(str(list_sum))):\n",
        "        print('{0}'.format(str(list_sum)[digits]))\n",
        "    return # may need to modify this\n",
        "\n",
        "# write the code to make use of the functions that you wrote\n",
        "\n",
        "print(sum_list(list_data))\n",
        "print_digits(list_data)"
      ],
      "execution_count": 67,
      "outputs": [
        {
          "output_type": "stream",
          "text": [
            "793\n",
            "7\n",
            "9\n",
            "3\n"
          ],
          "name": "stdout"
        }
      ]
    },
    {
      "metadata": {
        "id": "UOMTPiKhJzVJ",
        "colab_type": "text"
      },
      "cell_type": "markdown",
      "source": [
        "***\n",
        "## Going Forward"
      ]
    },
    {
      "metadata": {
        "id": "Znh1FBRVJzVJ",
        "colab_type": "text"
      },
      "cell_type": "markdown",
      "source": [
        "This concludes are introduction to Python workshop, I hope you learned something! In order to practice your Python skills, you can either code directly on sites like https://repl.it/languages, which offer an in-browser text editor and Python compiler. Or, you can write and run Python programs from your command line or terminal on whatever OS you're on by writing a file ending in .py, and typing `python filename.py`.\n",
        "\n",
        "Python is a really fun and simple language to learn, and I highly recommend continuing to practice. There are websites that can teach you how to create very cool programs, and they are all a Google search away.\n",
        "\n",
        "Join us next week for our Advanced Python workshop, and keep on practicing your skills!"
      ]
    }
  ]
}