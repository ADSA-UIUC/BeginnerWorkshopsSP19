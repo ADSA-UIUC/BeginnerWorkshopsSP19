{
  "nbformat": 4,
  "nbformat_minor": 0,
  "metadata": {
    "colab": {
      "name": "week_2_intro_workshop.ipynb",
      "version": "0.3.2",
      "provenance": [],
      "collapsed_sections": []
    },
    "kernelspec": {
      "name": "python3",
      "display_name": "Python 3"
    }
  },
  "cells": [
    {
      "metadata": {
        "id": "9JjEgNOYnf9X",
        "colab_type": "text"
      },
      "cell_type": "markdown",
      "source": [
        "![ADSA Logo](http://i.imgur.com/BV0CdHZ.png?2 \"ADSA Logo\")"
      ]
    },
    {
      "metadata": {
        "id": "ds15bpiNnrTv",
        "colab_type": "text"
      },
      "cell_type": "markdown",
      "source": [
        "# Fall 2018 ADSA Workshop - First Installment"
      ]
    },
    {
      "metadata": {
        "id": "Lugfg08MsU-H",
        "colab_type": "text"
      },
      "cell_type": "markdown",
      "source": [
        "##Workshops to come\n"
      ]
    },
    {
      "metadata": {
        "id": "9fDGfmwbsi7V",
        "colab_type": "text"
      },
      "cell_type": "markdown",
      "source": [
        "###Foundational Workshops\n",
        "- Week 3: Advanced Python \n",
        "- Week 4: Statistics and Probabilities using Numpy\n",
        "- Week 5: Dataframes with Pandas\n",
        "\n",
        "###Machine Learning Workshops\n",
        "- Week 6: Introduction to Machine Learning\n",
        "  - Fundamentals of Machine Learning\n",
        "  - Nearest Neighbors\n",
        "  - Decision Trees\n",
        "  - Naive Bayes\n",
        "- Week 7: Machine Learning Continued\n",
        "\n",
        "\n",
        "*All of these workshops will be posted on our google calendar. *\n",
        "\n",
        "\n",
        "----"
      ]
    },
    {
      "metadata": {
        "id": "hQEpZlObuJZx",
        "colab_type": "text"
      },
      "cell_type": "markdown",
      "source": [
        "##What is Data Science? "
      ]
    },
    {
      "metadata": {
        "id": "aJKdPx3zuSwh",
        "colab_type": "text"
      },
      "cell_type": "markdown",
      "source": [
        "Data Science is an interdisciplinary field that draws concepts from many different disciplines such as Math, Statistics, Visualization, Computer Science, etc. \n",
        "\n",
        "Today, data is all around us! Data Science uses some of this data to make educated decision, predict the future, or confirm existing ideas. \n",
        "\n",
        "Some concrete examples include: \n",
        "- Recommender Systems \n",
        "- Targeted Advertisement"
      ]
    },
    {
      "metadata": {
        "id": "yKxu3B1GxcsK",
        "colab_type": "text"
      },
      "cell_type": "markdown",
      "source": [
        "##What is Machine Learning? "
      ]
    },
    {
      "metadata": {
        "id": "cL6Fa9LAxrWK",
        "colab_type": "text"
      },
      "cell_type": "markdown",
      "source": [
        "Machine learning is an application of artificial intelligence (AI) that provides systems the ability to automatically learn and improve from experience without being explicitly programmed.\n",
        "\n",
        "Some concrete examples include: \n",
        "  - Autonomous Cars\n",
        "  - Credit card fraud detection \n",
        "  - Facial Recognition\n",
        "  \n",
        "  ----- "
      ]
    },
    {
      "metadata": {
        "id": "KNacxJBQyIL9",
        "colab_type": "text"
      },
      "cell_type": "markdown",
      "source": [
        "## Let us look at what's to come!"
      ]
    },
    {
      "metadata": {
        "id": "1CGWobmC1vIM",
        "colab_type": "text"
      },
      "cell_type": "markdown",
      "source": [
        "## [The Classifcation Problem][statisticalclassification]\n",
        " \n",
        "In machine learning and statistics, classification is the problem of identifying to which of a set of categories (sub-populations) a new observation belongs, on the basis of a training set of data containing observations (or instances) whose category membership is known.\n",
        "\n",
        "[statisticalclassification]:https://en.wikipedia.org/wiki/Statistical_classification"
      ]
    },
    {
      "metadata": {
        "id": "GNGeH-110Ivs",
        "colab_type": "text"
      },
      "cell_type": "markdown",
      "source": [
        "## [k-Nearest Neighbors][knn] (K-NN)\n",
        "\n",
        "The first algorithm we will explore is one of the simplest, the\n",
        "[k-nearest neighbor][knn] algorithm. Fundamentally, this algorithm is\n",
        "remarkable simple and is based on the principle that data values in an\n",
        "$N$- dimensional space are generally located near other similar objects.\n",
        "The number of nearest neighbors, k, is a tuning parameter, and can be\n",
        "specified a priori or in some algorithms empirically determined. The\n",
        "basic principle behind k-nn is demonstrated in the following figure from\n",
        "Wikipedia:\n",
        "\n",
        "![knn Image from Wikipedia][knni]\n",
        "\n",
        "As shown in the image, when a new datum is added, the classification\n",
        "must be assigned. In the case of k-nn, this is done by looking at the\n",
        "nearest neighbors and using some statistical evaluation of their\n",
        "classes. For example, we could use some weighted combination of the\n",
        "nearest neighbors, where the weight might be determined by the relative\n",
        "distance of each neighbor from the datum of interest. \n",
        "\n",
        "\n",
        "[knn]: https://en.wikipedia.org/wiki/K-nearest_neighbors_algorithm\n",
        "[knni]: https://upload.wikimedia.org/wikipedia/commons/thumb/e/e7/KnnClassification.svg/500px-KnnClassification.svg.png"
      ]
    },
    {
      "metadata": {
        "id": "unIfEW9P0fSk",
        "colab_type": "text"
      },
      "cell_type": "markdown",
      "source": [
        "##Decision Trees\n",
        "\n",
        "Decision trees are one of the few models that allow users to interpret exactly why the classifier makes a decision. Under the hood, the decision tree classifer asks a series of yes or no questions. Based on the answers, the classifier will return its decision.\n",
        "\n",
        "[Decision Tree Example Image]\n",
        "\n",
        "[Decision Tree Example Image]: https://www.xoriant.com/blog/product-engineering/decision-trees-machine-learning-algorithm.html\n",
        "\n",
        "\n",
        "----"
      ]
    },
    {
      "metadata": {
        "id": "imlk8MCnJ9w_",
        "colab_type": "text"
      },
      "cell_type": "markdown",
      "source": [
        "## What is Python?\n",
        "Python is a general purpose programming language created in the late 1980s, and named after Monty Python, that’s used by thousands of people to do things from testing microchips at Intel, to powering Instagram, to building video games with the PyGame library. It’s small, very closely resembles the English language, and has hundreds of existing third-party libraries. Some of these libraries are scientific and numeric computing libraries which can be used to analyze large amounts of data! \n"
      ]
    },
    {
      "metadata": {
        "id": "GFp8pZdxKEuq",
        "colab_type": "text"
      },
      "cell_type": "markdown",
      "source": [
        "Today, we will learn how to: \n",
        "* Declare variables\n",
        "* Work with strings of text in Python\n",
        "* Perform arithmetic operations in Python\n",
        "* Use if-else conditionals\n",
        "* Create loops\n",
        "* Work with basic data structures\n",
        "* Declare functions"
      ]
    },
    {
      "metadata": {
        "id": "lHPgFtLMKoju",
        "colab_type": "text"
      },
      "cell_type": "markdown",
      "source": [
        "## Hello world!"
      ]
    },
    {
      "metadata": {
        "id": "eE1I-jHiKojw",
        "colab_type": "text"
      },
      "cell_type": "markdown",
      "source": [
        "Let's start with a classic \"Hello world!\" program. In order to print text to a screen in Python, we can use the `print` function followed by text in quotations. Run the code block below to see its output."
      ]
    },
    {
      "metadata": {
        "id": "m8J7Sse-Kojw",
        "colab_type": "code",
        "colab": {}
      },
      "cell_type": "code",
      "source": [
        "print(\"Hello world!\")"
      ],
      "execution_count": 0,
      "outputs": []
    },
    {
      "metadata": {
        "id": "YrTLGkK5Koj0",
        "colab_type": "text"
      },
      "cell_type": "markdown",
      "source": [
        "### Exercise \n",
        "Now try printing `\"I am learning Python!\"` onto the screen by typing your code into the block below."
      ]
    },
    {
      "metadata": {
        "id": "t5WUE9jDKoj0",
        "colab_type": "code",
        "colab": {}
      },
      "cell_type": "code",
      "source": [
        "# Enter your code below"
      ],
      "execution_count": 0,
      "outputs": []
    },
    {
      "metadata": {
        "id": "9Ze7-Ds8Koj2",
        "colab_type": "text"
      },
      "cell_type": "markdown",
      "source": [
        "***\n",
        "## Comments\n",
        "If any line starts with a `#`, then the Python interpreter ignores that line when running your code. You can use these lines, called comments, to annotate and explain your code. '''...''' can be used for multiline comments as well!"
      ]
    },
    {
      "metadata": {
        "id": "yzUL976wKoj3",
        "colab_type": "code",
        "colab": {}
      },
      "cell_type": "code",
      "source": [
        "# This is a comment.\n",
        "# This line is not executed by the interpreter.\n",
        "# print \"This won't print\" because it has a #\n",
        "# The line below this does not start with #, it will be executed.\n",
        "\n",
        "'''\n",
        "This is a multiline comment,\n",
        "it can have as many lines as\n",
        "you want!\n",
        "'''\n",
        "\n",
        "print(\"This is not a comment.\")"
      ],
      "execution_count": 0,
      "outputs": []
    },
    {
      "metadata": {
        "id": "qa5taisVKoj6",
        "colab_type": "text"
      },
      "cell_type": "markdown",
      "source": [
        "***\n",
        "## Variables and Data Types"
      ]
    },
    {
      "metadata": {
        "id": "Wm_jl7MGKoj6",
        "colab_type": "text"
      },
      "cell_type": "markdown",
      "source": [
        "A variable is used to hold a value. Variables and values have an associated datatype. Common datatypes are:\n",
        "* `string` (text)\n",
        "* `int` (integer)\n",
        "* `float` (decimal value)\n",
        "* `bool` (binary `True` or `False` values)\n",
        "* Many more \n",
        "\n",
        "In many programming languages, you must specify what datatype your variable is, however, Python is able to tell the type based on the value you enter. When you declare a variable, you give the variable a name, and specify its value."
      ]
    },
    {
      "metadata": {
        "id": "1VfB59quKoj7",
        "colab_type": "text"
      },
      "cell_type": "markdown",
      "source": [
        "### Strings\n",
        "Strings are a set of characters. They must always be enclosed in either single or double-quotes. This is how you declare the string variable with name `my_string` and value `\"Hello!\"`."
      ]
    },
    {
      "metadata": {
        "id": "hYEQxQ-jKoj7",
        "colab_type": "code",
        "colab": {}
      },
      "cell_type": "code",
      "source": [
        "my_string = \"Data Science\"\n",
        "thing = \"\""
      ],
      "execution_count": 0,
      "outputs": []
    },
    {
      "metadata": {
        "id": "PJ4fcXXnKoj-",
        "colab_type": "text"
      },
      "cell_type": "markdown",
      "source": [
        "Now we can print the variable `my_string` using the print command like so: `print my_string`. Note that in Python 3 you have to write this as print(my_string) with parenthesis."
      ]
    },
    {
      "metadata": {
        "id": "xjdQlsrYKoj-",
        "colab_type": "code",
        "colab": {}
      },
      "cell_type": "code",
      "source": [
        "print(my_string)"
      ],
      "execution_count": 0,
      "outputs": []
    },
    {
      "metadata": {
        "id": "_4t_JdK0KokB",
        "colab_type": "text"
      },
      "cell_type": "markdown",
      "source": [
        "In order to create multiline strings, we can use three sets of single or double quotes like this:"
      ]
    },
    {
      "metadata": {
        "id": "rG2jKpzXKokE",
        "colab_type": "code",
        "colab": {}
      },
      "cell_type": "code",
      "source": [
        "multi_line_string = \"\"\"This is the first line of our string\n",
        "and this is the second,\n",
        "and woah! A third line!\n",
        "\"\"\"\n",
        "\n",
        "print(multi_line_string)"
      ],
      "execution_count": 0,
      "outputs": []
    },
    {
      "metadata": {
        "id": "YHp-qwH4KokI",
        "colab_type": "text"
      },
      "cell_type": "markdown",
      "source": [
        "To determine the length (number of characters in a string) we can use the built-in Python function len() like this:"
      ]
    },
    {
      "metadata": {
        "id": "LMu33hmeKokI",
        "colab_type": "code",
        "colab": {}
      },
      "cell_type": "code",
      "source": [
        "print(len('You can enter a string like this'))\n",
        "\n",
        "new_string = 'Or you can enter a variable like this!'\n",
        "\n",
        "print(len(new_string))"
      ],
      "execution_count": 0,
      "outputs": []
    },
    {
      "metadata": {
        "id": "wuDVh08yKokK",
        "colab_type": "text"
      },
      "cell_type": "markdown",
      "source": [
        "Many other string operations exist which can be found here: https://docs.python.org/2/library/string.html\n",
        "\n",
        "For instance, if we wanted to turn a string to lowercase, we could use the .lower() method like this:"
      ]
    },
    {
      "metadata": {
        "id": "eQQgowMXKokL",
        "colab_type": "code",
        "colab": {}
      },
      "cell_type": "code",
      "source": [
        "my_string = \"HELLO\"\n",
        "\n",
        "print(my_string.lower())"
      ],
      "execution_count": 0,
      "outputs": []
    },
    {
      "metadata": {
        "id": "gqcB16QhKokO",
        "colab_type": "text"
      },
      "cell_type": "markdown",
      "source": [
        "#### Concatenating Strings\n",
        "You can combine multiple strings into a single string using the `+`. In the code below, we are concatenating the strings in variables `first_name` and `last_name` to create the variable `full_name`, and then printing it. Replace the value for first_name and last_name with your name, and run the program. "
      ]
    },
    {
      "metadata": {
        "id": "ZYdI24sDKokP",
        "colab_type": "code",
        "colab": {}
      },
      "cell_type": "code",
      "source": [
        "first_name = 'Joe '\n",
        "last_name = 'Python'\n",
        "\n",
        "full_name = first_name + last_name \n",
        "print(full_name)"
      ],
      "execution_count": 0,
      "outputs": []
    },
    {
      "metadata": {
        "id": "QhCoTv8wKokQ",
        "colab_type": "text"
      },
      "cell_type": "markdown",
      "source": [
        "Now create two strings with names `word1` and `word2` and concatenate them to form the string `BigData`. Store this in the variable `my_word`."
      ]
    },
    {
      "metadata": {
        "id": "n9ffoqvTKokQ",
        "colab_type": "code",
        "colab": {}
      },
      "cell_type": "code",
      "source": [
        "word1 = \n",
        "word2 = \n",
        "\n",
        "my_word = "
      ],
      "execution_count": 0,
      "outputs": []
    },
    {
      "metadata": {
        "id": "92beM2pEKokT",
        "colab_type": "text"
      },
      "cell_type": "markdown",
      "source": [
        "You can add a space between the two concatenated strings like so:"
      ]
    },
    {
      "metadata": {
        "id": "WWl97k-ZKokW",
        "colab_type": "code",
        "colab": {}
      },
      "cell_type": "code",
      "source": [
        "my_word = word1 + \" \" + word2\n",
        "print(my_word)"
      ],
      "execution_count": 0,
      "outputs": []
    },
    {
      "metadata": {
        "id": "q5o2VTlPKokb",
        "colab_type": "text"
      },
      "cell_type": "markdown",
      "source": [
        "We can also place variables in strings by using the %s notation like this. This is called a format string."
      ]
    },
    {
      "metadata": {
        "id": "ZtennK10Kokc",
        "colab_type": "code",
        "colab": {}
      },
      "cell_type": "code",
      "source": [
        "club_name = 'ADSA'\n",
        "print('%s is awesome!' % club_name)\n",
        "\n",
        "school = 'The University of Illinois'\n",
        "campus = 'Urbana-Champaign'\n",
        "print('%s at %s is a cool school.' % (school, campus))"
      ],
      "execution_count": 0,
      "outputs": []
    },
    {
      "metadata": {
        "id": "W6GvnjufKokd",
        "colab_type": "text"
      },
      "cell_type": "markdown",
      "source": [
        "### Exercise \n",
        "Now trying making the `my_word_two` variable with a formatted string that prints 'BigData'"
      ]
    },
    {
      "metadata": {
        "id": "WZ9hhfLMKokd",
        "colab_type": "code",
        "colab": {}
      },
      "cell_type": "code",
      "source": [
        "# Enter your code below"
      ],
      "execution_count": 0,
      "outputs": []
    },
    {
      "metadata": {
        "id": "UIl_DrePKokh",
        "colab_type": "text"
      },
      "cell_type": "markdown",
      "source": [
        "### Type Casting"
      ]
    },
    {
      "metadata": {
        "id": "gIsHmGSDKokh",
        "colab_type": "text"
      },
      "cell_type": "markdown",
      "source": [
        "Some times Python isn't sure what we want when trying to combine variables of different types."
      ]
    },
    {
      "metadata": {
        "id": "-jyawLu-Koki",
        "colab_type": "code",
        "colab": {}
      },
      "cell_type": "code",
      "source": [
        "num = 5\n",
        "print('My favorite number is ' + 5) # This will print an error"
      ],
      "execution_count": 0,
      "outputs": []
    },
    {
      "metadata": {
        "id": "pG-03hDnKokk",
        "colab_type": "text"
      },
      "cell_type": "markdown",
      "source": [
        "In order to get around this example, we can either use a formatted string, or what's known as \"type casting\" or \"type converting\" the variable num. Type casting is a special Python syntax which allows us to change the data type of a variable when we use it. We can use the str(), int(), long(), or a number of functions to convert data types. ([Here](http://www.informit.com/articles/article.aspx?p=459269&seqNum=7) is a larger list of conversion functions)"
      ]
    },
    {
      "metadata": {
        "id": "d5gVRjjAKokm",
        "colab_type": "code",
        "colab": {}
      },
      "cell_type": "code",
      "source": [
        "num = 5\n",
        "print('My favorite number is ' + str(num)) # This will now work"
      ],
      "execution_count": 0,
      "outputs": []
    },
    {
      "metadata": {
        "id": "mSQF27XgKoko",
        "colab_type": "text"
      },
      "cell_type": "markdown",
      "source": [
        "***\n",
        "### Numbers and Math"
      ]
    },
    {
      "metadata": {
        "id": "xcJwuHoDKoko",
        "colab_type": "text"
      },
      "cell_type": "markdown",
      "source": [
        "You can do all of the basic operations with integers. Addition and subtraction use the standard plus and minus symbols. Multiplication uses the asterisk, and division uses a forward slash. Exponents use two asterisks."
      ]
    },
    {
      "metadata": {
        "id": "jysUjJpyKokp",
        "colab_type": "code",
        "colab": {}
      },
      "cell_type": "code",
      "source": [
        "print(3+2)"
      ],
      "execution_count": 0,
      "outputs": []
    },
    {
      "metadata": {
        "id": "cnBQKZq7Koks",
        "colab_type": "code",
        "colab": {}
      },
      "cell_type": "code",
      "source": [
        "print(3-2)"
      ],
      "execution_count": 0,
      "outputs": []
    },
    {
      "metadata": {
        "id": "cbyhxdENKoku",
        "colab_type": "code",
        "colab": {}
      },
      "cell_type": "code",
      "source": [
        "print(3*2)"
      ],
      "execution_count": 0,
      "outputs": []
    },
    {
      "metadata": {
        "id": "BMRUdPSIKokw",
        "colab_type": "code",
        "colab": {}
      },
      "cell_type": "code",
      "source": [
        "print(3/2) # Dividing two integers returns the nearest integer rounded down in Python 2.7"
      ],
      "execution_count": 0,
      "outputs": []
    },
    {
      "metadata": {
        "id": "MRkjEa8NKokx",
        "colab_type": "text"
      },
      "cell_type": "markdown",
      "source": [
        "Didn't expect `3/2 = 1`, did you?\n",
        "\n",
        "In Python 2.7, division returns an integer value. To return a floating point (real) number, you can either convert one of two numbers to a float value, or use Python's `__future__` module"
      ]
    },
    {
      "metadata": {
        "id": "VFIupli4Koky",
        "colab_type": "code",
        "colab": {}
      },
      "cell_type": "code",
      "source": [
        "print(3%2) # This is the modulus symbol, it divides the number and uses the remainder\n",
        "          # with respect to 2\n",
        "print(6%8) # Here's another example, since 8 doesn't divide 6, the remainder is 6"
      ],
      "execution_count": 0,
      "outputs": []
    },
    {
      "metadata": {
        "id": "5f001waNKok0",
        "colab_type": "code",
        "colab": {}
      },
      "cell_type": "code",
      "source": [
        "print(3./2)"
      ],
      "execution_count": 0,
      "outputs": []
    },
    {
      "metadata": {
        "id": "kb0l-XoiKok2",
        "colab_type": "code",
        "colab": {}
      },
      "cell_type": "code",
      "source": [
        "# If we want to return the real value from integer division\n",
        "# we can import the Python module division from __future__\n",
        "from __future__ import division \n",
        "\n",
        "print(3/2)"
      ],
      "execution_count": 0,
      "outputs": []
    },
    {
      "metadata": {
        "id": "rXOZqPhbKok4",
        "colab_type": "code",
        "colab": {}
      },
      "cell_type": "code",
      "source": [
        "print(3**2) # This equates to 3^2"
      ],
      "execution_count": 0,
      "outputs": []
    },
    {
      "metadata": {
        "id": "QVkw8QsNKok6",
        "colab_type": "text"
      },
      "cell_type": "markdown",
      "source": [
        "With decimal numbers (called `float`), you can do the same operations."
      ]
    },
    {
      "metadata": {
        "id": "p2fakiZoKok6",
        "colab_type": "code",
        "colab": {}
      },
      "cell_type": "code",
      "source": [
        "print(1.7*4.4)"
      ],
      "execution_count": 0,
      "outputs": []
    },
    {
      "metadata": {
        "id": "_PJ890EIKok9",
        "colab_type": "code",
        "colab": {}
      },
      "cell_type": "code",
      "source": [
        "print(33.3/11.1)"
      ],
      "execution_count": 0,
      "outputs": []
    },
    {
      "metadata": {
        "id": "q29EUAzcKolA",
        "colab_type": "text"
      },
      "cell_type": "markdown",
      "source": [
        "And like strings, you can store them in variables and refer to them by the variable names."
      ]
    },
    {
      "metadata": {
        "id": "E7nXOmZ8KolC",
        "colab_type": "code",
        "colab": {}
      },
      "cell_type": "code",
      "source": [
        "x = 5\n",
        "y = 12\n",
        "\n",
        "# The + sign below does not concatenate the two variables X and Y because they are not strings.\n",
        "# The + sign in this case will compute the sum of the two variables.\n",
        "print(x+y)"
      ],
      "execution_count": 0,
      "outputs": []
    },
    {
      "metadata": {
        "id": "viHSrdWHKolF",
        "colab_type": "text"
      },
      "cell_type": "markdown",
      "source": [
        "### Exercise \n",
        "Now try storing the value of `x-squared plus y-squared` in the variable z."
      ]
    },
    {
      "metadata": {
        "id": "j--cJTDVKolG",
        "colab_type": "code",
        "colab": {}
      },
      "cell_type": "code",
      "source": [
        "# Enter your code below"
      ],
      "execution_count": 0,
      "outputs": []
    },
    {
      "metadata": {
        "id": "c9CMU3UuKolJ",
        "colab_type": "text"
      },
      "cell_type": "markdown",
      "source": [
        "***\n",
        "## If-Else Conditional\n",
        "Has an application ever asked you a question? Maybe it asked you if you really want to quit because unsaved changes might be lost, or if you want to leave a webpage. If you answer OK, one thing happens. But if you answer No or Cancel, something else happens. In all those cases there is a special piece of code that is being run somewhere in the code. It is an if condition.\n",
        "\n",
        "Like all languages, Python allows us to conditionally run code.\n",
        "\n",
        "To have an if condition we need the idea of something being true and something being false. Remember, we call numbers \"integers\" and \"floating point\", and text \"strings\". We call `True` or `False` \"boolean\" values. `True` would represent OK where as `False` would represent No or Cancel in the example above.\n",
        "\n",
        "The literal values in Python for true and false are `True` and `False`"
      ]
    },
    {
      "metadata": {
        "id": "FC65tYICKolJ",
        "colab_type": "text"
      },
      "cell_type": "markdown",
      "source": [
        "Try running the blocks of code below to get a sense of how boolean conditions work."
      ]
    },
    {
      "metadata": {
        "id": "MMElLYtVKolK",
        "colab_type": "code",
        "colab": {}
      },
      "cell_type": "code",
      "source": [
        "1 > 2"
      ],
      "execution_count": 0,
      "outputs": []
    },
    {
      "metadata": {
        "id": "pKPVsFFrKolM",
        "colab_type": "code",
        "colab": {}
      },
      "cell_type": "code",
      "source": [
        "\"Cool\".startswith(\"C\")"
      ],
      "execution_count": 0,
      "outputs": []
    },
    {
      "metadata": {
        "id": "xCWjQLyvKolO",
        "colab_type": "code",
        "colab": {}
      },
      "cell_type": "code",
      "source": [
        "\"Cool\".endswith(\"C\")"
      ],
      "execution_count": 0,
      "outputs": []
    },
    {
      "metadata": {
        "id": "Bc-lsTMVKolQ",
        "colab_type": "code",
        "colab": {}
      },
      "cell_type": "code",
      "source": [
        "\"oo\" in \"Cool\""
      ],
      "execution_count": 0,
      "outputs": []
    },
    {
      "metadata": {
        "id": "PJCB03j4KolT",
        "colab_type": "code",
        "colab": {}
      },
      "cell_type": "code",
      "source": [
        "42 == 1 # note the double equals sign for equality"
      ],
      "execution_count": 0,
      "outputs": []
    },
    {
      "metadata": {
        "id": "irwpyJ4BKolW",
        "colab_type": "text"
      },
      "cell_type": "markdown",
      "source": [
        "As in the example above, Python differentiates between `=` and `==`. The single equality symbol `=` is used to assign the value on the right to the variable on the left, like so:\n",
        "\n",
        "    my_variable = 59\n",
        "\n",
        "The double equality symbol `==` is used to compare two quantities. `==` gives us a result of `True` or `False`."
      ]
    },
    {
      "metadata": {
        "id": "ql-EuvdAKolW",
        "colab_type": "text"
      },
      "cell_type": "markdown",
      "source": [
        "In order to write an \"if\" statement we need code that spans multiple lines\n",
        "\n",
        "    if condition:\n",
        "        print(\"Condition is True\")\n",
        "    else:\n",
        "        print(\"Condition is False\")\n",
        "\n",
        "Some things to notice. The if condition ends in a colon (\":\"). In Python blocks of code are indicated with a colon (\":\") and are grouped by white space. Notice the else also ends with a colon (\":\"), \"else:\". Let's try changing the condition and see what happens."
      ]
    },
    {
      "metadata": {
        "id": "ZPYadaX6KolX",
        "colab_type": "code",
        "colab": {}
      },
      "cell_type": "code",
      "source": [
        "# condition holds either a True or False value\n",
        "condition = 1 > 2\n",
        "if condition:\n",
        "    print(\"Condition is True\")\n",
        "else:\n",
        "    print(\"Condition is False\")"
      ],
      "execution_count": 0,
      "outputs": []
    },
    {
      "metadata": {
        "id": "2UuhlCQeKold",
        "colab_type": "text"
      },
      "cell_type": "markdown",
      "source": [
        "About that white space, consider the following code below. Since the last print statement isn't indented it gets run after the if block or the else block. Also note that the comparison condition can be directly used in the if statement and does not have to be stored in a variable."
      ]
    },
    {
      "metadata": {
        "id": "baXsOZ5gKold",
        "colab_type": "code",
        "colab": {}
      },
      "cell_type": "code",
      "source": [
        "if 35 >= 17:\n",
        "    print(\"Condition is True\")\n",
        "else:\n",
        "    print(\"Condition is False\")\n",
        "print(\"Condition can be True or False, either way this is outputted because it is not indented.\")"
      ],
      "execution_count": 0,
      "outputs": []
    },
    {
      "metadata": {
        "id": "Kzf_JPm_Kolh",
        "colab_type": "text"
      },
      "cell_type": "markdown",
      "source": [
        "You can also use boolean logic inside if conditions using the keywords `and`, `or`, and `not`."
      ]
    },
    {
      "metadata": {
        "id": "W_91XkzPKoli",
        "colab_type": "code",
        "colab": {}
      },
      "cell_type": "code",
      "source": [
        "if \"zo\" not in \"Cool\" and 20/5 == 4:\n",
        "    print(\"Awesome!\")\n",
        "else:\n",
        "    print(\"Aww shucks!\")"
      ],
      "execution_count": 0,
      "outputs": []
    },
    {
      "metadata": {
        "id": "6-MIv12WKolk",
        "colab_type": "text"
      },
      "cell_type": "markdown",
      "source": [
        "***\n",
        "## Data Structures"
      ]
    },
    {
      "metadata": {
        "id": "x3aBh6O_Kolk",
        "colab_type": "text"
      },
      "cell_type": "markdown",
      "source": [
        "While declaring simple variables to hold data is very useful, once you begin working with a large set of related data or values, it becomes necessary to group this collection of data in some sort of structure to work with.\n",
        "\n",
        "Below, we will discuss a few fundamental data structures in Python and computer science in general."
      ]
    },
    {
      "metadata": {
        "id": "_d7pWrmfKolk",
        "colab_type": "text"
      },
      "cell_type": "markdown",
      "source": [
        "### Lists"
      ]
    },
    {
      "metadata": {
        "id": "dNoyDUs2Koll",
        "colab_type": "text"
      },
      "cell_type": "markdown",
      "source": [
        "Lists are perhaps the most fundemantal data structure in Python. A Python `List` is very similar to what other languages call an `Array`, however it has some added functionality.\n",
        "\n",
        "A list in Python is just like a shopping list or a list of numbers. They have a defined order and you can add to it or remove from it.\n",
        "\n",
        "Let's take a look at some simple lists."
      ]
    },
    {
      "metadata": {
        "id": "bIOc1EBuKolm",
        "colab_type": "code",
        "colab": {}
      },
      "cell_type": "code",
      "source": [
        "# The empty list\n",
        "[]"
      ],
      "execution_count": 0,
      "outputs": []
    },
    {
      "metadata": {
        "id": "VZKvBKEhKoln",
        "colab_type": "code",
        "colab": {}
      },
      "cell_type": "code",
      "source": [
        "[\"Milk\", \"Eggs\", \"Bacon\"]"
      ],
      "execution_count": 0,
      "outputs": []
    },
    {
      "metadata": {
        "id": "oO4M09Z9Kolq",
        "colab_type": "code",
        "colab": {}
      },
      "cell_type": "code",
      "source": [
        "[1, 2, 3]"
      ],
      "execution_count": 0,
      "outputs": []
    },
    {
      "metadata": {
        "id": "2qW-mUdOKols",
        "colab_type": "text"
      },
      "cell_type": "markdown",
      "source": [
        "List literals are all about square brackets (\"[ ]\") and commas (\",\"). You can create a list of literals by wrapping them in square brackets and separating them with commas.\n",
        "\n",
        "You can even mix different types of things into the same list; numbers, strings, booleans."
      ]
    },
    {
      "metadata": {
        "id": "upgFjHeQKolt",
        "colab_type": "code",
        "colab": {}
      },
      "cell_type": "code",
      "source": [
        "[True, 0, \"Awesome\"]"
      ],
      "execution_count": 0,
      "outputs": []
    },
    {
      "metadata": {
        "id": "dJsIF18oKolx",
        "colab_type": "text"
      },
      "cell_type": "markdown",
      "source": [
        "We can put variables into a list and set a variable to a list."
      ]
    },
    {
      "metadata": {
        "id": "J9gxGucvKoly",
        "colab_type": "code",
        "colab": {}
      },
      "cell_type": "code",
      "source": [
        "your_name = \"Albert O'Connor\"\n",
        "awesome_people = [\"Eric Idle\", your_name]\n",
        "print(awesome_people)"
      ],
      "execution_count": 0,
      "outputs": []
    },
    {
      "metadata": {
        "id": "fRzKIoyaKol0",
        "colab_type": "text"
      },
      "cell_type": "markdown",
      "source": [
        "You can append to a list. The following code lets you add an item to the end of a list."
      ]
    },
    {
      "metadata": {
        "id": "vQAq-H50Kol1",
        "colab_type": "code",
        "colab": {}
      },
      "cell_type": "code",
      "source": [
        "awesome_people.append(\"John Cleese\")\n",
        "print(awesome_people)"
      ],
      "execution_count": 0,
      "outputs": []
    },
    {
      "metadata": {
        "id": "UZyjccDGKol3",
        "colab_type": "text"
      },
      "cell_type": "markdown",
      "source": [
        "Lists, like in many other languages, are 0-indexed. Which means that when you try to access the first element in the list, you use the index 0 like so:"
      ]
    },
    {
      "metadata": {
        "id": "2BXApVVeKol4",
        "colab_type": "code",
        "colab": {}
      },
      "cell_type": "code",
      "source": [
        "awesome_people[0]"
      ],
      "execution_count": 0,
      "outputs": []
    },
    {
      "metadata": {
        "id": "Bll3jrWIKol5",
        "colab_type": "text"
      },
      "cell_type": "markdown",
      "source": [
        "And the second element like this:"
      ]
    },
    {
      "metadata": {
        "id": "FpGTBxgUKol6",
        "colab_type": "code",
        "colab": {}
      },
      "cell_type": "code",
      "source": [
        "awesome_people[1]"
      ],
      "execution_count": 0,
      "outputs": []
    },
    {
      "metadata": {
        "id": "PPOL5nkmKol7",
        "colab_type": "text"
      },
      "cell_type": "markdown",
      "source": [
        "There are many Python functions which can be performed on Lists. Here is an example using Python's len() and sum() functions."
      ]
    },
    {
      "metadata": {
        "id": "PmiBefpeKol-",
        "colab_type": "code",
        "colab": {}
      },
      "cell_type": "code",
      "source": [
        "my_list = [1,2,3,4,5]\n",
        "\n",
        "print(len(my_list)) # Prints the number of items in the list\n",
        "\n",
        "print (sum(my_list)) # Sums up the total value of all integers in the list"
      ],
      "execution_count": 0,
      "outputs": []
    },
    {
      "metadata": {
        "id": "dg5niSdsKol_",
        "colab_type": "text"
      },
      "cell_type": "markdown",
      "source": [
        "Another useful List operation is `in`, which returns true or false depending on if a value is or is not in a list."
      ]
    },
    {
      "metadata": {
        "id": "B61my32LKomB",
        "colab_type": "code",
        "colab": {}
      },
      "cell_type": "code",
      "source": [
        "my_list = [1,2,3,4,5]\n",
        "\n",
        "print(3 in my_list) # Checks if the value 3 appears in our list\n",
        "\n",
        "print(6 in my_list) # Checks if the value 6 appears in our list"
      ],
      "execution_count": 0,
      "outputs": []
    },
    {
      "metadata": {
        "id": "TZZ4f85qKomH",
        "colab_type": "text"
      },
      "cell_type": "markdown",
      "source": [
        "### Exercise \n",
        "Write a program using If-Else conditionals and List operations which prints \"Buy eggs!\" if the word \"Eggs\" is in the shopping list variable, or adds \"Eggs\" to the shopping list if it is not in the list."
      ]
    },
    {
      "metadata": {
        "id": "bcfnnZskKomH",
        "colab_type": "code",
        "colab": {}
      },
      "cell_type": "code",
      "source": [
        "shopping_list = ['Bacon', 'Milk'] # Run this once to make the list then enter your code below"
      ],
      "execution_count": 0,
      "outputs": []
    },
    {
      "metadata": {
        "id": "G2O38HQ5KomI",
        "colab_type": "code",
        "colab": {}
      },
      "cell_type": "code",
      "source": [
        "# Enter your code below"
      ],
      "execution_count": 0,
      "outputs": []
    },
    {
      "metadata": {
        "id": "Mjy1W3mhKomL",
        "colab_type": "text"
      },
      "cell_type": "markdown",
      "source": [
        "## Dictionaries"
      ]
    },
    {
      "metadata": {
        "id": "EQLiDjQVKomM",
        "colab_type": "text"
      },
      "cell_type": "markdown",
      "source": [
        "Another fundamental and extremely useful data structure is a Python Dictionary. \n",
        "\n",
        "A dictionary is Python's implementation of a structure known as a Hash Table. Essentially, a dictionary keeps a record of `keys` associated with `values`. Keys can be categories, names, or anything you would like which may have an associated value. When looking through the dictionary, you then have the ability to quickly look up the associated value of a key. \n",
        "\n",
        "Dictionaries are easiest to explain by using an example. Below, I have created an example dictionary in which students in a class are the `keys` in a dictionary, and their grades are the `values`."
      ]
    },
    {
      "metadata": {
        "id": "4D_iUNLKKomM",
        "colab_type": "code",
        "colab": {}
      },
      "cell_type": "code",
      "source": [
        "empty_dict = {} # Dictionaries are declared using {} curly brackets "
      ],
      "execution_count": 0,
      "outputs": []
    },
    {
      "metadata": {
        "id": "RdpagnKsKomO",
        "colab_type": "code",
        "colab": {}
      },
      "cell_type": "code",
      "source": [
        "# In this example, the dictionaries keys are students in a class, and the values are their grades\n",
        "class_grades = {\"Adam\": 86, \"Tim\": 93, \"Bill\": 70} "
      ],
      "execution_count": 0,
      "outputs": []
    },
    {
      "metadata": {
        "id": "-c0vNHQ8KomR",
        "colab_type": "text"
      },
      "cell_type": "markdown",
      "source": [
        "By using [ ] square brackets, we can retrieve the value for any key which exists in the dictionary\n"
      ]
    },
    {
      "metadata": {
        "id": "m6i4GmhyKomS",
        "colab_type": "code",
        "colab": {}
      },
      "cell_type": "code",
      "source": [
        "print(class_grades[\"Adam\"])"
      ],
      "execution_count": 0,
      "outputs": []
    },
    {
      "metadata": {
        "id": "ZQTP38k2KomU",
        "colab_type": "text"
      },
      "cell_type": "markdown",
      "source": [
        "Using square brackets to retrieve a value for a key that does not exist returns a `KEY ERROR`\n"
      ]
    },
    {
      "metadata": {
        "id": "frIhSDXRKomV",
        "colab_type": "code",
        "colab": {}
      },
      "cell_type": "code",
      "source": [
        "print(class_grades[\"Mark\"])"
      ],
      "execution_count": 0,
      "outputs": []
    },
    {
      "metadata": {
        "id": "bmmnZklaKomW",
        "colab_type": "text"
      },
      "cell_type": "markdown",
      "source": [
        "To resolve this, you can either check if a key exists in the dictionary, or use a Python function called .get() which returns a defaults value of `None` if a key does not exist\n"
      ]
    },
    {
      "metadata": {
        "id": "8M1AU4RGKomW",
        "colab_type": "code",
        "colab": {}
      },
      "cell_type": "code",
      "source": [
        "# Using the regular in syntax will return true or false \n",
        "print(\"Mark\" in class_grades)\n",
        "\n",
        "# The .get() function returns `None` if the key is not found\n",
        "print(class_grades.get(\"Mark\"))"
      ],
      "execution_count": 0,
      "outputs": []
    },
    {
      "metadata": {
        "id": "IfGvESfXKomZ",
        "colab_type": "text"
      },
      "cell_type": "markdown",
      "source": [
        "Dictionaries are commonly used to hold related sets of information, such as a tweet. Twitter and many companies actually use Python and dictionaries to deal with this type of information.\n",
        "\n",
        "Notice below how values can be any datatype, such as Strings, Integers, or even Lists."
      ]
    },
    {
      "metadata": {
        "id": "QRszXROtKomZ",
        "colab_type": "code",
        "colab": {}
      },
      "cell_type": "code",
      "source": [
        "tweet = {\n",
        "    \"user\"          : \"adsafan2016\",\n",
        "    \"text\"          : \"Data Science is Awesome\",\n",
        "    \"retweet_count\" : 32567,\n",
        "    \"hashtags\"      : [\"#data\", \"#science\", \"#datascience\", \"#awesome\", \"#yolo\"]\n",
        "}"
      ],
      "execution_count": 0,
      "outputs": []
    },
    {
      "metadata": {
        "id": "HJSvXw7DKome",
        "colab_type": "text"
      },
      "cell_type": "markdown",
      "source": [
        "***\n",
        "## Loops"
      ]
    },
    {
      "metadata": {
        "id": "1BQJLreFKome",
        "colab_type": "text"
      },
      "cell_type": "markdown",
      "source": [
        "Indexes are useful, but lists really shine when you start looping.\n",
        "\n",
        "One of the most commonly used types of loops is called a `for` loop. A `for` loop lets you do something for each item in a list or collection. They syntax for a `for` loop is like an if statement, because they have an indented block.\n",
        "\n",
        "They look like this:\n",
        "\n",
        "    for item in list:\n",
        "        print(item) # Do any action per item in the list\n",
        "        \n",
        "A good interpretation of what is happening above in English would be:\n",
        "\n",
        "**\"For each item in list, print that item\"**.\n",
        "\n",
        "\"for\" and \"in\" are required. \"list\" can be any variable or literal which is like a list. \"item\" is the name you want to give each item of the list in the indented block as you iterate through. We call each step where item has a new value an iteration.\n",
        "\n",
        "Let's see it in action with our list:"
      ]
    },
    {
      "metadata": {
        "id": "ckslogWXKomf",
        "colab_type": "code",
        "colab": {}
      },
      "cell_type": "code",
      "source": [
        "# This is what out list of awesome people looks like right now:\n",
        "print(awesome_people)\n",
        "\n",
        "for person in awesome_people:\n",
        "    print(person)"
      ],
      "execution_count": 0,
      "outputs": []
    },
    {
      "metadata": {
        "id": "RkQ_0tZ1Komk",
        "colab_type": "text"
      },
      "cell_type": "markdown",
      "source": [
        "This is bascially the same as writing:"
      ]
    },
    {
      "metadata": {
        "id": "pDR58wm6Komk",
        "colab_type": "code",
        "colab": {}
      },
      "cell_type": "code",
      "source": [
        "person = awesome_people[0]\n",
        "print(person)\n",
        "person = awesome_people[1]\n",
        "print(person)\n",
        "person = awesome_people[2]\n",
        "print(person)"
      ],
      "execution_count": 0,
      "outputs": []
    },
    {
      "metadata": {
        "id": "X7Lse3CTKomn",
        "colab_type": "text"
      },
      "cell_type": "markdown",
      "source": [
        "But that is a lot more code than:\n",
        "\n",
        "    for person in awesome_people:\n",
        "        print(person)\n",
        "\n",
        "Considering that our list of awesome people could be very long!\n",
        "\n",
        "You can use the built-in function \"range\" to create lists of numbers easily."
      ]
    },
    {
      "metadata": {
        "id": "X5Q1l0nNKomn",
        "colab_type": "code",
        "colab": {}
      },
      "cell_type": "code",
      "source": [
        "range(0, 10)"
      ],
      "execution_count": 0,
      "outputs": []
    },
    {
      "metadata": {
        "id": "HrMURjA2Komo",
        "colab_type": "text"
      },
      "cell_type": "markdown",
      "source": [
        "And then we can use that with a loop to print a list of squares. Note that we use special string formatting here in which `{0}` represents the first variable inside the format parentheses, and `{1}` represents the second variable."
      ]
    },
    {
      "metadata": {
        "id": "TvuizxyeKomo",
        "colab_type": "code",
        "colab": {}
      },
      "cell_type": "code",
      "source": [
        "for number in range(0, 10):\n",
        "    print(\"{0} squared is {1}\".format(number, number**2))"
      ],
      "execution_count": 0,
      "outputs": []
    },
    {
      "metadata": {
        "id": "XWQHxaPlKomq",
        "colab_type": "text"
      },
      "cell_type": "markdown",
      "source": [
        "***\n",
        "## Functions"
      ]
    },
    {
      "metadata": {
        "id": "D1fP7PQbKomq",
        "colab_type": "text"
      },
      "cell_type": "markdown",
      "source": [
        "Functions are a set of actions that we group together, and give a name to. We can define our own functions, which allows us to \"teach\" Python new behavior.\n",
        "\n",
        "Here is the general syntax for defining and calling functions.\n",
        "\n",
        "    # Let's define a function.\n",
        "    def function_name(argument_1, argument_2):\n",
        "        # Do whatever we want this function to do,\n",
        "        # using argument_1 and argument_2\n",
        "        \n",
        "    # Use function_name to call the function.\n",
        "    function_name(value_1, value_2)"
      ]
    },
    {
      "metadata": {
        "id": "WxeKyvFOKomq",
        "colab_type": "text"
      },
      "cell_type": "markdown",
      "source": [
        "* __Defining a function__\n",
        "    * The keyword `def` tells Python that you are about to define a function.\n",
        "    * Functions have a name. A variable name tells you what kind of value the variable contains; a function name should tell you what the function does.\n",
        "    * The values inside parentheses are called __arguments__ or __parameters__. Functions use parameters to get data it may need to execute.\n",
        "        * These are basically variable names, but they are only used in the function.\n",
        "        * They can be different names than what you use in the rest of your program.\n",
        "    * Make sure the function definition line ends with a colon.\n",
        "* __Using your function__\n",
        "    * To call your function, write its name followed by parentheses.\n",
        "    * Inside the parentheses, provide the values for the function's parameters.\n",
        "    * These can be values can be other variables you have defined or literal values."
      ]
    },
    {
      "metadata": {
        "id": "a-EGL6yJKomq",
        "colab_type": "code",
        "colab": {}
      },
      "cell_type": "code",
      "source": [
        "# This function prints a two-line personalized thank you message.\n",
        "def say_hello(name):\n",
        "    # print() is also a function!\n",
        "    # It prints the string you give it onto the screen.\n",
        "    \n",
        "    print('Hello, {0}!'.format(name))\n",
        "    print('How\\'s it going?') # Note that the \\ character allows you to use single quotes without ending the string"
      ],
      "execution_count": 0,
      "outputs": []
    },
    {
      "metadata": {
        "id": "JEDS5sClKomt",
        "colab_type": "code",
        "colab": {}
      },
      "cell_type": "code",
      "source": [
        "# now we can use the function that we just defined\n",
        "say_hello('Adriana')\n",
        "say_hello('Billy')\n",
        "say_hello('Caroline')"
      ],
      "execution_count": 0,
      "outputs": []
    },
    {
      "metadata": {
        "id": "2Pxvs9caKomv",
        "colab_type": "text"
      },
      "cell_type": "markdown",
      "source": [
        "You have already used quite a lot of built in functions so far. Here's some more functions that we can use on lists to sort them."
      ]
    },
    {
      "metadata": {
        "id": "zAhKRN_eKomw",
        "colab_type": "code",
        "colab": {}
      },
      "cell_type": "code",
      "source": [
        "students = ['Bernice', 'Aaron', 'Cody']\n",
        "\n",
        "# Use the sort function to put students in alphabetical order.\n",
        "students.sort()\n",
        "\n",
        "# Display the list in its current order.\n",
        "print(\"Students in alphabetical order.\")\n",
        "for student in students:\n",
        "    print(student.title())\n",
        "\n",
        "# Give the sort function the reverse parameter\n",
        "# This puts students in reverse alphabetical order.\n",
        "students.sort(reverse=True)\n",
        "\n",
        "# Display the list in reverse order.\n",
        "print(\"\\nStudents in reverse alphabetical order.\")\n",
        "for student in students:\n",
        "    print(student.title())"
      ],
      "execution_count": 0,
      "outputs": []
    },
    {
      "metadata": {
        "id": "DAJ-_uazKomy",
        "colab_type": "text"
      },
      "cell_type": "markdown",
      "source": [
        "### Returning Values from Functions\n",
        "\n",
        "Functions can also return values. This is useful when we want the function to compute some data and give it back to us to use elsewhere in our code.\n",
        "\n",
        "Note: once a function returns something, Python moves out of that code. So anything after the return statement will not be run."
      ]
    },
    {
      "metadata": {
        "id": "QUq72xKmKomz",
        "colab_type": "code",
        "colab": {},
        "outputId": "569bfba4-d9aa-4122-d844-f47fa515d30d"
      },
      "cell_type": "code",
      "source": [
        "def add_five(number):\n",
        "    print(\"Adding 5 to\", number, \"now...\")\n",
        "    return number + 5\n",
        "    # We have already returned out of the function, the line below is arbitrary\n",
        "    print(\"This will not get printed\")\n",
        "    \n",
        "# Now use your function add_five()\n",
        "num = add_five(10)\n",
        "print(\"New number is:\", num)"
      ],
      "execution_count": 0,
      "outputs": [
        {
          "output_type": "stream",
          "text": [
            "Adding 5 to 10 now...\n",
            "New number is: 15\n"
          ],
          "name": "stdout"
        }
      ]
    },
    {
      "metadata": {
        "id": "SU4ujjryKom3",
        "colab_type": "code",
        "colab": {},
        "outputId": "571c115f-4dcb-413f-c590-87c1a19c1f1d"
      },
      "cell_type": "code",
      "source": [
        "def get_number_word(number):\n",
        "    # Takes in a numerical value, and returns the word corresponding to that number.\n",
        "    if number == 1:\n",
        "        return 'one'\n",
        "    elif number == 2:\n",
        "        return 'two'\n",
        "    elif number == 3:\n",
        "        return 'three'\n",
        "    else:\n",
        "        return 'N/A'\n",
        "    \n",
        "# Let's try out our function.\n",
        "for number in range(0, 4):\n",
        "    number_word = get_number_word(number)\n",
        "    print(number, number_word)"
      ],
      "execution_count": 0,
      "outputs": [
        {
          "output_type": "stream",
          "text": [
            "0 N/A\n",
            "1 one\n",
            "2 two\n",
            "3 three\n"
          ],
          "name": "stdout"
        }
      ]
    },
    {
      "metadata": {
        "id": "QAx6UBqUKom5",
        "colab_type": "text"
      },
      "cell_type": "markdown",
      "source": [
        "### Exercise \n",
        "Now try writing a function called `future_age` that takes in a name, current_age, and n_years as parameters, and returns a message with their name saying how old they will be in n_years. For example: future_age('Bill', 20, 13) should return 'Bill will be 33 years old in 13 years'."
      ]
    },
    {
      "metadata": {
        "id": "ojehvvj_Kom6",
        "colab_type": "code",
        "colab": {}
      },
      "cell_type": "code",
      "source": [
        "# Enter your code below"
      ],
      "execution_count": 0,
      "outputs": []
    },
    {
      "metadata": {
        "id": "QAVVx_wPKom7",
        "colab_type": "text"
      },
      "cell_type": "markdown",
      "source": [
        "### Exercise \n",
        "Now you try writing a function called called `factorial`, which takes in a paramter n, and returns `n!`. Then, try testing your function out, factorial(5) should return 120. (Note that the factorial of 0 is 1, so we can start our return variable at 1 rather than 0.)"
      ]
    },
    {
      "metadata": {
        "id": "ELAcReWpKom8",
        "colab_type": "code",
        "colab": {}
      },
      "cell_type": "code",
      "source": [
        "# Enter your code below"
      ],
      "execution_count": 0,
      "outputs": []
    },
    {
      "metadata": {
        "id": "Qs8WfmLGKom9",
        "colab_type": "text"
      },
      "cell_type": "markdown",
      "source": [
        "### Exercise\n",
        "\n",
        "<b>Applies the following:</b>\n",
        "- loops\n",
        "- lists\n",
        "- math operators\n",
        "- functions\n"
      ]
    },
    {
      "metadata": {
        "id": "aN-o7_yoKom9",
        "colab_type": "code",
        "colab": {}
      },
      "cell_type": "code",
      "source": [
        "# execute this line first\n",
        "list_data = [20, 50, 30, 70, 42, 30, 56, 72, 88, 90, 4, 65, 77, 42, 57]"
      ],
      "execution_count": 0,
      "outputs": []
    },
    {
      "metadata": {
        "id": "u3IXnyKPKonB",
        "colab_type": "code",
        "colab": {}
      },
      "cell_type": "code",
      "source": [
        "# write a function that will take any list of numbers and sum up the values\n",
        "# this function should return the sum of the list.\n",
        "# add parameters if necessary\n",
        "def sum_list():\n",
        "    # start here\n",
        "    \n",
        "    return # may need to modify this\n",
        "    \n",
        "# write another function that will take the sum and print out each digit separately\n",
        "# example - 3174 should print out '3', '1', '7', and '4'\n",
        "def print_digits():\n",
        "    # start here\n",
        "    \n",
        "    return # may need to modify this\n",
        "\n",
        "# write the code to make use of the functions that you wrote\n",
        "# Enter your code below\n",
        "\n"
      ],
      "execution_count": 0,
      "outputs": []
    },
    {
      "metadata": {
        "id": "buIatk9nKonD",
        "colab_type": "text"
      },
      "cell_type": "markdown",
      "source": [
        "***\n",
        "## Going Forward"
      ]
    },
    {
      "metadata": {
        "id": "6ysqae-HKonE",
        "colab_type": "text"
      },
      "cell_type": "markdown",
      "source": [
        "This concludes are introduction to Python workshop, I hope you learned something! In order to practice your Python skills, you can either code directly on sites like https://repl.it/languages, which offer an in-browser text editor and Python compiler. Or, you can write and run Python programs from your command line or terminal on whatever OS you're on by writing a file ending in .py, and typing `python filename.py`.\n",
        "\n",
        "Python is a really fun and simple language to learn, and I highly recommend continuing to practice. There are websites that can teach you how to create very cool programs, and they are all a Google search away.\n",
        "\n",
        "Join us next week for our Advanced Python workshop, and keep on practicing your skills!"
      ]
    }
  ]
}