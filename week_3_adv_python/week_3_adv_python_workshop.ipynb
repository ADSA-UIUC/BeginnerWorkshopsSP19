{
  "nbformat": 4,
  "nbformat_minor": 0,
  "metadata": {
    "colab": {
      "name": "week_3_adv_python_workshop.ipynb",
      "version": "0.3.2",
      "provenance": [],
      "collapsed_sections": [
        "0IdAoixSAPZU",
        "zVrBlx4AAPZj",
        "pIliDqauAPZq",
        "lrNHcKoCAPZr",
        "xmHQV98BAPZ8",
        "oot7oveOAPaA",
        "tHRQlRreAPaE",
        "366PeEg2APaJ",
        "SJkYTHF9APaL"
      ]
    },
    "kernelspec": {
      "display_name": "Python 3",
      "language": "python",
      "name": "python3"
    }
  },
  "cells": [
    {
      "metadata": {
        "id": "_JlwZIH6APXB",
        "colab_type": "text"
      },
      "cell_type": "markdown",
      "source": [
        "![ADSA Logo](http://i.imgur.com/BV0CdHZ.png?2 \"ADSA Logo\")"
      ]
    },
    {
      "metadata": {
        "id": "pEdyF3z4APXC",
        "colab_type": "text"
      },
      "cell_type": "markdown",
      "source": [
        "# Spring 2019 ADSA Workshop - Python Series: Advanced Python    \n",
        "\n",
        "Workshop content is adapted from:\n",
        "* http://python-3-patterns-idioms-test.readthedocs.org/\n",
        "* https://github.com/ehmatthes/intro_programming/\n",
        "* http://github.com/rasbt/python_reference/blob/master/tutorials/sorting_csvs.ipynb\n",
        "* http://www.engr.ucsb.edu/~shell/che210d/numpy.pdf"
      ]
    },
    {
      "metadata": {
        "id": "kr10iqGTAPXD",
        "colab_type": "text"
      },
      "cell_type": "markdown",
      "source": [
        "This workshop is a continuation of last week's Introduction to Python workshop and will be focusing on the following topics:\n",
        "* Reviewing Workshop 1: Introduction to Python\n",
        "* Data Structures\n",
        "    * Lists\n",
        "    * Tuples\n",
        "    * Dictionaries\n",
        "* Loops\n",
        "* Functions\n",
        "* Standard Library Modules\n",
        "    * Math\n",
        "    * fileIO\n",
        "    * CSV\n",
        "* To-do List Project\n",
        "* List functions\n",
        "    * List Slicing\n",
        "    * List Comprehensions\n",
        "* Lambda Functions"
      ]
    },
    {
      "metadata": {
        "id": "2DmGfsFrAPXE",
        "colab_type": "text"
      },
      "cell_type": "markdown",
      "source": [
        "## Reviewing Workshop 1: Introduction to Python"
      ]
    },
    {
      "metadata": {
        "id": "2zc6Az6CAPXF",
        "colab_type": "text"
      },
      "cell_type": "markdown",
      "source": [
        "### Variables and Data Types"
      ]
    },
    {
      "metadata": {
        "id": "4P-xqOUBAPXG",
        "colab_type": "text"
      },
      "cell_type": "markdown",
      "source": [
        "A variable is used to hold a value. Variables and values have an associated datatype. Common datatypes are:\n",
        "* `string` (text)\n",
        "* `int` (integer)\n",
        "* `float` (decimal value)\n",
        "* `bool` (binary `True` or `False` values)\n",
        "* Many more \n",
        "\n",
        "In many programming languages, you must specify what datatype your variable is, however, Python is able to tell the type based on the value you enter. When you declare a variable, you give the variable a name, and specify its value."
      ]
    },
    {
      "metadata": {
        "id": "OUduaut6APXH",
        "colab_type": "code",
        "colab": {}
      },
      "cell_type": "code",
      "source": [
        "my_string = \"Data Science\" # string"
      ],
      "execution_count": 0,
      "outputs": []
    },
    {
      "metadata": {
        "id": "M1B4boHJAPXK",
        "colab_type": "code",
        "colab": {}
      },
      "cell_type": "code",
      "source": [
        "my_int = 5 # integer type"
      ],
      "execution_count": 0,
      "outputs": []
    },
    {
      "metadata": {
        "id": "kzlOoSVjAPXM",
        "colab_type": "code",
        "colab": {}
      },
      "cell_type": "code",
      "source": [
        "my_float = 3.2 # float(decimal) type"
      ],
      "execution_count": 0,
      "outputs": []
    },
    {
      "metadata": {
        "id": "UgyhjwrWAPXO",
        "colab_type": "code",
        "colab": {}
      },
      "cell_type": "code",
      "source": [
        "my_bool = True # boolean type"
      ],
      "execution_count": 0,
      "outputs": []
    },
    {
      "metadata": {
        "id": "HaTuWva2APXR",
        "colab_type": "text"
      },
      "cell_type": "markdown",
      "source": [
        "### If-Else Conditional"
      ]
    },
    {
      "metadata": {
        "id": "fn1RyUN3APXR",
        "colab_type": "code",
        "colab": {}
      },
      "cell_type": "code",
      "source": [
        "x = True # Try changing this variable to \"False\n",
        "if x == True:\n",
        "    print(\"If x is true, then this message will print\")\n",
        "else: \n",
        "    print(\"else, if x is false, this message will print\")"
      ],
      "execution_count": 0,
      "outputs": []
    },
    {
      "metadata": {
        "id": "Utk29cl7APXT",
        "colab_type": "text"
      },
      "cell_type": "markdown",
      "source": [
        "## Data Structures"
      ]
    },
    {
      "metadata": {
        "id": "k9OtPrHqAPXU",
        "colab_type": "text"
      },
      "cell_type": "markdown",
      "source": [
        "While declaring simple variables to hold data is very useful, once you begin working with a large set of related data or values, it becomes necessary to group this collection of data in some sort of structure to work with.\n",
        "\n",
        "Below, we will discuss a few fundamental data structures in Python and computer science in general."
      ]
    },
    {
      "metadata": {
        "id": "RRbkxzsIAPXV",
        "colab_type": "text"
      },
      "cell_type": "markdown",
      "source": [
        "### Lists"
      ]
    },
    {
      "metadata": {
        "id": "wbYc67e5APXW",
        "colab_type": "text"
      },
      "cell_type": "markdown",
      "source": [
        "Lists are perhaps the most fundemantal data structure in Python. A Python `List` is very similar to what other languages call an `Array`, however it has some added functionality.\n",
        "\n",
        "A list in Python is just like a shopping list or a list of numbers. They have a defined order and you can add to it or remove from it.\n",
        "\n",
        "Let's take a look at some simple lists."
      ]
    },
    {
      "metadata": {
        "id": "IVvjLEsJAPXX",
        "colab_type": "code",
        "colab": {}
      },
      "cell_type": "code",
      "source": [
        "# The empty list\n",
        "[]"
      ],
      "execution_count": 0,
      "outputs": []
    },
    {
      "metadata": {
        "id": "ICK9xfmSAPXa",
        "colab_type": "code",
        "colab": {}
      },
      "cell_type": "code",
      "source": [
        "[\"Milk\", \"Eggs\", \"Bacon\"]"
      ],
      "execution_count": 0,
      "outputs": []
    },
    {
      "metadata": {
        "id": "gu7a0bz-APXc",
        "colab_type": "code",
        "colab": {}
      },
      "cell_type": "code",
      "source": [
        "[1, 2, 3]"
      ],
      "execution_count": 0,
      "outputs": []
    },
    {
      "metadata": {
        "id": "WIHdMa45APXe",
        "colab_type": "text"
      },
      "cell_type": "markdown",
      "source": [
        "List literals are all about square brackets (\"[ ]\") and commas (\",\"). You can create a list of literals by wrapping them in square brackets and separating them with commas.\n",
        "\n",
        "You can even mix different types of things into the same list; numbers, strings, booleans."
      ]
    },
    {
      "metadata": {
        "id": "j1gOX5b9APXf",
        "colab_type": "code",
        "colab": {}
      },
      "cell_type": "code",
      "source": [
        "[True, 0, \"Awesome\"]"
      ],
      "execution_count": 0,
      "outputs": []
    },
    {
      "metadata": {
        "id": "NPSjLvujAPXg",
        "colab_type": "text"
      },
      "cell_type": "markdown",
      "source": [
        "We can put variables into a list and set a variable to a list."
      ]
    },
    {
      "metadata": {
        "id": "DDfgi9d3APXh",
        "colab_type": "code",
        "colab": {}
      },
      "cell_type": "code",
      "source": [
        "your_name = \"Albert O'Connor\"\n",
        "awesome_people = [\"Eric Idle\", your_name]\n",
        "print(awesome_people)"
      ],
      "execution_count": 0,
      "outputs": []
    },
    {
      "metadata": {
        "id": "-BdD5tp8APXj",
        "colab_type": "text"
      },
      "cell_type": "markdown",
      "source": [
        "You can append to a list. The following code lets you add an item to the end of a list."
      ]
    },
    {
      "metadata": {
        "id": "QHeQnSmLAPXk",
        "colab_type": "code",
        "colab": {}
      },
      "cell_type": "code",
      "source": [
        "awesome_people.append(\"John Cleese\")\n",
        "print(awesome_people)"
      ],
      "execution_count": 0,
      "outputs": []
    },
    {
      "metadata": {
        "id": "m1cgpu8gAPXo",
        "colab_type": "text"
      },
      "cell_type": "markdown",
      "source": [
        "Lists, like in many other languages, are 0-indexed. Which means that when you try to access the first element in the list, you use the index 0 like so:"
      ]
    },
    {
      "metadata": {
        "id": "p99lup4AAPXp",
        "colab_type": "code",
        "colab": {}
      },
      "cell_type": "code",
      "source": [
        "awesome_people[0]"
      ],
      "execution_count": 0,
      "outputs": []
    },
    {
      "metadata": {
        "id": "TG6j4GzfAPXt",
        "colab_type": "text"
      },
      "cell_type": "markdown",
      "source": [
        "And the second element like this:"
      ]
    },
    {
      "metadata": {
        "id": "2x22RY1qAPXt",
        "colab_type": "code",
        "colab": {}
      },
      "cell_type": "code",
      "source": [
        "awesome_people[1]"
      ],
      "execution_count": 0,
      "outputs": []
    },
    {
      "metadata": {
        "id": "TqiW94unAPXv",
        "colab_type": "text"
      },
      "cell_type": "markdown",
      "source": [
        "There are many Python functions which can be performed on Lists. Here is an example using Python's len() and sum() functions."
      ]
    },
    {
      "metadata": {
        "id": "agSL-wYlAPXw",
        "colab_type": "code",
        "colab": {}
      },
      "cell_type": "code",
      "source": [
        "my_list = [1,2,3,4,5]\n",
        "\n",
        "print(len(my_list)) # Prints the number of items in the list\n",
        "\n",
        "print (sum(my_list)) # Sums up the total value of all integers in the list"
      ],
      "execution_count": 0,
      "outputs": []
    },
    {
      "metadata": {
        "id": "k_ctv72DAPXy",
        "colab_type": "text"
      },
      "cell_type": "markdown",
      "source": [
        "Another useful List operation is `in`, which returns true or false depending on if a value is or is not in a list."
      ]
    },
    {
      "metadata": {
        "id": "RneMbBWGAPXz",
        "colab_type": "code",
        "colab": {}
      },
      "cell_type": "code",
      "source": [
        "my_list = [1,2,3,4,5]\n",
        "\n",
        "print(3 in my_list) # Checks if the value 3 appears in our list\n",
        "\n",
        "print(6 in my_list) # Checks if the value 6 appears in our list"
      ],
      "execution_count": 0,
      "outputs": []
    },
    {
      "metadata": {
        "id": "oMm6ayabAPX1",
        "colab_type": "text"
      },
      "cell_type": "markdown",
      "source": [
        "### Exercise "
      ]
    },
    {
      "metadata": {
        "id": "lEsUYd53APX3",
        "colab_type": "text"
      },
      "cell_type": "markdown",
      "source": [
        "Write a program using If-Else conditionals and List operations which prints \"Buy eggs!\" if the word \"Eggs\" is in the shopping list variable, or adds \"Eggs\" to the shopping list if it is not in the list."
      ]
    },
    {
      "metadata": {
        "id": "PWGda3YoAPX3",
        "colab_type": "code",
        "colab": {}
      },
      "cell_type": "code",
      "source": [
        "shopping_list = ['Bacon', 'Milk'] # Run this once to make the list then enter your code below"
      ],
      "execution_count": 0,
      "outputs": []
    },
    {
      "metadata": {
        "id": "4v-EkHz6APX5",
        "colab_type": "code",
        "colab": {}
      },
      "cell_type": "code",
      "source": [
        "#Enter your code below"
      ],
      "execution_count": 0,
      "outputs": []
    },
    {
      "metadata": {
        "id": "N4DEMc68APX7",
        "colab_type": "code",
        "colab": {}
      },
      "cell_type": "code",
      "source": [
        "# To remove, use the remove() function\n",
        "shopping_list.remove(shopping_list[2])\n",
        "print('Remove Shopping List : ' + str(shopping_list))"
      ],
      "execution_count": 0,
      "outputs": []
    },
    {
      "metadata": {
        "id": "aYLQsC-vAPX8",
        "colab_type": "text"
      },
      "cell_type": "markdown",
      "source": [
        "***\n",
        "## Tuples\n",
        "\n",
        "Anything that can be done to a list can be done to a tuple, as long as it doesn’t involve modifying it. This is due to the fact that tuples are immutable, which means it can not be modified once it is created. \n",
        "\n",
        "You have the option of putting parenthesis as long as the values are separated by commas, but you DO NOT have the option of putting square brackets. If square brackets are used, you will create a list and not a tuple."
      ]
    },
    {
      "metadata": {
        "id": "gz_jT-7XAPX9",
        "colab_type": "code",
        "colab": {}
      },
      "cell_type": "code",
      "source": [
        "tup = (45, 96) # creates a tuple without any parenthesis"
      ],
      "execution_count": 0,
      "outputs": []
    },
    {
      "metadata": {
        "id": "r-HIbrmqAPYA",
        "colab_type": "code",
        "colab": {
          "base_uri": "https://localhost:8080/",
          "height": 33
        },
        "outputId": "fb2675e5-0e97-43d8-9571-29c4978aaafe"
      },
      "cell_type": "code",
      "source": [
        "print(type(tup))"
      ],
      "execution_count": 2,
      "outputs": [
        {
          "output_type": "stream",
          "text": [
            "<class 'tuple'>\n"
          ],
          "name": "stdout"
        }
      ]
    },
    {
      "metadata": {
        "id": "zBV45D83APYB",
        "colab_type": "code",
        "colab": {}
      },
      "cell_type": "code",
      "source": [
        "another_tup = ('hello', 'there') # creates a tuple with parenthis(easier to read)"
      ],
      "execution_count": 0,
      "outputs": []
    },
    {
      "metadata": {
        "id": "T1TOhO0FAPYF",
        "colab_type": "code",
        "colab": {
          "base_uri": "https://localhost:8080/",
          "height": 33
        },
        "outputId": "49c7a0cd-43a4-4b08-9af4-5abc619058f7"
      },
      "cell_type": "code",
      "source": [
        "print(type(another_tup))"
      ],
      "execution_count": 8,
      "outputs": [
        {
          "output_type": "stream",
          "text": [
            "<class 'tuple'>\n"
          ],
          "name": "stdout"
        }
      ]
    },
    {
      "metadata": {
        "id": "8ekUrhKjAPYG",
        "colab_type": "code",
        "colab": {
          "base_uri": "https://localhost:8080/",
          "height": 50
        },
        "outputId": "e08dc6c7-ed48-4db6-bfa0-5401a0057866"
      },
      "cell_type": "code",
      "source": [
        "# accessing tuple elements\n",
        "print(tup[1])\n",
        "print(another_tup[0])"
      ],
      "execution_count": 9,
      "outputs": [
        {
          "output_type": "stream",
          "text": [
            "96\n",
            "hello\n"
          ],
          "name": "stdout"
        }
      ]
    },
    {
      "metadata": {
        "id": "ZOGjLcfmAPYK",
        "colab_type": "code",
        "colab": {}
      },
      "cell_type": "code",
      "source": [
        "# difference between creating a list and a tuple\n",
        "a_list = [23, 45]   # create new list\n",
        "a_tuple = (3, 4)   # created new tuple\n",
        "print(a_list)\n",
        "print(a_tuple)"
      ],
      "execution_count": 0,
      "outputs": []
    },
    {
      "metadata": {
        "id": "LpOzhsMnAPYN",
        "colab_type": "code",
        "colab": {}
      },
      "cell_type": "code",
      "source": [
        "# try modifying values in a list\n",
        "a_list[1] = 76   \n",
        "print(\"a_list: \", a_list)"
      ],
      "execution_count": 0,
      "outputs": []
    },
    {
      "metadata": {
        "id": "H9s59YpdAPYP",
        "colab_type": "code",
        "colab": {
          "base_uri": "https://localhost:8080/",
          "height": 158
        },
        "outputId": "d87f6d54-5fa2-4569-b080-826917a020e0"
      },
      "cell_type": "code",
      "source": [
        "# now try modifying a tuple, will print an error\n",
        "a_tuple[0] = 33"
      ],
      "execution_count": 10,
      "outputs": [
        {
          "output_type": "error",
          "ename": "NameError",
          "evalue": "ignored",
          "traceback": [
            "\u001b[0;31m---------------------------------------------------------------------------\u001b[0m",
            "\u001b[0;31mNameError\u001b[0m                                 Traceback (most recent call last)",
            "\u001b[0;32m<ipython-input-10-8e5b1e97edf1>\u001b[0m in \u001b[0;36m<module>\u001b[0;34m()\u001b[0m\n\u001b[0;32m----> 1\u001b[0;31m \u001b[0ma_tuple\u001b[0m\u001b[0;34m[\u001b[0m\u001b[0;36m0\u001b[0m\u001b[0;34m]\u001b[0m \u001b[0;34m=\u001b[0m \u001b[0;36m33\u001b[0m\u001b[0;34m\u001b[0m\u001b[0;34m\u001b[0m\u001b[0m\n\u001b[0m",
            "\u001b[0;31mNameError\u001b[0m: name 'a_tuple' is not defined"
          ]
        }
      ]
    },
    {
      "metadata": {
        "id": "wVxzwYNLAPYR",
        "colab_type": "text"
      },
      "cell_type": "markdown",
      "source": [
        "## Dictionaries"
      ]
    },
    {
      "metadata": {
        "id": "aNBmfiJEAPYS",
        "colab_type": "text"
      },
      "cell_type": "markdown",
      "source": [
        "Another fundamental and extremely useful data structure is a Python Dictionary. \n",
        "\n",
        "A dictionary is Python's implementation of a structure known as a Hash Table. Essentially, a dictionary keeps a record of `keys` associated with `values`. Keys can be categories, names, or anything you would like which may have an associated value. When looking through the dictionary, you then have the ability to quickly look up the associated value of a key. \n",
        "\n",
        "Dictionaries are easiest to explain by using an example. Below, I have created an example dictionary in which students in a class are the `keys` in a dictionary, and their grades are the `values`."
      ]
    },
    {
      "metadata": {
        "id": "ODApIs9-APYS",
        "colab_type": "code",
        "colab": {}
      },
      "cell_type": "code",
      "source": [
        "empty_dict = {} # Dictionaries are declared using {} curly brackets "
      ],
      "execution_count": 0,
      "outputs": []
    },
    {
      "metadata": {
        "id": "is1sBaEYAPYU",
        "colab_type": "code",
        "colab": {}
      },
      "cell_type": "code",
      "source": [
        "# In this example, the \n",
        "#dictionaries keys are students in a class, and the values are their grades\n",
        "class_grades = {\"Adam\": 86, \"Tim\": 93, \"Bill\": 70} "
      ],
      "execution_count": 0,
      "outputs": []
    },
    {
      "metadata": {
        "id": "-vaEYXfIAPYW",
        "colab_type": "text"
      },
      "cell_type": "markdown",
      "source": [
        "By using [ ] square brackets, we can retrieve the value for any key which exists in the dictionary"
      ]
    },
    {
      "metadata": {
        "id": "ymQ6kOOsAPYX",
        "colab_type": "code",
        "colab": {
          "base_uri": "https://localhost:8080/",
          "height": 33
        },
        "outputId": "94c434b1-ef9b-4490-9d76-fb42066b2922"
      },
      "cell_type": "code",
      "source": [
        "print(class_grades[\"Adam\"])"
      ],
      "execution_count": 20,
      "outputs": [
        {
          "output_type": "stream",
          "text": [
            "86\n"
          ],
          "name": "stdout"
        }
      ]
    },
    {
      "metadata": {
        "id": "mvgA2g9LAPYZ",
        "colab_type": "text"
      },
      "cell_type": "markdown",
      "source": [
        "Using square brackets to retrieve a value for a key that does not exist returns a `KEY ERROR`"
      ]
    },
    {
      "metadata": {
        "id": "wlxejc22APYZ",
        "colab_type": "code",
        "colab": {
          "base_uri": "https://localhost:8080/",
          "height": 158
        },
        "outputId": "6dafdf51-582e-4fd0-cc78-8cd0609d0724"
      },
      "cell_type": "code",
      "source": [
        "print(class_grades[\"Mark\"])"
      ],
      "execution_count": 21,
      "outputs": [
        {
          "output_type": "error",
          "ename": "KeyError",
          "evalue": "ignored",
          "traceback": [
            "\u001b[0;31m---------------------------------------------------------------------------\u001b[0m",
            "\u001b[0;31mKeyError\u001b[0m                                  Traceback (most recent call last)",
            "\u001b[0;32m<ipython-input-21-063a34467242>\u001b[0m in \u001b[0;36m<module>\u001b[0;34m()\u001b[0m\n\u001b[0;32m----> 1\u001b[0;31m \u001b[0mprint\u001b[0m\u001b[0;34m(\u001b[0m\u001b[0mclass_grades\u001b[0m\u001b[0;34m[\u001b[0m\u001b[0;34m\"Mark\"\u001b[0m\u001b[0;34m]\u001b[0m\u001b[0;34m)\u001b[0m\u001b[0;34m\u001b[0m\u001b[0;34m\u001b[0m\u001b[0m\n\u001b[0m",
            "\u001b[0;31mKeyError\u001b[0m: 'Mark'"
          ]
        }
      ]
    },
    {
      "metadata": {
        "id": "89D6bQuMAPYb",
        "colab_type": "text"
      },
      "cell_type": "markdown",
      "source": [
        "To resolve this, you can either check if a key exists in the dictionary, or use a Python function called .get() which returns a defaults value of `None` if a key does not exist"
      ]
    },
    {
      "metadata": {
        "id": "1d63K97TAPYb",
        "colab_type": "code",
        "colab": {
          "base_uri": "https://localhost:8080/",
          "height": 50
        },
        "outputId": "953b9b85-a5e1-49dd-a581-ab63f3a6e2ee"
      },
      "cell_type": "code",
      "source": [
        "# Using the regular in syntax will return true or false \n",
        "print(\"Mark\" in class_grades)\n",
        "\n",
        "# The .get() function returns `None` if the key is not found\n",
        "print(class_grades.get(\"Mark\"))"
      ],
      "execution_count": 22,
      "outputs": [
        {
          "output_type": "stream",
          "text": [
            "False\n",
            "None\n"
          ],
          "name": "stdout"
        }
      ]
    },
    {
      "metadata": {
        "id": "aekjTpUUAPYc",
        "colab_type": "text"
      },
      "cell_type": "markdown",
      "source": [
        "Dictionaries are commonly used to hold related sets of information, such as a tweet. Twitter and many companies actually use Python and dictionaries to deal with this type of information.\n",
        "\n",
        "Notice below how values can be any datatype, such as Strings, Integers, or even Lists."
      ]
    },
    {
      "metadata": {
        "id": "4z6UWVgYAPYd",
        "colab_type": "code",
        "colab": {}
      },
      "cell_type": "code",
      "source": [
        "tweet = {\n",
        "    \"user\"          : \"adsafan2016\",\n",
        "    \"text\"          : \"Data Science is Awesome\",\n",
        "    \"retweet_count\" : 32567,\n",
        "    \"hashtags\"      : [\"#data\", \"#science\", \"#datascience\", \"#awesome\", \"#yolo\"]\n",
        "}"
      ],
      "execution_count": 0,
      "outputs": []
    },
    {
      "metadata": {
        "id": "lAUu-7WCAPYf",
        "colab_type": "text"
      },
      "cell_type": "markdown",
      "source": [
        "***\n",
        "## Loops"
      ]
    },
    {
      "metadata": {
        "id": "Xh6RQZ4WAPYg",
        "colab_type": "text"
      },
      "cell_type": "markdown",
      "source": [
        "Indexes are useful, but lists really shine when you start looping.\n",
        "\n",
        "One of the most commonly used types of loops is called a `for` loop. A `for` loop lets you do something for each item in a list or collection. They syntax for a `for` loop is like an if statement, because they have an indented block.\n",
        "\n",
        "They look like this:\n",
        "\n",
        "    for item in list:\n",
        "        print(item) # Do any action per item in the list\n",
        "        \n",
        "A good interpretation of what is happening above in English would be:\n",
        "\n",
        "**\"For each item in list, print that item\"**.\n",
        "\n",
        "\"for\" and \"in\" are required. \"list\" can be any variable or literal which is like a list. \"item\" is the name you want to give each item of the list in the indented block as you iterate through. We call each step where item has a new value an iteration.\n",
        "\n",
        "Let's see it in action with our list:"
      ]
    },
    {
      "metadata": {
        "id": "oxFaH1qeAPYg",
        "colab_type": "code",
        "colab": {}
      },
      "cell_type": "code",
      "source": [
        "# This is what out list of awesome people looks like right now:\n",
        "print(awesome_people)\n",
        "\n",
        "for person in awesome_people:\n",
        "    print(person)"
      ],
      "execution_count": 0,
      "outputs": []
    },
    {
      "metadata": {
        "id": "JM9ACA2rAPYl",
        "colab_type": "text"
      },
      "cell_type": "markdown",
      "source": [
        "This is bascially the same as writing:"
      ]
    },
    {
      "metadata": {
        "id": "3yvzwyCZAPYm",
        "colab_type": "code",
        "colab": {}
      },
      "cell_type": "code",
      "source": [
        "person = awesome_people[0]\n",
        "print(person)\n",
        "person = awesome_people[1]\n",
        "print(person)\n",
        "person = awesome_people[2]\n",
        "print(person)"
      ],
      "execution_count": 0,
      "outputs": []
    },
    {
      "metadata": {
        "id": "1oZb0mkLAPYp",
        "colab_type": "text"
      },
      "cell_type": "markdown",
      "source": [
        "But that is a lot more code than:\n",
        "\n",
        "    for person in awesome_people:\n",
        "        print(person)\n",
        "\n",
        "Considering that our list of awesome people could be very long!\n",
        "\n",
        "You can use the built-in function \"range\" to create lists of numbers easily."
      ]
    },
    {
      "metadata": {
        "id": "6K37uBWMAPYp",
        "colab_type": "code",
        "colab": {}
      },
      "cell_type": "code",
      "source": [
        "range(0, 10)"
      ],
      "execution_count": 0,
      "outputs": []
    },
    {
      "metadata": {
        "id": "3bnW7n9ZAPYs",
        "colab_type": "text"
      },
      "cell_type": "markdown",
      "source": [
        "And then we can use that with a loop to print a list of squares. Note that we use special string formatting here in which `{0}` represents the first variable inside the format parentheses, and `{1}` represents the second variable."
      ]
    },
    {
      "metadata": {
        "id": "_8eBZczkAPYs",
        "colab_type": "code",
        "colab": {}
      },
      "cell_type": "code",
      "source": [
        "for number in range(0, 10):\n",
        "    print(\"{0} squared is {1}\".format(number, number**2))"
      ],
      "execution_count": 0,
      "outputs": []
    },
    {
      "metadata": {
        "id": "8fmPcaXMAPYu",
        "colab_type": "text"
      },
      "cell_type": "markdown",
      "source": [
        "***\n",
        "## Functions"
      ]
    },
    {
      "metadata": {
        "id": "VmGOtLN7APYu",
        "colab_type": "text"
      },
      "cell_type": "markdown",
      "source": [
        "Functions are a set of actions that we group together, and give a name to. We can define our own functions, which allows us to \"teach\" Python new behavior.\n",
        "\n",
        "Here is the general syntax for defining and calling functions.\n",
        "\n",
        "    # Let's define a function.\n",
        "    def function_name(argument_1, argument_2):\n",
        "        # Do whatever we want this function to do,\n",
        "        # using argument_1 and argument_2\n",
        "        \n",
        "    # Use function_name to call the function.\n",
        "    function_name(value_1, value_2)\n",
        "\n",
        "* __Defining a function__\n",
        "    * The keyword `def` tells Python that you are about to define a function.\n",
        "    * Functions have a name. A variable name tells you what kind of value the variable contains; a function name should tell you what the function does.\n",
        "    * The values inside parentheses are called __arguments__ or __parameters__. Functions use parameters to get data it may need to execute.\n",
        "        * These are basically variable names, but they are only used in the function.\n",
        "        * They can be different names than what you use in the rest of your program.\n",
        "    * Make sure the function definition line ends with a colon.\n",
        "* __Using your function__\n",
        "    * To call your function, write its name followed by parentheses.\n",
        "    * Inside the parentheses, provide the values for the function's parameters.\n",
        "    * These can be values can be other variables you have defined or literal values."
      ]
    },
    {
      "metadata": {
        "id": "PbEAbmlZAPYw",
        "colab_type": "code",
        "colab": {}
      },
      "cell_type": "code",
      "source": [
        "# This function prints a two-line personalized thank you message.\n",
        "def say_hello(name):\n",
        "    # print() is also a function!\n",
        "    # It prints the string you give it onto the screen.\n",
        "    \n",
        "    print('Hello, %s!'%(name))\n",
        "    print('How\\'s it going?') # Note that the \\ character allows you to use single quotes without ending the string"
      ],
      "execution_count": 0,
      "outputs": []
    },
    {
      "metadata": {
        "id": "JAuxIxHGAPYy",
        "colab_type": "code",
        "colab": {}
      },
      "cell_type": "code",
      "source": [
        "# now we can use the function that we just defined\n",
        "say_hello('Adriana')\n",
        "print('')\n",
        "say_hello('Billy')\n",
        "print('')\n",
        "say_hello('Caroline')"
      ],
      "execution_count": 0,
      "outputs": []
    },
    {
      "metadata": {
        "id": "NYQLzFRAAPY0",
        "colab_type": "text"
      },
      "cell_type": "markdown",
      "source": [
        "You have already used quite a lot of built in functions so far. Here's some more functions that we can use on lists to sort them."
      ]
    },
    {
      "metadata": {
        "id": "npiznQDXAPY1",
        "colab_type": "code",
        "colab": {}
      },
      "cell_type": "code",
      "source": [
        "students = ['Bernice', 'Aaron', 'Cody']\n",
        "\n",
        "# Use the sort function to put students in alphabetical order.\n",
        "students.sort()\n",
        "\n",
        "# Display the list in its current order.\n",
        "print(\"Students in alphabetical order.\")\n",
        "for student in students:\n",
        "    print(student.title())\n",
        "\n",
        "# Give the sort function the reverse parameter\n",
        "# This puts students in reverse alphabetical order.\n",
        "students.sort(reverse=True)\n",
        "\n",
        "# Display the list in reverse order.\n",
        "print(\"\\nStudents in reverse alphabetical order.\")\n",
        "for student in students:\n",
        "    print(student.title())"
      ],
      "execution_count": 0,
      "outputs": []
    },
    {
      "metadata": {
        "id": "EbnyUBGZAPY3",
        "colab_type": "text"
      },
      "cell_type": "markdown",
      "source": [
        "### Returning Values from Functions\n",
        "\n",
        "Functions can also return values. This is useful when we want the function to compute some data and give it back to us to use elsewhere in our code.\n",
        "\n",
        "Note: once a function returns something, Python moves out of that code. So anything after the return statement will not be run."
      ]
    },
    {
      "metadata": {
        "id": "0wH2ZoXRAPY4",
        "colab_type": "code",
        "colab": {}
      },
      "cell_type": "code",
      "source": [
        "def add_five(number):\n",
        "    print(\"Adding 5 to\", number, \"now...\")\n",
        "    return number + 5\n",
        "    # We have already returned out of the function, the line below is arbitrary\n",
        "    print(\"This will not get printed\")\n",
        "    \n",
        "# Now use your function add_five()\n",
        "num = add_five(10)\n",
        "print(\"New number is:\", num)"
      ],
      "execution_count": 0,
      "outputs": []
    },
    {
      "metadata": {
        "id": "XonAx1SyAPY5",
        "colab_type": "code",
        "colab": {}
      },
      "cell_type": "code",
      "source": [
        "def get_number_word(number):\n",
        "    # Takes in a numerical value, and returns the word corresponding to that number.\n",
        "    if number == 1:\n",
        "        return 'one'\n",
        "    elif number == 2:\n",
        "        return 'two'\n",
        "    elif number == 3:\n",
        "        return 'three'\n",
        "    else:\n",
        "        return 'Not 1, 2, or 3'\n",
        "    \n",
        "# Let's try out our function.\n",
        "for number in range(0, 4):\n",
        "    number_word = get_number_word(number)\n",
        "    print(number, number_word)"
      ],
      "execution_count": 0,
      "outputs": []
    },
    {
      "metadata": {
        "id": "mQtENLjoAPY7",
        "colab_type": "text"
      },
      "cell_type": "markdown",
      "source": [
        "### Exercise \n",
        "Now try writing a function called `future_age` that takes in a name, current_age, and n_years as parameters, and returns a message with their name saying how old they will be in n_years. For example: future_age('Bill', 20, 13) should return 'Bill will be 33 years old in 13 years'."
      ]
    },
    {
      "metadata": {
        "id": "YZ3RDhhwAPY7",
        "colab_type": "code",
        "colab": {}
      },
      "cell_type": "code",
      "source": [
        "# Enter code below"
      ],
      "execution_count": 0,
      "outputs": []
    },
    {
      "metadata": {
        "id": "3chAH775APY9",
        "colab_type": "code",
        "colab": {}
      },
      "cell_type": "code",
      "source": [
        "future_age('Bill', 20, 13)"
      ],
      "execution_count": 0,
      "outputs": []
    },
    {
      "metadata": {
        "id": "PC8ulARZAPY-",
        "colab_type": "text"
      },
      "cell_type": "markdown",
      "source": [
        "### Exercise \n",
        "Now you try writing a function called called `factorial`, which takes in a paramter n, and returns `n!`. Then, try testing your function out, factorial(5) should return 120. (Note that the factorial of 0 is 1, so we can start our return variable at 1 rather than 0.)"
      ]
    },
    {
      "metadata": {
        "id": "yrUiiBj_APY_",
        "colab_type": "code",
        "colab": {}
      },
      "cell_type": "code",
      "source": [
        ""
      ],
      "execution_count": 0,
      "outputs": []
    },
    {
      "metadata": {
        "id": "Zu4r3hg1APZA",
        "colab_type": "code",
        "colab": {}
      },
      "cell_type": "code",
      "source": [
        "print(factorial(5)) # output should be 120"
      ],
      "execution_count": 0,
      "outputs": []
    },
    {
      "metadata": {
        "id": "cUp596k6APZE",
        "colab_type": "text"
      },
      "cell_type": "markdown",
      "source": [
        "### Exercise\n",
        "\n",
        "<b>Applies the following:</b>\n",
        "- loops\n",
        "- lists\n",
        "- math operators\n",
        "- functions"
      ]
    },
    {
      "metadata": {
        "id": "JjrexOvAAPZE",
        "colab_type": "code",
        "colab": {}
      },
      "cell_type": "code",
      "source": [
        "# execute this line first\n",
        "list_data = [20, 50, 30, 70, 42, 30, 56, 72, 88, 90, 4, 65, 77, 42, 57]"
      ],
      "execution_count": 0,
      "outputs": []
    },
    {
      "metadata": {
        "id": "hkrWiD_pAPZH",
        "colab_type": "code",
        "colab": {}
      },
      "cell_type": "code",
      "source": [
        "# write a function that will take any list of numbers and sum up the values\n",
        "# this function should return the sum of the list.\n",
        "\n",
        "# input: a list\n",
        "# output: an integer\n",
        "def sum_list(data):"
      ],
      "execution_count": 0,
      "outputs": []
    },
    {
      "metadata": {
        "id": "aeSz5UsUAPZJ",
        "colab_type": "code",
        "colab": {}
      },
      "cell_type": "code",
      "source": [
        "# Call the function sum_list\n",
        "print(sum_list(list_data))"
      ],
      "execution_count": 0,
      "outputs": []
    },
    {
      "metadata": {
        "id": "V0DbrhI9APZM",
        "colab_type": "code",
        "colab": {}
      },
      "cell_type": "code",
      "source": [
        "# write another function that will take the sum and print out each digit separately\n",
        "# example - 793 should print out '7', '9', and '3'\n",
        "\n",
        "# input: a list \n",
        "# output: none\n",
        "def print_digits(data):"
      ],
      "execution_count": 0,
      "outputs": []
    },
    {
      "metadata": {
        "id": "cETp1TJsAPZS",
        "colab_type": "code",
        "colab": {}
      },
      "cell_type": "code",
      "source": [
        "# call the function print_digits\n",
        "print_digits(list_data)"
      ],
      "execution_count": 0,
      "outputs": []
    },
    {
      "metadata": {
        "id": "0IdAoixSAPZU",
        "colab_type": "text"
      },
      "cell_type": "markdown",
      "source": [
        "### Passing by Reference\n",
        "\n",
        "All parameters in Python are passed by reference and so if you change the parameter inside a called function, the same change occurs in the calling function."
      ]
    },
    {
      "metadata": {
        "id": "9WF1mWabAPZV",
        "colab_type": "code",
        "colab": {}
      },
      "cell_type": "code",
      "source": [
        "def addtolist(ls):\n",
        "    #This changes a passed list into this function by adding values to it\n",
        "    ls.append(99)\n",
        "    print(\"List inside the function: \", ls)\n",
        "\n",
        "mylist = [10,20,30]\n",
        "print(\"List before function: \", mylist)\n",
        "addtolist(mylist)\n",
        "print(\"List after the function: \", mylist)"
      ],
      "execution_count": 0,
      "outputs": []
    },
    {
      "metadata": {
        "id": "qY6IZEt6APZW",
        "colab_type": "text"
      },
      "cell_type": "markdown",
      "source": [
        "***\n",
        "## Standard Library Modules\n",
        "\n",
        "Python comes \"batteries loaded\". This means that Python comes with a lot of prewritten code that is called the standard library. This library is very extensive, and offers a lot of modules and classes to accomplish a wide range of tasks.\n",
        "\n",
        "All of the modules in Python 2.7's Standard Library are listed in the official documentation at https://docs.python.org/2/library/index.html. To use any of these modules, you need to import them or the specific functions in them:\n",
        "\n",
        "    import math\n",
        "    # or\n",
        "    from math import factorial, log\n",
        "\n",
        "### Python `math`\n",
        "\n",
        "Let's have a look at the `math` module."
      ]
    },
    {
      "metadata": {
        "id": "hjT-kpCrAPZZ",
        "colab_type": "code",
        "colab": {
          "base_uri": "https://localhost:8080/",
          "height": 50
        },
        "outputId": "51dc0b91-14f2-4d68-f6ab-ffe3632b2d87"
      },
      "cell_type": "code",
      "source": [
        "import math\n",
        "\n",
        "mynum = 14\n",
        "print(math.sqrt(mynum))\n",
        "\n",
        "# math.pi is a constant in the math module\n",
        "print(math.sin(math.pi)) # should be almost 0"
      ],
      "execution_count": 24,
      "outputs": [
        {
          "output_type": "stream",
          "text": [
            "3.7416573867739413\n",
            "1.2246467991473532e-16\n"
          ],
          "name": "stdout"
        }
      ]
    },
    {
      "metadata": {
        "id": "SxjWBcZDAPZe",
        "colab_type": "text"
      },
      "cell_type": "markdown",
      "source": [
        "### File I/O\n",
        "\n",
        "It is very useful to know how to read and write files in Python. A lot of datasets are distributed in files, and to use the data in them we need to be able to read them.\n",
        "\n",
        "Below we will go over some of the basics with I/O. When loading and saving files you can specify the entire filepath or just relative to the current working directory."
      ]
    },
    {
      "metadata": {
        "id": "feicELWTAPZe",
        "colab_type": "code",
        "colab": {
          "base_uri": "https://localhost:8080/",
          "height": 33
        },
        "outputId": "b4b860a7-f071-4f3f-83f3-7c88a330fdf6"
      },
      "cell_type": "code",
      "source": [
        "# writes a simple statement to a text file\n",
        "filepath = 'simple.txt'\n",
        "\n",
        "# opens the file. 'w' signifies we want to write to it.\n",
        "f = open(filepath, 'w')\n",
        "''' \n",
        "'w' erases existing file and writes. \n",
        "Creates a new file if the file name does not exist \n",
        "Use 'a' to append to an existing file \n",
        "'''\n",
        "\n",
        "# write a line to file using the .write() function\n",
        "f.write('Hello Advanced Python Workshop!\\n')\n",
        "f.close() # if you open a file, always close it\n",
        "print('The file has been written')"
      ],
      "execution_count": 25,
      "outputs": [
        {
          "output_type": "stream",
          "text": [
            "The file has been written\n"
          ],
          "name": "stdout"
        }
      ]
    },
    {
      "metadata": {
        "id": "qS8xu2NOAPZf",
        "colab_type": "text"
      },
      "cell_type": "markdown",
      "source": [
        "Likewise we can load text files using the `read()` function."
      ]
    },
    {
      "metadata": {
        "id": "4ApAlLUyAPZg",
        "colab_type": "code",
        "colab": {
          "base_uri": "https://localhost:8080/",
          "height": 50
        },
        "outputId": "7a9969b9-d2ca-4c7f-a650-5ddf7de78256"
      },
      "cell_type": "code",
      "source": [
        "filepath = 'simple.txt'\n",
        "# opens the file, default behavior is to read (not write)\n",
        "f = open(filepath) # default parameter is 'r' for read\n",
        "print(f.read()) # reads the text file\n",
        "f.close()"
      ],
      "execution_count": 26,
      "outputs": [
        {
          "output_type": "stream",
          "text": [
            "Hello Advanced Python Workshop!\n",
            "\n"
          ],
          "name": "stdout"
        }
      ]
    },
    {
      "metadata": {
        "id": "lQqrW7NHAPZi",
        "colab_type": "text"
      },
      "cell_type": "markdown",
      "source": [
        "### CSV Files\n",
        "\n",
        "The CSV (Comma Separated Values) format is the most common import and export format for spreadsheets and databases. Although there is no standard for how the data is formatted, the generally followed format is like so:\n",
        "\n",
        "    column1_title, column2_title, column3_title\n",
        "    row1_data1, row1_data2, row1_data3\n",
        "    row2_data1, row2_data2, row2_data3\n",
        "    ...\n",
        "\n",
        "While the delimiters and quoting characters vary, the overall format is similar enough for easy parsing using the csv module.\n",
        "In the data folder, there is a test.csv file with the following contents:\n",
        "\n",
        "    name,column1,column2,column3\n",
        "    abc,1.1,4.2,1.2\n",
        "    def,2.1,1.4,5.2\n",
        "    ghi,1.5,1.2,2.1\n",
        "    jkl,1.8,1.1,4.2\n",
        "    mno,9.4,6.6,6.2\n",
        "    pqr,1.4,8.3,8.4\n",
        "\n",
        "Let's see how to parse the file and read the first few lines. Whenever you call the `open()` function in Python, you also need to call the close function. But since a lot of people forget, the general syntax people use is the __`with as`__ structure.\n",
        "\n",
        "In the case below, the file contents that the `open()` function returns is stored in a temporary variable called `csv_con`."
      ]
    },
    {
      "metadata": {
        "id": "HY-ootyBAPZi",
        "colab_type": "code",
        "colab": {
          "resources": {
            "http://localhost:8080/nbextensions/google.colab/files.js": {
              "data": "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",
              "ok": true,
              "headers": [
                [
                  "content-type",
                  "application/javascript"
                ]
              ],
              "status": 200,
              "status_text": ""
            }
          },
          "base_uri": "https://localhost:8080/",
          "height": 68
        },
        "outputId": "9791f19b-1d26-4905-8bfb-48ec759085b1"
      },
      "cell_type": "code",
      "source": [
        "import io\n",
        "import csv\n",
        "import pandas as pd\n",
        "from google.colab import files\n",
        "\n",
        "uploaded = files.upload()\n",
        "\n",
        "# the relative path to the location of our csv file\n",
        "csv_file = 'test.csv'\n",
        "\n",
        "# a blank object that will store the parsed csv data\n",
        "test_csv = None\n",
        "\n",
        "df = pd.read_csv(io.StringIO(uploaded[csv_file].decode('utf-8')))"
      ],
      "execution_count": 27,
      "outputs": [
        {
          "output_type": "display_data",
          "data": {
            "text/html": [
              "\n",
              "     <input type=\"file\" id=\"files-a6810b4c-584a-458e-a4cf-06b5f12254b5\" name=\"files[]\" multiple disabled />\n",
              "     <output id=\"result-a6810b4c-584a-458e-a4cf-06b5f12254b5\">\n",
              "      Upload widget is only available when the cell has been executed in the\n",
              "      current browser session. Please rerun this cell to enable.\n",
              "      </output>\n",
              "      <script src=\"/nbextensions/google.colab/files.js\"></script> "
            ],
            "text/plain": [
              "<IPython.core.display.HTML object>"
            ]
          },
          "metadata": {
            "tags": []
          }
        },
        {
          "output_type": "stream",
          "text": [
            "Saving test.csv to test.csv\n"
          ],
          "name": "stdout"
        }
      ]
    },
    {
      "metadata": {
        "id": "NjsusqX9D2kx",
        "colab_type": "code",
        "colab": {
          "base_uri": "https://localhost:8080/",
          "height": 191
        },
        "outputId": "af11e9f0-ec2e-4aba-b743-a5391c494e36"
      },
      "cell_type": "code",
      "source": [
        "df.head()"
      ],
      "execution_count": 28,
      "outputs": [
        {
          "output_type": "execute_result",
          "data": {
            "text/html": [
              "<div>\n",
              "<style scoped>\n",
              "    .dataframe tbody tr th:only-of-type {\n",
              "        vertical-align: middle;\n",
              "    }\n",
              "\n",
              "    .dataframe tbody tr th {\n",
              "        vertical-align: top;\n",
              "    }\n",
              "\n",
              "    .dataframe thead th {\n",
              "        text-align: right;\n",
              "    }\n",
              "</style>\n",
              "<table border=\"1\" class=\"dataframe\">\n",
              "  <thead>\n",
              "    <tr style=\"text-align: right;\">\n",
              "      <th></th>\n",
              "      <th>name</th>\n",
              "      <th>column1</th>\n",
              "      <th>column2</th>\n",
              "      <th>column3</th>\n",
              "    </tr>\n",
              "  </thead>\n",
              "  <tbody>\n",
              "    <tr>\n",
              "      <th>0</th>\n",
              "      <td>abc</td>\n",
              "      <td>1.1</td>\n",
              "      <td>4.2</td>\n",
              "      <td>1.2</td>\n",
              "    </tr>\n",
              "    <tr>\n",
              "      <th>1</th>\n",
              "      <td>def</td>\n",
              "      <td>2.1</td>\n",
              "      <td>1.4</td>\n",
              "      <td>5.2</td>\n",
              "    </tr>\n",
              "    <tr>\n",
              "      <th>2</th>\n",
              "      <td>ghi</td>\n",
              "      <td>1.5</td>\n",
              "      <td>1.2</td>\n",
              "      <td>2.1</td>\n",
              "    </tr>\n",
              "    <tr>\n",
              "      <th>3</th>\n",
              "      <td>jkl</td>\n",
              "      <td>1.8</td>\n",
              "      <td>1.1</td>\n",
              "      <td>4.2</td>\n",
              "    </tr>\n",
              "    <tr>\n",
              "      <th>4</th>\n",
              "      <td>mno</td>\n",
              "      <td>9.4</td>\n",
              "      <td>6.6</td>\n",
              "      <td>6.2</td>\n",
              "    </tr>\n",
              "  </tbody>\n",
              "</table>\n",
              "</div>"
            ],
            "text/plain": [
              "  name  column1  column2  column3\n",
              "0  abc      1.1      4.2      1.2\n",
              "1  def      2.1      1.4      5.2\n",
              "2  ghi      1.5      1.2      2.1\n",
              "3  jkl      1.8      1.1      4.2\n",
              "4  mno      9.4      6.6      6.2"
            ]
          },
          "metadata": {
            "tags": []
          },
          "execution_count": 28
        }
      ]
    },
    {
      "metadata": {
        "id": "zVrBlx4AAPZj",
        "colab_type": "text"
      },
      "cell_type": "markdown",
      "source": [
        "***\n",
        "## Making a To-Do List App in Python\n",
        "\n",
        "For our first project of the day, we are going to be creating a To-Do List app. This app involves some simple functions that will update a list object filled with tasks.  \n",
        "First let's look at the enumerate function. This function returns tuples storing the elements in your list as a key-value pair.\n",
        "For more information visit: https://docs.python.org/2/library/functions.html#enumerate"
      ]
    },
    {
      "metadata": {
        "id": "rxW8OCXkAPZj",
        "colab_type": "code",
        "colab": {}
      },
      "cell_type": "code",
      "source": [
        "mylist = [\"eric\", \"leo\", \"john\"]\n",
        "enum = enumerate(mylist)\n",
        "\n",
        "print(list(enum))"
      ],
      "execution_count": 0,
      "outputs": []
    },
    {
      "metadata": {
        "id": "Es1Ezw47APZl",
        "colab_type": "text"
      },
      "cell_type": "markdown",
      "source": [
        "In the code block below, write 3 functions:\n",
        "* addItem(item)\n",
        "    * This function adds an item to your list array if it doesn't already exist.\n",
        "* deleteItem(item)\n",
        "    * This function deletes an item in your list array.\n",
        "* def viewList( )\n",
        "    * This function allows you to view all of the items in the array.\n",
        "      HINT: Use the enumerate function we just learned.  "
      ]
    },
    {
      "metadata": {
        "id": "l4WxieQnAPZm",
        "colab_type": "code",
        "colab": {}
      },
      "cell_type": "code",
      "source": [
        "todo_list = []\n",
        "\n",
        "#add item\n",
        "def addItem(item):\n",
        "  # insert code below\n",
        "\n",
        "        \n",
        "#delete item\n",
        "def deleteItem(item):\n",
        "  # insert code below\n",
        "\n",
        "\n",
        "#view the list    \n",
        "def viewList():\n",
        "  # insert code below\n"
      ],
      "execution_count": 0,
      "outputs": []
    },
    {
      "metadata": {
        "id": "jzvSI8H7APZo",
        "colab_type": "code",
        "colab": {}
      },
      "cell_type": "code",
      "source": [
        "addItem(\"Buy groceries\")\n",
        "addItem(\"Eat food\")\n",
        "viewList()"
      ],
      "execution_count": 0,
      "outputs": []
    },
    {
      "metadata": {
        "id": "wRU-F9wXAPZp",
        "colab_type": "code",
        "colab": {}
      },
      "cell_type": "code",
      "source": [
        "deleteItem(\"Buy groceries\")\n",
        "viewList()"
      ],
      "execution_count": 0,
      "outputs": []
    },
    {
      "metadata": {
        "id": "pIliDqauAPZq",
        "colab_type": "text"
      },
      "cell_type": "markdown",
      "source": [
        "***\n",
        "## Important functions using lists\n",
        "\n",
        "Lists are so common in Python that it is very useful to know how to do some basic tasks with it. These include slicing, merging, and generating lists."
      ]
    },
    {
      "metadata": {
        "id": "lrNHcKoCAPZr",
        "colab_type": "text"
      },
      "cell_type": "markdown",
      "source": [
        "### Slicing\n",
        "List slicing allows you to select sections of the list. It can be thought of as an enchanced indexing method.\n",
        "![List Slicing Image](http://www.nltk.org/images/string-slicing.png)\n",
        "\n",
        "Slicing uses the syntax `mylist[start:end]` and the resulting list will include elements from `start` to (but not including) `end`. Here's an example to illustrate this."
      ]
    },
    {
      "metadata": {
        "id": "mprqjdL4APZt",
        "colab_type": "code",
        "colab": {
          "base_uri": "https://localhost:8080/",
          "height": 33
        },
        "outputId": "3aad5293-095b-4682-9ef2-fe4fa4fc4344"
      },
      "cell_type": "code",
      "source": [
        "# to select 4 elements of a string starting from index 6\n",
        "\n",
        "seq = 'Monty Python'\n",
        "print(seq[6:10])"
      ],
      "execution_count": 29,
      "outputs": [
        {
          "output_type": "stream",
          "text": [
            "Pyth\n"
          ],
          "name": "stdout"
        }
      ]
    },
    {
      "metadata": {
        "id": "Jira2IR-APZv",
        "colab_type": "text"
      },
      "cell_type": "markdown",
      "source": [
        "To select everything until a particular index, we can omit the `start` number."
      ]
    },
    {
      "metadata": {
        "id": "jMK3-HNnAPZw",
        "colab_type": "code",
        "colab": {}
      },
      "cell_type": "code",
      "source": [
        "print(seq[:5])"
      ],
      "execution_count": 0,
      "outputs": []
    },
    {
      "metadata": {
        "id": "WrawqBusAPZy",
        "colab_type": "text"
      },
      "cell_type": "markdown",
      "source": [
        "Similarly we can omit the `end` number to select everything until the end."
      ]
    },
    {
      "metadata": {
        "id": "1SuM-NKXAPZz",
        "colab_type": "code",
        "colab": {}
      },
      "cell_type": "code",
      "source": [
        "print(seq[7:])"
      ],
      "execution_count": 0,
      "outputs": []
    },
    {
      "metadata": {
        "id": "_iesT8ObAPZ1",
        "colab_type": "text"
      },
      "cell_type": "markdown",
      "source": [
        "We can also use negative indices to select from the end."
      ]
    },
    {
      "metadata": {
        "id": "strkHvPuAPZ2",
        "colab_type": "code",
        "colab": {}
      },
      "cell_type": "code",
      "source": [
        "print(seq[-11:-4])"
      ],
      "execution_count": 0,
      "outputs": []
    },
    {
      "metadata": {
        "id": "wQ5hNGq-APZ4",
        "colab_type": "text"
      },
      "cell_type": "markdown",
      "source": [
        "To skip every set number of elements, we can provide a step parameter."
      ]
    },
    {
      "metadata": {
        "id": "gzDoxYCWAPZ5",
        "colab_type": "code",
        "colab": {}
      },
      "cell_type": "code",
      "source": [
        "print(seq[2:11:2])"
      ],
      "execution_count": 0,
      "outputs": []
    },
    {
      "metadata": {
        "id": "xmHQV98BAPZ8",
        "colab_type": "text"
      },
      "cell_type": "markdown",
      "source": [
        "### Sorting Lists"
      ]
    },
    {
      "metadata": {
        "id": "Cj5eYNmsAPZ8",
        "colab_type": "text"
      },
      "cell_type": "markdown",
      "source": [
        "There are two ways to sort lists. We can either modify the list itself to make it sorted. Or we can return a new sorted list, thus preserving the order of the original list."
      ]
    },
    {
      "metadata": {
        "id": "qXok_ZvIAPZ8",
        "colab_type": "code",
        "colab": {}
      },
      "cell_type": "code",
      "source": [
        "# in-place sorting\n",
        "seq = [1, 5, 3, 9, 7, 6]\n",
        "seq.sort()\n",
        "print(seq)"
      ],
      "execution_count": 0,
      "outputs": []
    },
    {
      "metadata": {
        "id": "re2o-XNJAPZ-",
        "colab_type": "code",
        "colab": {}
      },
      "cell_type": "code",
      "source": [
        "# return a new list that is sorted\n",
        "seq = [1, 5, 3, 9, 7, 6]\n",
        "newseq = sorted(seq)\n",
        "print(newseq)"
      ],
      "execution_count": 0,
      "outputs": []
    },
    {
      "metadata": {
        "id": "h9Uu9P3vAPZ_",
        "colab_type": "text"
      },
      "cell_type": "markdown",
      "source": [
        "You can also specify how you want to sort lists based on the `key` parameter. So if we want to sort it by length, we can do something like this."
      ]
    },
    {
      "metadata": {
        "id": "RZ0MZBT9APZ_",
        "colab_type": "code",
        "colab": {}
      },
      "cell_type": "code",
      "source": [
        "seq = ['hello', 'wow', 'technology', 'python']\n",
        "seq.sort(key=len)\n",
        "print(seq)"
      ],
      "execution_count": 0,
      "outputs": []
    },
    {
      "metadata": {
        "id": "oot7oveOAPaA",
        "colab_type": "text"
      },
      "cell_type": "markdown",
      "source": [
        "### Pairing list elements using `zip`\n",
        "If we have multiple lists and we want to pair them up into a single list, we can use zip."
      ]
    },
    {
      "metadata": {
        "id": "YAEagY_bAPaB",
        "colab_type": "code",
        "colab": {
          "base_uri": "https://localhost:8080/",
          "height": 33
        },
        "outputId": "50ae0bed-c7d7-49ce-a3bd-f88e66f69ce7"
      },
      "cell_type": "code",
      "source": [
        "seq_1 = [1, 2, 3]\n",
        "seq_2 = ['foo', 'bar', 'baz']\n",
        "zipped_seq = list(zip(seq_1, seq_2))\n",
        "print(zipped_seq)"
      ],
      "execution_count": 30,
      "outputs": [
        {
          "output_type": "stream",
          "text": [
            "[(1, 'foo'), (2, 'bar'), (3, 'baz')]\n"
          ],
          "name": "stdout"
        }
      ]
    },
    {
      "metadata": {
        "id": "HHpMDcBoAPaD",
        "colab_type": "text"
      },
      "cell_type": "markdown",
      "source": [
        "The elements of the zipped list are tuples."
      ]
    },
    {
      "metadata": {
        "id": "BwlrFKdVAPaE",
        "colab_type": "code",
        "colab": {
          "base_uri": "https://localhost:8080/",
          "height": 33
        },
        "outputId": "245b516a-d4cb-4c94-e70d-1520b5e3c441"
      },
      "cell_type": "code",
      "source": [
        "print(zipped_seq[0])"
      ],
      "execution_count": 31,
      "outputs": [
        {
          "output_type": "stream",
          "text": [
            "(1, 'foo')\n"
          ],
          "name": "stdout"
        }
      ]
    },
    {
      "metadata": {
        "id": "tHRQlRreAPaE",
        "colab_type": "text"
      },
      "cell_type": "markdown",
      "source": [
        "### List Comprehensions\n",
        "List comprehensions are one of the best features of Python's list. They allow you to generate new lists using syntax that is very similar to English.\n",
        "\n",
        "List comprehensions concisely form a new list by filtering the elements of a sequence and transforming the elements passing the filter. List comprehensions take the form:\n",
        "\n",
        "    [expr for val in collection if condition]\n",
        "\n",
        "![List Comprehension figure](http://python-3-patterns-idioms-test.readthedocs.org/en/latest/_images/listComprehensions.gif)\n",
        "\n",
        "Which is equivalent to the following for loop:\n",
        "\n",
        "    result = []\n",
        "    for val in collection:\n",
        "        if condition:\n",
        "            result.append(expr)\n",
        "\n",
        "Here's an example that converts to upper case all strings that start with a 'b':"
      ]
    },
    {
      "metadata": {
        "id": "EN_J-T3rAPaF",
        "colab_type": "code",
        "colab": {}
      },
      "cell_type": "code",
      "source": [
        "a_list = [1, 4, 9, 3, 0, 4]\n",
        "squared_ints = [e**2 for e in a_list]\n",
        "print(squared_ints)"
      ],
      "execution_count": 0,
      "outputs": []
    },
    {
      "metadata": {
        "id": "mOlA_2YbAPaH",
        "colab_type": "code",
        "colab": {}
      },
      "cell_type": "code",
      "source": [
        "strings = ['foo', 'bar', 'baz', 'f', 'fo', 'b', 'ba']\n",
        "newlist = [x.upper() for x in strings if x[0] == 'b']\n",
        "print(newlist)"
      ],
      "execution_count": 0,
      "outputs": []
    },
    {
      "metadata": {
        "id": "366PeEg2APaJ",
        "colab_type": "text"
      },
      "cell_type": "markdown",
      "source": [
        "***\n",
        "## Lambda Functions\n",
        "\n",
        "__`lambda`__ is a reserved keyword in Python. It signals the creation of an anonymous function (it's not bound to a name). It allows functions to be written in a single line and to be passed with relative ease. The best way to understand it is just to look at some examples."
      ]
    },
    {
      "metadata": {
        "id": "3lzg3OETAPaJ",
        "colab_type": "code",
        "colab": {}
      },
      "cell_type": "code",
      "source": [
        "# Simple function as we would normally define it\n",
        "def f(x):\n",
        "    return x**3\n",
        "\n",
        "print(f(3))\n",
        "\n",
        "g = lambda x:x**3 #Same exact function using the lambda keyword\n",
        "print(g(3))"
      ],
      "execution_count": 0,
      "outputs": []
    },
    {
      "metadata": {
        "id": "c8y3cYExAPaK",
        "colab_type": "code",
        "colab": {}
      },
      "cell_type": "code",
      "source": [
        "# filter the even numbers in a list\n",
        "\n",
        "mylist = [17, 29, 12, 41, 8, 4, 10, 2]\n",
        "# filters out anything that doesn't satisfy the given function\n",
        "filtered_list = list(filter(lambda val : val%2 == 0, mylist))\n",
        "\n",
        "print(filtered_list)"
      ],
      "execution_count": 0,
      "outputs": []
    },
    {
      "metadata": {
        "id": "SJkYTHF9APaL",
        "colab_type": "text"
      },
      "cell_type": "markdown",
      "source": [
        "## Moving forward\n",
        "This concludes our Advanced Python workshop, I hope you learned something! In order to practice your Python skills, you can either code directly on sites like https://repl.it/languages, which offer an in-browser text editor and Python compiler. Or, you can write and run Python programs from your command line or terminal on whatever OS you're on by writing a file ending in .py, and typing `python filename.py`.\n",
        "\n",
        "Join us next week for another workshop, and keep on practicing your skills!"
      ]
    }
  ]
}