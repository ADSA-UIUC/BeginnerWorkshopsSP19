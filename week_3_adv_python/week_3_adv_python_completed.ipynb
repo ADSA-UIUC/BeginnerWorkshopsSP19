{
  "nbformat": 4,
  "nbformat_minor": 0,
  "metadata": {
    "colab": {
      "name": "week_3_adv_python_completed.ipynb",
      "version": "0.3.2",
      "provenance": [],
      "collapsed_sections": []
    },
    "kernelspec": {
      "display_name": "Python 3",
      "language": "python",
      "name": "python3"
    }
  },
  "cells": [
    {
      "metadata": {
        "id": "RECBE2AW4BvK",
        "colab_type": "text"
      },
      "cell_type": "markdown",
      "source": [
        "![ADSA Logo](http://i.imgur.com/BV0CdHZ.png?2 \"ADSA Logo\")"
      ]
    },
    {
      "metadata": {
        "id": "BvaN4Zua4BvL",
        "colab_type": "text"
      },
      "cell_type": "markdown",
      "source": [
        "# Spring 2019 ADSA Workshop - Python Series: Advanced Python   \n",
        "\n",
        "Workshop content is adapted from:\n",
        "* http://python-3-patterns-idioms-test.readthedocs.org/\n",
        "* https://github.com/ehmatthes/intro_programming/\n",
        "* http://github.com/rasbt/python_reference/blob/master/tutorials/sorting_csvs.ipynb\n",
        "* http://www.engr.ucsb.edu/~shell/che210d/numpy.pdf"
      ]
    },
    {
      "metadata": {
        "id": "_agwq1Nb4BvM",
        "colab_type": "text"
      },
      "cell_type": "markdown",
      "source": [
        "This workshop is a continuation of last week's Introduction to Python workshop and will be focusing on the following topics:\n",
        "* Reviewing Workshop 1: Introduction to Python\n",
        "* Data Structures\n",
        "    * Lists\n",
        "    * Tuples\n",
        "    * Dictionaries\n",
        "* Loops\n",
        "* Functions\n",
        "* Standard Library Modules\n",
        "    * Math\n",
        "    * fileIO\n",
        "    * CSV\n",
        "* To-do List Project\n",
        "* List functions\n",
        "    * List Slicing\n",
        "    * List Comprehensions\n",
        "    \n",
        "    \n",
        "    \n",
        "    \n",
        "    \n",
        "    \n",
        "* Lambda Functions\n",
        "* Beautiful Soup\n",
        "* Weather Reporting Project"
      ]
    },
    {
      "metadata": {
        "id": "kBCUg44D4BvN",
        "colab_type": "text"
      },
      "cell_type": "markdown",
      "source": [
        "## Reviewing Workshop 1: Introduction to Python"
      ]
    },
    {
      "metadata": {
        "id": "CJD5KtWe4BvN",
        "colab_type": "text"
      },
      "cell_type": "markdown",
      "source": [
        "### Variables and Data Types"
      ]
    },
    {
      "metadata": {
        "id": "bAACWx_14BvP",
        "colab_type": "text"
      },
      "cell_type": "markdown",
      "source": [
        "A variable is used to hold a value. Variables and values have an associated datatype. Common datatypes are:\n",
        "* `string` (text)\n",
        "* `int` (integer)\n",
        "* `float` (decimal value)\n",
        "* `bool` (binary `True` or `False` values)\n",
        "* Many more \n",
        "\n",
        "In many programming languages, you must specify what datatype your variable is, however, Python is able to tell the type based on the value you enter. When you declare a variable, you give the variable a name, and specify its value."
      ]
    },
    {
      "metadata": {
        "id": "9LYmYZ1W4BvQ",
        "colab_type": "code",
        "colab": {}
      },
      "cell_type": "code",
      "source": [
        "my_string = \"Data Science\" # string"
      ],
      "execution_count": 0,
      "outputs": []
    },
    {
      "metadata": {
        "id": "hdMGqBZ84BvU",
        "colab_type": "code",
        "colab": {}
      },
      "cell_type": "code",
      "source": [
        "my_int = 5 # integer type"
      ],
      "execution_count": 0,
      "outputs": []
    },
    {
      "metadata": {
        "id": "KPZKrLID4BvV",
        "colab_type": "code",
        "colab": {}
      },
      "cell_type": "code",
      "source": [
        "my_float = 3.2 # float(decimal) type"
      ],
      "execution_count": 0,
      "outputs": []
    },
    {
      "metadata": {
        "id": "TfXDK9wv4BvY",
        "colab_type": "code",
        "colab": {}
      },
      "cell_type": "code",
      "source": [
        "my_bool = True # boolean type"
      ],
      "execution_count": 0,
      "outputs": []
    },
    {
      "metadata": {
        "id": "WtOFLL-x4Bvb",
        "colab_type": "text"
      },
      "cell_type": "markdown",
      "source": [
        "### If-Else Conditional"
      ]
    },
    {
      "metadata": {
        "id": "sEbECIG64Bvc",
        "colab_type": "code",
        "colab": {
          "base_uri": "https://localhost:8080/",
          "height": 33
        },
        "outputId": "7d87a007-e525-4a25-9f45-7bf09b2de71d"
      },
      "cell_type": "code",
      "source": [
        "x = True # Try changing this variable to \"False\n",
        "if x == True:\n",
        "    print(\"If x is true, then this message will print\")\n",
        "else: \n",
        "    print(\"else, if x is false, this message will print\")"
      ],
      "execution_count": 60,
      "outputs": [
        {
          "output_type": "stream",
          "text": [
            "If x is true, then this message will print\n"
          ],
          "name": "stdout"
        }
      ]
    },
    {
      "metadata": {
        "id": "kvYmg9ur4Bvg",
        "colab_type": "text"
      },
      "cell_type": "markdown",
      "source": [
        "## Data Structures"
      ]
    },
    {
      "metadata": {
        "id": "bU7PBNBQ4Bvh",
        "colab_type": "text"
      },
      "cell_type": "markdown",
      "source": [
        "While declaring simple variables to hold data is very useful, once you begin working with a large set of related data or values, it becomes necessary to group this collection of data in some sort of structure to work with.\n",
        "\n",
        "Below, we will discuss a few fundamental data structures in Python and computer science in general."
      ]
    },
    {
      "metadata": {
        "id": "mze59EDN4Bvi",
        "colab_type": "text"
      },
      "cell_type": "markdown",
      "source": [
        "### Lists"
      ]
    },
    {
      "metadata": {
        "id": "hDdXCo5q4Bvj",
        "colab_type": "text"
      },
      "cell_type": "markdown",
      "source": [
        "Lists are perhaps the most fundemantal data structure in Python. A Python `List` is very similar to what other languages call an `Array`, however it has some added functionality.\n",
        "\n",
        "A list in Python is just like a shopping list or a list of numbers. They have a defined order and you can add to it or remove from it.\n",
        "\n",
        "Let's take a look at some simple lists."
      ]
    },
    {
      "metadata": {
        "id": "EbWcKL2Z4Bvk",
        "colab_type": "code",
        "colab": {
          "base_uri": "https://localhost:8080/",
          "height": 33
        },
        "outputId": "d25ee808-6e49-4d97-8441-e321b3cb0a82"
      },
      "cell_type": "code",
      "source": [
        "# The empty list\n",
        "[]"
      ],
      "execution_count": 61,
      "outputs": [
        {
          "output_type": "execute_result",
          "data": {
            "text/plain": [
              "[]"
            ]
          },
          "metadata": {
            "tags": []
          },
          "execution_count": 61
        }
      ]
    },
    {
      "metadata": {
        "id": "5DRZKgqV4Bvo",
        "colab_type": "code",
        "colab": {
          "base_uri": "https://localhost:8080/",
          "height": 33
        },
        "outputId": "0a029765-3953-492b-fa82-f3ac81671877"
      },
      "cell_type": "code",
      "source": [
        "[\"Milk\", \"Eggs\", \"Bacon\"]"
      ],
      "execution_count": 62,
      "outputs": [
        {
          "output_type": "execute_result",
          "data": {
            "text/plain": [
              "['Milk', 'Eggs', 'Bacon']"
            ]
          },
          "metadata": {
            "tags": []
          },
          "execution_count": 62
        }
      ]
    },
    {
      "metadata": {
        "id": "VRRxY1YI4Bvr",
        "colab_type": "code",
        "colab": {
          "base_uri": "https://localhost:8080/",
          "height": 33
        },
        "outputId": "e001d703-de59-49b3-be6e-ec612c891671"
      },
      "cell_type": "code",
      "source": [
        "[1, 2, 3]"
      ],
      "execution_count": 63,
      "outputs": [
        {
          "output_type": "execute_result",
          "data": {
            "text/plain": [
              "[1, 2, 3]"
            ]
          },
          "metadata": {
            "tags": []
          },
          "execution_count": 63
        }
      ]
    },
    {
      "metadata": {
        "id": "D-1_1hoO4Bvu",
        "colab_type": "text"
      },
      "cell_type": "markdown",
      "source": [
        "List literals are all about square brackets (\"[ ]\") and commas (\",\"). You can create a list of literals by wrapping them in square brackets and separating them with commas.\n",
        "\n",
        "You can even mix different types of things into the same list; numbers, strings, booleans."
      ]
    },
    {
      "metadata": {
        "id": "hLsDKqja4Bvu",
        "colab_type": "code",
        "colab": {
          "base_uri": "https://localhost:8080/",
          "height": 33
        },
        "outputId": "bbaf2afc-d4c6-4b75-bd4e-8c1f68f145b5"
      },
      "cell_type": "code",
      "source": [
        "[True, 0, \"Awesome\"]"
      ],
      "execution_count": 64,
      "outputs": [
        {
          "output_type": "execute_result",
          "data": {
            "text/plain": [
              "[True, 0, 'Awesome']"
            ]
          },
          "metadata": {
            "tags": []
          },
          "execution_count": 64
        }
      ]
    },
    {
      "metadata": {
        "id": "f4XF-qb94Bvy",
        "colab_type": "text"
      },
      "cell_type": "markdown",
      "source": [
        "We can put variables into a list and set a variable to a list."
      ]
    },
    {
      "metadata": {
        "id": "KE0O5RNo4Bv0",
        "colab_type": "code",
        "colab": {
          "base_uri": "https://localhost:8080/",
          "height": 33
        },
        "outputId": "8bb061fb-2d5a-4f2a-cf29-e7688021ecc1"
      },
      "cell_type": "code",
      "source": [
        "your_name = \"Albert O'Connor\"\n",
        "awesome_people = [\"Eric Idle\", your_name]\n",
        "print(awesome_people)"
      ],
      "execution_count": 65,
      "outputs": [
        {
          "output_type": "stream",
          "text": [
            "['Eric Idle', \"Albert O'Connor\"]\n"
          ],
          "name": "stdout"
        }
      ]
    },
    {
      "metadata": {
        "id": "Zo5TWPfT4Bv2",
        "colab_type": "text"
      },
      "cell_type": "markdown",
      "source": [
        "You can append to a list. The following code lets you add an item to the end of a list."
      ]
    },
    {
      "metadata": {
        "id": "KELrZ-XY4Bv3",
        "colab_type": "code",
        "colab": {
          "base_uri": "https://localhost:8080/",
          "height": 33
        },
        "outputId": "de073cc2-ad3f-4e8f-9e31-833fa58becce"
      },
      "cell_type": "code",
      "source": [
        "awesome_people.append(\"John Cleese\")\n",
        "print(awesome_people)"
      ],
      "execution_count": 66,
      "outputs": [
        {
          "output_type": "stream",
          "text": [
            "['Eric Idle', \"Albert O'Connor\", 'John Cleese']\n"
          ],
          "name": "stdout"
        }
      ]
    },
    {
      "metadata": {
        "id": "nQ931C2R4Bv6",
        "colab_type": "text"
      },
      "cell_type": "markdown",
      "source": [
        "Lists, like in many other languages, are 0-indexed. Which means that when you try to access the first element in the list, you use the index 0 like so:"
      ]
    },
    {
      "metadata": {
        "id": "OMtGbMpU4Bv6",
        "colab_type": "code",
        "colab": {
          "base_uri": "https://localhost:8080/",
          "height": 33
        },
        "outputId": "05934a27-7996-4341-c3b6-a21b7c0a32d9"
      },
      "cell_type": "code",
      "source": [
        "awesome_people[0]"
      ],
      "execution_count": 67,
      "outputs": [
        {
          "output_type": "execute_result",
          "data": {
            "text/plain": [
              "'Eric Idle'"
            ]
          },
          "metadata": {
            "tags": []
          },
          "execution_count": 67
        }
      ]
    },
    {
      "metadata": {
        "id": "QDleqs9P4Bv-",
        "colab_type": "text"
      },
      "cell_type": "markdown",
      "source": [
        "And the second element like this:"
      ]
    },
    {
      "metadata": {
        "id": "A_QHo-ww4Bv_",
        "colab_type": "code",
        "colab": {
          "base_uri": "https://localhost:8080/",
          "height": 33
        },
        "outputId": "8cacf053-3591-44af-c8c3-381ddb1537f0"
      },
      "cell_type": "code",
      "source": [
        "awesome_people[1]"
      ],
      "execution_count": 68,
      "outputs": [
        {
          "output_type": "execute_result",
          "data": {
            "text/plain": [
              "\"Albert O'Connor\""
            ]
          },
          "metadata": {
            "tags": []
          },
          "execution_count": 68
        }
      ]
    },
    {
      "metadata": {
        "id": "7HCq7b_y4BwD",
        "colab_type": "text"
      },
      "cell_type": "markdown",
      "source": [
        "There are many Python functions which can be performed on Lists. Here is an example using Python's len() and sum() functions."
      ]
    },
    {
      "metadata": {
        "id": "ay7Gt0U44BwD",
        "colab_type": "code",
        "colab": {
          "base_uri": "https://localhost:8080/",
          "height": 50
        },
        "outputId": "c300f5e8-e176-4704-9cb5-706f7ce5cd97"
      },
      "cell_type": "code",
      "source": [
        "my_list = [1,2,3,4,5]\n",
        "\n",
        "print(len(my_list)) # Prints the number of items in the list\n",
        "\n",
        "print (sum(my_list)) # Sums up the total value of all integers in the list"
      ],
      "execution_count": 69,
      "outputs": [
        {
          "output_type": "stream",
          "text": [
            "5\n",
            "15\n"
          ],
          "name": "stdout"
        }
      ]
    },
    {
      "metadata": {
        "id": "n0ZbatyG4BwI",
        "colab_type": "text"
      },
      "cell_type": "markdown",
      "source": [
        "Another useful List operation is `in`, which returns true or false depending on if a value is or is not in a list."
      ]
    },
    {
      "metadata": {
        "id": "LVRwRPjg4BwJ",
        "colab_type": "code",
        "colab": {
          "base_uri": "https://localhost:8080/",
          "height": 50
        },
        "outputId": "e21f0cf1-b12a-424e-d447-0025917c9525"
      },
      "cell_type": "code",
      "source": [
        "my_list = [1,2,3,4,5]\n",
        "\n",
        "print(3 in my_list) # Checks if the value 3 appears in our list\n",
        "\n",
        "print(6 in my_list) # Checks if the value 6 appears in our list"
      ],
      "execution_count": 70,
      "outputs": [
        {
          "output_type": "stream",
          "text": [
            "True\n",
            "False\n"
          ],
          "name": "stdout"
        }
      ]
    },
    {
      "metadata": {
        "id": "SNRH6qL24BwL",
        "colab_type": "text"
      },
      "cell_type": "markdown",
      "source": [
        "### Exercise "
      ]
    },
    {
      "metadata": {
        "id": "3WyC6-K-4BwM",
        "colab_type": "text"
      },
      "cell_type": "markdown",
      "source": [
        "Write a program using If-Else conditionals and List operations which prints \"Buy eggs!\" if the word \"Eggs\" is in the shopping list variable, or adds \"Eggs\" to the shopping list if it is not in the list."
      ]
    },
    {
      "metadata": {
        "id": "UINQzdLN4BwM",
        "colab_type": "code",
        "colab": {}
      },
      "cell_type": "code",
      "source": [
        "shopping_list = ['Bacon', 'Milk'] # Run this once to make the list then enter your code below"
      ],
      "execution_count": 0,
      "outputs": []
    },
    {
      "metadata": {
        "id": "jjJ-RviT4BwO",
        "colab_type": "code",
        "colab": {
          "base_uri": "https://localhost:8080/",
          "height": 33
        },
        "outputId": "4ca4d5f3-1c4b-4faa-dce6-d00b0b1218e1"
      },
      "cell_type": "code",
      "source": [
        "#Enter your code below\n",
        "if \"Eggs\" in shopping_list:\n",
        "    print(\"Buy eggs!\")\n",
        "    print(shopping_list)\n",
        "else:\n",
        "    shopping_list.append(\"Eggs\")\n",
        "    print(shopping_list)"
      ],
      "execution_count": 72,
      "outputs": [
        {
          "output_type": "stream",
          "text": [
            "['Bacon', 'Milk', 'Eggs']\n"
          ],
          "name": "stdout"
        }
      ]
    },
    {
      "metadata": {
        "id": "2Hr5IAZv4BwS",
        "colab_type": "code",
        "colab": {
          "base_uri": "https://localhost:8080/",
          "height": 33
        },
        "outputId": "2ad65e7f-a6ec-4a5c-b3e1-7f5986480fd3"
      },
      "cell_type": "code",
      "source": [
        "# To remove, use the remove() function\n",
        "shopping_list.remove(shopping_list[2])\n",
        "print('Remove Shopping List : ' + str(shopping_list))"
      ],
      "execution_count": 73,
      "outputs": [
        {
          "output_type": "stream",
          "text": [
            "Remove Shopping List : ['Bacon', 'Milk']\n"
          ],
          "name": "stdout"
        }
      ]
    },
    {
      "metadata": {
        "id": "5BAEiYPR4BwV",
        "colab_type": "text"
      },
      "cell_type": "markdown",
      "source": [
        "***\n",
        "## Tuples\n",
        "\n",
        "Anything that can be done to a list can be done to a tuple, as long as it doesn’t involve modifying it. This is due to the fact that tuples are immutable, which means it can not be modified once it is created. \n",
        "\n",
        "You have the option of putting parenthesis as long as the values are separated by commas, but you DO NOT have the option of putting square brackets. If square brackets are used, you will create a list and not a tuple."
      ]
    },
    {
      "metadata": {
        "id": "1yJuUjNR4BwW",
        "colab_type": "code",
        "colab": {}
      },
      "cell_type": "code",
      "source": [
        "tup = 45, 96 # creates a tuple without any parenthesis"
      ],
      "execution_count": 0,
      "outputs": []
    },
    {
      "metadata": {
        "id": "xhq4vw4Z4BwY",
        "colab_type": "code",
        "colab": {
          "base_uri": "https://localhost:8080/",
          "height": 33
        },
        "outputId": "036a9fd9-af2c-40de-efc5-8d5ee9c9849f"
      },
      "cell_type": "code",
      "source": [
        "print(type(tup))"
      ],
      "execution_count": 75,
      "outputs": [
        {
          "output_type": "stream",
          "text": [
            "<class 'tuple'>\n"
          ],
          "name": "stdout"
        }
      ]
    },
    {
      "metadata": {
        "id": "aX6hypO94Bwb",
        "colab_type": "code",
        "colab": {}
      },
      "cell_type": "code",
      "source": [
        "another_tup = ('hello', 'there') # creates a tuple with parenthis(easier to read)"
      ],
      "execution_count": 0,
      "outputs": []
    },
    {
      "metadata": {
        "id": "wn3UrOSw4Bwd",
        "colab_type": "code",
        "colab": {
          "base_uri": "https://localhost:8080/",
          "height": 33
        },
        "outputId": "57fd69dc-5c9b-4991-cfe2-25fb4c4d8546"
      },
      "cell_type": "code",
      "source": [
        "print(type(another_tup))"
      ],
      "execution_count": 77,
      "outputs": [
        {
          "output_type": "stream",
          "text": [
            "<class 'tuple'>\n"
          ],
          "name": "stdout"
        }
      ]
    },
    {
      "metadata": {
        "id": "-lnOgxbB4Bwf",
        "colab_type": "code",
        "colab": {
          "base_uri": "https://localhost:8080/",
          "height": 50
        },
        "outputId": "54ee5026-600a-4dc9-a85f-3f0c151edadc"
      },
      "cell_type": "code",
      "source": [
        "# accessing tuple elements\n",
        "print(tup[1])\n",
        "print(another_tup[0])"
      ],
      "execution_count": 78,
      "outputs": [
        {
          "output_type": "stream",
          "text": [
            "96\n",
            "hello\n"
          ],
          "name": "stdout"
        }
      ]
    },
    {
      "metadata": {
        "id": "uv5y1dd74Bwl",
        "colab_type": "code",
        "colab": {
          "base_uri": "https://localhost:8080/",
          "height": 50
        },
        "outputId": "8a306ddc-776e-4ea6-ae94-e1534fe5a3a2"
      },
      "cell_type": "code",
      "source": [
        "# difference between creating a list and a tuple\n",
        "a_list = [23, 45]   # create new list\n",
        "a_tuple = (3, 4)   # created new tuple\n",
        "print(a_list)\n",
        "print(a_tuple)"
      ],
      "execution_count": 79,
      "outputs": [
        {
          "output_type": "stream",
          "text": [
            "[23, 45]\n",
            "(3, 4)\n"
          ],
          "name": "stdout"
        }
      ]
    },
    {
      "metadata": {
        "id": "SzButLso4Bwq",
        "colab_type": "code",
        "colab": {
          "base_uri": "https://localhost:8080/",
          "height": 33
        },
        "outputId": "c999a189-351b-4c72-a1fa-9c4e8595b0d9"
      },
      "cell_type": "code",
      "source": [
        "# try modifying values in a list\n",
        "a_list[1] = 76   \n",
        "print(\"a_list: \", a_list)"
      ],
      "execution_count": 80,
      "outputs": [
        {
          "output_type": "stream",
          "text": [
            "a_list:  [23, 76]\n"
          ],
          "name": "stdout"
        }
      ]
    },
    {
      "metadata": {
        "id": "Qb1vClPy4Bws",
        "colab_type": "code",
        "colab": {}
      },
      "cell_type": "code",
      "source": [
        "# now try modifying a tuple, will print an error\n",
        "# a_tuple[0] = 33"
      ],
      "execution_count": 0,
      "outputs": []
    },
    {
      "metadata": {
        "id": "KbZa0Toy4Bwu",
        "colab_type": "text"
      },
      "cell_type": "markdown",
      "source": [
        "## Dictionaries"
      ]
    },
    {
      "metadata": {
        "id": "8KT3mber4Bwu",
        "colab_type": "text"
      },
      "cell_type": "markdown",
      "source": [
        "Another fundamental and extremely useful data structure is a Python Dictionary. \n",
        "\n",
        "A dictionary is Python's implementation of a structure known as a Hash Table. Essentially, a dictionary keeps a record of `keys` associated with `values`. Keys can be categories, names, or anything you would like which may have an associated value. When looking through the dictionary, you then have the ability to quickly look up the associated value of a key. \n",
        "\n",
        "Dictionaries are easiest to explain by using an example. Below, I have created an example dictionary in which students in a class are the `keys` in a dictionary, and their grades are the `values`."
      ]
    },
    {
      "metadata": {
        "id": "bBIy6AyS4Bwv",
        "colab_type": "code",
        "colab": {}
      },
      "cell_type": "code",
      "source": [
        "empty_dict = {} # Dictionaries are declared using {} curly brackets "
      ],
      "execution_count": 0,
      "outputs": []
    },
    {
      "metadata": {
        "id": "QqVMoPv04Bwx",
        "colab_type": "code",
        "colab": {}
      },
      "cell_type": "code",
      "source": [
        "# In this example, the dictionaries keys are students in a class, and the values are their grades\n",
        "class_grades = {\"Adam\": 86, \"Tim\": 93, \"Bill\": 70} "
      ],
      "execution_count": 0,
      "outputs": []
    },
    {
      "metadata": {
        "id": "6QKmaQxB4Bwz",
        "colab_type": "text"
      },
      "cell_type": "markdown",
      "source": [
        "By using [ ] square brackets, we can retrieve the value for any key which exists in the dictionary"
      ]
    },
    {
      "metadata": {
        "id": "ieSC_wUC4Bwz",
        "colab_type": "code",
        "colab": {
          "base_uri": "https://localhost:8080/",
          "height": 33
        },
        "outputId": "c15a570c-7ca8-47f6-aff2-e4f3df136c9e"
      },
      "cell_type": "code",
      "source": [
        "print(class_grades[\"Adam\"])"
      ],
      "execution_count": 84,
      "outputs": [
        {
          "output_type": "stream",
          "text": [
            "86\n"
          ],
          "name": "stdout"
        }
      ]
    },
    {
      "metadata": {
        "id": "sQ3bI5n94Bw3",
        "colab_type": "text"
      },
      "cell_type": "markdown",
      "source": [
        "Using square brackets to retrieve a value for a key that does not exist returns a `KEY ERROR`"
      ]
    },
    {
      "metadata": {
        "id": "5KInZUsJ4Bw4",
        "colab_type": "code",
        "colab": {}
      },
      "cell_type": "code",
      "source": [
        "#print(class_grades[\"Mark\"])"
      ],
      "execution_count": 0,
      "outputs": []
    },
    {
      "metadata": {
        "id": "jF2so24t4Bw7",
        "colab_type": "text"
      },
      "cell_type": "markdown",
      "source": [
        "To resolve this, you can either check if a key exists in the dictionary, or use a Python function called .get() which returns a defaults value of `None` if a key does not exist"
      ]
    },
    {
      "metadata": {
        "id": "FifIycyb4Bw7",
        "colab_type": "code",
        "colab": {
          "base_uri": "https://localhost:8080/",
          "height": 50
        },
        "outputId": "cc13424b-6d29-4a83-f491-7c2e4561cf13"
      },
      "cell_type": "code",
      "source": [
        "# Using the regular in syntax will return true or false \n",
        "print(\"Mark\" in class_grades)\n",
        "\n",
        "# The .get() function returns `None` if the key is not found\n",
        "print(class_grades.get(\"Mark\"))"
      ],
      "execution_count": 86,
      "outputs": [
        {
          "output_type": "stream",
          "text": [
            "False\n",
            "None\n"
          ],
          "name": "stdout"
        }
      ]
    },
    {
      "metadata": {
        "id": "NNVPykIH4BxD",
        "colab_type": "text"
      },
      "cell_type": "markdown",
      "source": [
        "Dictionaries are commonly used to hold related sets of information, such as a tweet. Twitter and many companies actually use Python and dictionaries to deal with this type of information.\n",
        "\n",
        "Notice below how values can be any datatype, such as Strings, Integers, or even Lists."
      ]
    },
    {
      "metadata": {
        "id": "6Cx1yafE4BxD",
        "colab_type": "code",
        "colab": {}
      },
      "cell_type": "code",
      "source": [
        "tweet = {\n",
        "    \"user\"          : \"adsafan2016\",\n",
        "    \"text\"          : \"Data Science is Awesome\",\n",
        "    \"retweet_count\" : 32567,\n",
        "    \"hashtags\"      : [\"#data\", \"#science\", \"#datascience\", \"#awesome\", \"#yolo\"]\n",
        "}"
      ],
      "execution_count": 0,
      "outputs": []
    },
    {
      "metadata": {
        "id": "AY0jdATS4BxG",
        "colab_type": "text"
      },
      "cell_type": "markdown",
      "source": [
        "***\n",
        "## Loops"
      ]
    },
    {
      "metadata": {
        "id": "0YYrHWdh4BxH",
        "colab_type": "text"
      },
      "cell_type": "markdown",
      "source": [
        "Indexes are useful, but lists really shine when you start looping.\n",
        "\n",
        "One of the most commonly used types of loops is called a `for` loop. A `for` loop lets you do something for each item in a list or collection. They syntax for a `for` loop is like an if statement, because they have an indented block.\n",
        "\n",
        "They look like this:\n",
        "\n",
        "    for item in list:\n",
        "        print(item) # Do any action per item in the list\n",
        "        \n",
        "A good interpretation of what is happening above in English would be:\n",
        "\n",
        "**\"For each item in list, print that item\"**.\n",
        "\n",
        "\"for\" and \"in\" are required. \"list\" can be any variable or literal which is like a list. \"item\" is the name you want to give each item of the list in the indented block as you iterate through. We call each step where item has a new value an iteration.\n",
        "\n",
        "Let's see it in action with our list:"
      ]
    },
    {
      "metadata": {
        "id": "H5qI7mfl4BxH",
        "colab_type": "code",
        "colab": {
          "base_uri": "https://localhost:8080/",
          "height": 82
        },
        "outputId": "73df5fdd-c18f-4b45-9912-2f5f83c14d07"
      },
      "cell_type": "code",
      "source": [
        "# This is what out list of awesome people looks like right now:\n",
        "print(awesome_people)\n",
        "\n",
        "for person in awesome_people:\n",
        "    print(person)"
      ],
      "execution_count": 88,
      "outputs": [
        {
          "output_type": "stream",
          "text": [
            "['Eric Idle', \"Albert O'Connor\", 'John Cleese']\n",
            "Eric Idle\n",
            "Albert O'Connor\n",
            "John Cleese\n"
          ],
          "name": "stdout"
        }
      ]
    },
    {
      "metadata": {
        "id": "VZRj_hca4BxJ",
        "colab_type": "text"
      },
      "cell_type": "markdown",
      "source": [
        "This is bascially the same as writing:"
      ]
    },
    {
      "metadata": {
        "id": "ebo7NI5k4BxK",
        "colab_type": "code",
        "colab": {
          "base_uri": "https://localhost:8080/",
          "height": 66
        },
        "outputId": "bf1528f9-8c83-45f9-b476-c81a004459e9"
      },
      "cell_type": "code",
      "source": [
        "person = awesome_people[0]\n",
        "print(person)\n",
        "person = awesome_people[1]\n",
        "print(person)\n",
        "person = awesome_people[2]\n",
        "print(person)"
      ],
      "execution_count": 89,
      "outputs": [
        {
          "output_type": "stream",
          "text": [
            "Eric Idle\n",
            "Albert O'Connor\n",
            "John Cleese\n"
          ],
          "name": "stdout"
        }
      ]
    },
    {
      "metadata": {
        "id": "hk6vvS_p4BxO",
        "colab_type": "text"
      },
      "cell_type": "markdown",
      "source": [
        "But that is a lot more code than:\n",
        "\n",
        "    for person in awesome_people:\n",
        "        print(person)\n",
        "\n",
        "Considering that our list of awesome people could be very long!\n",
        "\n",
        "You can use the built-in function \"range\" to create lists of numbers easily."
      ]
    },
    {
      "metadata": {
        "id": "6clMGtTf4BxO",
        "colab_type": "code",
        "colab": {
          "base_uri": "https://localhost:8080/",
          "height": 33
        },
        "outputId": "f4ed9c45-c46b-44a6-ac5e-dafb2c5badb4"
      },
      "cell_type": "code",
      "source": [
        "range(0, 10)"
      ],
      "execution_count": 90,
      "outputs": [
        {
          "output_type": "execute_result",
          "data": {
            "text/plain": [
              "range(0, 10)"
            ]
          },
          "metadata": {
            "tags": []
          },
          "execution_count": 90
        }
      ]
    },
    {
      "metadata": {
        "id": "oW8zIOSU4BxR",
        "colab_type": "text"
      },
      "cell_type": "markdown",
      "source": [
        "And then we can use that with a loop to print a list of squares. Note that we use special string formatting here in which `{0}` represents the first variable inside the format parentheses, and `{1}` represents the second variable."
      ]
    },
    {
      "metadata": {
        "id": "XJswUrbD4BxS",
        "colab_type": "code",
        "colab": {
          "base_uri": "https://localhost:8080/",
          "height": 180
        },
        "outputId": "b941a82d-68cf-4ac5-bdf1-45b1e50093c0"
      },
      "cell_type": "code",
      "source": [
        "for number in range(0, 10):\n",
        "    print(\"{0} squared is {1}\".format(number, number**2))"
      ],
      "execution_count": 91,
      "outputs": [
        {
          "output_type": "stream",
          "text": [
            "0 squared is 0\n",
            "1 squared is 1\n",
            "2 squared is 4\n",
            "3 squared is 9\n",
            "4 squared is 16\n",
            "5 squared is 25\n",
            "6 squared is 36\n",
            "7 squared is 49\n",
            "8 squared is 64\n",
            "9 squared is 81\n"
          ],
          "name": "stdout"
        }
      ]
    },
    {
      "metadata": {
        "id": "Q9a8yjFh4BxV",
        "colab_type": "text"
      },
      "cell_type": "markdown",
      "source": [
        "***\n",
        "## Functions"
      ]
    },
    {
      "metadata": {
        "id": "Ybaqtpjh4BxX",
        "colab_type": "text"
      },
      "cell_type": "markdown",
      "source": [
        "Functions are a set of actions that we group together, and give a name to. We can define our own functions, which allows us to \"teach\" Python new behavior.\n",
        "\n",
        "Here is the general syntax for defining and calling functions.\n",
        "\n",
        "    # Let's define a function.\n",
        "    def function_name(argument_1, argument_2):\n",
        "        # Do whatever we want this function to do,\n",
        "        # using argument_1 and argument_2\n",
        "        \n",
        "    # Use function_name to call the function.\n",
        "    function_name(value_1, value_2)\n",
        "\n",
        "* __Defining a function__\n",
        "    * The keyword `def` tells Python that you are about to define a function.\n",
        "    * Functions have a name. A variable name tells you what kind of value the variable contains; a function name should tell you what the function does.\n",
        "    * The values inside parentheses are called __arguments__ or __parameters__. Functions use parameters to get data it may need to execute.\n",
        "        * These are basically variable names, but they are only used in the function.\n",
        "        * They can be different names than what you use in the rest of your program.\n",
        "    * Make sure the function definition line ends with a colon.\n",
        "* __Using your function__\n",
        "    * To call your function, write its name followed by parentheses.\n",
        "    * Inside the parentheses, provide the values for the function's parameters.\n",
        "    * These can be values can be other variables you have defined or literal values."
      ]
    },
    {
      "metadata": {
        "id": "MbK26aSQ4BxX",
        "colab_type": "code",
        "colab": {}
      },
      "cell_type": "code",
      "source": [
        "# This function prints a two-line personalized thank you message.\n",
        "def say_hello(name):\n",
        "    # print() is also a function!\n",
        "    # It prints the string you give it onto the screen.\n",
        "    \n",
        "    print('Hello, %s!'%(name))\n",
        "    print('How\\'s it going?') # Note that the \\ character allows you to use single quotes without ending the string"
      ],
      "execution_count": 0,
      "outputs": []
    },
    {
      "metadata": {
        "id": "IW_VQp6P4Bxb",
        "colab_type": "code",
        "colab": {
          "base_uri": "https://localhost:8080/",
          "height": 147
        },
        "outputId": "fab21195-144b-424a-8a31-d6fa6a5c9177"
      },
      "cell_type": "code",
      "source": [
        "# now we can use the function that we just defined\n",
        "say_hello('Adriana')\n",
        "print('')\n",
        "say_hello('Billy')\n",
        "print('')\n",
        "say_hello('Caroline')"
      ],
      "execution_count": 93,
      "outputs": [
        {
          "output_type": "stream",
          "text": [
            "Hello, Adriana!\n",
            "How's it going?\n",
            "\n",
            "Hello, Billy!\n",
            "How's it going?\n",
            "\n",
            "Hello, Caroline!\n",
            "How's it going?\n"
          ],
          "name": "stdout"
        }
      ]
    },
    {
      "metadata": {
        "id": "b4zZLDCw4Bxe",
        "colab_type": "text"
      },
      "cell_type": "markdown",
      "source": [
        "You have already used quite a lot of built in functions so far. Here's some more functions that we can use on lists to sort them."
      ]
    },
    {
      "metadata": {
        "id": "kKDehnJT4Bxf",
        "colab_type": "code",
        "colab": {
          "base_uri": "https://localhost:8080/",
          "height": 163
        },
        "outputId": "4f882770-4b97-43cf-e4bf-ce7572dd9b03"
      },
      "cell_type": "code",
      "source": [
        "students = ['Bernice', 'Aaron', 'Cody']\n",
        "\n",
        "# Use the sort function to put students in alphabetical order.\n",
        "students.sort()\n",
        "\n",
        "# Display the list in its current order.\n",
        "print(\"Students in alphabetical order.\")\n",
        "for student in students:\n",
        "    print(student.title())\n",
        "\n",
        "# Give the sort function the reverse parameter\n",
        "# This puts students in reverse alphabetical order.\n",
        "students.sort(reverse=True)\n",
        "\n",
        "# Display the list in reverse order.\n",
        "print(\"\\nStudents in reverse alphabetical order.\")\n",
        "for student in students:\n",
        "    print(student.title())"
      ],
      "execution_count": 94,
      "outputs": [
        {
          "output_type": "stream",
          "text": [
            "Students in alphabetical order.\n",
            "Aaron\n",
            "Bernice\n",
            "Cody\n",
            "\n",
            "Students in reverse alphabetical order.\n",
            "Cody\n",
            "Bernice\n",
            "Aaron\n"
          ],
          "name": "stdout"
        }
      ]
    },
    {
      "metadata": {
        "id": "tYIuIEvR4Bxp",
        "colab_type": "text"
      },
      "cell_type": "markdown",
      "source": [
        "### Returning Values from Functions\n",
        "\n",
        "Functions can also return values. This is useful when we want the function to compute some data and give it back to us to use elsewhere in our code.\n",
        "\n",
        "Note: once a function returns something, Python moves out of that code. So anything after the return statement will not be run."
      ]
    },
    {
      "metadata": {
        "id": "XSqPE73o4Bxr",
        "colab_type": "code",
        "colab": {
          "base_uri": "https://localhost:8080/",
          "height": 50
        },
        "outputId": "53ee273d-5c8c-4aa5-a783-2fb9a2795265"
      },
      "cell_type": "code",
      "source": [
        "def add_five(number):\n",
        "    print(\"Adding 5 to\", number, \"now...\")\n",
        "    return number + 5\n",
        "    # We have already returned out of the function, the line below is arbitrary\n",
        "    print(\"This will not get printed\")\n",
        "    \n",
        "# Now use your function add_five()\n",
        "num = add_five(10)\n",
        "print(\"New number is:\", num)"
      ],
      "execution_count": 95,
      "outputs": [
        {
          "output_type": "stream",
          "text": [
            "Adding 5 to 10 now...\n",
            "New number is: 15\n"
          ],
          "name": "stdout"
        }
      ]
    },
    {
      "metadata": {
        "id": "33CvzVrs4Bxu",
        "colab_type": "code",
        "colab": {
          "base_uri": "https://localhost:8080/",
          "height": 82
        },
        "outputId": "aa423296-19be-4131-fdcb-8fa1cbab55be"
      },
      "cell_type": "code",
      "source": [
        "def get_number_word(number):\n",
        "    # Takes in a numerical value, and returns the word corresponding to that number.\n",
        "    if number == 1:\n",
        "        return 'one'\n",
        "    elif number == 2:\n",
        "        return 'two'\n",
        "    elif number == 3:\n",
        "        return 'three'\n",
        "    else:\n",
        "        return 'Not 1, 2, or 3'\n",
        "    \n",
        "# Let's try out our function.\n",
        "for number in range(0, 4):\n",
        "    number_word = get_number_word(number)\n",
        "    print(number, number_word)"
      ],
      "execution_count": 96,
      "outputs": [
        {
          "output_type": "stream",
          "text": [
            "0 Not 1, 2, or 3\n",
            "1 one\n",
            "2 two\n",
            "3 three\n"
          ],
          "name": "stdout"
        }
      ]
    },
    {
      "metadata": {
        "id": "ulWCiuNi4Bxw",
        "colab_type": "text"
      },
      "cell_type": "markdown",
      "source": [
        "### Exercise \n",
        "Now try writing a function called `future_age` that takes in a name, current_age, and n_years as parameters, and returns a message with their name saying how old they will be in n_years. For example: future_age('Bill', 20, 13) should return 'Bill will be 33 years old in 13 years'."
      ]
    },
    {
      "metadata": {
        "id": "TI51YDzI4Bxw",
        "colab_type": "code",
        "colab": {}
      },
      "cell_type": "code",
      "source": [
        "def future_age(name, current_age, n_years):\n",
        "    new_age = current_age + n_years\n",
        "    print('%s will be %d'%(name, new_age))\n",
        "    "
      ],
      "execution_count": 0,
      "outputs": []
    },
    {
      "metadata": {
        "id": "qgTMNjxz4Bxz",
        "colab_type": "code",
        "colab": {
          "base_uri": "https://localhost:8080/",
          "height": 33
        },
        "outputId": "ca71eee3-7332-48a6-f823-590d469aac76"
      },
      "cell_type": "code",
      "source": [
        "future_age('Bill', 20, 13)"
      ],
      "execution_count": 98,
      "outputs": [
        {
          "output_type": "stream",
          "text": [
            "Bill will be 33\n"
          ],
          "name": "stdout"
        }
      ]
    },
    {
      "metadata": {
        "id": "y8538tfj4Bx1",
        "colab_type": "text"
      },
      "cell_type": "markdown",
      "source": [
        "### Exercise \n",
        "Now you try writing a function called called `factorial`, which takes in a paramter n, and returns `n!`. Then, try testing your function out, factorial(5) should return 120. (Note that the factorial of 0 is 1, so we can start our return variable at 1 rather than 0.)"
      ]
    },
    {
      "metadata": {
        "id": "9EZbxrH94Bx1",
        "colab_type": "code",
        "colab": {}
      },
      "cell_type": "code",
      "source": [
        "def factorial(n):\n",
        "    count = 1\n",
        "    result = 1\n",
        "    while count <= n:\n",
        "        result = result*count\n",
        "        count += 1\n",
        "    return result"
      ],
      "execution_count": 0,
      "outputs": []
    },
    {
      "metadata": {
        "id": "HwY-e9tQ4Bx4",
        "colab_type": "code",
        "colab": {
          "base_uri": "https://localhost:8080/",
          "height": 33
        },
        "outputId": "6ec8b7ad-251e-4999-f7c8-adcb78070cf7"
      },
      "cell_type": "code",
      "source": [
        "print(factorial(5)) # output should be 120"
      ],
      "execution_count": 100,
      "outputs": [
        {
          "output_type": "stream",
          "text": [
            "120\n"
          ],
          "name": "stdout"
        }
      ]
    },
    {
      "metadata": {
        "id": "uJrpBUXd4Bx6",
        "colab_type": "text"
      },
      "cell_type": "markdown",
      "source": [
        "### Exercise\n",
        "\n",
        "<b>Applies the following:</b>\n",
        "- loops\n",
        "- lists\n",
        "- math operators\n",
        "- functions"
      ]
    },
    {
      "metadata": {
        "id": "Jsv0okgY4Bx7",
        "colab_type": "code",
        "colab": {}
      },
      "cell_type": "code",
      "source": [
        "# execute this line first\n",
        "list_data = [20, 50, 30, 70, 42, 30, 56, 72, 88, 90, 4, 65, 77, 42, 57]"
      ],
      "execution_count": 0,
      "outputs": []
    },
    {
      "metadata": {
        "id": "GGqKCABG4Bx9",
        "colab_type": "code",
        "colab": {}
      },
      "cell_type": "code",
      "source": [
        "# write a function that will take any list of numbers and sum up the values\n",
        "# this function should return the sum of the list.\n",
        "\n",
        "# input: a list\n",
        "# output: an integer\n",
        "def sum_list(data):\n",
        "    data_sum = 0\n",
        "    for nums in data:\n",
        "        data_sum = data_sum + nums\n",
        "    # also can use the sum() function\n",
        "    return data_sum "
      ],
      "execution_count": 0,
      "outputs": []
    },
    {
      "metadata": {
        "id": "yFiSy-nn4Bx_",
        "colab_type": "code",
        "colab": {
          "base_uri": "https://localhost:8080/",
          "height": 33
        },
        "outputId": "35e1517e-ee90-4b83-be87-eac85d4c201f"
      },
      "cell_type": "code",
      "source": [
        "# Call the function sum_list\n",
        "print(sum_list(list_data))"
      ],
      "execution_count": 103,
      "outputs": [
        {
          "output_type": "stream",
          "text": [
            "793\n"
          ],
          "name": "stdout"
        }
      ]
    },
    {
      "metadata": {
        "id": "vp_54s1N4ByB",
        "colab_type": "code",
        "colab": {}
      },
      "cell_type": "code",
      "source": [
        "# write another function that will take the sum and print out each digit separately\n",
        "# example - 793 should print out '7', '9', and '3'\n",
        "\n",
        "# input: a list \n",
        "# output: none\n",
        "def print_digits(data):\n",
        "    list_sum = str(sum_list(data))# cast list_sum since an integer does not have a length\n",
        "    list_len = len(list_sum)\n",
        "    for digits in range(0,list_len):\n",
        "        print('%s' % (list_sum[digits]))\n",
        "    return # this is not necessary, but is good practice"
      ],
      "execution_count": 0,
      "outputs": []
    },
    {
      "metadata": {
        "id": "k-u9mr6M4ByD",
        "colab_type": "code",
        "colab": {
          "base_uri": "https://localhost:8080/",
          "height": 66
        },
        "outputId": "969b6e36-57ef-450a-d0b3-a75ea0176a64"
      },
      "cell_type": "code",
      "source": [
        "# call the function print_digits\n",
        "print_digits(list_data)"
      ],
      "execution_count": 105,
      "outputs": [
        {
          "output_type": "stream",
          "text": [
            "7\n",
            "9\n",
            "3\n"
          ],
          "name": "stdout"
        }
      ]
    },
    {
      "metadata": {
        "id": "LIjKi-gP4ByG",
        "colab_type": "text"
      },
      "cell_type": "markdown",
      "source": [
        "***\n",
        "## More on Functions\n",
        "\n",
        "### Passing by Reference\n",
        "\n",
        "All parameters in Python are passed by reference and so if you change the parameter inside a called function, the same change occurs in the calling function."
      ]
    },
    {
      "metadata": {
        "id": "uHikR5l14ByG",
        "colab_type": "code",
        "colab": {
          "base_uri": "https://localhost:8080/",
          "height": 66
        },
        "outputId": "98d18eaa-6e87-4b58-9b88-2a73864c1d2d"
      },
      "cell_type": "code",
      "source": [
        "def addtolist(ls):\n",
        "    #This changes a passed list into this function by adding values to it\n",
        "    ls.append(99)\n",
        "    print(\"List inside the function: \", ls)\n",
        "\n",
        "mylist = [10,20,30]\n",
        "print(\"List before function: \", mylist)\n",
        "addtolist(mylist)\n",
        "print(\"List after the function: \", mylist)"
      ],
      "execution_count": 106,
      "outputs": [
        {
          "output_type": "stream",
          "text": [
            "List before function:  [10, 20, 30]\n",
            "List inside the function:  [10, 20, 30, 99]\n",
            "List after the function:  [10, 20, 30, 99]\n"
          ],
          "name": "stdout"
        }
      ]
    },
    {
      "metadata": {
        "id": "3m_fMQFs4ByK",
        "colab_type": "text"
      },
      "cell_type": "markdown",
      "source": [
        "***\n",
        "## Standard Library Modules\n",
        "\n",
        "Python comes \"batteries loaded\". This means that Python comes with a lot of prewritten code that is called the standard library. This library is very extensive, and offers a lot of modules and classes to accomplish a wide range of tasks.\n",
        "\n",
        "All of the modules in Python 2.7's Standard Library are listed in the official documentation at https://docs.python.org/2/library/index.html. To use any of these modules, you need to import them or the specific functions in them:\n",
        "\n",
        "    import math\n",
        "    # or\n",
        "    from math import factorial, log\n",
        "\n",
        "### Python `math`\n",
        "\n",
        "Let's have a look at the `math` module."
      ]
    },
    {
      "metadata": {
        "id": "CmT5-BY04ByM",
        "colab_type": "code",
        "colab": {
          "base_uri": "https://localhost:8080/",
          "height": 50
        },
        "outputId": "24d5dcd8-8214-4721-d17c-24336ca3996e"
      },
      "cell_type": "code",
      "source": [
        "import math\n",
        "\n",
        "mynum = 14\n",
        "print(math.sqrt(mynum))\n",
        "\n",
        "# math.pi is a constant in the math module\n",
        "print(math.sin(math.pi)) # should be almost 0"
      ],
      "execution_count": 107,
      "outputs": [
        {
          "output_type": "stream",
          "text": [
            "3.7416573867739413\n",
            "1.2246467991473532e-16\n"
          ],
          "name": "stdout"
        }
      ]
    },
    {
      "metadata": {
        "id": "8HJa2o8b4ByP",
        "colab_type": "text"
      },
      "cell_type": "markdown",
      "source": [
        "### File I/O\n",
        "\n",
        "It is very useful to know how to read and write files in Python. A lot of datasets are distributed in files, and to use the data in them we need to be able to read them.\n",
        "\n",
        "Below we will go over some of the basics with I/O. When loading and saving files you can specify the entire filepath or just relative to the current working directory."
      ]
    },
    {
      "metadata": {
        "id": "VuuuPt4N4ByP",
        "colab_type": "code",
        "colab": {
          "base_uri": "https://localhost:8080/",
          "height": 33
        },
        "outputId": "868046d8-b91b-4bec-96dc-bde2276a12db"
      },
      "cell_type": "code",
      "source": [
        "# writes a simple statement to a text file\n",
        "filepath = 'simple.txt'\n",
        "\n",
        "# opens the file. 'w' signifies we want to write to it.\n",
        "f = open(filepath, 'w')\n",
        "''' \n",
        "'w' erases existing file and writes. \n",
        "Creates a new file if the file name does not exist \n",
        "Use 'a' to append to an existing file \n",
        "'''\n",
        "\n",
        "# write a line to file using the .write() function\n",
        "f.write('Hello Advanced Python Workshop!\\n')\n",
        "f.close() # if you open a file, always close it\n",
        "print('The file has been written')"
      ],
      "execution_count": 108,
      "outputs": [
        {
          "output_type": "stream",
          "text": [
            "The file has been written\n"
          ],
          "name": "stdout"
        }
      ]
    },
    {
      "metadata": {
        "id": "GuOwFkcL4ByR",
        "colab_type": "text"
      },
      "cell_type": "markdown",
      "source": [
        "Likewise we can load text files using the `read()` function."
      ]
    },
    {
      "metadata": {
        "id": "Iijz22hE4ByS",
        "colab_type": "code",
        "colab": {
          "base_uri": "https://localhost:8080/",
          "height": 50
        },
        "outputId": "a1525a3b-8d7b-4ac8-9351-8847f7474635"
      },
      "cell_type": "code",
      "source": [
        "filepath = 'simple.txt'\n",
        "# opens the file, default behavior is to read (not write)\n",
        "f = open(filepath) # default parameter is 'r' for read\n",
        "print(f.read()) # reads the text file\n",
        "f.close()"
      ],
      "execution_count": 109,
      "outputs": [
        {
          "output_type": "stream",
          "text": [
            "Hello Advanced Python Workshop!\n",
            "\n"
          ],
          "name": "stdout"
        }
      ]
    },
    {
      "metadata": {
        "id": "wU0RV5oa4ByT",
        "colab_type": "text"
      },
      "cell_type": "markdown",
      "source": [
        "### CSV Files\n",
        "\n",
        "The CSV (Comma Separated Values) format is the most common import and export format for spreadsheets and databases. Although there is no standard for how the data is formatted, the generally followed format is like so:\n",
        "\n",
        "    column1_title, column2_title, column3_title\n",
        "    row1_data1, row1_data2, row1_data3\n",
        "    row2_data1, row2_data2, row2_data3\n",
        "    ...\n",
        "\n",
        "While the delimiters and quoting characters vary, the overall format is similar enough for easy parsing using the csv module.\n",
        "In the data folder, there is a test.csv file with the following contents:\n",
        "\n",
        "    name,column1,column2,column3\n",
        "    abc,1.1,4.2,1.2\n",
        "    def,2.1,1.4,5.2\n",
        "    ghi,1.5,1.2,2.1\n",
        "    jkl,1.8,1.1,4.2\n",
        "    mno,9.4,6.6,6.2\n",
        "    pqr,1.4,8.3,8.4\n",
        "\n",
        "Let's see how to parse the file and read the first few lines. Whenever you call the `open()` function in Python, you also need to call the close function. But since a lot of people forget, the general syntax people use is the __`with as`__ structure.\n",
        "\n",
        "In the case below, the file contents that the `open()` function returns is stored in a temporary variable called `csv_con`."
      ]
    },
    {
      "metadata": {
        "id": "7xzYxShG4ByU",
        "colab_type": "code",
        "colab": {
          "resources": {
            "http://localhost:8080/nbextensions/google.colab/files.js": {
              "data": "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",
              "ok": true,
              "headers": [
                [
                  "content-type",
                  "application/javascript"
                ]
              ],
              "status": 200,
              "status_text": ""
            }
          },
          "base_uri": "https://localhost:8080/",
          "height": 271
        },
        "outputId": "cd442f30-b40a-4810-a241-ff1a3cc6d257"
      },
      "cell_type": "code",
      "source": [
        "import io\n",
        "import csv\n",
        "import pandas as pd\n",
        "from google.colab import files\n",
        "\n",
        "uploaded = files.upload()\n",
        "\n",
        "# the relative path to the location of our csv file\n",
        "csv_file = 'test.csv'\n",
        "\n",
        "# a blank object that will store the parsed csv data\n",
        "test_csv = None\n",
        "\n",
        "df = pd.read_csv(io.StringIO(uploaded[csv_file].decode('utf-8')))\n"
      ],
      "execution_count": 115,
      "outputs": [
        {
          "output_type": "display_data",
          "data": {
            "text/html": [
              "\n",
              "     <input type=\"file\" id=\"files-ca61e181-823e-498e-b7d4-bc7394a78b0d\" name=\"files[]\" multiple disabled />\n",
              "     <output id=\"result-ca61e181-823e-498e-b7d4-bc7394a78b0d\">\n",
              "      Upload widget is only available when the cell has been executed in the\n",
              "      current browser session. Please rerun this cell to enable.\n",
              "      </output>\n",
              "      <script src=\"/nbextensions/google.colab/files.js\"></script> "
            ],
            "text/plain": [
              "<IPython.core.display.HTML object>"
            ]
          },
          "metadata": {
            "tags": []
          }
        },
        {
          "output_type": "stream",
          "text": [
            "Saving test.csv to test (4).csv\n"
          ],
          "name": "stdout"
        },
        {
          "output_type": "execute_result",
          "data": {
            "text/html": [
              "<div>\n",
              "<style scoped>\n",
              "    .dataframe tbody tr th:only-of-type {\n",
              "        vertical-align: middle;\n",
              "    }\n",
              "\n",
              "    .dataframe tbody tr th {\n",
              "        vertical-align: top;\n",
              "    }\n",
              "\n",
              "    .dataframe thead th {\n",
              "        text-align: right;\n",
              "    }\n",
              "</style>\n",
              "<table border=\"1\" class=\"dataframe\">\n",
              "  <thead>\n",
              "    <tr style=\"text-align: right;\">\n",
              "      <th></th>\n",
              "      <th>name</th>\n",
              "      <th>column1</th>\n",
              "      <th>column2</th>\n",
              "      <th>column3</th>\n",
              "    </tr>\n",
              "  </thead>\n",
              "  <tbody>\n",
              "    <tr>\n",
              "      <th>0</th>\n",
              "      <td>abc</td>\n",
              "      <td>1.1</td>\n",
              "      <td>4.2</td>\n",
              "      <td>1.2</td>\n",
              "    </tr>\n",
              "    <tr>\n",
              "      <th>1</th>\n",
              "      <td>def</td>\n",
              "      <td>2.1</td>\n",
              "      <td>1.4</td>\n",
              "      <td>5.2</td>\n",
              "    </tr>\n",
              "    <tr>\n",
              "      <th>2</th>\n",
              "      <td>ghi</td>\n",
              "      <td>1.5</td>\n",
              "      <td>1.2</td>\n",
              "      <td>2.1</td>\n",
              "    </tr>\n",
              "    <tr>\n",
              "      <th>3</th>\n",
              "      <td>jkl</td>\n",
              "      <td>1.8</td>\n",
              "      <td>1.1</td>\n",
              "      <td>4.2</td>\n",
              "    </tr>\n",
              "    <tr>\n",
              "      <th>4</th>\n",
              "      <td>mno</td>\n",
              "      <td>9.4</td>\n",
              "      <td>6.6</td>\n",
              "      <td>6.2</td>\n",
              "    </tr>\n",
              "    <tr>\n",
              "      <th>5</th>\n",
              "      <td>pqr</td>\n",
              "      <td>1.4</td>\n",
              "      <td>8.3</td>\n",
              "      <td>8.4</td>\n",
              "    </tr>\n",
              "  </tbody>\n",
              "</table>\n",
              "</div>"
            ],
            "text/plain": [
              "  name  column1  column2  column3\n",
              "0  abc      1.1      4.2      1.2\n",
              "1  def      2.1      1.4      5.2\n",
              "2  ghi      1.5      1.2      2.1\n",
              "3  jkl      1.8      1.1      4.2\n",
              "4  mno      9.4      6.6      6.2\n",
              "5  pqr      1.4      8.3      8.4"
            ]
          },
          "metadata": {
            "tags": []
          },
          "execution_count": 115
        }
      ]
    },
    {
      "metadata": {
        "id": "SntSD4e4DYKR",
        "colab_type": "code",
        "colab": {
          "base_uri": "https://localhost:8080/",
          "height": 191
        },
        "outputId": "90d9bf93-6fc3-488d-f9b6-ff588daee566"
      },
      "cell_type": "code",
      "source": [
        "df.head()"
      ],
      "execution_count": 119,
      "outputs": [
        {
          "output_type": "execute_result",
          "data": {
            "text/html": [
              "<div>\n",
              "<style scoped>\n",
              "    .dataframe tbody tr th:only-of-type {\n",
              "        vertical-align: middle;\n",
              "    }\n",
              "\n",
              "    .dataframe tbody tr th {\n",
              "        vertical-align: top;\n",
              "    }\n",
              "\n",
              "    .dataframe thead th {\n",
              "        text-align: right;\n",
              "    }\n",
              "</style>\n",
              "<table border=\"1\" class=\"dataframe\">\n",
              "  <thead>\n",
              "    <tr style=\"text-align: right;\">\n",
              "      <th></th>\n",
              "      <th>name</th>\n",
              "      <th>column1</th>\n",
              "      <th>column2</th>\n",
              "      <th>column3</th>\n",
              "    </tr>\n",
              "  </thead>\n",
              "  <tbody>\n",
              "    <tr>\n",
              "      <th>0</th>\n",
              "      <td>abc</td>\n",
              "      <td>1.1</td>\n",
              "      <td>4.2</td>\n",
              "      <td>1.2</td>\n",
              "    </tr>\n",
              "    <tr>\n",
              "      <th>1</th>\n",
              "      <td>def</td>\n",
              "      <td>2.1</td>\n",
              "      <td>1.4</td>\n",
              "      <td>5.2</td>\n",
              "    </tr>\n",
              "    <tr>\n",
              "      <th>2</th>\n",
              "      <td>ghi</td>\n",
              "      <td>1.5</td>\n",
              "      <td>1.2</td>\n",
              "      <td>2.1</td>\n",
              "    </tr>\n",
              "    <tr>\n",
              "      <th>3</th>\n",
              "      <td>jkl</td>\n",
              "      <td>1.8</td>\n",
              "      <td>1.1</td>\n",
              "      <td>4.2</td>\n",
              "    </tr>\n",
              "    <tr>\n",
              "      <th>4</th>\n",
              "      <td>mno</td>\n",
              "      <td>9.4</td>\n",
              "      <td>6.6</td>\n",
              "      <td>6.2</td>\n",
              "    </tr>\n",
              "  </tbody>\n",
              "</table>\n",
              "</div>"
            ],
            "text/plain": [
              "  name  column1  column2  column3\n",
              "0  abc      1.1      4.2      1.2\n",
              "1  def      2.1      1.4      5.2\n",
              "2  ghi      1.5      1.2      2.1\n",
              "3  jkl      1.8      1.1      4.2\n",
              "4  mno      9.4      6.6      6.2"
            ]
          },
          "metadata": {
            "tags": []
          },
          "execution_count": 119
        }
      ]
    },
    {
      "metadata": {
        "id": "_OkFgsIV4ByV",
        "colab_type": "text"
      },
      "cell_type": "markdown",
      "source": [
        "***\n",
        "## Making a To-Do List App in Python\n",
        "\n",
        "For our first project of the day, we are going to be creating a To-Do List app. This app involves some simple functions that will update a list object filled with tasks.  \n",
        "First let's look at the enumerate function. This function returns tuples storing the elements in your list as a key-value pair.\n",
        "For more information visit: https://docs.python.org/2/library/functions.html#enumerate"
      ]
    },
    {
      "metadata": {
        "id": "kmyjnmU64ByW",
        "colab_type": "code",
        "colab": {},
        "outputId": "5842ed15-1221-47ab-f1c3-4fb351c794dc"
      },
      "cell_type": "code",
      "source": [
        "mylist = [\"eric\", \"leo\", \"john\"]\n",
        "enum = enumerate(mylist)\n",
        "\n",
        "print(list(enum))"
      ],
      "execution_count": 0,
      "outputs": [
        {
          "output_type": "stream",
          "text": [
            "[(0, 'eric'), (1, 'leo'), (2, 'john')]\n"
          ],
          "name": "stdout"
        }
      ]
    },
    {
      "metadata": {
        "id": "u4TCR-JK4Bya",
        "colab_type": "text"
      },
      "cell_type": "markdown",
      "source": [
        "In the code block below, write 3 functions:\n",
        "* addItem(item)\n",
        "    * This function adds an item to your list array if it doesn't already exist.\n",
        "* deleteItem(item)\n",
        "    * This function deletes an item in your list array.\n",
        "* def viewList( )\n",
        "    * This function allows you to view all of the items in the array.\n",
        "      HINT: Use the enumerate function we just learned.  "
      ]
    },
    {
      "metadata": {
        "id": "rwt0ESi04Byc",
        "colab_type": "code",
        "colab": {}
      },
      "cell_type": "code",
      "source": [
        "todo_list = []\n",
        "\n",
        "#add item\n",
        "def addItem(item):\n",
        "    if item not in todo_list:\n",
        "        todo_list.append(item)\n",
        "        \n",
        "#delete item\n",
        "def deleteItem(item):\n",
        "    todo_list.remove(item)\n",
        "\n",
        "#view the list    \n",
        "def viewList():\n",
        "    enum = enumerate(todo_list, start = 1)\n",
        "    for i, item in enum:\n",
        "        print(\"Item No\", i, \":\", item)"
      ],
      "execution_count": 0,
      "outputs": []
    },
    {
      "metadata": {
        "id": "HRKm3mzu4Byg",
        "colab_type": "code",
        "colab": {},
        "outputId": "65c9c4e7-fda1-4b68-aba5-6dff90e08e43"
      },
      "cell_type": "code",
      "source": [
        "addItem(\"Buy groceries\")\n",
        "addItem(\"Eat food\")\n",
        "viewList()"
      ],
      "execution_count": 0,
      "outputs": [
        {
          "output_type": "stream",
          "text": [
            "Item No 1 : Buy groceries\n",
            "Item No 2 : Eat food\n"
          ],
          "name": "stdout"
        }
      ]
    },
    {
      "metadata": {
        "id": "wPR4mHch4Byh",
        "colab_type": "code",
        "colab": {},
        "outputId": "cf068f1e-cccd-4a60-900b-4a5a6582b40f"
      },
      "cell_type": "code",
      "source": [
        "deleteItem(\"Buy groceries\")\n",
        "viewList()"
      ],
      "execution_count": 0,
      "outputs": [
        {
          "output_type": "stream",
          "text": [
            "Item No 1 : Eat food\n"
          ],
          "name": "stdout"
        }
      ]
    },
    {
      "metadata": {
        "id": "xoD-Gakx4Byk",
        "colab_type": "text"
      },
      "cell_type": "markdown",
      "source": [
        "***\n",
        "## Important functions using lists\n",
        "\n",
        "Lists are so common in Python that it is very useful to know how to do some basic tasks with it. These include slicing, merging, and generating lists."
      ]
    },
    {
      "metadata": {
        "id": "64P-8pBD4Byl",
        "colab_type": "text"
      },
      "cell_type": "markdown",
      "source": [
        "### Slicing\n",
        "List slicing allows you to select sections of the list. It can be thought of as an enchanced indexing method.\n",
        "![List Slicing Image](http://www.nltk.org/images/string-slicing.png)\n",
        "\n",
        "Slicing uses the syntax `mylist[start:end]` and the resulting list will include elements from `start` to (but not including) `end`. Here's an example to illustrate this."
      ]
    },
    {
      "metadata": {
        "id": "gCgw78Uo4Byl",
        "colab_type": "code",
        "colab": {},
        "outputId": "22113d8c-b87b-4ff2-b552-0b4ce4319a54"
      },
      "cell_type": "code",
      "source": [
        "# to select 4 elements of a string starting from index 6\n",
        "\n",
        "seq = 'Monty Python'\n",
        "print(seq[6:10])"
      ],
      "execution_count": 0,
      "outputs": [
        {
          "output_type": "stream",
          "text": [
            "Pyth\n"
          ],
          "name": "stdout"
        }
      ]
    },
    {
      "metadata": {
        "id": "sOOOSnu_4Bym",
        "colab_type": "text"
      },
      "cell_type": "markdown",
      "source": [
        "To select everything until a particular index, we can omit the `start` number."
      ]
    },
    {
      "metadata": {
        "id": "y1Ja-3zL4Byn",
        "colab_type": "code",
        "colab": {},
        "outputId": "f271517f-800d-4e38-a475-3bd48a50a41e"
      },
      "cell_type": "code",
      "source": [
        "print(seq[:5])"
      ],
      "execution_count": 0,
      "outputs": [
        {
          "output_type": "stream",
          "text": [
            "Monty\n"
          ],
          "name": "stdout"
        }
      ]
    },
    {
      "metadata": {
        "id": "Az1E9l7u4Byq",
        "colab_type": "text"
      },
      "cell_type": "markdown",
      "source": [
        "Similarly we can omit the `end` number to select everything until the end."
      ]
    },
    {
      "metadata": {
        "id": "TeS6quCf4Byq",
        "colab_type": "code",
        "colab": {},
        "outputId": "23a7e1b0-87d8-43e1-d569-230aa540ada7"
      },
      "cell_type": "code",
      "source": [
        "print(seq[7:])"
      ],
      "execution_count": 0,
      "outputs": [
        {
          "output_type": "stream",
          "text": [
            "ython\n"
          ],
          "name": "stdout"
        }
      ]
    },
    {
      "metadata": {
        "id": "s97BLXs44Byt",
        "colab_type": "text"
      },
      "cell_type": "markdown",
      "source": [
        "We can also use negative indices to select from the end."
      ]
    },
    {
      "metadata": {
        "id": "-eHaR4GL4Byt",
        "colab_type": "code",
        "colab": {},
        "outputId": "5dc3b69a-5047-4a8a-f8bb-b5fcc10aa025"
      },
      "cell_type": "code",
      "source": [
        "print(seq[-11:-4])"
      ],
      "execution_count": 0,
      "outputs": [
        {
          "output_type": "stream",
          "text": [
            "onty Py\n"
          ],
          "name": "stdout"
        }
      ]
    },
    {
      "metadata": {
        "id": "Y873EOSV4Byx",
        "colab_type": "text"
      },
      "cell_type": "markdown",
      "source": [
        "To skip every set number of elements, we can provide a step parameter."
      ]
    },
    {
      "metadata": {
        "id": "WI0zVJDK4Byx",
        "colab_type": "code",
        "colab": {},
        "outputId": "75871675-da0e-408e-b3d4-ce8b5cb96d23"
      },
      "cell_type": "code",
      "source": [
        "print(seq[2:11:2])"
      ],
      "execution_count": 0,
      "outputs": [
        {
          "output_type": "stream",
          "text": [
            "nyPto\n"
          ],
          "name": "stdout"
        }
      ]
    },
    {
      "metadata": {
        "id": "M4Wk7lOC4By1",
        "colab_type": "text"
      },
      "cell_type": "markdown",
      "source": [
        "### Sorting Lists"
      ]
    },
    {
      "metadata": {
        "id": "UF2SPixS4By2",
        "colab_type": "text"
      },
      "cell_type": "markdown",
      "source": [
        "There are two ways to sort lists. We can either modify the list itself to make it sorted. Or we can return a new sorted list, thus preserving the order of the original list."
      ]
    },
    {
      "metadata": {
        "id": "aEr7DxCT4By2",
        "colab_type": "code",
        "colab": {},
        "outputId": "76767c36-8806-4605-cfdc-aa866960e954"
      },
      "cell_type": "code",
      "source": [
        "# in-place sorting\n",
        "seq = [1, 5, 3, 9, 7, 6]\n",
        "seq.sort()\n",
        "print(seq)"
      ],
      "execution_count": 0,
      "outputs": [
        {
          "output_type": "stream",
          "text": [
            "[1, 3, 5, 6, 7, 9]\n"
          ],
          "name": "stdout"
        }
      ]
    },
    {
      "metadata": {
        "id": "W1sX_3lC4By3",
        "colab_type": "code",
        "colab": {},
        "outputId": "661d1794-5f29-40ef-a21c-20c442194bcd"
      },
      "cell_type": "code",
      "source": [
        "# return a new list that is sorted\n",
        "seq = [1, 5, 3, 9, 7, 6]\n",
        "newseq = sorted(seq)\n",
        "print(newseq)"
      ],
      "execution_count": 0,
      "outputs": [
        {
          "output_type": "stream",
          "text": [
            "[1, 3, 5, 6, 7, 9]\n"
          ],
          "name": "stdout"
        }
      ]
    },
    {
      "metadata": {
        "id": "5RCrK_UB4By5",
        "colab_type": "text"
      },
      "cell_type": "markdown",
      "source": [
        "You can also specify how you want to sort lists based on the `key` parameter. So if we want to sort it by length, we can do something like this."
      ]
    },
    {
      "metadata": {
        "id": "b83iRc394By5",
        "colab_type": "code",
        "colab": {},
        "outputId": "3dad30f7-d74f-4af8-b7cc-8674270fa533"
      },
      "cell_type": "code",
      "source": [
        "seq = ['hello', 'wow', 'technology', 'python']\n",
        "seq.sort(key=len)\n",
        "print(seq)"
      ],
      "execution_count": 0,
      "outputs": [
        {
          "output_type": "stream",
          "text": [
            "['wow', 'hello', 'python', 'technology']\n"
          ],
          "name": "stdout"
        }
      ]
    },
    {
      "metadata": {
        "id": "gZHGCfYj4By6",
        "colab_type": "text"
      },
      "cell_type": "markdown",
      "source": [
        "### Pairing list elements using `zip`\n",
        "If we have multiple lists and we want to pair them up into a single list, we can use zip."
      ]
    },
    {
      "metadata": {
        "id": "2okA2vIz4By6",
        "colab_type": "code",
        "colab": {},
        "outputId": "925f73e1-afa5-4888-9ae3-de6a487b95ed"
      },
      "cell_type": "code",
      "source": [
        "seq_1 = [1, 2, 3]\n",
        "seq_2 = ['foo', 'bar', 'baz']\n",
        "zipped_seq = list(zip(seq_1, seq_2))\n",
        "print(zipped_seq)"
      ],
      "execution_count": 0,
      "outputs": [
        {
          "output_type": "stream",
          "text": [
            "[(1, 'foo'), (2, 'bar'), (3, 'baz')]\n"
          ],
          "name": "stdout"
        }
      ]
    },
    {
      "metadata": {
        "id": "Grq3qa4h4By7",
        "colab_type": "text"
      },
      "cell_type": "markdown",
      "source": [
        "The elements of the zipped list are tuples."
      ]
    },
    {
      "metadata": {
        "id": "NO3__m__4By7",
        "colab_type": "code",
        "colab": {},
        "outputId": "a1a7fc63-b48a-4f67-8232-39ca4309bb2b"
      },
      "cell_type": "code",
      "source": [
        "print(zipped_seq[0])"
      ],
      "execution_count": 0,
      "outputs": [
        {
          "output_type": "stream",
          "text": [
            "(1, 'foo')\n"
          ],
          "name": "stdout"
        }
      ]
    },
    {
      "metadata": {
        "id": "EfuZY1BC4By9",
        "colab_type": "text"
      },
      "cell_type": "markdown",
      "source": [
        "### List Comprehensions\n",
        "List comprehensions are one of the best features of Python's list. They allow you to generate new lists using syntax that is very similar to English.\n",
        "\n",
        "List comprehensions concisely form a new list by filtering the elements of a sequence and transforming the elements passing the filter. List comprehensions take the form:\n",
        "\n",
        "    [expr for val in collection if condition]\n",
        "\n",
        "![List Comprehension figure](http://python-3-patterns-idioms-test.readthedocs.org/en/latest/_images/listComprehensions.gif)\n",
        "\n",
        "Which is equivalent to the following for loop:\n",
        "\n",
        "    result = []\n",
        "    for val in collection:\n",
        "        if condition:\n",
        "            result.append(expr)\n",
        "\n",
        "Here's an example that converts to upper case all strings that start with a 'b':"
      ]
    },
    {
      "metadata": {
        "id": "4wiiwAJy4By9",
        "colab_type": "code",
        "colab": {},
        "outputId": "2a9ccae6-d2b0-471a-e958-c24574be0526"
      },
      "cell_type": "code",
      "source": [
        "a_list = [1, 4, 9, 3, 0, 4]\n",
        "squared_ints = [e**2 for e in a_list]\n",
        "print(squared_ints)"
      ],
      "execution_count": 0,
      "outputs": [
        {
          "output_type": "stream",
          "text": [
            "[1, 16, 81, 9, 0, 16]\n"
          ],
          "name": "stdout"
        }
      ]
    },
    {
      "metadata": {
        "id": "tjMeJtA84By_",
        "colab_type": "code",
        "colab": {},
        "outputId": "c97e2cce-1f24-4703-f829-5d36a0fd0374"
      },
      "cell_type": "code",
      "source": [
        "strings = ['foo', 'bar', 'baz', 'f', 'fo', 'b', 'ba']\n",
        "newlist = [x.upper() for x in strings if x[0] == 'b']\n",
        "print(newlist)"
      ],
      "execution_count": 0,
      "outputs": [
        {
          "output_type": "stream",
          "text": [
            "['BAR', 'BAZ', 'B', 'BA']\n"
          ],
          "name": "stdout"
        }
      ]
    },
    {
      "metadata": {
        "id": "zZuQVKiu4BzB",
        "colab_type": "text"
      },
      "cell_type": "markdown",
      "source": [
        "***\n",
        "## Lambda Functions\n",
        "\n",
        "__`lambda`__ is a reserved keyword in Python. It signals the creation of an anonymous function (it's not bound to a name). It allows functions to be written in a single line and to be passed with relative ease. The best way to understand it is just to look at some examples."
      ]
    },
    {
      "metadata": {
        "id": "s1UTjKsP4BzB",
        "colab_type": "code",
        "colab": {},
        "outputId": "f8d28b5a-588a-46b3-c52d-4b9142bff2cd"
      },
      "cell_type": "code",
      "source": [
        "# Simple function as we would normally define it\n",
        "def f(x):\n",
        "    return x**3\n",
        "\n",
        "print(f(3))\n",
        "\n",
        "g = lambda x:x**3 #Same exact function using the lambda keyword\n",
        "print(g(3))"
      ],
      "execution_count": 0,
      "outputs": [
        {
          "output_type": "stream",
          "text": [
            "27\n",
            "27\n"
          ],
          "name": "stdout"
        }
      ]
    },
    {
      "metadata": {
        "id": "nex06b8g4BzD",
        "colab_type": "code",
        "colab": {},
        "outputId": "1de108fd-2021-4810-de8d-6a1551d639c9"
      },
      "cell_type": "code",
      "source": [
        "# filter the even numbers in a list\n",
        "\n",
        "mylist = [17, 29, 12, 41, 8, 4, 10, 2]\n",
        "# filters out anything that doesn't satisfy the given function\n",
        "filtered_list = list(filter(lambda val : val%2 == 0, mylist))\n",
        "\n",
        "print(filtered_list)"
      ],
      "execution_count": 0,
      "outputs": [
        {
          "output_type": "stream",
          "text": [
            "[12, 8, 4, 10, 2]\n"
          ],
          "name": "stdout"
        }
      ]
    },
    {
      "metadata": {
        "id": "YRDfAKOz4BzH",
        "colab_type": "text"
      },
      "cell_type": "markdown",
      "source": [
        "This prints out the complete source HTML of the website. We have this data stored as a regular string in the html variable, and we can now do whatever we want with it."
      ]
    }
  ]
}