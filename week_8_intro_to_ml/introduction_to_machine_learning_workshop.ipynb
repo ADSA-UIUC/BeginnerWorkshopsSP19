{
  "nbformat": 4,
  "nbformat_minor": 0,
  "metadata": {
    "colab": {
      "name": "introduction_to_machine_learning_workshop.ipynb",
      "version": "0.3.2",
      "provenance": []
    },
    "kernelspec": {
      "display_name": "Python 3",
      "language": "python",
      "name": "python3"
    }
  },
  "cells": [
    {
      "metadata": {
        "deletable": true,
        "editable": true,
        "id": "So7ReChu8FXd",
        "colab_type": "text"
      },
      "cell_type": "markdown",
      "source": [
        "![ADSA Logo](http://i.imgur.com/BV0CdHZ.png?2 \"ADSA Logo\")"
      ]
    },
    {
      "metadata": {
        "deletable": true,
        "editable": true,
        "id": "OyAsesPR8FXf",
        "colab_type": "text"
      },
      "cell_type": "markdown",
      "source": [
        "# Spring 2019 ADSA Workshop - Introduction to Machine Learning\n",
        "Workshop content adapted from:\n",
        "* [Introduction to Machine Learning with Python](https://github.com/amueller/introduction_to_ml_with_python)\n",
        "* [info490-sp17](https://github.com/lcdm-uiuc/info490-sp17/tree/d91b9099c5c26722d56fd3dbffbca13a6f72b6d2/notebooks)\n",
        "***"
      ]
    },
    {
      "metadata": {
        "deletable": true,
        "editable": true,
        "id": "s2pHHyT98FXg",
        "colab_type": "text"
      },
      "cell_type": "markdown",
      "source": [
        "This workshop will be focusing on the following topics\n",
        "    - Review on previous workshops\n",
        "        * Numpy\n",
        "        * Scipy\n",
        "        * Matplotlib\n",
        "        * Pandas\n",
        "    - Analyzing the data\n",
        "    - Training and testing data\n",
        "    - Visualizing the data\n",
        "    - K-Nearest Neighbors\n",
        "    - Decision Trees \n",
        "    - Naive Bayes"
      ]
    },
    {
      "metadata": {
        "deletable": true,
        "editable": true,
        "hide_input": false,
        "id": "oEuBFyWF8FXl",
        "colab_type": "text"
      },
      "cell_type": "markdown",
      "source": [
        "## Introduction\n",
        "### What is machine learning?\n",
        "    - Machine learning is an application of artificial intelligence (AI) that provides systems\n",
        "      the ability to automatically learn and improve from experience without being explicitly programmed.\n",
        "### Problems that machine learning can solve\n",
        "    - Self-driving cars \n",
        "    - Facial Recognition\n",
        "    - Recommenders"
      ]
    },
    {
      "metadata": {
        "id": "QZiAKx6l8FXm",
        "colab_type": "text"
      },
      "cell_type": "markdown",
      "source": [
        "### Types of learning\n",
        "Depending on the data available to your learning system, machine learning tasks are divided into broad areas\n",
        "    - Supervised Learning - learning that takes place when the training data are labelled with the correct outcome, which gives the learning algorithm examples for learning.\n",
        "    - Unsupervised Learning - learning that takes place by grouping similar inputs X into clusters"
      ]
    },
    {
      "metadata": {
        "deletable": true,
        "editable": true,
        "id": "IoBDfS5e8FXm",
        "colab_type": "text"
      },
      "cell_type": "markdown",
      "source": [
        "##### NumPy"
      ]
    },
    {
      "metadata": {
        "deletable": true,
        "editable": true,
        "uuid": "e2b8e959-75f0-4fa9-a878-5ab024f89223",
        "id": "UzJW0UT88FXn",
        "colab_type": "code",
        "colab": {}
      },
      "cell_type": "code",
      "source": [
        "import numpy as np\n",
        "\n",
        "x = np.array([[1, 2, 3], [4, 5, 6]])\n",
        "print(\"x:\\n{}\".format(x))"
      ],
      "execution_count": 0,
      "outputs": []
    },
    {
      "metadata": {
        "deletable": true,
        "editable": true,
        "id": "2KkerZdH8FX5",
        "colab_type": "text"
      },
      "cell_type": "markdown",
      "source": [
        "##### matplotlib"
      ]
    },
    {
      "metadata": {
        "deletable": true,
        "editable": true,
        "uuid": "30faf136-0ef7-4762-bd82-3795eea323d0",
        "id": "fW9-XRa08FX6",
        "colab_type": "code",
        "colab": {}
      },
      "cell_type": "code",
      "source": [
        "%matplotlib inline\n",
        "import matplotlib.pyplot as plt\n",
        "\n",
        "# Generate a sequence numbers from -10 to 10 with 100 steps in between\n",
        "x = np.linspace(-10, 10, 100)\n",
        "# create a second array using sinus\n",
        "y = np.sin(x)\n",
        "# The plot function makes a line chart of one array against another\n",
        "plt.plot(x, y, marker=\"x\")"
      ],
      "execution_count": 0,
      "outputs": []
    },
    {
      "metadata": {
        "deletable": true,
        "editable": true,
        "id": "TWTBSd-28FYA",
        "colab_type": "text"
      },
      "cell_type": "markdown",
      "source": [
        "##### pandas"
      ]
    },
    {
      "metadata": {
        "deletable": true,
        "editable": true,
        "uuid": "ad1b06f7-e03a-4938-9d59-5bb40e848553",
        "id": "OPO4AixU8FYB",
        "colab_type": "code",
        "colab": {}
      },
      "cell_type": "code",
      "source": [
        "import pandas as pd\n",
        "from IPython.display import display\n",
        "\n",
        "# create a simple dataset of people\n",
        "data = {'Name': [\"John\", \"Anna\", \"Peter\", \"Linda\"],\n",
        "        'Location' : [\"New York\", \"Paris\", \"Berlin\", \"London\"],\n",
        "        'Age' : [24, 13, 53, 33]\n",
        "       }\n",
        "\n",
        "data_pandas = pd.DataFrame(data)\n",
        "# IPython.display allows \"pretty printing\" of dataframes\n",
        "# in the Jupyter notebook\n",
        "display(data_pandas)"
      ],
      "execution_count": 0,
      "outputs": []
    },
    {
      "metadata": {
        "deletable": true,
        "editable": true,
        "id": "PubzPO5t8FYG",
        "colab_type": "code",
        "colab": {}
      },
      "cell_type": "code",
      "source": [
        "# One of many possible ways to query the table:\n",
        "# selecting all rows that have an age column greate than 30\n",
        "display(data_pandas[data_pandas.Age > 30])"
      ],
      "execution_count": 0,
      "outputs": []
    },
    {
      "metadata": {
        "deletable": true,
        "editable": true,
        "id": "673ddU-18FYJ",
        "colab_type": "text"
      },
      "cell_type": "markdown",
      "source": [
        "### A First Application: Classifying iris species\n",
        "![sepal_petal](https://raw.githubusercontent.com/amueller/introduction_to_ml_with_python/cccbbca86d00f9d5ffb643c740de4489de80436d/images/iris_petal_sepal.png)"
      ]
    },
    {
      "metadata": {
        "deletable": true,
        "editable": true,
        "id": "wNn3PlJY8FYJ",
        "colab_type": "text"
      },
      "cell_type": "markdown",
      "source": [
        "#### Meet the data"
      ]
    },
    {
      "metadata": {
        "deletable": true,
        "editable": true,
        "scrolled": true,
        "id": "E0tdN3TE8FYK",
        "colab_type": "code",
        "colab": {}
      },
      "cell_type": "code",
      "source": [
        "from sklearn.datasets import load_iris\n",
        "iris_dataset = load_iris()"
      ],
      "execution_count": 0,
      "outputs": []
    },
    {
      "metadata": {
        "deletable": true,
        "editable": true,
        "id": "QFhbTxS68FYP",
        "colab_type": "code",
        "colab": {}
      },
      "cell_type": "code",
      "source": [
        "print(\"Keys of iris_dataset: {}\".format(iris_dataset.keys()))"
      ],
      "execution_count": 0,
      "outputs": []
    },
    {
      "metadata": {
        "deletable": true,
        "editable": true,
        "scrolled": true,
        "id": "FUovhSB-8FYT",
        "colab_type": "code",
        "colab": {}
      },
      "cell_type": "code",
      "source": [
        "print(iris_dataset['DESCR'][:193] + \"\\n...\")"
      ],
      "execution_count": 0,
      "outputs": []
    },
    {
      "metadata": {
        "deletable": true,
        "editable": true,
        "id": "VZmSzZ0U8FYX",
        "colab_type": "code",
        "colab": {}
      },
      "cell_type": "code",
      "source": [
        "print(\"Target names: {}\".format(iris_dataset['target_names']))"
      ],
      "execution_count": 0,
      "outputs": []
    },
    {
      "metadata": {
        "deletable": true,
        "editable": true,
        "id": "3OBlCt3L8FYa",
        "colab_type": "code",
        "colab": {}
      },
      "cell_type": "code",
      "source": [
        "print(\"Feature names: {}\".format(iris_dataset['feature_names']))"
      ],
      "execution_count": 0,
      "outputs": []
    },
    {
      "metadata": {
        "deletable": true,
        "editable": true,
        "id": "JP3nfKaB8FYd",
        "colab_type": "code",
        "colab": {}
      },
      "cell_type": "code",
      "source": [
        "print(\"Type of data: {}\".format(type(iris_dataset['data'])))"
      ],
      "execution_count": 0,
      "outputs": []
    },
    {
      "metadata": {
        "deletable": true,
        "editable": true,
        "id": "lUp5Eebu8FYg",
        "colab_type": "code",
        "colab": {}
      },
      "cell_type": "code",
      "source": [
        "print(\"Shape of data: {}\".format(iris_dataset['data'].shape))"
      ],
      "execution_count": 0,
      "outputs": []
    },
    {
      "metadata": {
        "deletable": true,
        "editable": true,
        "id": "CDLtkGT28FYj",
        "colab_type": "code",
        "colab": {}
      },
      "cell_type": "code",
      "source": [
        "print(\"First five rows of data:\\n{}\".format(iris_dataset['data'][:5]))"
      ],
      "execution_count": 0,
      "outputs": []
    },
    {
      "metadata": {
        "deletable": true,
        "editable": true,
        "id": "LAUdC2Vc8FYm",
        "colab_type": "code",
        "colab": {}
      },
      "cell_type": "code",
      "source": [
        "print(\"Type of target: {}\".format(type(iris_dataset['target'])))"
      ],
      "execution_count": 0,
      "outputs": []
    },
    {
      "metadata": {
        "deletable": true,
        "editable": true,
        "id": "PAeFyPx98FYo",
        "colab_type": "code",
        "colab": {}
      },
      "cell_type": "code",
      "source": [
        "print(\"Shape of target: {}\".format(iris_dataset['target'].shape))"
      ],
      "execution_count": 0,
      "outputs": []
    },
    {
      "metadata": {
        "deletable": true,
        "editable": true,
        "id": "gtTGveC58FYr",
        "colab_type": "code",
        "colab": {}
      },
      "cell_type": "code",
      "source": [
        "print(\"Target:\\n{}\".format(iris_dataset['target']))"
      ],
      "execution_count": 0,
      "outputs": []
    },
    {
      "metadata": {
        "deletable": true,
        "editable": true,
        "id": "N4jdTeVB8FY0",
        "colab_type": "text"
      },
      "cell_type": "markdown",
      "source": [
        "#### Measuring Success: Training and testing data"
      ]
    },
    {
      "metadata": {
        "deletable": true,
        "editable": true,
        "id": "GczDDaa28FY0",
        "colab_type": "code",
        "colab": {}
      },
      "cell_type": "code",
      "source": [
        "from sklearn.model_selection import train_test_split"
      ],
      "execution_count": 0,
      "outputs": []
    },
    {
      "metadata": {
        "deletable": true,
        "editable": true,
        "id": "VvuCogAC8FY5",
        "colab_type": "text"
      },
      "cell_type": "markdown",
      "source": [
        "More information on this function on \n",
        "[train_test_split](http://scikit-learn.org/stable/modules/generated/sklearn.model_selection.train_test_split.html)"
      ]
    },
    {
      "metadata": {
        "id": "tpC_sVjp94yn",
        "colab_type": "text"
      },
      "cell_type": "markdown",
      "source": [
        "### Why do we need to split the data into training and testing data? \n",
        "In machine learning, we generalize patterns beyond the data used to train models. Because we do not know the target values, we can not check the accuracy of our predictions in the future. Therefore, we can use a portion of training data to test our model. "
      ]
    },
    {
      "metadata": {
        "deletable": true,
        "editable": true,
        "id": "JPNRvDZH8FY6",
        "colab_type": "code",
        "colab": {}
      },
      "cell_type": "code",
      "source": [
        "X_train, X_test, y_train, y_test = train_test_split(\n",
        "    iris_dataset['data'], iris_dataset['target'], random_state=0, test_size = 0.8)"
      ],
      "execution_count": 0,
      "outputs": []
    },
    {
      "metadata": {
        "deletable": true,
        "editable": true,
        "id": "w0We1-sn8FZA",
        "colab_type": "code",
        "colab": {}
      },
      "cell_type": "code",
      "source": [
        "print(\"X_train shape: {}\".format(X_train.shape))\n",
        "print(\"y_train shape: {}\".format(y_train.shape))"
      ],
      "execution_count": 0,
      "outputs": []
    },
    {
      "metadata": {
        "deletable": true,
        "editable": true,
        "id": "jmOBA6xo8FZI",
        "colab_type": "code",
        "colab": {}
      },
      "cell_type": "code",
      "source": [
        "print(\"X_test shape: {}\".format(X_test.shape))\n",
        "print(\"y_test shape: {}\".format(y_test.shape))"
      ],
      "execution_count": 0,
      "outputs": []
    },
    {
      "metadata": {
        "deletable": true,
        "editable": true,
        "id": "BpqIPt6M8FZQ",
        "colab_type": "text"
      },
      "cell_type": "markdown",
      "source": [
        "#### First things first: Look at your data"
      ]
    },
    {
      "metadata": {
        "deletable": true,
        "editable": true,
        "id": "pU5foYh28FZQ",
        "colab_type": "code",
        "colab": {}
      },
      "cell_type": "code",
      "source": [
        "# create dataframe from data in X_train\n",
        "# label the columns using the strings in iris_dataset.feature_names\n",
        "iris_dataframe = pd.DataFrame(X_train, columns=iris_dataset.feature_names)\n",
        "print(iris_dataframe)"
      ],
      "execution_count": 0,
      "outputs": []
    },
    {
      "metadata": {
        "deletable": true,
        "editable": true,
        "id": "3JpRHFJf8FZV",
        "colab_type": "code",
        "colab": {}
      },
      "cell_type": "code",
      "source": [
        "# create a scatter matrix from the dataframe, color by y_train\n",
        "pd.scatter_matrix(iris_dataframe, c=y_train, figsize=(15, 15), marker='o',\n",
        "                           hist_kwds={'bins': 20}, s=60, alpha=.8)"
      ],
      "execution_count": 0,
      "outputs": []
    },
    {
      "metadata": {
        "deletable": true,
        "editable": true,
        "id": "FSuSh-TO8FZZ",
        "colab_type": "text"
      },
      "cell_type": "markdown",
      "source": [
        "#### Building your first model: k nearest neighbors"
      ]
    },
    {
      "metadata": {
        "deletable": true,
        "editable": true,
        "id": "P2sfvKgY8FZa",
        "colab_type": "text"
      },
      "cell_type": "markdown",
      "source": [
        "-----\n",
        "\n",
        "## [k-Nearest Neighbors][knn] (K-NN)\n",
        "\n",
        "The first algorithm we will explore is one of the simplest, the\n",
        "[k-nearest neighbor][knn] algorithm. Fundamentally, this algorithm is\n",
        "remarkable simple and is based on the principle that data values in an\n",
        "$N$- dimensional space are generally located near other similar objects.\n",
        "The number of nearest neighbors, k, is a tuning parameter, and can be\n",
        "specified a priori or in some algorithms empirically determined. The\n",
        "basic principle behind k-nn is demonstrated in the following figure from\n",
        "Wikipedia:\n",
        "\n",
        "![knn Image from Wikipedia][knni]\n",
        "\n",
        "As shown in the image, when a new datum is added, the classification\n",
        "must be assigned. In the case of k-nn, this is done by looking at the\n",
        "nearest neighbors and using some statistical evaluation of their\n",
        "classes. For example, we could use some weighted combination of the\n",
        "nearest neighbors, where the weight might be determined by the relative\n",
        "distance of each neighbor from the datum of interest. \n",
        "\n",
        "In the following code cells, we demonstrate how to perform knn\n",
        "classification by using scikit-learn. In this example, we use five\n",
        "nearest neighbors (but this value can be easily adjusted to see how the\n",
        "classification performance changes). The standard classification\n",
        "process in scikit-learn is to first fit a model to the training data\n",
        "and to subsequently apply this model to predict values for the testing\n",
        "data. After this process, we first compute the prediction score before\n",
        "displaying the confusion matrix for this algorithm.\n",
        "\n",
        "-----\n",
        "\n",
        "[knn]: https://en.wikipedia.org/wiki/K-nearest_neighbors_algorithm\n",
        "[knni]: https://upload.wikimedia.org/wikipedia/commons/thumb/e/e7/KnnClassification.svg/500px-KnnClassification.svg.png"
      ]
    },
    {
      "metadata": {
        "deletable": true,
        "editable": true,
        "id": "xbeP2YSZ8FZb",
        "colab_type": "code",
        "colab": {}
      },
      "cell_type": "code",
      "source": [
        "from sklearn.neighbors import KNeighborsClassifier\n",
        "knn = KNeighborsClassifier(n_neighbors=1)"
      ],
      "execution_count": 0,
      "outputs": []
    },
    {
      "metadata": {
        "deletable": true,
        "editable": true,
        "id": "Ln0xM6iV8FZd",
        "colab_type": "code",
        "colab": {}
      },
      "cell_type": "code",
      "source": [
        "knn.fit(X_train, y_train)"
      ],
      "execution_count": 0,
      "outputs": []
    },
    {
      "metadata": {
        "collapsed": true,
        "deletable": true,
        "editable": true,
        "id": "Sq1dNG408FZg",
        "colab_type": "text"
      },
      "cell_type": "markdown",
      "source": [
        "#### Making predictions"
      ]
    },
    {
      "metadata": {
        "deletable": true,
        "editable": true,
        "id": "tFMpM4J48FZh",
        "colab_type": "code",
        "colab": {}
      },
      "cell_type": "code",
      "source": [
        "X_new = np.array([[5, 2.9, 1, 0.2]])\n",
        "print(\"X_new.shape: {}\".format(X_new.shape))"
      ],
      "execution_count": 0,
      "outputs": []
    },
    {
      "metadata": {
        "deletable": true,
        "editable": true,
        "id": "98dttLsu8FZj",
        "colab_type": "code",
        "colab": {}
      },
      "cell_type": "code",
      "source": [
        "prediction = knn.predict(X_new)\n",
        "print(\"Prediction: {}\".format(prediction))\n",
        "print(\"Predicted target name: {}\".format(\n",
        "       iris_dataset['target_names'][prediction]))"
      ],
      "execution_count": 0,
      "outputs": []
    },
    {
      "metadata": {
        "deletable": true,
        "editable": true,
        "id": "SchU5R0t8FZn",
        "colab_type": "text"
      },
      "cell_type": "markdown",
      "source": [
        "#### Evaluating the model"
      ]
    },
    {
      "metadata": {
        "deletable": true,
        "editable": true,
        "id": "PWGjtirY8FZn",
        "colab_type": "code",
        "colab": {}
      },
      "cell_type": "code",
      "source": [
        "y_pred = knn.predict(X_test)\n",
        "print(\"Test set predictions:\\n {}\".format(y_pred))"
      ],
      "execution_count": 0,
      "outputs": []
    },
    {
      "metadata": {
        "deletable": true,
        "editable": true,
        "id": "BmHAUTwz8FZq",
        "colab_type": "code",
        "colab": {}
      },
      "cell_type": "code",
      "source": [
        "print(\"Test set score: {:.2f}\".format(np.mean(y_pred == y_test)))"
      ],
      "execution_count": 0,
      "outputs": []
    },
    {
      "metadata": {
        "deletable": true,
        "editable": true,
        "id": "IaahDgwi8FZv",
        "colab_type": "code",
        "colab": {}
      },
      "cell_type": "code",
      "source": [
        "print(\"Test set score: {:.2f}\".format(knn.score(X_test, y_test)))"
      ],
      "execution_count": 0,
      "outputs": []
    },
    {
      "metadata": {
        "deletable": true,
        "editable": true,
        "id": "NC67IM-_8FZy",
        "colab_type": "text"
      },
      "cell_type": "markdown",
      "source": [
        "### Summary and Outlook"
      ]
    },
    {
      "metadata": {
        "deletable": true,
        "editable": true,
        "id": "IjT9Hmcu8FZ0",
        "colab_type": "code",
        "colab": {}
      },
      "cell_type": "code",
      "source": [
        "X_train, X_test, y_train, y_test = train_test_split(\n",
        "    iris_dataset['data'], iris_dataset['target'], random_state=0)\n",
        "\n",
        "knn = KNeighborsClassifier(n_neighbors=1)\n",
        "knn.fit(X_train, y_train)\n",
        "\n",
        "print(\"Test set score: {:.2f}\".format(knn.score(X_test, y_test)))"
      ],
      "execution_count": 0,
      "outputs": []
    },
    {
      "metadata": {
        "id": "NT_sUPyc94y9",
        "colab_type": "text"
      },
      "cell_type": "markdown",
      "source": [
        "## Decision Trees"
      ]
    },
    {
      "metadata": {
        "id": "IZqzpiPa94y-",
        "colab_type": "text"
      },
      "cell_type": "markdown",
      "source": [
        "Decision trees are one of the few models that allow users to interpret exactly why the classifier makes a decision. Under the hood, the decision tree classifer asks a series of yes or no questions. Based on the answers, the classifier will return its decision."
      ]
    },
    {
      "metadata": {
        "id": "kdhmEPaW94zA",
        "colab_type": "text"
      },
      "cell_type": "markdown",
      "source": [
        "### Split"
      ]
    },
    {
      "metadata": {
        "id": "t6tWUxtv94zA",
        "colab_type": "code",
        "colab": {}
      },
      "cell_type": "code",
      "source": [
        "x_train, x_test, y_train, y_test = train_test_split(\n",
        "    iris_dataset['data'], iris_dataset['target'], random_state=0)"
      ],
      "execution_count": 0,
      "outputs": []
    },
    {
      "metadata": {
        "id": "8heRmVsq94zC",
        "colab_type": "text"
      },
      "cell_type": "markdown",
      "source": [
        "### Create classifier"
      ]
    },
    {
      "metadata": {
        "id": "H9MTVTGH94zE",
        "colab_type": "code",
        "colab": {}
      },
      "cell_type": "code",
      "source": [
        "from sklearn import tree"
      ],
      "execution_count": 0,
      "outputs": []
    },
    {
      "metadata": {
        "id": "zfYPnGZw94zG",
        "colab_type": "code",
        "colab": {}
      },
      "cell_type": "code",
      "source": [
        "clf = tree.DecisionTreeClassifier()"
      ],
      "execution_count": 0,
      "outputs": []
    },
    {
      "metadata": {
        "id": "8GDCothS94zJ",
        "colab_type": "text"
      },
      "cell_type": "markdown",
      "source": [
        "### Train with data"
      ]
    },
    {
      "metadata": {
        "id": "cJw8hpqH94zJ",
        "colab_type": "code",
        "colab": {}
      },
      "cell_type": "code",
      "source": [
        "clf = clf.fit(x_train, y_train)"
      ],
      "execution_count": 0,
      "outputs": []
    },
    {
      "metadata": {
        "id": "0-Jlbev094zN",
        "colab_type": "text"
      },
      "cell_type": "markdown",
      "source": [
        "### Score"
      ]
    },
    {
      "metadata": {
        "id": "GvhKPYyP94zP",
        "colab_type": "code",
        "colab": {}
      },
      "cell_type": "code",
      "source": [
        "clf.score(x_test, y_test)"
      ],
      "execution_count": 0,
      "outputs": []
    },
    {
      "metadata": {
        "id": "DxtKOmeC94zR",
        "colab_type": "text"
      },
      "cell_type": "markdown",
      "source": [
        "### Predict"
      ]
    },
    {
      "metadata": {
        "id": "hOJkLg9B94zS",
        "colab_type": "code",
        "colab": {}
      },
      "cell_type": "code",
      "source": [
        "X_new = np.array([[5, 2.9, 1, 0.2]])\n",
        "prediction = clf.predict(X_new)\n",
        "print(\"Prediction: {}\".format(prediction))\n",
        "print(\"Predicted target name: {}\".format(\n",
        "       iris_dataset['target_names'][prediction]))"
      ],
      "execution_count": 0,
      "outputs": []
    },
    {
      "metadata": {
        "id": "CrrATjof94zZ",
        "colab_type": "text"
      },
      "cell_type": "markdown",
      "source": [
        "## Excercise: Wine dataset"
      ]
    },
    {
      "metadata": {
        "id": "7goCJ6kk94za",
        "colab_type": "code",
        "colab": {}
      },
      "cell_type": "code",
      "source": [
        "from sklearn.datasets import load_wine"
      ],
      "execution_count": 0,
      "outputs": []
    },
    {
      "metadata": {
        "id": "LJvWfMpb94zd",
        "colab_type": "code",
        "colab": {}
      },
      "cell_type": "code",
      "source": [
        "wine_dataset = load_wine()"
      ],
      "execution_count": 0,
      "outputs": []
    },
    {
      "metadata": {
        "id": "Lzj9mibL94zg",
        "colab_type": "code",
        "colab": {}
      },
      "cell_type": "code",
      "source": [
        "# split the data using the train_test_split"
      ],
      "execution_count": 0,
      "outputs": []
    },
    {
      "metadata": {
        "id": "zNqoBm9Z94zj",
        "colab_type": "code",
        "colab": {}
      },
      "cell_type": "code",
      "source": [
        "# create the decision tree classifier"
      ],
      "execution_count": 0,
      "outputs": []
    },
    {
      "metadata": {
        "id": "6JOHKanQ94zo",
        "colab_type": "code",
        "colab": {}
      },
      "cell_type": "code",
      "source": [
        "# train the data using the wine dataset"
      ],
      "execution_count": 0,
      "outputs": []
    },
    {
      "metadata": {
        "id": "EN4WzioS94zu",
        "colab_type": "code",
        "colab": {}
      },
      "cell_type": "code",
      "source": [
        "# predict the class of a wine_new\n",
        "wine_new = np.array([[1.6, 5.1, 3.1, 2.20, 8.8, 1.5, 0.047, 0.052, 1.15, 6.62, 0.07, 1.75,52.0]])\n",
        "prediction = wine_clf.predict(wine_new)"
      ],
      "execution_count": 0,
      "outputs": []
    },
    {
      "metadata": {
        "id": "8g8ul_XL94zx",
        "colab_type": "code",
        "colab": {}
      },
      "cell_type": "code",
      "source": [
        "# get the score of the decision tree model"
      ],
      "execution_count": 0,
      "outputs": []
    },
    {
      "metadata": {
        "id": "-EyapYvv94z3",
        "colab_type": "text"
      },
      "cell_type": "markdown",
      "source": [
        "## [Naive Bayes][nb] \n",
        "\n",
        "The first algorithm we will explore is one of the simplest, the [Naive\n",
        "Bayes][nb] algorithm. Fundamentally, this algorithm is remarkably simple\n",
        "and is based on the assumption of independence that a given attribute (or\n",
        "feature) belongs to a specific class. Scikit learn provides several\n",
        "Naive Bayes implementations, using a specific one generally depends on\n",
        "the nature of the data being analyzed:\n",
        "\n",
        "- [Gaussian Naive Bayes][gnb] \n",
        "- [Multinomial Naive Bayes][mnb] \n",
        "- [Bernoulli Naive Bayes][bnb] \n",
        "\n",
        "In the following code cells, we demonstrate how to perform Naive Bayes\n",
        "classification by using scikit learn, in this case we use the Gaussian\n",
        "Naive Bayes implementation. The standard classification process in\n",
        "scikit learn is to first fit a model to the training data and to\n",
        "subsequently apply this model to predict values for the testing data.\n",
        "After this process, we first compute the prediction score before\n",
        "displaying the confusion matrix for this algorithm.\n",
        "\n",
        "-----\n",
        "[gnb]: http://scikit-learn.org/stable/modules/generated/sklearn.naive_bayes.GaussianNB.html#sklearn.naive_bayes.GaussianNB\n",
        "[mnb]: http://scikit-learn.org/stable/modules/generated/sklearn.naive_bayes.MultinomialNB.html#sklearn.naive_bayes.MultinomialNB\n",
        "[bnb]: http://scikit-learn.org/stable/modules/generated/sklearn.naive_bayes.BernoulliNB.html#sklearn.naive_bayes.BernoulliNB\n",
        "[nb]: https://en.wikipedia.org/wiki/Naive_Bayes_classifier"
      ]
    },
    {
      "metadata": {
        "id": "ilBoH0mD94z4",
        "colab_type": "code",
        "colab": {}
      },
      "cell_type": "code",
      "source": [
        "# Standard imports\n",
        "import numpy as np\n",
        "import pandas as pd\n",
        "import matplotlib.pyplot as plt\n",
        "import seaborn as sns\n",
        "\n",
        "# We do this to ignore several specific Pandas warnings\n",
        "import warnings"
      ],
      "execution_count": 0,
      "outputs": []
    },
    {
      "metadata": {
        "id": "oyHcP-qf94z6",
        "colab_type": "text"
      },
      "cell_type": "markdown",
      "source": [
        "## Handwritten Digits\n",
        "\n",
        "We will explore the Naive Bayes\n",
        "classification applied to handwritten digits. First we will load the\n",
        "data and review some of the sample. After which, we will apply a\n",
        "Multinomial Naive Bayes classification to this data and explore the\n",
        "resulting predictions.\n",
        "\n",
        "-----"
      ]
    },
    {
      "metadata": {
        "id": "l8gCXCGoDad7",
        "colab_type": "code",
        "colab": {}
      },
      "cell_type": "code",
      "source": [
        "# We have helper code to assist in the loading and plotting of these data\n",
        "\n",
        "# Get the digit data, and return the data as x, y and images in case \n",
        "# we want to show them.\n",
        "\n",
        "import sklearn.datasets as ds\n",
        "\n",
        "def get_data():\n",
        "    # Load the digit data\n",
        "    digits = ds.load_digits()\n",
        "    \n",
        "    x = digits.data\n",
        "    y = digits.target\n",
        "    \n",
        "    i = digits.images\n",
        "    \n",
        "    return (x, y, i)\n",
        "\n",
        "def im_plot(x, y, images):\n",
        "    \n",
        "    # First we build an array of the indicaes contianing the first ten images for each digit.\n",
        "    vals = np.where(y == 0)[0][:10]\n",
        "    \n",
        "    for i in range(1, 10):\n",
        "        vals = np.vstack((vals, np.where(y == i)[0][:10]))\n",
        "        \n",
        "    nrows, ncols = vals.shape\n",
        "    \n",
        "    plt.figure(figsize=(8.5,8))\n",
        "    plt.gray()\n",
        "\n",
        "    # Build a list of the indices in the order I want.\n",
        "    # plot them, one by one.\n",
        "\n",
        "    for idx, i in enumerate(vals.T.ravel()):\n",
        "        ax = plt.subplot(nrows, ncols, idx + 1)\n",
        "        \n",
        "        # We want square images\n",
        "        ax.set_aspect('equal')\n",
        "        \n",
        "        # Now show the images, by default pixels are shown as white on black.\n",
        "        # To show black on white, reverse colormap: cmap=plt.cm.gray_r\n",
        "        # To smooth pixelated images: interpolation='nearest'\n",
        "        ax.imshow(images[i])\n",
        "        \n",
        "        # No tick marks for small plots\n",
        "        plt.xticks([]) ; plt.yticks([])\n",
        "        \n",
        "        # Only put plot lables over columns\n",
        "        if idx < 10:\n",
        "            plt.title(y[i])\n",
        "\n",
        "def make_ones():\n",
        "    ones = np.zeros((6, 64))\n",
        "\n",
        "    for idx in range(6):\n",
        "        one = np.zeros((8, 8))\n",
        "        one[1:-1, idx + 1] = 16\n",
        "    \n",
        "        ones[idx] = one.ravel()\n",
        "        \n",
        "    return(ones)\n",
        "\n",
        "def make_sevens():\n",
        "    sevens = np.zeros((3, 64))\n",
        "\n",
        "    for idx in range(3):\n",
        "        seven = np.zeros((8, 8))\n",
        "        seven[1:-1, idx + 4] = 16\n",
        "        seven[1,idx + 1: idx + 5] = 16\n",
        "    \n",
        "        sevens[idx] = seven.ravel()\n",
        "  \n",
        "    return(sevens)\n",
        "    \n",
        "def make_fakes():\n",
        "    fakes = np.zeros((16, 64))\n",
        "    \n",
        "    for idx in range(fakes.shape[0]):\n",
        "        fake = np.zeros((8, 8))    \n",
        "        fakes[idx] = fake.ravel()\n",
        "\n",
        "    bar = np.zeros((8, 8)) \n",
        "    bar[:,0] = 16\n",
        "    fakes[0] = bar.ravel()\n",
        "    fakes[1] = np.rot90(bar, 1).ravel()\n",
        "    fakes[2] = np.rot90(bar, 2).ravel()\n",
        "    fakes[3] = np.rot90(bar, 3).ravel()\n",
        "\n",
        "    ell = bar + np.rot90(bar, 1)\n",
        "    ell[ell > 16] = 16\n",
        "\n",
        "    fakes[4] = ell.ravel()\n",
        "    fakes[5] = np.rot90(ell, 1).ravel()\n",
        "    fakes[6] = np.rot90(ell, 2).ravel()\n",
        "    fakes[7] = np.rot90(ell, 3).ravel()\n",
        "\n",
        "    you = ell + np.rot90(bar, 1) + np.rot90(bar, 3)\n",
        "    you[you > 16] = 16\n",
        "\n",
        "    fakes[8] = you.ravel()\n",
        "    fakes[9] = np.rot90(you, 1).ravel()\n",
        "    fakes[10] = np.rot90(you, 2).ravel()\n",
        "    fakes[11] = np.rot90(you, 3).ravel()\n",
        "\n",
        "    atee = bar + np.roll(np.rot90(bar, 1), 4, axis=0)\n",
        "    atee[atee > 16] = 16\n",
        "\n",
        "    fakes[12] = atee.ravel()\n",
        "    fakes[13] = np.rot90(atee, 1).ravel()\n",
        "    fakes[14] = np.rot90(atee, 2).ravel()\n",
        "    fakes[15] = np.rot90(atee, 3).ravel()\n",
        "    \n",
        "    return(fakes)\n",
        "    \n",
        "# Simple function to plot images of different numbers in a row\n",
        "def plot_numbers(numbers):\n",
        "\n",
        "    size = len(numbers)\n",
        "    plt.figure(figsize=(size,1))\n",
        "    plt.gray()\n",
        "\n",
        "    for idx, i in enumerate(numbers):\n",
        "        ax = plt.subplot(1, size, idx + 1)\n",
        "        \n",
        "        # We want square images\n",
        "        ax.set_aspect('equal')\n",
        "        \n",
        "        # Now show the images, by default pixels are shown as white on black.\n",
        "        # To show black on white, reverse colormap: cmap=plt.cm.gray_r\n",
        "        # To smooth pixelated images: interpolation='nearest'\n",
        "        ax.imshow(numbers[idx].reshape(8,8))\n",
        "        \n",
        "        # No tick marks for small plots\n",
        "        plt.xticks([]) ; plt.yticks([])"
      ],
      "execution_count": 0,
      "outputs": []
    },
    {
      "metadata": {
        "id": "osQ468gR94z7",
        "colab_type": "code",
        "colab": {}
      },
      "cell_type": "code",
      "source": [
        "# We extract features (x), labels (y), and the images for plotting.\n",
        "x, y, images = get_data()\n",
        "im_plot(x, y, images)\n",
        "\n",
        "print('Total number of samples = {0}'.format(x.shape[0]))"
      ],
      "execution_count": 0,
      "outputs": []
    },
    {
      "metadata": {
        "id": "NEHdlRAV940A",
        "colab_type": "text"
      },
      "cell_type": "markdown",
      "source": [
        "-----\n",
        "\n",
        "### Classification of Image Data\n",
        "\n",
        "Now that these data are loaded, we can apply a Naives Bayes classifier\n",
        "to this problem. Below we employ a Multinomial Naive Bayes model, and\n",
        "show the classification score, and the classification report.\n",
        "\n",
        "-----"
      ]
    },
    {
      "metadata": {
        "id": "DDmQFi9h940B",
        "colab_type": "code",
        "colab": {}
      },
      "cell_type": "code",
      "source": [
        "import sklearn.cross_validation as cv\n",
        "(x_train, x_test, y_train, y_test) = cv.train_test_split(x, y, test_size=.25)\n",
        "\n",
        "# First, lets try Gaussain NB\n",
        "from sklearn.naive_bayes import MultinomialNB\n",
        "\n",
        "# First we construct our Classification Model\n",
        "nbc = MultinomialNB()\n",
        "\n",
        "nbc.fit(x_train, y_train);\n",
        "\n",
        "print('Prediction Accuracy = {0:3.1f}%'.format(100*nbc.score(x_test, y_test)))"
      ],
      "execution_count": 0,
      "outputs": []
    },
    {
      "metadata": {
        "id": "-oMsxYA4940F",
        "colab_type": "code",
        "colab": {}
      },
      "cell_type": "code",
      "source": [
        "# more information on the precision, recall, f1-score, and support is found here: \n",
        "# http://scikit-learn.org/stable/modules/generated/sklearn.metrics.precision_recall_fscore_support.html\n",
        "\n",
        "from sklearn.metrics import classification_report\n",
        "\n",
        "y_pred = nbc.predict(x_test)\n",
        "print(classification_report(y_test, y_pred))"
      ],
      "execution_count": 0,
      "outputs": []
    },
    {
      "metadata": {
        "id": "6HGdJDVz940J",
        "colab_type": "text"
      },
      "cell_type": "markdown",
      "source": [
        "-----\n",
        "\n",
        "### Model Evaluation\n",
        "\n",
        "The Naive Bayes model performed in a reasonable manner, but what about\n",
        "on completely blind data. We can test the model by _making_ new data.\n",
        "Below we use methods in the helper code to make _fake_ data, in this\n",
        "case images of **one** and **seven**. We display the _fake_ images, and\n",
        "then the results of our model classifying these new data.\n",
        "\n",
        "-----"
      ]
    },
    {
      "metadata": {
        "id": "MJ03qZcj940K",
        "colab_type": "code",
        "colab": {}
      },
      "cell_type": "code",
      "source": [
        "ones = make_ones()\n",
        "plot_numbers(ones)"
      ],
      "execution_count": 0,
      "outputs": []
    },
    {
      "metadata": {
        "id": "bPTJ6yLv940R",
        "colab_type": "code",
        "colab": {}
      },
      "cell_type": "code",
      "source": [
        "print('Actual : Predicted')\n",
        "for one in ones:\n",
        "    print('  1    :     {0}'.format(nbc.predict([one])[0])) # You can use \"one\" instead of \"[one]\"\n",
        "                                                            # But it's depreciated in newer versions of sklearn"
      ],
      "execution_count": 0,
      "outputs": []
    },
    {
      "metadata": {
        "id": "XpWUz8ks940b",
        "colab_type": "code",
        "colab": {}
      },
      "cell_type": "code",
      "source": [
        "# Now test on our sevens\n",
        "sevens = make_sevens()\n",
        "plot_numbers(sevens)"
      ],
      "execution_count": 0,
      "outputs": []
    },
    {
      "metadata": {
        "id": "buANTM-L940o",
        "colab_type": "code",
        "colab": {}
      },
      "cell_type": "code",
      "source": [
        "print('Actual : Predicted')\n",
        "for seven in sevens:\n",
        "    print('  7    :     {0}'.format(nbc.predict([seven])[0]))"
      ],
      "execution_count": 0,
      "outputs": []
    }
  ]
}