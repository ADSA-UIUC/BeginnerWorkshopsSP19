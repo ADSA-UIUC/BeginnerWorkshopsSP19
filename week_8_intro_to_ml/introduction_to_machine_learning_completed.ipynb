{
  "nbformat": 4,
  "nbformat_minor": 0,
  "metadata": {
    "colab": {
      "name": "introduction_to_machine_learning_completed.ipynb",
      "version": "0.3.2",
      "provenance": []
    },
    "kernelspec": {
      "display_name": "Python 3",
      "language": "python",
      "name": "python3"
    }
  },
  "cells": [
    {
      "metadata": {
        "deletable": true,
        "editable": true,
        "id": "So7ReChu8FXd",
        "colab_type": "text"
      },
      "cell_type": "markdown",
      "source": [
        "![ADSA Logo](http://i.imgur.com/BV0CdHZ.png?2 \"ADSA Logo\")"
      ]
    },
    {
      "metadata": {
        "deletable": true,
        "editable": true,
        "id": "OyAsesPR8FXf",
        "colab_type": "text"
      },
      "cell_type": "markdown",
      "source": [
        "# Spring 2019 ADSA Workshop - Introduction to Machine Learning\n",
        "Workshop content adapted from:\n",
        "* [Introduction to Machine Learning with Python](https://github.com/amueller/introduction_to_ml_with_python)\n",
        "* [info490-sp17](https://github.com/lcdm-uiuc/info490-sp17/tree/d91b9099c5c26722d56fd3dbffbca13a6f72b6d2/notebooks)\n",
        "***"
      ]
    },
    {
      "metadata": {
        "deletable": true,
        "editable": true,
        "id": "s2pHHyT98FXg",
        "colab_type": "text"
      },
      "cell_type": "markdown",
      "source": [
        "This workshop will be focusing on the following topics\n",
        "    - Review on previous workshops\n",
        "        * Numpy\n",
        "        * Scipy\n",
        "        * Matplotlib\n",
        "        * Pandas\n",
        "    - Analyzing the data\n",
        "    - Training and testing data\n",
        "    - Visualizing the data\n",
        "    - K-Nearest Neighbors\n",
        "    - Decision Trees \n",
        "    - Naive Bayes"
      ]
    },
    {
      "metadata": {
        "deletable": true,
        "editable": true,
        "hide_input": false,
        "id": "oEuBFyWF8FXl",
        "colab_type": "text"
      },
      "cell_type": "markdown",
      "source": [
        "## Introduction\n",
        "### What is machine learning?\n",
        "    - Machine learning is an application of artificial intelligence (AI) that provides systems\n",
        "      the ability to automatically learn and improve from experience without being explicitly programmed.\n",
        "### Problems that machine learning can solve\n",
        "    - Self-driving cars \n",
        "    - Facial Recognition\n",
        "    - Recommenders"
      ]
    },
    {
      "metadata": {
        "id": "QZiAKx6l8FXm",
        "colab_type": "text"
      },
      "cell_type": "markdown",
      "source": [
        "### Types of learning\n",
        "Depending on the data available to your learning system, machine learning tasks are divided into broad areas\n",
        "    - Supervised Learning - learning that takes place when the training data are labelled with the correct outcome, which gives the learning algorithm examples for learning.\n",
        "    - Unsupervised Learning - learning that takes place by grouping similar inputs X into clusters"
      ]
    },
    {
      "metadata": {
        "deletable": true,
        "editable": true,
        "id": "IoBDfS5e8FXm",
        "colab_type": "text"
      },
      "cell_type": "markdown",
      "source": [
        "##### NumPy"
      ]
    },
    {
      "metadata": {
        "deletable": true,
        "editable": true,
        "uuid": "e2b8e959-75f0-4fa9-a878-5ab024f89223",
        "id": "UzJW0UT88FXn",
        "colab_type": "code",
        "colab": {
          "base_uri": "https://localhost:8080/",
          "height": 66
        },
        "outputId": "d2e2b85b-7ed2-4daa-aee4-b5a52df398da"
      },
      "cell_type": "code",
      "source": [
        "import numpy as np\n",
        "\n",
        "x = np.array([[1, 2, 3], [4, 5, 6]])\n",
        "print(\"x:\\n{}\".format(x))"
      ],
      "execution_count": 45,
      "outputs": [
        {
          "output_type": "stream",
          "text": [
            "x:\n",
            "[[1 2 3]\n",
            " [4 5 6]]\n"
          ],
          "name": "stdout"
        }
      ]
    },
    {
      "metadata": {
        "deletable": true,
        "editable": true,
        "id": "2KkerZdH8FX5",
        "colab_type": "text"
      },
      "cell_type": "markdown",
      "source": [
        "##### matplotlib"
      ]
    },
    {
      "metadata": {
        "deletable": true,
        "editable": true,
        "uuid": "30faf136-0ef7-4762-bd82-3795eea323d0",
        "id": "fW9-XRa08FX6",
        "colab_type": "code",
        "colab": {
          "base_uri": "https://localhost:8080/",
          "height": 281
        },
        "outputId": "24759e5f-7719-4b8f-e419-0d1ac88f63f2"
      },
      "cell_type": "code",
      "source": [
        "%matplotlib inline\n",
        "import matplotlib.pyplot as plt\n",
        "\n",
        "# Generate a sequence numbers from -10 to 10 with 100 steps in between\n",
        "x = np.linspace(-10, 10, 100)\n",
        "# create a second array using sinus\n",
        "y = np.sin(x)\n",
        "# The plot function makes a line chart of one array against another\n",
        "plt.plot(x, y, marker=\"x\")"
      ],
      "execution_count": 46,
      "outputs": [
        {
          "output_type": "execute_result",
          "data": {
            "text/plain": [
              "[<matplotlib.lines.Line2D at 0x7f9d31a8b8d0>]"
            ]
          },
          "metadata": {
            "tags": []
          },
          "execution_count": 46
        },
        {
          "output_type": "display_data",
          "data": {
            "image/png": "[encoded data removed]",
            "text/plain": [
              "<matplotlib.figure.Figure at 0x7f9d31b9cf60>"
            ]
          },
          "metadata": {
            "tags": []
          }
        }
      ]
    },
    {
      "metadata": {
        "deletable": true,
        "editable": true,
        "id": "TWTBSd-28FYA",
        "colab_type": "text"
      },
      "cell_type": "markdown",
      "source": [
        "##### pandas"
      ]
    },
    {
      "metadata": {
        "deletable": true,
        "editable": true,
        "uuid": "ad1b06f7-e03a-4938-9d59-5bb40e848553",
        "id": "OPO4AixU8FYB",
        "colab_type": "code",
        "colab": {
          "base_uri": "https://localhost:8080/",
          "height": 162
        },
        "outputId": "a60d20d8-4085-4a6c-eabd-364ee7ce109d"
      },
      "cell_type": "code",
      "source": [
        "import pandas as pd\n",
        "from IPython.display import display\n",
        "\n",
        "# create a simple dataset of people\n",
        "data = {'Name': [\"John\", \"Anna\", \"Peter\", \"Linda\"],\n",
        "        'Location' : [\"New York\", \"Paris\", \"Berlin\", \"London\"],\n",
        "        'Age' : [24, 13, 53, 33]\n",
        "       }\n",
        "\n",
        "data_pandas = pd.DataFrame(data)\n",
        "# IPython.display allows \"pretty printing\" of dataframes\n",
        "# in the Jupyter notebook\n",
        "display(data_pandas)"
      ],
      "execution_count": 47,
      "outputs": [
        {
          "output_type": "display_data",
          "data": {
            "text/html": [
              "<div>\n",
              "<style scoped>\n",
              "    .dataframe tbody tr th:only-of-type {\n",
              "        vertical-align: middle;\n",
              "    }\n",
              "\n",
              "    .dataframe tbody tr th {\n",
              "        vertical-align: top;\n",
              "    }\n",
              "\n",
              "    .dataframe thead th {\n",
              "        text-align: right;\n",
              "    }\n",
              "</style>\n",
              "<table border=\"1\" class=\"dataframe\">\n",
              "  <thead>\n",
              "    <tr style=\"text-align: right;\">\n",
              "      <th></th>\n",
              "      <th>Age</th>\n",
              "      <th>Location</th>\n",
              "      <th>Name</th>\n",
              "    </tr>\n",
              "  </thead>\n",
              "  <tbody>\n",
              "    <tr>\n",
              "      <th>0</th>\n",
              "      <td>24</td>\n",
              "      <td>New York</td>\n",
              "      <td>John</td>\n",
              "    </tr>\n",
              "    <tr>\n",
              "      <th>1</th>\n",
              "      <td>13</td>\n",
              "      <td>Paris</td>\n",
              "      <td>Anna</td>\n",
              "    </tr>\n",
              "    <tr>\n",
              "      <th>2</th>\n",
              "      <td>53</td>\n",
              "      <td>Berlin</td>\n",
              "      <td>Peter</td>\n",
              "    </tr>\n",
              "    <tr>\n",
              "      <th>3</th>\n",
              "      <td>33</td>\n",
              "      <td>London</td>\n",
              "      <td>Linda</td>\n",
              "    </tr>\n",
              "  </tbody>\n",
              "</table>\n",
              "</div>"
            ],
            "text/plain": [
              "   Age  Location   Name\n",
              "0   24  New York   John\n",
              "1   13     Paris   Anna\n",
              "2   53    Berlin  Peter\n",
              "3   33    London  Linda"
            ]
          },
          "metadata": {
            "tags": []
          }
        }
      ]
    },
    {
      "metadata": {
        "deletable": true,
        "editable": true,
        "id": "PubzPO5t8FYG",
        "colab_type": "code",
        "colab": {
          "base_uri": "https://localhost:8080/",
          "height": 105
        },
        "outputId": "c0bdc65e-bab8-469d-92a2-127791f44016"
      },
      "cell_type": "code",
      "source": [
        "# One of many possible ways to query the table:\n",
        "# selecting all rows that have an age column greate than 30\n",
        "display(data_pandas[data_pandas.Age > 30])"
      ],
      "execution_count": 48,
      "outputs": [
        {
          "output_type": "display_data",
          "data": {
            "text/html": [
              "<div>\n",
              "<style scoped>\n",
              "    .dataframe tbody tr th:only-of-type {\n",
              "        vertical-align: middle;\n",
              "    }\n",
              "\n",
              "    .dataframe tbody tr th {\n",
              "        vertical-align: top;\n",
              "    }\n",
              "\n",
              "    .dataframe thead th {\n",
              "        text-align: right;\n",
              "    }\n",
              "</style>\n",
              "<table border=\"1\" class=\"dataframe\">\n",
              "  <thead>\n",
              "    <tr style=\"text-align: right;\">\n",
              "      <th></th>\n",
              "      <th>Age</th>\n",
              "      <th>Location</th>\n",
              "      <th>Name</th>\n",
              "    </tr>\n",
              "  </thead>\n",
              "  <tbody>\n",
              "    <tr>\n",
              "      <th>2</th>\n",
              "      <td>53</td>\n",
              "      <td>Berlin</td>\n",
              "      <td>Peter</td>\n",
              "    </tr>\n",
              "    <tr>\n",
              "      <th>3</th>\n",
              "      <td>33</td>\n",
              "      <td>London</td>\n",
              "      <td>Linda</td>\n",
              "    </tr>\n",
              "  </tbody>\n",
              "</table>\n",
              "</div>"
            ],
            "text/plain": [
              "   Age Location   Name\n",
              "2   53   Berlin  Peter\n",
              "3   33   London  Linda"
            ]
          },
          "metadata": {
            "tags": []
          }
        }
      ]
    },
    {
      "metadata": {
        "deletable": true,
        "editable": true,
        "id": "673ddU-18FYJ",
        "colab_type": "text"
      },
      "cell_type": "markdown",
      "source": [
        "### A First Application: Classifying iris species\n",
        "![sepal_petal](https://raw.githubusercontent.com/amueller/introduction_to_ml_with_python/cccbbca86d00f9d5ffb643c740de4489de80436d/images/iris_petal_sepal.png)"
      ]
    },
    {
      "metadata": {
        "deletable": true,
        "editable": true,
        "id": "wNn3PlJY8FYJ",
        "colab_type": "text"
      },
      "cell_type": "markdown",
      "source": [
        "#### Meet the data"
      ]
    },
    {
      "metadata": {
        "deletable": true,
        "editable": true,
        "scrolled": true,
        "id": "E0tdN3TE8FYK",
        "colab_type": "code",
        "colab": {}
      },
      "cell_type": "code",
      "source": [
        "from sklearn.datasets import load_iris\n",
        "iris_dataset = load_iris()"
      ],
      "execution_count": 0,
      "outputs": []
    },
    {
      "metadata": {
        "deletable": true,
        "editable": true,
        "id": "QFhbTxS68FYP",
        "colab_type": "code",
        "colab": {
          "base_uri": "https://localhost:8080/",
          "height": 33
        },
        "outputId": "f7aebd9f-5efc-4ede-f119-bb51cd6364ca"
      },
      "cell_type": "code",
      "source": [
        "print(\"Keys of iris_dataset: {}\".format(iris_dataset.keys()))"
      ],
      "execution_count": 50,
      "outputs": [
        {
          "output_type": "stream",
          "text": [
            "Keys of iris_dataset: dict_keys(['data', 'target', 'target_names', 'DESCR', 'feature_names'])\n"
          ],
          "name": "stdout"
        }
      ]
    },
    {
      "metadata": {
        "deletable": true,
        "editable": true,
        "scrolled": true,
        "id": "FUovhSB-8FYT",
        "colab_type": "code",
        "colab": {
          "base_uri": "https://localhost:8080/",
          "height": 163
        },
        "outputId": "6b88ba2c-49b6-4947-fcbe-81e21d46888e"
      },
      "cell_type": "code",
      "source": [
        "print(iris_dataset['DESCR'][:193] + \"\\n...\")"
      ],
      "execution_count": 51,
      "outputs": [
        {
          "output_type": "stream",
          "text": [
            "Iris Plants Database\n",
            "====================\n",
            "\n",
            "Notes\n",
            "-----\n",
            "Data Set Characteristics:\n",
            "    :Number of Instances: 150 (50 in each of three classes)\n",
            "    :Number of Attributes: 4 numeric, predictive att\n",
            "...\n"
          ],
          "name": "stdout"
        }
      ]
    },
    {
      "metadata": {
        "deletable": true,
        "editable": true,
        "id": "VZmSzZ0U8FYX",
        "colab_type": "code",
        "colab": {
          "base_uri": "https://localhost:8080/",
          "height": 33
        },
        "outputId": "c7fbaf52-e40c-4527-e743-c6c227a51f18"
      },
      "cell_type": "code",
      "source": [
        "print(\"Target names: {}\".format(iris_dataset['target_names']))"
      ],
      "execution_count": 52,
      "outputs": [
        {
          "output_type": "stream",
          "text": [
            "Target names: ['setosa' 'versicolor' 'virginica']\n"
          ],
          "name": "stdout"
        }
      ]
    },
    {
      "metadata": {
        "deletable": true,
        "editable": true,
        "id": "3OBlCt3L8FYa",
        "colab_type": "code",
        "colab": {
          "base_uri": "https://localhost:8080/",
          "height": 33
        },
        "outputId": "e56c3a51-9bfb-4a47-bd69-7e17e157df30"
      },
      "cell_type": "code",
      "source": [
        "print(\"Feature names: {}\".format(iris_dataset['feature_names']))"
      ],
      "execution_count": 53,
      "outputs": [
        {
          "output_type": "stream",
          "text": [
            "Feature names: ['sepal length (cm)', 'sepal width (cm)', 'petal length (cm)', 'petal width (cm)']\n"
          ],
          "name": "stdout"
        }
      ]
    },
    {
      "metadata": {
        "deletable": true,
        "editable": true,
        "id": "JP3nfKaB8FYd",
        "colab_type": "code",
        "colab": {
          "base_uri": "https://localhost:8080/",
          "height": 33
        },
        "outputId": "037c982f-7b18-401c-d760-7975d64d6e9c"
      },
      "cell_type": "code",
      "source": [
        "print(\"Type of data: {}\".format(type(iris_dataset['data'])))"
      ],
      "execution_count": 54,
      "outputs": [
        {
          "output_type": "stream",
          "text": [
            "Type of data: <class 'numpy.ndarray'>\n"
          ],
          "name": "stdout"
        }
      ]
    },
    {
      "metadata": {
        "deletable": true,
        "editable": true,
        "id": "lUp5Eebu8FYg",
        "colab_type": "code",
        "colab": {
          "base_uri": "https://localhost:8080/",
          "height": 33
        },
        "outputId": "1f380f22-59d7-4b94-9cc7-4684f96630ab"
      },
      "cell_type": "code",
      "source": [
        "print(\"Shape of data: {}\".format(iris_dataset['data'].shape))"
      ],
      "execution_count": 55,
      "outputs": [
        {
          "output_type": "stream",
          "text": [
            "Shape of data: (150, 4)\n"
          ],
          "name": "stdout"
        }
      ]
    },
    {
      "metadata": {
        "deletable": true,
        "editable": true,
        "id": "CDLtkGT28FYj",
        "colab_type": "code",
        "colab": {
          "base_uri": "https://localhost:8080/",
          "height": 115
        },
        "outputId": "620507c0-a3bb-4640-f5a0-53c764595e5a"
      },
      "cell_type": "code",
      "source": [
        "print(\"First five rows of data:\\n{}\".format(iris_dataset['data'][:5]))"
      ],
      "execution_count": 56,
      "outputs": [
        {
          "output_type": "stream",
          "text": [
            "First five rows of data:\n",
            "[[5.1 3.5 1.4 0.2]\n",
            " [4.9 3.  1.4 0.2]\n",
            " [4.7 3.2 1.3 0.2]\n",
            " [4.6 3.1 1.5 0.2]\n",
            " [5.  3.6 1.4 0.2]]\n"
          ],
          "name": "stdout"
        }
      ]
    },
    {
      "metadata": {
        "deletable": true,
        "editable": true,
        "id": "LAUdC2Vc8FYm",
        "colab_type": "code",
        "colab": {
          "base_uri": "https://localhost:8080/",
          "height": 33
        },
        "outputId": "e7224793-0d2f-494d-c967-9d3bde743da5"
      },
      "cell_type": "code",
      "source": [
        "print(\"Type of target: {}\".format(type(iris_dataset['target'])))"
      ],
      "execution_count": 57,
      "outputs": [
        {
          "output_type": "stream",
          "text": [
            "Type of target: <class 'numpy.ndarray'>\n"
          ],
          "name": "stdout"
        }
      ]
    },
    {
      "metadata": {
        "deletable": true,
        "editable": true,
        "id": "PAeFyPx98FYo",
        "colab_type": "code",
        "colab": {
          "base_uri": "https://localhost:8080/",
          "height": 33
        },
        "outputId": "93d2c018-586c-4974-fc11-eda5bf46a05e"
      },
      "cell_type": "code",
      "source": [
        "print(\"Shape of target: {}\".format(iris_dataset['target'].shape))"
      ],
      "execution_count": 58,
      "outputs": [
        {
          "output_type": "stream",
          "text": [
            "Shape of target: (150,)\n"
          ],
          "name": "stdout"
        }
      ]
    },
    {
      "metadata": {
        "deletable": true,
        "editable": true,
        "id": "gtTGveC58FYr",
        "colab_type": "code",
        "colab": {
          "base_uri": "https://localhost:8080/",
          "height": 115
        },
        "outputId": "6f95380e-613c-43b8-bfb7-2784b5c3ecd9"
      },
      "cell_type": "code",
      "source": [
        "print(\"Target:\\n{}\".format(iris_dataset['target']))"
      ],
      "execution_count": 59,
      "outputs": [
        {
          "output_type": "stream",
          "text": [
            "Target:\n",
            "[0 0 0 0 0 0 0 0 0 0 0 0 0 0 0 0 0 0 0 0 0 0 0 0 0 0 0 0 0 0 0 0 0 0 0 0 0\n",
            " 0 0 0 0 0 0 0 0 0 0 0 0 0 1 1 1 1 1 1 1 1 1 1 1 1 1 1 1 1 1 1 1 1 1 1 1 1\n",
            " 1 1 1 1 1 1 1 1 1 1 1 1 1 1 1 1 1 1 1 1 1 1 1 1 1 1 2 2 2 2 2 2 2 2 2 2 2\n",
            " 2 2 2 2 2 2 2 2 2 2 2 2 2 2 2 2 2 2 2 2 2 2 2 2 2 2 2 2 2 2 2 2 2 2 2 2 2\n",
            " 2 2]\n"
          ],
          "name": "stdout"
        }
      ]
    },
    {
      "metadata": {
        "deletable": true,
        "editable": true,
        "id": "N4jdTeVB8FY0",
        "colab_type": "text"
      },
      "cell_type": "markdown",
      "source": [
        "#### Measuring Success: Training and testing data"
      ]
    },
    {
      "metadata": {
        "deletable": true,
        "editable": true,
        "id": "GczDDaa28FY0",
        "colab_type": "code",
        "colab": {}
      },
      "cell_type": "code",
      "source": [
        "from sklearn.model_selection import train_test_split"
      ],
      "execution_count": 0,
      "outputs": []
    },
    {
      "metadata": {
        "deletable": true,
        "editable": true,
        "id": "VvuCogAC8FY5",
        "colab_type": "text"
      },
      "cell_type": "markdown",
      "source": [
        "More information on this function on \n",
        "[train_test_split](http://scikit-learn.org/stable/modules/generated/sklearn.model_selection.train_test_split.html)"
      ]
    },
    {
      "metadata": {
        "id": "tpC_sVjp94yn",
        "colab_type": "text"
      },
      "cell_type": "markdown",
      "source": [
        "### Why do we need to split the data into training and testing data? \n",
        "In machine learning, we generalize patterns beyond the data used to train models. Because we do not know the target values, we can not check the accuracy of our predictions in the future. Therefore, we can use a portion of training data to test our model. "
      ]
    },
    {
      "metadata": {
        "deletable": true,
        "editable": true,
        "id": "JPNRvDZH8FY6",
        "colab_type": "code",
        "colab": {}
      },
      "cell_type": "code",
      "source": [
        "X_train, X_test, y_train, y_test = train_test_split(\n",
        "    iris_dataset['data'], iris_dataset['target'], random_state=0, test_size = 0.8)"
      ],
      "execution_count": 0,
      "outputs": []
    },
    {
      "metadata": {
        "deletable": true,
        "editable": true,
        "id": "w0We1-sn8FZA",
        "colab_type": "code",
        "colab": {
          "base_uri": "https://localhost:8080/",
          "height": 50
        },
        "outputId": "f7776d30-8c63-45d4-df00-08c1ba92fbcd"
      },
      "cell_type": "code",
      "source": [
        "print(\"X_train shape: {}\".format(X_train.shape))\n",
        "print(\"y_train shape: {}\".format(y_train.shape))"
      ],
      "execution_count": 62,
      "outputs": [
        {
          "output_type": "stream",
          "text": [
            "X_train shape: (30, 4)\n",
            "y_train shape: (30,)\n"
          ],
          "name": "stdout"
        }
      ]
    },
    {
      "metadata": {
        "deletable": true,
        "editable": true,
        "id": "jmOBA6xo8FZI",
        "colab_type": "code",
        "colab": {
          "base_uri": "https://localhost:8080/",
          "height": 50
        },
        "outputId": "dba00969-ab92-4505-cc02-a759cfd1bb44"
      },
      "cell_type": "code",
      "source": [
        "print(\"X_test shape: {}\".format(X_test.shape))\n",
        "print(\"y_test shape: {}\".format(y_test.shape))"
      ],
      "execution_count": 63,
      "outputs": [
        {
          "output_type": "stream",
          "text": [
            "X_test shape: (120, 4)\n",
            "y_test shape: (120,)\n"
          ],
          "name": "stdout"
        }
      ]
    },
    {
      "metadata": {
        "deletable": true,
        "editable": true,
        "id": "BpqIPt6M8FZQ",
        "colab_type": "text"
      },
      "cell_type": "markdown",
      "source": [
        "#### First things first: Look at your data"
      ]
    },
    {
      "metadata": {
        "deletable": true,
        "editable": true,
        "id": "pU5foYh28FZQ",
        "colab_type": "code",
        "colab": {
          "base_uri": "https://localhost:8080/",
          "height": 521
        },
        "outputId": "9c46b33e-5e70-4e25-8429-9461373df2c3"
      },
      "cell_type": "code",
      "source": [
        "# create dataframe from data in X_train\n",
        "# label the columns using the strings in iris_dataset.feature_names\n",
        "iris_dataframe = pd.DataFrame(X_train, columns=iris_dataset.feature_names)\n",
        "print(iris_dataframe)"
      ],
      "execution_count": 64,
      "outputs": [
        {
          "output_type": "stream",
          "text": [
            "    sepal length (cm)  sepal width (cm)  petal length (cm)  petal width (cm)\n",
            "0                 5.8               4.0                1.2               0.2\n",
            "1                 7.7               2.8                6.7               2.0\n",
            "2                 5.1               3.8                1.5               0.3\n",
            "3                 4.7               3.2                1.6               0.2\n",
            "4                 7.4               2.8                6.1               1.9\n",
            "5                 5.0               3.3                1.4               0.2\n",
            "6                 6.3               3.4                5.6               2.4\n",
            "7                 5.7               2.8                4.1               1.3\n",
            "8                 5.8               2.7                3.9               1.2\n",
            "9                 5.7               2.6                3.5               1.0\n",
            "10                6.4               3.2                5.3               2.3\n",
            "11                6.7               3.0                5.2               2.3\n",
            "12                6.3               2.5                4.9               1.5\n",
            "13                6.7               3.0                5.0               1.7\n",
            "14                5.0               3.0                1.6               0.2\n",
            "15                5.5               2.4                3.7               1.0\n",
            "16                6.7               3.1                5.6               2.4\n",
            "17                5.8               2.7                5.1               1.9\n",
            "18                5.1               3.4                1.5               0.2\n",
            "19                6.6               2.9                4.6               1.3\n",
            "20                5.6               3.0                4.1               1.3\n",
            "21                5.9               3.2                4.8               1.8\n",
            "22                6.3               2.3                4.4               1.3\n",
            "23                5.5               3.5                1.3               0.2\n",
            "24                5.1               3.7                1.5               0.4\n",
            "25                4.9               3.1                1.5               0.1\n",
            "26                6.3               2.9                5.6               1.8\n",
            "27                5.8               2.7                4.1               1.0\n",
            "28                7.7               3.8                6.7               2.2\n",
            "29                4.6               3.2                1.4               0.2\n"
          ],
          "name": "stdout"
        }
      ]
    },
    {
      "metadata": {
        "deletable": true,
        "editable": true,
        "id": "3JpRHFJf8FZV",
        "colab_type": "code",
        "colab": {
          "base_uri": "https://localhost:8080/",
          "height": 1188
        },
        "outputId": "4a07fc41-9310-450d-d032-ba0d1ee85b53"
      },
      "cell_type": "code",
      "source": [
        "# create a scatter matrix from the dataframe, color by y_train\n",
        "pd.scatter_matrix(iris_dataframe, c=y_train, figsize=(15, 15), marker='o',\n",
        "                           hist_kwds={'bins': 20}, s=60, alpha=.8)"
      ],
      "execution_count": 65,
      "outputs": [
        {
          "output_type": "stream",
          "text": [
            "/usr/local/lib/python3.6/dist-packages/ipykernel_launcher.py:2: FutureWarning: pandas.scatter_matrix is deprecated. Use pandas.plotting.scatter_matrix instead\n",
            "  \n"
          ],
          "name": "stderr"
        },
        {
          "output_type": "execute_result",
          "data": {
            "text/plain": [
              "array([[<matplotlib.axes._subplots.AxesSubplot object at 0x7f9d31aa3978>,\n",
              "        <matplotlib.axes._subplots.AxesSubplot object at 0x7f9d31a84898>,\n",
              "        <matplotlib.axes._subplots.AxesSubplot object at 0x7f9d31a3aeb8>,\n",
              "        <matplotlib.axes._subplots.AxesSubplot object at 0x7f9d319f95f8>],\n",
              "       [<matplotlib.axes._subplots.AxesSubplot object at 0x7f9d31996860>,\n",
              "        <matplotlib.axes._subplots.AxesSubplot object at 0x7f9d319ae0b8>,\n",
              "        <matplotlib.axes._subplots.AxesSubplot object at 0x7f9d3191e208>,\n",
              "        <matplotlib.axes._subplots.AxesSubplot object at 0x7f9d3193a908>],\n",
              "       [<matplotlib.axes._subplots.AxesSubplot object at 0x7f9d3188add8>,\n",
              "        <matplotlib.axes._subplots.AxesSubplot object at 0x7f9d31926eb8>,\n",
              "        <matplotlib.axes._subplots.AxesSubplot object at 0x7f9d31b66908>,\n",
              "        <matplotlib.axes._subplots.AxesSubplot object at 0x7f9d31c14160>],\n",
              "       [<matplotlib.axes._subplots.AxesSubplot object at 0x7f9d31e28cf8>,\n",
              "        <matplotlib.axes._subplots.AxesSubplot object at 0x7f9d3335d2e8>,\n",
              "        <matplotlib.axes._subplots.AxesSubplot object at 0x7f9d33470400>,\n",
              "        <matplotlib.axes._subplots.AxesSubplot object at 0x7f9d31ea1e10>]],\n",
              "      dtype=object)"
            ]
          },
          "metadata": {
            "tags": []
          },
          "execution_count": 65
        },
        {
          "output_type": "display_data",
          "data": {
            "image/png": "[encoded data removed]",
            "text/plain": [
              "<matplotlib.figure.Figure at 0x7f9d31a9ce48>"
            ]
          },
          "metadata": {
            "tags": []
          }
        }
      ]
    },
    {
      "metadata": {
        "deletable": true,
        "editable": true,
        "id": "FSuSh-TO8FZZ",
        "colab_type": "text"
      },
      "cell_type": "markdown",
      "source": [
        "#### Building your first model: k nearest neighbors"
      ]
    },
    {
      "metadata": {
        "deletable": true,
        "editable": true,
        "id": "P2sfvKgY8FZa",
        "colab_type": "text"
      },
      "cell_type": "markdown",
      "source": [
        "-----\n",
        "\n",
        "## [k-Nearest Neighbors][knn] (K-NN)\n",
        "\n",
        "The first algorithm we will explore is one of the simplest, the\n",
        "[k-nearest neighbor][knn] algorithm. Fundamentally, this algorithm is\n",
        "remarkable simple and is based on the principle that data values in an\n",
        "$N$- dimensional space are generally located near other similar objects.\n",
        "The number of nearest neighbors, k, is a tuning parameter, and can be\n",
        "specified a priori or in some algorithms empirically determined. The\n",
        "basic principle behind k-nn is demonstrated in the following figure from\n",
        "Wikipedia:\n",
        "\n",
        "![knn Image from Wikipedia][knni]\n",
        "\n",
        "As shown in the image, when a new datum is added, the classification\n",
        "must be assigned. In the case of k-nn, this is done by looking at the\n",
        "nearest neighbors and using some statistical evaluation of their\n",
        "classes. For example, we could use some weighted combination of the\n",
        "nearest neighbors, where the weight might be determined by the relative\n",
        "distance of each neighbor from the datum of interest. \n",
        "\n",
        "In the following code cells, we demonstrate how to perform knn\n",
        "classification by using scikit-learn. In this example, we use five\n",
        "nearest neighbors (but this value can be easily adjusted to see how the\n",
        "classification performance changes). The standard classification\n",
        "process in scikit-learn is to first fit a model to the training data\n",
        "and to subsequently apply this model to predict values for the testing\n",
        "data. After this process, we first compute the prediction score before\n",
        "displaying the confusion matrix for this algorithm.\n",
        "\n",
        "-----\n",
        "\n",
        "[knn]: https://en.wikipedia.org/wiki/K-nearest_neighbors_algorithm\n",
        "[knni]: https://upload.wikimedia.org/wikipedia/commons/thumb/e/e7/KnnClassification.svg/500px-KnnClassification.svg.png"
      ]
    },
    {
      "metadata": {
        "deletable": true,
        "editable": true,
        "id": "xbeP2YSZ8FZb",
        "colab_type": "code",
        "colab": {}
      },
      "cell_type": "code",
      "source": [
        "from sklearn.neighbors import KNeighborsClassifier\n",
        "knn = KNeighborsClassifier(n_neighbors=1)"
      ],
      "execution_count": 0,
      "outputs": []
    },
    {
      "metadata": {
        "deletable": true,
        "editable": true,
        "id": "Ln0xM6iV8FZd",
        "colab_type": "code",
        "colab": {
          "base_uri": "https://localhost:8080/",
          "height": 66
        },
        "outputId": "93c7f489-86b9-4ab0-880a-8150eeaa6406"
      },
      "cell_type": "code",
      "source": [
        "knn.fit(X_train, y_train)"
      ],
      "execution_count": 67,
      "outputs": [
        {
          "output_type": "execute_result",
          "data": {
            "text/plain": [
              "KNeighborsClassifier(algorithm='auto', leaf_size=30, metric='minkowski',\n",
              "           metric_params=None, n_jobs=1, n_neighbors=1, p=2,\n",
              "           weights='uniform')"
            ]
          },
          "metadata": {
            "tags": []
          },
          "execution_count": 67
        }
      ]
    },
    {
      "metadata": {
        "collapsed": true,
        "deletable": true,
        "editable": true,
        "id": "Sq1dNG408FZg",
        "colab_type": "text"
      },
      "cell_type": "markdown",
      "source": [
        "#### Making predictions"
      ]
    },
    {
      "metadata": {
        "deletable": true,
        "editable": true,
        "id": "tFMpM4J48FZh",
        "colab_type": "code",
        "colab": {
          "base_uri": "https://localhost:8080/",
          "height": 33
        },
        "outputId": "4361f7ae-3b3b-4045-f6c5-d5ab3015b0e6"
      },
      "cell_type": "code",
      "source": [
        "X_new = np.array([[5, 2.9, 1, 0.2]])\n",
        "print(\"X_new.shape: {}\".format(X_new.shape))"
      ],
      "execution_count": 68,
      "outputs": [
        {
          "output_type": "stream",
          "text": [
            "X_new.shape: (1, 4)\n"
          ],
          "name": "stdout"
        }
      ]
    },
    {
      "metadata": {
        "deletable": true,
        "editable": true,
        "id": "98dttLsu8FZj",
        "colab_type": "code",
        "colab": {
          "base_uri": "https://localhost:8080/",
          "height": 50
        },
        "outputId": "3450022e-6d43-4eff-a6c5-0978ac9a3f69"
      },
      "cell_type": "code",
      "source": [
        "prediction = knn.predict(X_new)\n",
        "print(\"Prediction: {}\".format(prediction))\n",
        "print(\"Predicted target name: {}\".format(\n",
        "       iris_dataset['target_names'][prediction]))"
      ],
      "execution_count": 69,
      "outputs": [
        {
          "output_type": "stream",
          "text": [
            "Prediction: [0]\n",
            "Predicted target name: ['setosa']\n"
          ],
          "name": "stdout"
        }
      ]
    },
    {
      "metadata": {
        "deletable": true,
        "editable": true,
        "id": "SchU5R0t8FZn",
        "colab_type": "text"
      },
      "cell_type": "markdown",
      "source": [
        "#### Evaluating the model"
      ]
    },
    {
      "metadata": {
        "deletable": true,
        "editable": true,
        "id": "PWGjtirY8FZn",
        "colab_type": "code",
        "colab": {
          "base_uri": "https://localhost:8080/",
          "height": 98
        },
        "outputId": "f43c76c3-4e24-44d5-9fb5-edf095ca44a8"
      },
      "cell_type": "code",
      "source": [
        "y_pred = knn.predict(X_test)\n",
        "print(\"Test set predictions:\\n {}\".format(y_pred))"
      ],
      "execution_count": 70,
      "outputs": [
        {
          "output_type": "stream",
          "text": [
            "Test set predictions:\n",
            " [2 1 0 2 0 2 0 1 1 1 2 1 1 1 1 0 1 1 0 0 2 1 0 0 1 0 0 1 1 0 2 1 0 1 2 1 0\n",
            " 2 1 1 2 0 2 0 0 1 2 2 1 2 1 2 1 1 1 1 1 1 1 2 1 0 2 1 1 1 1 2 0 0 2 1 0 0\n",
            " 1 0 2 1 0 1 2 1 0 2 2 2 2 0 0 2 2 0 2 0 2 2 0 0 2 0 0 0 1 2 2 0 0 0 1 1 0\n",
            " 0 1 0 2 1 2 1 0 1]\n"
          ],
          "name": "stdout"
        }
      ]
    },
    {
      "metadata": {
        "deletable": true,
        "editable": true,
        "id": "BmHAUTwz8FZq",
        "colab_type": "code",
        "colab": {
          "base_uri": "https://localhost:8080/",
          "height": 33
        },
        "outputId": "77b3fcc0-23ae-4433-bc20-e1d6a782848b"
      },
      "cell_type": "code",
      "source": [
        "print(\"Test set score: {:.2f}\".format(np.mean(y_pred == y_test)))"
      ],
      "execution_count": 71,
      "outputs": [
        {
          "output_type": "stream",
          "text": [
            "Test set score: 0.93\n"
          ],
          "name": "stdout"
        }
      ]
    },
    {
      "metadata": {
        "deletable": true,
        "editable": true,
        "id": "IaahDgwi8FZv",
        "colab_type": "code",
        "colab": {
          "base_uri": "https://localhost:8080/",
          "height": 33
        },
        "outputId": "83343ad4-312d-4a85-b45f-597c253606e6"
      },
      "cell_type": "code",
      "source": [
        "print(\"Test set score: {:.2f}\".format(knn.score(X_test, y_test)))"
      ],
      "execution_count": 72,
      "outputs": [
        {
          "output_type": "stream",
          "text": [
            "Test set score: 0.93\n"
          ],
          "name": "stdout"
        }
      ]
    },
    {
      "metadata": {
        "deletable": true,
        "editable": true,
        "id": "NC67IM-_8FZy",
        "colab_type": "text"
      },
      "cell_type": "markdown",
      "source": [
        "### Summary and Outlook"
      ]
    },
    {
      "metadata": {
        "deletable": true,
        "editable": true,
        "id": "IjT9Hmcu8FZ0",
        "colab_type": "code",
        "colab": {
          "base_uri": "https://localhost:8080/",
          "height": 33
        },
        "outputId": "651ee33c-9c77-4319-c597-05d5592bc1de"
      },
      "cell_type": "code",
      "source": [
        "X_train, X_test, y_train, y_test = train_test_split(\n",
        "    iris_dataset['data'], iris_dataset['target'], random_state=0)\n",
        "\n",
        "knn = KNeighborsClassifier(n_neighbors=1)\n",
        "knn.fit(X_train, y_train)\n",
        "\n",
        "print(\"Test set score: {:.2f}\".format(knn.score(X_test, y_test)))"
      ],
      "execution_count": 73,
      "outputs": [
        {
          "output_type": "stream",
          "text": [
            "Test set score: 0.97\n"
          ],
          "name": "stdout"
        }
      ]
    },
    {
      "metadata": {
        "id": "NT_sUPyc94y9",
        "colab_type": "text"
      },
      "cell_type": "markdown",
      "source": [
        "## Decision Trees"
      ]
    },
    {
      "metadata": {
        "id": "IZqzpiPa94y-",
        "colab_type": "text"
      },
      "cell_type": "markdown",
      "source": [
        "Decision trees are one of the few models that allow users to interpret exactly why the classifier makes a decision. Under the hood, the decision tree classifer asks a series of yes or no questions. Based on the answers, the classifier will return its decision."
      ]
    },
    {
      "metadata": {
        "id": "kdhmEPaW94zA",
        "colab_type": "text"
      },
      "cell_type": "markdown",
      "source": [
        "### Split"
      ]
    },
    {
      "metadata": {
        "id": "t6tWUxtv94zA",
        "colab_type": "code",
        "colab": {}
      },
      "cell_type": "code",
      "source": [
        "x_train, x_test, y_train, y_test = train_test_split(\n",
        "    iris_dataset['data'], iris_dataset['target'], random_state=0)"
      ],
      "execution_count": 0,
      "outputs": []
    },
    {
      "metadata": {
        "id": "8heRmVsq94zC",
        "colab_type": "text"
      },
      "cell_type": "markdown",
      "source": [
        "### Create classifier"
      ]
    },
    {
      "metadata": {
        "id": "H9MTVTGH94zE",
        "colab_type": "code",
        "colab": {}
      },
      "cell_type": "code",
      "source": [
        "from sklearn import tree"
      ],
      "execution_count": 0,
      "outputs": []
    },
    {
      "metadata": {
        "id": "zfYPnGZw94zG",
        "colab_type": "code",
        "colab": {}
      },
      "cell_type": "code",
      "source": [
        "clf = tree.DecisionTreeClassifier()"
      ],
      "execution_count": 0,
      "outputs": []
    },
    {
      "metadata": {
        "id": "8GDCothS94zJ",
        "colab_type": "text"
      },
      "cell_type": "markdown",
      "source": [
        "### Train with data"
      ]
    },
    {
      "metadata": {
        "id": "cJw8hpqH94zJ",
        "colab_type": "code",
        "colab": {}
      },
      "cell_type": "code",
      "source": [
        "clf = clf.fit(x_train, y_train)"
      ],
      "execution_count": 0,
      "outputs": []
    },
    {
      "metadata": {
        "id": "0-Jlbev094zN",
        "colab_type": "text"
      },
      "cell_type": "markdown",
      "source": [
        "### Score"
      ]
    },
    {
      "metadata": {
        "id": "GvhKPYyP94zP",
        "colab_type": "code",
        "outputId": "07b31cf7-02a5-467a-bd4c-3c8a27359b84",
        "colab": {
          "base_uri": "https://localhost:8080/",
          "height": 33
        }
      },
      "cell_type": "code",
      "source": [
        "clf.score(x_test, y_test)"
      ],
      "execution_count": 78,
      "outputs": [
        {
          "output_type": "execute_result",
          "data": {
            "text/plain": [
              "0.9736842105263158"
            ]
          },
          "metadata": {
            "tags": []
          },
          "execution_count": 78
        }
      ]
    },
    {
      "metadata": {
        "id": "DxtKOmeC94zR",
        "colab_type": "text"
      },
      "cell_type": "markdown",
      "source": [
        "### Predict"
      ]
    },
    {
      "metadata": {
        "id": "hOJkLg9B94zS",
        "colab_type": "code",
        "outputId": "c3f66a69-c1ea-4bb5-e0e1-dbbb70492c49",
        "colab": {
          "base_uri": "https://localhost:8080/",
          "height": 50
        }
      },
      "cell_type": "code",
      "source": [
        "X_new = np.array([[5, 2.9, 1, 0.2]])\n",
        "prediction = clf.predict(X_new)\n",
        "print(\"Prediction: {}\".format(prediction))\n",
        "print(\"Predicted target name: {}\".format(\n",
        "       iris_dataset['target_names'][prediction]))"
      ],
      "execution_count": 79,
      "outputs": [
        {
          "output_type": "stream",
          "text": [
            "Prediction: [0]\n",
            "Predicted target name: ['setosa']\n"
          ],
          "name": "stdout"
        }
      ]
    },
    {
      "metadata": {
        "id": "CrrATjof94zZ",
        "colab_type": "text"
      },
      "cell_type": "markdown",
      "source": [
        "## Excercise: Wine dataset"
      ]
    },
    {
      "metadata": {
        "id": "7goCJ6kk94za",
        "colab_type": "code",
        "colab": {}
      },
      "cell_type": "code",
      "source": [
        "from sklearn.datasets import load_wine"
      ],
      "execution_count": 0,
      "outputs": []
    },
    {
      "metadata": {
        "id": "LJvWfMpb94zd",
        "colab_type": "code",
        "colab": {}
      },
      "cell_type": "code",
      "source": [
        "wine_dataset = load_wine()"
      ],
      "execution_count": 0,
      "outputs": []
    },
    {
      "metadata": {
        "id": "Lzj9mibL94zg",
        "colab_type": "code",
        "colab": {}
      },
      "cell_type": "code",
      "source": [
        "# split the data using the train_test_split\n",
        "wine_x_train, wine_x_test, wine_y_train, wine_y_test = train_test_split(\n",
        "    wine_dataset['data'], wine_dataset['target'], random_state=0)"
      ],
      "execution_count": 0,
      "outputs": []
    },
    {
      "metadata": {
        "id": "zNqoBm9Z94zj",
        "colab_type": "code",
        "colab": {}
      },
      "cell_type": "code",
      "source": [
        "# create the decision tree classifier\n",
        "wine_clf = tree.DecisionTreeClassifier()"
      ],
      "execution_count": 0,
      "outputs": []
    },
    {
      "metadata": {
        "id": "6JOHKanQ94zo",
        "colab_type": "code",
        "colab": {}
      },
      "cell_type": "code",
      "source": [
        "# train the data using the wine dataset\n",
        "wine_clf = wine_clf.fit(wine_x_train, wine_y_train)"
      ],
      "execution_count": 0,
      "outputs": []
    },
    {
      "metadata": {
        "id": "EN4WzioS94zu",
        "colab_type": "code",
        "outputId": "98c68526-fb35-4ab4-9b91-710630417905",
        "colab": {}
      },
      "cell_type": "code",
      "source": [
        "# predict the class of a wine_new\n",
        "wine_new = np.array([[1.6, 5.1, 3.1, 2.20, 8.8, 1.5, 0.047, 0.052, 1.15, 6.62, 0.07, 1.75,52.0]])\n",
        "prediction = wine_clf.predict(wine_new)\n",
        "print(\"Prediction: {}\".format(prediction))\n",
        "print(\"Predicted target name: {}\".format(\n",
        "       wine_dataset['target_names'][prediction]))"
      ],
      "execution_count": 0,
      "outputs": [
        {
          "output_type": "stream",
          "text": [
            "Prediction: [2]\n",
            "Predicted target name: ['class_2']\n"
          ],
          "name": "stdout"
        }
      ]
    },
    {
      "metadata": {
        "id": "8g8ul_XL94zx",
        "colab_type": "code",
        "outputId": "afb96ec2-5268-45a7-cfd9-a0db320b224a",
        "colab": {}
      },
      "cell_type": "code",
      "source": [
        "# get the score of the decision tree model\n",
        "wine_clf.score(wine_x_test, wine_y_test)"
      ],
      "execution_count": 0,
      "outputs": [
        {
          "output_type": "execute_result",
          "data": {
            "text/plain": [
              "0.9333333333333333"
            ]
          },
          "metadata": {
            "tags": []
          },
          "execution_count": 23
        }
      ]
    },
    {
      "metadata": {
        "id": "-EyapYvv94z3",
        "colab_type": "text"
      },
      "cell_type": "markdown",
      "source": [
        "## [Naive Bayes][nb] \n",
        "\n",
        "The first algorithm we will explore is one of the simplest, the [Naive\n",
        "Bayes][nb] algorithm. Fundamentally, this algorithm is remarkably simple\n",
        "and is based on the assumption of independence that a given attribute (or\n",
        "feature) belongs to a specific class. Scikit learn provides several\n",
        "Naive Bayes implementations, using a specific one generally depends on\n",
        "the nature of the data being analyzed:\n",
        "\n",
        "- [Gaussian Naive Bayes][gnb] \n",
        "- [Multinomial Naive Bayes][mnb] \n",
        "- [Bernoulli Naive Bayes][bnb] \n",
        "\n",
        "In the following code cells, we demonstrate how to perform Naive Bayes\n",
        "classification by using scikit learn, in this case we use the Gaussian\n",
        "Naive Bayes implementation. The standard classification process in\n",
        "scikit learn is to first fit a model to the training data and to\n",
        "subsequently apply this model to predict values for the testing data.\n",
        "After this process, we first compute the prediction score before\n",
        "displaying the confusion matrix for this algorithm.\n",
        "\n",
        "-----\n",
        "[gnb]: http://scikit-learn.org/stable/modules/generated/sklearn.naive_bayes.GaussianNB.html#sklearn.naive_bayes.GaussianNB\n",
        "[mnb]: http://scikit-learn.org/stable/modules/generated/sklearn.naive_bayes.MultinomialNB.html#sklearn.naive_bayes.MultinomialNB\n",
        "[bnb]: http://scikit-learn.org/stable/modules/generated/sklearn.naive_bayes.BernoulliNB.html#sklearn.naive_bayes.BernoulliNB\n",
        "[nb]: https://en.wikipedia.org/wiki/Naive_Bayes_classifier"
      ]
    },
    {
      "metadata": {
        "id": "ilBoH0mD94z4",
        "colab_type": "code",
        "colab": {}
      },
      "cell_type": "code",
      "source": [
        "# Standard imports\n",
        "import numpy as np\n",
        "import pandas as pd\n",
        "import matplotlib.pyplot as plt\n",
        "import seaborn as sns\n",
        "\n",
        "# We do this to ignore several specific Pandas warnings\n",
        "import warnings"
      ],
      "execution_count": 0,
      "outputs": []
    },
    {
      "metadata": {
        "id": "oyHcP-qf94z6",
        "colab_type": "text"
      },
      "cell_type": "markdown",
      "source": [
        "## Handwritten Digits\n",
        "\n",
        "We will explore the Naive Bayes\n",
        "classification applied to handwritten digits. First we will load the\n",
        "data and review some of the sample. After which, we will apply a\n",
        "Multinomial Naive Bayes classification to this data and explore the\n",
        "resulting predictions.\n",
        "\n",
        "-----"
      ]
    },
    {
      "metadata": {
        "id": "l8gCXCGoDad7",
        "colab_type": "code",
        "colab": {}
      },
      "cell_type": "code",
      "source": [
        "# We have helper code to assist in the loading and plotting of these data\n",
        "\n",
        "# Get the digit data, and return the data as x, y and images in case \n",
        "# we want to show them.\n",
        "\n",
        "import sklearn.datasets as ds\n",
        "\n",
        "def get_data():\n",
        "    # Load the digit data\n",
        "    digits = ds.load_digits()\n",
        "    \n",
        "    x = digits.data\n",
        "    y = digits.target\n",
        "    \n",
        "    i = digits.images\n",
        "    \n",
        "    return (x, y, i)\n",
        "\n",
        "def im_plot(x, y, images):\n",
        "    \n",
        "    # First we build an array of the indicaes contianing the first ten images for each digit.\n",
        "    vals = np.where(y == 0)[0][:10]\n",
        "    \n",
        "    for i in range(1, 10):\n",
        "        vals = np.vstack((vals, np.where(y == i)[0][:10]))\n",
        "        \n",
        "    nrows, ncols = vals.shape\n",
        "    \n",
        "    plt.figure(figsize=(8.5,8))\n",
        "    plt.gray()\n",
        "\n",
        "    # Build a list of the indices in the order I want.\n",
        "    # plot them, one by one.\n",
        "\n",
        "    for idx, i in enumerate(vals.T.ravel()):\n",
        "        ax = plt.subplot(nrows, ncols, idx + 1)\n",
        "        \n",
        "        # We want square images\n",
        "        ax.set_aspect('equal')\n",
        "        \n",
        "        # Now show the images, by default pixels are shown as white on black.\n",
        "        # To show black on white, reverse colormap: cmap=plt.cm.gray_r\n",
        "        # To smooth pixelated images: interpolation='nearest'\n",
        "        ax.imshow(images[i])\n",
        "        \n",
        "        # No tick marks for small plots\n",
        "        plt.xticks([]) ; plt.yticks([])\n",
        "        \n",
        "        # Only put plot lables over columns\n",
        "        if idx < 10:\n",
        "            plt.title(y[i])\n",
        "\n",
        "def make_ones():\n",
        "    ones = np.zeros((6, 64))\n",
        "\n",
        "    for idx in range(6):\n",
        "        one = np.zeros((8, 8))\n",
        "        one[1:-1, idx + 1] = 16\n",
        "    \n",
        "        ones[idx] = one.ravel()\n",
        "        \n",
        "    return(ones)\n",
        "\n",
        "def make_sevens():\n",
        "    sevens = np.zeros((3, 64))\n",
        "\n",
        "    for idx in range(3):\n",
        "        seven = np.zeros((8, 8))\n",
        "        seven[1:-1, idx + 4] = 16\n",
        "        seven[1,idx + 1: idx + 5] = 16\n",
        "    \n",
        "        sevens[idx] = seven.ravel()\n",
        "  \n",
        "    return(sevens)\n",
        "    \n",
        "def make_fakes():\n",
        "    fakes = np.zeros((16, 64))\n",
        "    \n",
        "    for idx in range(fakes.shape[0]):\n",
        "        fake = np.zeros((8, 8))    \n",
        "        fakes[idx] = fake.ravel()\n",
        "\n",
        "    bar = np.zeros((8, 8)) \n",
        "    bar[:,0] = 16\n",
        "    fakes[0] = bar.ravel()\n",
        "    fakes[1] = np.rot90(bar, 1).ravel()\n",
        "    fakes[2] = np.rot90(bar, 2).ravel()\n",
        "    fakes[3] = np.rot90(bar, 3).ravel()\n",
        "\n",
        "    ell = bar + np.rot90(bar, 1)\n",
        "    ell[ell > 16] = 16\n",
        "\n",
        "    fakes[4] = ell.ravel()\n",
        "    fakes[5] = np.rot90(ell, 1).ravel()\n",
        "    fakes[6] = np.rot90(ell, 2).ravel()\n",
        "    fakes[7] = np.rot90(ell, 3).ravel()\n",
        "\n",
        "    you = ell + np.rot90(bar, 1) + np.rot90(bar, 3)\n",
        "    you[you > 16] = 16\n",
        "\n",
        "    fakes[8] = you.ravel()\n",
        "    fakes[9] = np.rot90(you, 1).ravel()\n",
        "    fakes[10] = np.rot90(you, 2).ravel()\n",
        "    fakes[11] = np.rot90(you, 3).ravel()\n",
        "\n",
        "    atee = bar + np.roll(np.rot90(bar, 1), 4, axis=0)\n",
        "    atee[atee > 16] = 16\n",
        "\n",
        "    fakes[12] = atee.ravel()\n",
        "    fakes[13] = np.rot90(atee, 1).ravel()\n",
        "    fakes[14] = np.rot90(atee, 2).ravel()\n",
        "    fakes[15] = np.rot90(atee, 3).ravel()\n",
        "    \n",
        "    return(fakes)\n",
        "    \n",
        "# Simple function to plot images of different numbers in a row\n",
        "def plot_numbers(numbers):\n",
        "\n",
        "    size = len(numbers)\n",
        "    plt.figure(figsize=(size,1))\n",
        "    plt.gray()\n",
        "\n",
        "    for idx, i in enumerate(numbers):\n",
        "        ax = plt.subplot(1, size, idx + 1)\n",
        "        \n",
        "        # We want square images\n",
        "        ax.set_aspect('equal')\n",
        "        \n",
        "        # Now show the images, by default pixels are shown as white on black.\n",
        "        # To show black on white, reverse colormap: cmap=plt.cm.gray_r\n",
        "        # To smooth pixelated images: interpolation='nearest'\n",
        "        ax.imshow(numbers[idx].reshape(8,8))\n",
        "        \n",
        "        # No tick marks for small plots\n",
        "        plt.xticks([]) ; plt.yticks([])"
      ],
      "execution_count": 0,
      "outputs": []
    },
    {
      "metadata": {
        "id": "osQ468gR94z7",
        "colab_type": "code",
        "outputId": "db71792a-7d3f-4411-941a-706a45dd4e38",
        "colab": {
          "base_uri": "https://localhost:8080/",
          "height": 497
        }
      },
      "cell_type": "code",
      "source": [
        "# We extract features (x), labels (y), and the images for plotting.\n",
        "x, y, images = get_data()\n",
        "im_plot(x, y, images)\n",
        "\n",
        "print('Total number of samples = {0}'.format(x.shape[0]))"
      ],
      "execution_count": 82,
      "outputs": [
        {
          "output_type": "stream",
          "text": [
            "Total number of samples = 1797\n"
          ],
          "name": "stdout"
        },
        {
          "output_type": "display_data",
          "data": {
            "image/png": "[encoded data removed]",
            "text/plain": [
              "<matplotlib.figure.Figure at 0x7f9d31eadfd0>"
            ]
          },
          "metadata": {
            "tags": []
          }
        }
      ]
    },
    {
      "metadata": {
        "id": "NEHdlRAV940A",
        "colab_type": "text"
      },
      "cell_type": "markdown",
      "source": [
        "-----\n",
        "\n",
        "### Classification of Image Data\n",
        "\n",
        "Now that these data are loaded, we can apply a Naives Bayes classifier\n",
        "to this problem. Below we employ a Multinomial Naive Bayes model, and\n",
        "show the classification score, and the classification report.\n",
        "\n",
        "-----"
      ]
    },
    {
      "metadata": {
        "id": "DDmQFi9h940B",
        "colab_type": "code",
        "outputId": "33b38d6d-f5c3-4d4a-9e0d-c2a59524dc80",
        "colab": {
          "base_uri": "https://localhost:8080/",
          "height": 33
        }
      },
      "cell_type": "code",
      "source": [
        "import sklearn.cross_validation as cv\n",
        "(x_train, x_test, y_train, y_test) = cv.train_test_split(x, y, test_size=.25)\n",
        "\n",
        "# First, lets try Gaussain NB\n",
        "from sklearn.naive_bayes import MultinomialNB\n",
        "\n",
        "# First we construct our Classification Model\n",
        "nbc = MultinomialNB()\n",
        "\n",
        "nbc.fit(x_train, y_train);\n",
        "\n",
        "print('Prediction Accuracy = {0:3.1f}%'.format(100*nbc.score(x_test, y_test)))"
      ],
      "execution_count": 83,
      "outputs": [
        {
          "output_type": "stream",
          "text": [
            "Prediction Accuracy = 90.7%\n"
          ],
          "name": "stdout"
        }
      ]
    },
    {
      "metadata": {
        "id": "-oMsxYA4940F",
        "colab_type": "code",
        "outputId": "9912ed92-ea3e-4737-f53c-cdd76f127b8c",
        "colab": {
          "base_uri": "https://localhost:8080/",
          "height": 261
        }
      },
      "cell_type": "code",
      "source": [
        "# more information on the precision, recall, f1-score, and support is found here: \n",
        "# http://scikit-learn.org/stable/modules/generated/sklearn.metrics.precision_recall_fscore_support.html\n",
        "\n",
        "from sklearn.metrics import classification_report\n",
        "\n",
        "y_pred = nbc.predict(x_test)\n",
        "print(classification_report(y_test, y_pred))"
      ],
      "execution_count": 84,
      "outputs": [
        {
          "output_type": "stream",
          "text": [
            "             precision    recall  f1-score   support\n",
            "\n",
            "          0       1.00      1.00      1.00        42\n",
            "          1       0.88      0.59      0.71        39\n",
            "          2       0.88      0.93      0.90        40\n",
            "          3       1.00      0.86      0.93        44\n",
            "          4       1.00      0.96      0.98        46\n",
            "          5       0.93      0.87      0.90        46\n",
            "          6       0.98      0.95      0.96        42\n",
            "          7       0.92      1.00      0.96        54\n",
            "          8       0.80      0.92      0.86        53\n",
            "          9       0.76      0.93      0.84        44\n",
            "\n",
            "avg / total       0.91      0.91      0.91       450\n",
            "\n"
          ],
          "name": "stdout"
        }
      ]
    },
    {
      "metadata": {
        "id": "6HGdJDVz940J",
        "colab_type": "text"
      },
      "cell_type": "markdown",
      "source": [
        "-----\n",
        "\n",
        "### Model Evaluation\n",
        "\n",
        "The Naive Bayes model performed in a reasonable manner, but what about\n",
        "on completely blind data. We can test the model by _making_ new data.\n",
        "Below we use methods in the helper code to make _fake_ data, in this\n",
        "case images of **one** and **seven**. We display the _fake_ images, and\n",
        "then the results of our model classifying these new data.\n",
        "\n",
        "-----"
      ]
    },
    {
      "metadata": {
        "id": "MJ03qZcj940K",
        "colab_type": "code",
        "outputId": "430f832f-b2d9-4889-f9ff-44a49fd3c24f",
        "colab": {
          "base_uri": "https://localhost:8080/",
          "height": 80
        }
      },
      "cell_type": "code",
      "source": [
        "ones = make_ones()\n",
        "plot_numbers(ones)"
      ],
      "execution_count": 85,
      "outputs": [
        {
          "output_type": "display_data",
          "data": {
            "image/png": "[encoded data removed]",
            "text/plain": [
              "<matplotlib.figure.Figure at 0x7f9d3334f048>"
            ]
          },
          "metadata": {
            "tags": []
          }
        }
      ]
    },
    {
      "metadata": {
        "id": "bPTJ6yLv940R",
        "colab_type": "code",
        "outputId": "448d2c3e-a705-4fcb-a673-bdc87004659b",
        "colab": {
          "base_uri": "https://localhost:8080/",
          "height": 131
        }
      },
      "cell_type": "code",
      "source": [
        "print('Actual : Predicted')\n",
        "for one in ones:\n",
        "    print('  1    :     {0}'.format(nbc.predict([one])[0])) # You can use \"one\" instead of \"[one]\"\n",
        "                                                            # But it's depreciated in newer versions of sklearn"
      ],
      "execution_count": 86,
      "outputs": [
        {
          "output_type": "stream",
          "text": [
            "Actual : Predicted\n",
            "  1    :     0\n",
            "  1    :     0\n",
            "  1    :     1\n",
            "  1    :     1\n",
            "  1    :     9\n",
            "  1    :     9\n"
          ],
          "name": "stdout"
        }
      ]
    },
    {
      "metadata": {
        "id": "XpWUz8ks940b",
        "colab_type": "code",
        "outputId": "4ccb0407-7e35-445e-b305-a7bc04d4b519",
        "colab": {
          "base_uri": "https://localhost:8080/",
          "height": 80
        }
      },
      "cell_type": "code",
      "source": [
        "# Now test on our sevens\n",
        "sevens = make_sevens()\n",
        "plot_numbers(sevens)"
      ],
      "execution_count": 87,
      "outputs": [
        {
          "output_type": "display_data",
          "data": {
            "image/png": "[encoded data removed]",
            "text/plain": [
              "<matplotlib.figure.Figure at 0x7f9d316002e8>"
            ]
          },
          "metadata": {
            "tags": []
          }
        }
      ]
    },
    {
      "metadata": {
        "id": "buANTM-L940o",
        "colab_type": "code",
        "outputId": "84f146a8-a853-492a-c036-3bd7be0c2600",
        "colab": {
          "base_uri": "https://localhost:8080/",
          "height": 82
        }
      },
      "cell_type": "code",
      "source": [
        "print('Actual : Predicted')\n",
        "for seven in sevens:\n",
        "    print('  7    :     {0}'.format(nbc.predict([seven])[0]))"
      ],
      "execution_count": 88,
      "outputs": [
        {
          "output_type": "stream",
          "text": [
            "Actual : Predicted\n",
            "  7    :     2\n",
            "  7    :     0\n",
            "  7    :     9\n"
          ],
          "name": "stdout"
        }
      ]
    }
  ]
}