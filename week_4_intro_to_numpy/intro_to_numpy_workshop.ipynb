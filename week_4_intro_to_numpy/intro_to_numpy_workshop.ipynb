{
  "nbformat": 4,
  "nbformat_minor": 0,
  "metadata": {
    "colab": {
      "name": "data-science-fundamentals-fall-2018.ipynb",
      "version": "0.3.2",
      "provenance": []
    },
    "kernelspec": {
      "display_name": "Python 3",
      "language": "python",
      "name": "python3"
    }
  },
  "cells": [
    {
      "metadata": {
        "collapsed": true,
        "id": "STn53I4A_Xzf",
        "colab_type": "text"
      },
      "cell_type": "markdown",
      "source": [
        "![ADSA Logo](http://i.imgur.com/BV0CdHZ.png?2 \"ADSA Logo\")"
      ]
    },
    {
      "metadata": {
        "id": "8AA2iWwx_Xzi",
        "colab_type": "text"
      },
      "cell_type": "markdown",
      "source": [
        "# Spring 2019 ADSA Workshop - Data Science Fundamentals Series: Numpy, Statistics and Probability\n",
        "\n",
        "Workshop content adapted from:\n",
        "* https://github.com/ADSA-UIUC/PythonWorkshop_2\n",
        "* [Data Science from Scratch - First Principles with Python](http://www.amazon.com/Data-Science-Scratch-Principles-Python/dp/149190142X/)"
      ]
    },
    {
      "metadata": {
        "id": "e63tkO8v_Xzj",
        "colab_type": "text"
      },
      "cell_type": "markdown",
      "source": [
        "This workshop dives into data science fundamentals - statistics and probability. We will talk about the following topics:\n",
        "* How to use NumPy\n",
        "* Linear Algebra\n",
        "* Statistics\n",
        "* Histograms\n",
        "* Probability with Python\n",
        "\n",
        "***"
      ]
    },
    {
      "metadata": {
        "id": "NzufIafR_Xzk",
        "colab_type": "text"
      },
      "cell_type": "markdown",
      "source": [
        "## An Introduction to NumPy\n",
        "\n",
        "NumPy (or Numerical Python), is part of a great set of free scientific computing libraries called SciPy that provide mathematical and numerical functions that work very fast. NumPy is like MATLAB, and you can use it to create very powerful arrays and matrices, and it also has various kinds of optimization algorithms and linear algebra functions that are very useful for data science and analytics"
      ]
    },
    {
      "metadata": {
        "id": "pQNrb3A__Xzl",
        "colab_type": "code",
        "colab": {}
      },
      "cell_type": "code",
      "source": [
        "# Let's import numpy to use some of its functions\n",
        "import numpy as np"
      ],
      "execution_count": 0,
      "outputs": []
    },
    {
      "metadata": {
        "id": "Jx4kZXvC_Xzp",
        "colab_type": "text"
      },
      "cell_type": "markdown",
      "source": [
        "The central feature of NumPy is the array object class. Arrays are similar to lists in Python, except that every element of an array must be of the same type, typically a numeric type like `float` or `int`. Arrays make operations with large amounts of numeric data very fast and are generally much more efficient than lists."
      ]
    },
    {
      "metadata": {
        "id": "BV_bZUnJ_Xzq",
        "colab_type": "code",
        "colab": {}
      },
      "cell_type": "code",
      "source": [
        "my_list = [1, 4, 5, 8]\n",
        "a = np.array(my_list)\n",
        "\n",
        "print(a)"
      ],
      "execution_count": 0,
      "outputs": []
    },
    {
      "metadata": {
        "collapsed": true,
        "id": "WxwL3ylL_Xzu",
        "colab_type": "text"
      },
      "cell_type": "markdown",
      "source": [
        "Array elements are accessed, sliced, and manipulated just like lists.\n"
      ]
    },
    {
      "metadata": {
        "id": "rDeNYC9n_Xzv",
        "colab_type": "code",
        "colab": {}
      },
      "cell_type": "code",
      "source": [
        "# accessing elements of the array using an index\n",
        "# return the 4th element in the array (0-indexed!)\n",
        "print(a[3])\n",
        "\n",
        "# accessing multiple continuous elements of the array, also called slicing\n",
        "print(a[:2])\n",
        "\n",
        "# modifying elements of the array\n",
        "a[0] = 5\n",
        "print(a)"
      ],
      "execution_count": 0,
      "outputs": []
    },
    {
      "metadata": {
        "id": "3bmcPX_o_Xzx",
        "colab_type": "text"
      },
      "cell_type": "markdown",
      "source": [
        "Note that the type of a is **`numpy.ndarray`**"
      ]
    },
    {
      "metadata": {
        "id": "-ZMh-4QK_Xzz",
        "colab_type": "code",
        "colab": {}
      },
      "cell_type": "code",
      "source": [
        "print(type(a))"
      ],
      "execution_count": 0,
      "outputs": []
    },
    {
      "metadata": {
        "id": "rQpgZSV6_Xz1",
        "colab_type": "text"
      },
      "cell_type": "markdown",
      "source": [
        "This means that numpy can handle multi-dimensional arrays. Let's create a 2-dimensional array"
      ]
    },
    {
      "metadata": {
        "id": "efIwSh4d_Xz2",
        "colab_type": "code",
        "colab": {}
      },
      "cell_type": "code",
      "source": [
        "b = np.array( [[1, 2, 3], [4, 5, 6]] )\n",
        "print(b)"
      ],
      "execution_count": 0,
      "outputs": []
    },
    {
      "metadata": {
        "id": "U9gRX0r3_Xz4",
        "colab_type": "code",
        "colab": {}
      },
      "cell_type": "code",
      "source": [
        "# access the element is the first row, second column\n",
        "print(b[0, 1])"
      ],
      "execution_count": 0,
      "outputs": []
    },
    {
      "metadata": {
        "id": "iv010ZqE_Xz7",
        "colab_type": "code",
        "colab": {}
      },
      "cell_type": "code",
      "source": [
        "# slice the array and access only the 3rd column\n",
        "print(b[:, 2])"
      ],
      "execution_count": 0,
      "outputs": []
    },
    {
      "metadata": {
        "id": "gFvLRV1e_X0B",
        "colab_type": "text"
      },
      "cell_type": "markdown",
      "source": [
        "The **`shape`** property returns the size of each dimension of the array"
      ]
    },
    {
      "metadata": {
        "id": "d8ixxd1Z_X0C",
        "colab_type": "code",
        "colab": {}
      },
      "cell_type": "code",
      "source": [
        "print(a.shape)\n",
        "print(b.shape)"
      ],
      "execution_count": 0,
      "outputs": []
    },
    {
      "metadata": {
        "id": "EnAMSFEV_X0F",
        "colab_type": "text"
      },
      "cell_type": "markdown",
      "source": [
        "The **`in`** statement can be used to check if values are present in the array"
      ]
    },
    {
      "metadata": {
        "id": "zxoXHkXJ_X0G",
        "colab_type": "code",
        "colab": {}
      },
      "cell_type": "code",
      "source": [
        "print(3 in b)"
      ],
      "execution_count": 0,
      "outputs": []
    },
    {
      "metadata": {
        "id": "jTzXeC-R_X0J",
        "colab_type": "text"
      },
      "cell_type": "markdown",
      "source": [
        "Check if 7 is in the array a. "
      ]
    },
    {
      "metadata": {
        "id": "_zU02-jb_X0J",
        "colab_type": "code",
        "colab": {}
      },
      "cell_type": "code",
      "source": [
        "#insert code here"
      ],
      "execution_count": 0,
      "outputs": []
    },
    {
      "metadata": {
        "id": "7JFGBXQ0_X0N",
        "colab_type": "text"
      },
      "cell_type": "markdown",
      "source": [
        "Arrays can be reshaped to different dimension sizes."
      ]
    },
    {
      "metadata": {
        "id": "GgcxHQKY_X0P",
        "colab_type": "code",
        "colab": {}
      },
      "cell_type": "code",
      "source": [
        "a = np.array(range(10), float)\n",
        "print(a)\n",
        "print(a.shape)"
      ],
      "execution_count": 0,
      "outputs": []
    },
    {
      "metadata": {
        "id": "d4MoOEPh_X0V",
        "colab_type": "code",
        "colab": {}
      },
      "cell_type": "code",
      "source": [
        "# reshape (10,) array to (5,2)\n",
        "a = a.reshape((5, 2))#the product of the two arguements \n",
        "                     #must equal the total elements in the array\n",
        "print(a)\n",
        "print(a.shape)"
      ],
      "execution_count": 0,
      "outputs": []
    },
    {
      "metadata": {
        "id": "_RRYGlYK_X0Y",
        "colab_type": "text"
      },
      "cell_type": "markdown",
      "source": [
        "We can create special matrices in NumPy too! Remember that they are still referred to as arrays in NumPy."
      ]
    },
    {
      "metadata": {
        "id": "7iMlQUhX_X0Z",
        "colab_type": "code",
        "colab": {}
      },
      "cell_type": "code",
      "source": [
        "# create the identity 2-dimensional array of shape (4,4)\n",
        "i = np.identity(4)\n",
        "print(i)"
      ],
      "execution_count": 0,
      "outputs": []
    },
    {
      "metadata": {
        "id": "Vest9O35_X0b",
        "colab_type": "code",
        "colab": {}
      },
      "cell_type": "code",
      "source": [
        "# create a (3,3) array with all ones\n",
        "o = np.ones((3,3))\n",
        "print(o)"
      ],
      "execution_count": 0,
      "outputs": []
    },
    {
      "metadata": {
        "id": "EufCbafH_X0d",
        "colab_type": "text"
      },
      "cell_type": "markdown",
      "source": [
        "We can even do math operations on these arrays. All of the operations below happen element-wise. To do matrix multiplication and other matrix-specific math, we will have to use NumPy's linear algebra functions."
      ]
    },
    {
      "metadata": {
        "id": "Oj-1BWfq_X0e",
        "colab_type": "code",
        "colab": {}
      },
      "cell_type": "code",
      "source": [
        "a = np.array([1,2,3], float)\n",
        "b = np.array([5,2,6], float)\n",
        "print(a)\n",
        "print(b)"
      ],
      "execution_count": 0,
      "outputs": []
    },
    {
      "metadata": {
        "id": "_D7C9m2A_X0h",
        "colab_type": "code",
        "colab": {}
      },
      "cell_type": "code",
      "source": [
        "#sum "
      ],
      "execution_count": 0,
      "outputs": []
    },
    {
      "metadata": {
        "id": "B_RUzxlU_X0k",
        "colab_type": "code",
        "colab": {}
      },
      "cell_type": "code",
      "source": [
        "#subtract"
      ],
      "execution_count": 0,
      "outputs": []
    },
    {
      "metadata": {
        "id": "QF1rJvS8_X0m",
        "colab_type": "code",
        "colab": {}
      },
      "cell_type": "code",
      "source": [
        "#multiplication"
      ],
      "execution_count": 0,
      "outputs": []
    },
    {
      "metadata": {
        "id": "-dQ7BOb-_X0o",
        "colab_type": "code",
        "colab": {}
      },
      "cell_type": "code",
      "source": [
        "#division"
      ],
      "execution_count": 0,
      "outputs": []
    },
    {
      "metadata": {
        "id": "IhJQ9-GX_X0r",
        "colab_type": "code",
        "colab": {}
      },
      "cell_type": "code",
      "source": [
        "#square each elemet"
      ],
      "execution_count": 0,
      "outputs": []
    },
    {
      "metadata": {
        "id": "e6-LOb5w_X0u",
        "colab_type": "text"
      },
      "cell_type": "markdown",
      "source": [
        "***\n",
        "\n",
        "## Linear Algebra: Vectors\n",
        "\n",
        "Linear Algebra is very important in the context of data science. It provides concepts and structures that allow data scientists to efficiently represent data, and do various computations with them. There are two structures that we will talk about today, **vectors** and **matrices**.\n",
        "\n",
        "Abstractly, vectors are objects that can be added together (to form new vectors) and that can be multiplied by scalars (i.e., numbers), also to form new vectors.\n",
        "\n",
        "For example, if you have the heights, weights, and ages of a large number of people, you can treat your data as three-dimensional vectors `(height, weight, age)`. If you’re teaching a class with four exams, you can treat student grades as four-dimensional vectors `(exam1, exam2, exam3, exam4)`."
      ]
    },
    {
      "metadata": {
        "id": "zqm-oUxk_X0v",
        "colab_type": "code",
        "colab": {}
      },
      "cell_type": "code",
      "source": [
        "mike_data = np.array([70,  # inches,\n",
        "                      170, # pounds,\n",
        "                      40   # years\n",
        "                     ])\n",
        "print(mike_data)"
      ],
      "execution_count": 0,
      "outputs": []
    },
    {
      "metadata": {
        "id": "4L69jw0E_X0x",
        "colab_type": "text"
      },
      "cell_type": "markdown",
      "source": [
        "To begin with, we’ll frequently need to **add** two vectors. Vectors add componentwise. This means that if two vectors v and w are the same length, their sum is just the vector whose first element is `v[0] + w[0]`, whose second element is `v[1] + w[1]`, and so on. (If they’re not the same length, then we’re not allowed to add them.)"
      ]
    },
    {
      "metadata": {
        "id": "PzU7VlBe_X0y",
        "colab_type": "code",
        "colab": {}
      },
      "cell_type": "code",
      "source": [
        "# create a second vector with Adam's data\n",
        "adam_data = np.array([72, 192, 31])\n",
        "\n",
        "print(mike_data + adam_data)"
      ],
      "execution_count": 0,
      "outputs": []
    },
    {
      "metadata": {
        "id": "pKBIvfRQ_X00",
        "colab_type": "text"
      },
      "cell_type": "markdown",
      "source": [
        "Similarly we can **subtract** vectors too."
      ]
    },
    {
      "metadata": {
        "id": "S2DuBKh-_X00",
        "colab_type": "code",
        "colab": {}
      },
      "cell_type": "code",
      "source": [
        "print(mike_data - adam_data)"
      ],
      "execution_count": 0,
      "outputs": []
    },
    {
      "metadata": {
        "id": "mfiwIqGp_X09",
        "colab_type": "text"
      },
      "cell_type": "markdown",
      "source": [
        "We’ll also need to be able to multiply a vector by a **scalar**, which we do simply by multiplying each element of the vector by that number."
      ]
    },
    {
      "metadata": {
        "id": "zzNUfH6Y_X0-",
        "colab_type": "code",
        "colab": {}
      },
      "cell_type": "code",
      "source": [
        "print(2.3 * adam_data)"
      ],
      "execution_count": 0,
      "outputs": []
    },
    {
      "metadata": {
        "id": "TZS6RblU_X1D",
        "colab_type": "text"
      },
      "cell_type": "markdown",
      "source": [
        "A less obvious tool is the **dot** product. The dot product of two vectors is the sum of their componentwise products. The mathematical computation for $v \\cdot w$ looks like this: $v_1 w_1 + v_2 w_2 + \\dots + v_n w_n$"
      ]
    },
    {
      "metadata": {
        "id": "8OhAojll_X1E",
        "colab_type": "code",
        "colab": {}
      },
      "cell_type": "code",
      "source": [
        "print(mike_data.dot(adam_data))"
      ],
      "execution_count": 0,
      "outputs": []
    },
    {
      "metadata": {
        "id": "Y_0KQMMA_X1H",
        "colab_type": "text"
      },
      "cell_type": "markdown",
      "source": [
        "You can also compute the cross product."
      ]
    },
    {
      "metadata": {
        "id": "4asvLLGw_X1H",
        "colab_type": "code",
        "colab": {}
      },
      "cell_type": "code",
      "source": [
        "print(np.cross(mike_data, adam_data))"
      ],
      "execution_count": 0,
      "outputs": []
    },
    {
      "metadata": {
        "id": "LzcT5mFJ_X1K",
        "colab_type": "text"
      },
      "cell_type": "markdown",
      "source": [
        "The dot product measures how far the vector `v` extends in the `w` direction. For example, if `w = [1, 0]` then `dot(v, w)` is just the first component of `v`. Another way of saying this is that it’s the length of the vector you would get if you projected `v` onto `w`.\n",
        "![Dot Product Graph](http://i.imgur.com/jPBLBEK.png?1)\n",
        "\n",
        "Finally, we need to be able to compute the **magnitude** of a vector. In graphical terms, it is just the length of the vector. The mathematical computation for the magnitude of a vector `v` is:\n",
        "$\\sqrt{v_1 ^ 2 + v_2 ^ 2 + \\dots + v_n ^ 2}$"
      ]
    },
    {
      "metadata": {
        "id": "TpRCSxO4_X1L",
        "colab_type": "code",
        "colab": {}
      },
      "cell_type": "code",
      "source": [
        "# print magnitude of mike_data\n",
        "print(np.sqrt(mike_data[0]**2 + mike_data[1]**2 + mike_data[2]**2))"
      ],
      "execution_count": 0,
      "outputs": []
    },
    {
      "metadata": {
        "id": "5zgCsgYG_X1N",
        "colab_type": "code",
        "colab": {}
      },
      "cell_type": "code",
      "source": [
        "# another way to compute the magnitude of a vector \n",
        "# insert code here"
      ],
      "execution_count": 0,
      "outputs": []
    },
    {
      "metadata": {
        "id": "64Uer8NR_X1P",
        "colab_type": "text"
      },
      "cell_type": "markdown",
      "source": [
        "***\n",
        "\n",
        "## Linear Algebra: Matrices\n",
        "\n",
        "A matrix is a two-dimensional collection of numbers. We will represent matrices as `lists` of `lists`, with each inner list having the same size and representing a row of the matrix. If `A` is a matrix, then `A[i][j]` is the element in the `i`th row and the `j`th column. Per mathematical convention, we will typically use capital letters to represent matrices."
      ]
    },
    {
      "metadata": {
        "id": "GFTJT4dO_X1Q",
        "colab_type": "code",
        "colab": {}
      },
      "cell_type": "code",
      "source": [
        "mat_a = np.array( [[1, 2], [5, 6], [14, 15]] )\n",
        "mat_b = np.array( [[4, 5, 6], [8, 9, 10]] )\n",
        "\n",
        "print(\"Matrix A:\\n\", mat_a)\n",
        "print(\"\\nMatrix B:\\n\", mat_b)"
      ],
      "execution_count": 0,
      "outputs": []
    },
    {
      "metadata": {
        "id": "D4OeBxVX_X1T",
        "colab_type": "text"
      },
      "cell_type": "markdown",
      "source": [
        "To find out what the dimensions (number of rows vs. number of columns) of a matrix are, we can use the Numpy shape property."
      ]
    },
    {
      "metadata": {
        "id": "BP9oFL3P_X1T",
        "colab_type": "code",
        "colab": {}
      },
      "cell_type": "code",
      "source": [
        "print (\"Matrix A shape: \", mat_a.shape)\n",
        "print (\"Matrix B shape: \", mat_b.shape)"
      ],
      "execution_count": 0,
      "outputs": []
    },
    {
      "metadata": {
        "id": "QKlgFjxH_X1X",
        "colab_type": "text"
      },
      "cell_type": "markdown",
      "source": [
        "Matrices will be important to us for several reasons.\n",
        "\n",
        "First, we can use a matrix to represent a data set consisting of multiple vectors, simply by considering each vector as a row of the matrix. For example, if you had the heights, weights, and ages of 1,000 people you could put them in a 1,000 × 3 matrix:\n",
        "\n",
        "    data = [[70, 170, 40],\n",
        "            [65, 120, 26],\n",
        "            [77, 250, 19],\n",
        "            # ....\n",
        "            ]"
      ]
    },
    {
      "metadata": {
        "id": "CajASYA6_X1Y",
        "colab_type": "text"
      },
      "cell_type": "markdown",
      "source": [
        "A differentiating feature of matrices is an operation called transpose. This swaps elements of the matrix along the leading diagonal. It can be thought of as an operation that makes all the rows - columns, and all the columns - rows. Let's see an example."
      ]
    },
    {
      "metadata": {
        "id": "6C7Dm1iZ_X1Y",
        "colab_type": "code",
        "colab": {}
      },
      "cell_type": "code",
      "source": [
        "print (\"Matrix A:\\n\", mat_a)\n",
        "print (\"\\nMatrix A Transposed:\\n\", mat_a.T)"
      ],
      "execution_count": 0,
      "outputs": []
    },
    {
      "metadata": {
        "id": "lo1Nnbgs_X1e",
        "colab_type": "text"
      },
      "cell_type": "markdown",
      "source": [
        "We can run similar mathematical operations with matrices, like we did with vectors.\n",
        "\n",
        "**Adding** and **subtracting** matrices (matrices need to have similar shapes):"
      ]
    },
    {
      "metadata": {
        "id": "3e6-2bje_X1e",
        "colab_type": "code",
        "colab": {}
      },
      "cell_type": "code",
      "source": [
        "try:\n",
        "    print(mat_a + mat_b) # will throw an error\n",
        "except ValueError as e:\n",
        "    print(\"Error:\", e)"
      ],
      "execution_count": 0,
      "outputs": []
    },
    {
      "metadata": {
        "id": "Gh7fWYCS_X1h",
        "colab_type": "code",
        "colab": {}
      },
      "cell_type": "code",
      "source": [
        "print(mat_a + mat_b.T)"
      ],
      "execution_count": 0,
      "outputs": []
    },
    {
      "metadata": {
        "id": "J8DII7xF_X1j",
        "colab_type": "text"
      },
      "cell_type": "markdown",
      "source": [
        "**Element-wise multiplication**, which returns a matrix of the same dimensions."
      ]
    },
    {
      "metadata": {
        "id": "4eXEDp9g_X1k",
        "colab_type": "code",
        "colab": {}
      },
      "cell_type": "code",
      "source": [
        "print(mat_a * mat_b.T)"
      ],
      "execution_count": 0,
      "outputs": []
    },
    {
      "metadata": {
        "id": "0RCToei7_X1m",
        "colab_type": "text"
      },
      "cell_type": "markdown",
      "source": [
        "**Matrix multiplication** is a more complex calculation, which computes a dot product of the rows of the first matrix and the columns of the second matrix, to return a new matrix. You can learn more about matrix multiplication at [Khan Academy – Basic Matrix operations](http://www.khanacademy.org/math/algebra/algebra-matrices) and [Khan Academy – Linear Algebra](http://www.khanacademy.org/math/linear-algebra)."
      ]
    },
    {
      "metadata": {
        "id": "aWGHJrhI_X1n",
        "colab_type": "text"
      },
      "cell_type": "markdown",
      "source": [
        "***\n",
        "\n",
        "## Statistics\n",
        "\n",
        "Along with managing sets of data, python and numpy give you the tools to describe your set of data. \n",
        "\n",
        "Ways to describe data sets:\n",
        "* Length\n",
        "* Max/Min\n",
        "* Mean, Median, Mode\n",
        "* Dispersion (Spread) of values\n",
        "* Standard Deviation\n"
      ]
    },
    {
      "metadata": {
        "id": "X7qzkpDG_X1n",
        "colab_type": "code",
        "colab": {}
      },
      "cell_type": "code",
      "source": [
        "basic_list = [14, 7, 15, 7, 3, 5, 6, 8, 10]"
      ],
      "execution_count": 0,
      "outputs": []
    },
    {
      "metadata": {
        "id": "h37YiECB_X1q",
        "colab_type": "code",
        "colab": {}
      },
      "cell_type": "code",
      "source": [
        "print(\"length: \", len(basic_list))"
      ],
      "execution_count": 0,
      "outputs": []
    },
    {
      "metadata": {
        "id": "51J7RaYN_X1r",
        "colab_type": "code",
        "colab": {}
      },
      "cell_type": "code",
      "source": [
        "print(\"min: \", min(basic_list))\n",
        "print(\"max: \", max(basic_list))"
      ],
      "execution_count": 0,
      "outputs": []
    },
    {
      "metadata": {
        "id": "NcI7WEMt_X1t",
        "colab_type": "code",
        "colab": {}
      },
      "cell_type": "code",
      "source": [
        "def mean(x):\n",
        "    return sum(x) / len(x)\n",
        "\n",
        "print(\"average: \", mean(basic_list))\n",
        "\n",
        "#numpy has a mean function as well\n",
        "#insert code here"
      ],
      "execution_count": 0,
      "outputs": []
    },
    {
      "metadata": {
        "id": "UuX68JVn_X1v",
        "colab_type": "text"
      },
      "cell_type": "markdown",
      "source": [
        "You can also easily sort lists with sorted(), which helps when defining central tendencies"
      ]
    },
    {
      "metadata": {
        "id": "2HoHmvU4_X1w",
        "colab_type": "code",
        "colab": {}
      },
      "cell_type": "code",
      "source": [
        "print(\"original: \", basic_list)\n",
        "sorted_list = sorted(basic_list)\n",
        "print(\"sorted:   \", sorted_list)"
      ],
      "execution_count": 0,
      "outputs": []
    },
    {
      "metadata": {
        "id": "6D6xCXbh_X10",
        "colab_type": "text"
      },
      "cell_type": "markdown",
      "source": [
        "If you already have a sorted list, you can use indexes to get the min/max values: "
      ]
    },
    {
      "metadata": {
        "id": "q8dMiUx4_X11",
        "colab_type": "code",
        "colab": {}
      },
      "cell_type": "code",
      "source": [
        "#insert code here"
      ],
      "execution_count": 0,
      "outputs": []
    },
    {
      "metadata": {
        "id": "_qP5wlAu_X16",
        "colab_type": "text"
      },
      "cell_type": "markdown",
      "source": [
        "Otherwise you can also use the `min` and `max` functions:"
      ]
    },
    {
      "metadata": {
        "id": "gfOcfCXt_X17",
        "colab_type": "code",
        "colab": {}
      },
      "cell_type": "code",
      "source": [
        "#insert code here"
      ],
      "execution_count": 0,
      "outputs": []
    },
    {
      "metadata": {
        "id": "nzhxigWp_X19",
        "colab_type": "text"
      },
      "cell_type": "markdown",
      "source": [
        "Finding the median is a little less straightforward, just depends on whether length is even or odd"
      ]
    },
    {
      "metadata": {
        "id": "o2TBxRHN_X1_",
        "colab_type": "code",
        "colab": {}
      },
      "cell_type": "code",
      "source": [
        "#median function\n",
        "#def median(v):"
      ],
      "execution_count": 0,
      "outputs": []
    },
    {
      "metadata": {
        "id": "4oo-i20X_X2D",
        "colab_type": "code",
        "colab": {}
      },
      "cell_type": "code",
      "source": [
        "print(\"Median: \", median(basic_list))"
      ],
      "execution_count": 0,
      "outputs": []
    },
    {
      "metadata": {
        "id": "7_X7SFQN_X2I",
        "colab_type": "text"
      },
      "cell_type": "markdown",
      "source": [
        "The quantile of a data set returns the pth percentile value"
      ]
    },
    {
      "metadata": {
        "id": "1vczEbc__X2K",
        "colab_type": "code",
        "colab": {}
      },
      "cell_type": "code",
      "source": [
        "def quantile(x, p):\n",
        "    p_index = int(p * len(x))\n",
        "    return sorted(x)[p_index]"
      ],
      "execution_count": 0,
      "outputs": []
    },
    {
      "metadata": {
        "id": "Js4x6y75_X2N",
        "colab_type": "code",
        "colab": {}
      },
      "cell_type": "code",
      "source": [
        "print(\"1st Quartile (25th Percantile): \", quantile(basic_list, .25))\n",
        "print(\"3rd Quartile (75th Percantile): \", quantile(basic_list, .75))"
      ],
      "execution_count": 0,
      "outputs": []
    },
    {
      "metadata": {
        "collapsed": true,
        "id": "fsKHmc3__X2Q",
        "colab_type": "code",
        "colab": {}
      },
      "cell_type": "code",
      "source": [
        "def IQR(x): #IQR - interquartile range\n",
        "    return quantile(x, 0.75) - quantile(x, 0.25)"
      ],
      "execution_count": 0,
      "outputs": []
    },
    {
      "metadata": {
        "id": "8A3p4gNi_X2S",
        "colab_type": "code",
        "colab": {}
      },
      "cell_type": "code",
      "source": [
        "print(\"Interquartile Range: \", IQR(basic_list))"
      ],
      "execution_count": 0,
      "outputs": []
    },
    {
      "metadata": {
        "id": "q32q4Vzd_X2X",
        "colab_type": "text"
      },
      "cell_type": "markdown",
      "source": [
        "In addition to the many simple statistical functions you can write yourself, numpy gives you access to a lot more, including the common ones from above."
      ]
    },
    {
      "metadata": {
        "id": "-Fk4vMQC_X2Y",
        "colab_type": "code",
        "colab": {}
      },
      "cell_type": "code",
      "source": [
        "print(\"Standard Deviation: \", np.std(basic_list))"
      ],
      "execution_count": 0,
      "outputs": []
    },
    {
      "metadata": {
        "id": "5GsSaUxf_X2b",
        "colab_type": "code",
        "colab": {}
      },
      "cell_type": "code",
      "source": [
        "x = [14, 7, 15, 7, 3, 5, 6, 8, 10]\n",
        "y = [44, 3, 7, 2, 17, 5, 3, 11, 14]\n",
        "print(\"Correlation between x and y: \\n\", np.corrcoef(x, y))"
      ],
      "execution_count": 0,
      "outputs": []
    },
    {
      "metadata": {
        "id": "yraXUGLy_X2e",
        "colab_type": "text"
      },
      "cell_type": "markdown",
      "source": [
        "***\n",
        "## Histograms\n",
        "Histograms are a diagram consisting of rectangles whose area is proportional to the frequency of a variable and whose width is equal to the class interval. They are a very useful tool in visualizing data."
      ]
    },
    {
      "metadata": {
        "id": "Cv5o_gG8_X2g",
        "colab_type": "code",
        "colab": {}
      },
      "cell_type": "code",
      "source": [
        "import matplotlib.pyplot as plt\n",
        "import matplotlib.mlab as mlab\n",
        "\n",
        "data = [0,1,2,1]\n",
        "bins = [0,1,2,3]\n",
        "x = np.histogram(data, bins)\n",
        "print(x) #output is a tuple of the number of occurences in each bin and the bins. \n",
        "        #x[0] is the frequency of each bin, x[1] is the range of each bin."
      ],
      "execution_count": 0,
      "outputs": []
    },
    {
      "metadata": {
        "collapsed": true,
        "id": "aLmc1ATF_X2i",
        "colab_type": "code",
        "colab": {}
      },
      "cell_type": "code",
      "source": [
        ""
      ],
      "execution_count": 0,
      "outputs": []
    },
    {
      "metadata": {
        "id": "i8Gljz0W_X2o",
        "colab_type": "text"
      },
      "cell_type": "markdown",
      "source": [
        "What are bins? For this example, we have 3 bins. Ranging from 0 to 1, 1 to 2, and 2 to 3, respectively."
      ]
    },
    {
      "metadata": {
        "id": "iQiLgqJE_X2o",
        "colab_type": "code",
        "colab": {}
      },
      "cell_type": "code",
      "source": [
        "plt.bar(range(0,3),x[0])\n",
        "\n",
        "plt.title('Our Histogram')\n",
        "plt.xlabel('Data')\n",
        "plt.ylabel('Frequency')\n",
        "plt.axis([0, 5, 0, 5])#[start of x-axis, end of x-axis, start of y-axis, end of y-axis]\n",
        "plt.grid(True)\n",
        "\n",
        "plt.show()"
      ],
      "execution_count": 0,
      "outputs": []
    },
    {
      "metadata": {
        "id": "JooVSQ6O_X2p",
        "colab_type": "text"
      },
      "cell_type": "markdown",
      "source": [
        "***\n",
        "\n",
        "## Probability\n",
        "\n",
        "Now it's time for some basic probability to help with the upcoming workshops.\n",
        "\n",
        "What is probability? It is the process of quantifiying the uncertainty associated with a certain set of events. There are plenty of random events in nature that make probability very useful for building and evaluating models that analyze and predict on data."
      ]
    },
    {
      "metadata": {
        "id": "E9ipwhIV_X2p",
        "colab_type": "text"
      },
      "cell_type": "markdown",
      "source": [
        "### Dependent vs Independent Events\n",
        "\n",
        "Two events E and F are independent if $P(E, F) = P(E) \\cdot P(F)$.\n",
        "That is, the probability of both E and F happening is $P(E) \\cdot P(F)$.\n",
        "\n",
        "E and F are dependent events when $P(E | F) = \\frac{P(E,F)}{P(F)} = P(E | F) \\cdot P(F)$\n",
        "\n",
        "Let's program some examples in Python."
      ]
    },
    {
      "metadata": {
        "id": "fL-qdXrJ_X2q",
        "colab_type": "text"
      },
      "cell_type": "markdown",
      "source": [
        "### Tricky Example 1: Family with two children\n",
        "\n",
        "Let's assume the following statements:\n",
        "1. Each child is equally likely to be a boy or a girl\n",
        "2. The gender of the second child is independent of the gender of the first child\n",
        "\n",
        "Based on these assumptions, we know that the event “no girls” has probability $\\frac{1}{4}$, the event “one girl, one boy” has probability $\\frac{1}{2}$, and the event “two girls” has probability $\\frac{1}{4}$.\n",
        "\n",
        "Now, let's think about the events:\n",
        "* B = \"both children are girls\"\n",
        "* G = \"the older child is a girl\"\n",
        "* L = \"at least one of the children is a girl\"\n",
        "\n",
        "Using the concept of conditional probability, we can ask what is the likelihood of these events conditioned on each other. Or, what is the probability that both children are girls and the older child is a girl?\n",
        "\n",
        "By mathematical calculation, we know $P(B|G) = \\frac{P(B, G)}{P(G)} = \\frac{P(B)}{P(G)} = \\frac{1}{2}$\n",
        "\n",
        "And this makes sense because the event B and G (“both children are girls and the older child is a girl”) is just the event B. (Once you know that both children are girls, it’s necessarily true that the older child is a girl.)\n",
        "\n",
        "We could also ask about the probability of the event “both children are girls” conditional on the event “at least one of the children is a girl” (L). Surprisingly, the answer is different from before! We know that the event B and L (“both children are girls and at least one of the children is a girl”) is just the event B.\n",
        "\n",
        "This means we have $P(B|L) = \\frac{P(B,L)}{P(L)} = \\frac{P(B)}{P(L)} = \\frac{\\frac{1}{4}}{\\frac{3}{4}} = \\frac{1}{3}$"
      ]
    },
    {
      "metadata": {
        "id": "UawrRxbj_X2r",
        "colab_type": "code",
        "colab": {}
      },
      "cell_type": "code",
      "source": [
        "# a function that randomly returns a choice between \"boy\" and \"girl\"\n",
        "def random_kid():\n",
        "    return np.random.choice([\"boy\", \"girl\"])\n",
        "\n",
        "# counter variables\n",
        "both_girls = 0.0\n",
        "older_girl = 0.0\n",
        "either_girl = 0.0\n",
        "\n",
        "for i in range(10000):\n",
        "    younger = random_kid()\n",
        "    older = random_kid()\n",
        "    if older == \"girl\":\n",
        "        older_girl += 1\n",
        "    if older == \"girl\" and younger == \"girl\":\n",
        "        both_girls += 1\n",
        "    if older == \"girl\" or younger == \"girl\":\n",
        "        either_girl += 1\n",
        "        \n",
        "\n",
        "print(\"P(both | older):\", both_girls / older_girl) # 1/2\n",
        "print(\"P(both | either): \", both_girls / either_girl) # 1/3"
      ],
      "execution_count": 0,
      "outputs": []
    }
  ]
}