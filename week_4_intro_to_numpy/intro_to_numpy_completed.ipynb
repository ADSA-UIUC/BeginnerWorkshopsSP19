{
  "nbformat": 4,
  "nbformat_minor": 0,
  "metadata": {
    "colab": {
      "name": "data-science-fundamentals-completed-2018.ipynb",
      "version": "0.3.2",
      "provenance": [],
      "collapsed_sections": [
        "EsY33yfN_DnM"
      ]
    },
    "kernelspec": {
      "display_name": "Python 3",
      "language": "python",
      "name": "python3"
    }
  },
  "cells": [
    {
      "metadata": {
        "collapsed": true,
        "id": "3rvyFStR_Dj2",
        "colab_type": "text"
      },
      "cell_type": "markdown",
      "source": [
        "![ADSA Logo](http://i.imgur.com/BV0CdHZ.png?2 \"ADSA Logo\")"
      ]
    },
    {
      "metadata": {
        "id": "POPuc2iH_Dj3",
        "colab_type": "text"
      },
      "cell_type": "markdown",
      "source": [
        "#Spring 2019 ADSA Workshop - Data Science Fundamentals Series: Numpy, Statistics and Probability\n",
        "\n",
        "Workshop content adapted from:\n",
        "* https://github.com/ADSA-UIUC/PythonWorkshop_2\n",
        "* [Data Science from Scratch - First Principles with Python](http://www.amazon.com/Data-Science-Scratch-Principles-Python/dp/149190142X/)"
      ]
    },
    {
      "metadata": {
        "id": "VOE0ugLx_Dj4",
        "colab_type": "text"
      },
      "cell_type": "markdown",
      "source": [
        "This workshop dives into data science fundamentals - statistics and probability. We will talk about the following topics:\n",
        "* How to use NumPy\n",
        "* Linear Algebra\n",
        "* Statistics\n",
        "* Histograms\n",
        "* Probability with Python\n",
        "\n",
        "***"
      ]
    },
    {
      "metadata": {
        "id": "glyV-hUp_Dj4",
        "colab_type": "text"
      },
      "cell_type": "markdown",
      "source": [
        "## An Introduction to NumPy\n",
        "\n",
        "NumPy (or Numerical Python), is part of a great set of free scientific computing libraries called SciPy that provide mathematical and numerical functions that work very fast. NumPy is like MATLAB, and you can use it to create very powerful arrays and matrices, and it also has various kinds of optimization algorithms and linear algebra functions that are very useful for data science and analytics"
      ]
    },
    {
      "metadata": {
        "id": "JfAba_sz_Dj6",
        "colab_type": "code",
        "colab": {}
      },
      "cell_type": "code",
      "source": [
        "# Let's import numpy to use some of its functions\n",
        "import numpy as np"
      ],
      "execution_count": 0,
      "outputs": []
    },
    {
      "metadata": {
        "id": "ilaNMJHB_Dj9",
        "colab_type": "text"
      },
      "cell_type": "markdown",
      "source": [
        "The central feature of NumPy is the array object class. Arrays are similar to lists in Python, except that every element of an array must be of the same type, typically a numeric type like `float` or `int`. Arrays make operations with large amounts of numeric data very fast and are generally much more efficient than lists."
      ]
    },
    {
      "metadata": {
        "id": "KbDoOMht_Dj_",
        "colab_type": "code",
        "colab": {},
        "outputId": "8b4c0a9e-2a31-47db-e408-0c37fdf52edb"
      },
      "cell_type": "code",
      "source": [
        "my_list = [1, 4, 5, 8]\n",
        "a = np.array(my_list)\n",
        "\n",
        "print(a)"
      ],
      "execution_count": 0,
      "outputs": [
        {
          "output_type": "stream",
          "text": [
            "[1 4 5 8]\n"
          ],
          "name": "stdout"
        }
      ]
    },
    {
      "metadata": {
        "id": "c0f5CpiE_DkD",
        "colab_type": "text"
      },
      "cell_type": "markdown",
      "source": [
        "Array elements are accessed, sliced, and manipulated just like lists."
      ]
    },
    {
      "metadata": {
        "id": "cZmmn2hl_DkE",
        "colab_type": "code",
        "colab": {},
        "outputId": "724d8d6a-1c96-46c7-8a10-4720b9f46f64"
      },
      "cell_type": "code",
      "source": [
        "# accessing elements of the array using an index\n",
        "# return the 4th element in the array (0-indexed!)\n",
        "print(a[3])\n",
        "\n",
        "# accessing multiple continuous elements of the array, also called slicing\n",
        "print(a[:2])\n",
        "\n",
        "# modifying elements of the array\n",
        "a[0] = 5\n",
        "print(a)"
      ],
      "execution_count": 0,
      "outputs": [
        {
          "output_type": "stream",
          "text": [
            "8\n",
            "[1 4]\n",
            "[5 4 5 8]\n"
          ],
          "name": "stdout"
        }
      ]
    },
    {
      "metadata": {
        "id": "F2eXR0IJ_DkI",
        "colab_type": "text"
      },
      "cell_type": "markdown",
      "source": [
        "Note that the type of a is **`ndarray`**"
      ]
    },
    {
      "metadata": {
        "id": "SFfzt52q_DkJ",
        "colab_type": "code",
        "colab": {},
        "outputId": "35b99923-948a-483e-9a44-d3c86227aaaa"
      },
      "cell_type": "code",
      "source": [
        "print(type(a))"
      ],
      "execution_count": 0,
      "outputs": [
        {
          "output_type": "stream",
          "text": [
            "<class 'numpy.ndarray'>\n"
          ],
          "name": "stdout"
        }
      ]
    },
    {
      "metadata": {
        "id": "F_aRKzFR_DkM",
        "colab_type": "text"
      },
      "cell_type": "markdown",
      "source": [
        "This means that numpy can handle multi-dimensional arrays. Let's create a 2-dimensional array"
      ]
    },
    {
      "metadata": {
        "id": "mEtC-VTs_DkM",
        "colab_type": "code",
        "colab": {},
        "outputId": "414cb81c-d65c-48bc-8d79-42371a226e09"
      },
      "cell_type": "code",
      "source": [
        "b = np.array( [[1, 2, 3], [4, 5, 6]] )\n",
        "print(b)"
      ],
      "execution_count": 0,
      "outputs": [
        {
          "output_type": "stream",
          "text": [
            "[[1 2 3]\n",
            " [4 5 6]]\n"
          ],
          "name": "stdout"
        }
      ]
    },
    {
      "metadata": {
        "id": "rjsYKweF_DkQ",
        "colab_type": "code",
        "colab": {},
        "outputId": "d690981d-a2ec-4bfb-dc46-bd19bc2e9e74"
      },
      "cell_type": "code",
      "source": [
        "# access the element is the first row, second column\n",
        "print(b[0, 1])"
      ],
      "execution_count": 0,
      "outputs": [
        {
          "output_type": "stream",
          "text": [
            "2\n"
          ],
          "name": "stdout"
        }
      ]
    },
    {
      "metadata": {
        "id": "P5t6jLEJ_DkU",
        "colab_type": "code",
        "colab": {},
        "outputId": "11d04529-4b8e-4fc0-fa52-a36591f0e32a"
      },
      "cell_type": "code",
      "source": [
        "# slice the array and access only the 3rd column\n",
        "print(b[:, 2])"
      ],
      "execution_count": 0,
      "outputs": [
        {
          "output_type": "stream",
          "text": [
            "[3 6]\n"
          ],
          "name": "stdout"
        }
      ]
    },
    {
      "metadata": {
        "id": "fH_pHMz-_DkX",
        "colab_type": "text"
      },
      "cell_type": "markdown",
      "source": [
        "The **`shape`** property returns the size of each dimension of the array"
      ]
    },
    {
      "metadata": {
        "id": "ACaHGS1H_DkY",
        "colab_type": "code",
        "colab": {},
        "outputId": "512c9a2b-6db9-4c5a-c63d-6993c8e5485b"
      },
      "cell_type": "code",
      "source": [
        "print(a.shape)\n",
        "print(b.shape)"
      ],
      "execution_count": 0,
      "outputs": [
        {
          "output_type": "stream",
          "text": [
            "(4,)\n",
            "(2, 3)\n"
          ],
          "name": "stdout"
        }
      ]
    },
    {
      "metadata": {
        "id": "LUVxX2vk_Dkd",
        "colab_type": "text"
      },
      "cell_type": "markdown",
      "source": [
        "The **`in`** statement can be used to check if values are present in the array"
      ]
    },
    {
      "metadata": {
        "id": "ebAv9J0I_Dkg",
        "colab_type": "code",
        "colab": {},
        "outputId": "d6a5f5c1-94ea-4bef-8699-94c24ac038f2"
      },
      "cell_type": "code",
      "source": [
        "print(3 in b)"
      ],
      "execution_count": 0,
      "outputs": [
        {
          "output_type": "stream",
          "text": [
            "True\n"
          ],
          "name": "stdout"
        }
      ]
    },
    {
      "metadata": {
        "id": "fB9VP5h0_Dkj",
        "colab_type": "code",
        "colab": {},
        "outputId": "2d4558a3-6bd5-4e86-8782-33f5835d3315"
      },
      "cell_type": "code",
      "source": [
        "print(7 in a)"
      ],
      "execution_count": 0,
      "outputs": [
        {
          "output_type": "stream",
          "text": [
            "False\n"
          ],
          "name": "stdout"
        }
      ]
    },
    {
      "metadata": {
        "id": "7bvrA2Is_Dkm",
        "colab_type": "text"
      },
      "cell_type": "markdown",
      "source": [
        "Arrays can be reshaped to different dimension sizes."
      ]
    },
    {
      "metadata": {
        "id": "OsAiBQKD_Dko",
        "colab_type": "code",
        "colab": {},
        "outputId": "5dd6b8a4-05b3-49c8-efa5-861d11b9cdf0"
      },
      "cell_type": "code",
      "source": [
        "a = np.array(range(10), float)\n",
        "print(a)\n",
        "print(a.shape)"
      ],
      "execution_count": 0,
      "outputs": [
        {
          "output_type": "stream",
          "text": [
            "[0. 1. 2. 3. 4. 5. 6. 7. 8. 9.]\n",
            "(10,)\n"
          ],
          "name": "stdout"
        }
      ]
    },
    {
      "metadata": {
        "id": "ZX24WroW_Dks",
        "colab_type": "code",
        "colab": {},
        "outputId": "28d00efe-8860-4614-cedd-dbbf79ef1de4"
      },
      "cell_type": "code",
      "source": [
        "# reshape (10,) array to (5,2)\n",
        "a = a.reshape((5, 2))\n",
        "print(a)\n",
        "print(a.shape)"
      ],
      "execution_count": 0,
      "outputs": [
        {
          "output_type": "stream",
          "text": [
            "[[0. 1.]\n",
            " [2. 3.]\n",
            " [4. 5.]\n",
            " [6. 7.]\n",
            " [8. 9.]]\n",
            "(5, 2)\n"
          ],
          "name": "stdout"
        }
      ]
    },
    {
      "metadata": {
        "id": "R2IUIrcs_Dkw",
        "colab_type": "text"
      },
      "cell_type": "markdown",
      "source": [
        "We can create special matrices in NumPy too! Remember that they are still referred to as arrays in NumPy."
      ]
    },
    {
      "metadata": {
        "id": "1Bf5sBSO_Dkx",
        "colab_type": "code",
        "colab": {},
        "outputId": "b6968871-69e0-4fda-a0e7-78051e89bd5e"
      },
      "cell_type": "code",
      "source": [
        "# create the identity 2-dimensional array of shape (4,4)\n",
        "i = np.identity(4)\n",
        "print(i)"
      ],
      "execution_count": 0,
      "outputs": [
        {
          "output_type": "stream",
          "text": [
            "[[1. 0. 0. 0.]\n",
            " [0. 1. 0. 0.]\n",
            " [0. 0. 1. 0.]\n",
            " [0. 0. 0. 1.]]\n"
          ],
          "name": "stdout"
        }
      ]
    },
    {
      "metadata": {
        "id": "0aMNgtHG_Dk1",
        "colab_type": "code",
        "colab": {},
        "outputId": "5102db52-cb41-41fa-9456-c14377a0338d"
      },
      "cell_type": "code",
      "source": [
        "# create a (3,3) array with all ones\n",
        "o = np.ones((3,3))\n",
        "print(o)"
      ],
      "execution_count": 0,
      "outputs": [
        {
          "output_type": "stream",
          "text": [
            "[[1. 1. 1.]\n",
            " [1. 1. 1.]\n",
            " [1. 1. 1.]]\n"
          ],
          "name": "stdout"
        }
      ]
    },
    {
      "metadata": {
        "id": "fGrI0FsN_Dk6",
        "colab_type": "text"
      },
      "cell_type": "markdown",
      "source": [
        "We can even do math operations on these arrays. All of the operations below happen element-wise. To do matrix multiplication and other matrix-specific math, we will have to use NumPy's linear algebra functions."
      ]
    },
    {
      "metadata": {
        "id": "aPq9iIwS_Dk7",
        "colab_type": "code",
        "colab": {},
        "outputId": "80a2e2d6-5579-4ed9-df82-650786468745"
      },
      "cell_type": "code",
      "source": [
        "a = np.array([1,2,3], float)\n",
        "b = np.array([5,2,6], float)\n",
        "print(a)\n",
        "print(b)"
      ],
      "execution_count": 0,
      "outputs": [
        {
          "output_type": "stream",
          "text": [
            "[1. 2. 3.]\n",
            "[5. 2. 6.]\n"
          ],
          "name": "stdout"
        }
      ]
    },
    {
      "metadata": {
        "id": "k8oAnM5Q_Dk-",
        "colab_type": "code",
        "colab": {},
        "outputId": "ff97a956-56ae-4c3d-d21f-a41ff53923c0"
      },
      "cell_type": "code",
      "source": [
        "print(a + b)"
      ],
      "execution_count": 0,
      "outputs": [
        {
          "output_type": "stream",
          "text": [
            "[6. 4. 9.]\n"
          ],
          "name": "stdout"
        }
      ]
    },
    {
      "metadata": {
        "id": "IbaWF2ZF_DlB",
        "colab_type": "code",
        "colab": {},
        "outputId": "2ab78c46-368b-4f4b-ed5f-f89b72ff7332"
      },
      "cell_type": "code",
      "source": [
        "print(a - b)"
      ],
      "execution_count": 0,
      "outputs": [
        {
          "output_type": "stream",
          "text": [
            "[-4.  0. -3.]\n"
          ],
          "name": "stdout"
        }
      ]
    },
    {
      "metadata": {
        "id": "rpAUullM_DlG",
        "colab_type": "code",
        "colab": {},
        "outputId": "dd24a112-31b1-4136-a174-543b13d64111"
      },
      "cell_type": "code",
      "source": [
        "print(a * b)"
      ],
      "execution_count": 0,
      "outputs": [
        {
          "output_type": "stream",
          "text": [
            "[ 5.  4. 18.]\n"
          ],
          "name": "stdout"
        }
      ]
    },
    {
      "metadata": {
        "id": "zPRKH9Ru_DlK",
        "colab_type": "code",
        "colab": {},
        "outputId": "7185e8de-af96-4875-868e-9164622fe114"
      },
      "cell_type": "code",
      "source": [
        "print(b / a)"
      ],
      "execution_count": 0,
      "outputs": [
        {
          "output_type": "stream",
          "text": [
            "[5. 1. 2.]\n"
          ],
          "name": "stdout"
        }
      ]
    },
    {
      "metadata": {
        "id": "hOIDYz6o_DlO",
        "colab_type": "code",
        "colab": {},
        "outputId": "05ed5276-2530-4724-d2f0-e2b8c4a28913"
      },
      "cell_type": "code",
      "source": [
        "print(b ** a)"
      ],
      "execution_count": 0,
      "outputs": [
        {
          "output_type": "stream",
          "text": [
            "[  5.   4. 216.]\n"
          ],
          "name": "stdout"
        }
      ]
    },
    {
      "metadata": {
        "id": "MH5abYkT_DlQ",
        "colab_type": "text"
      },
      "cell_type": "markdown",
      "source": [
        "***\n",
        "\n",
        "## Linear Algebra: Vectors\n",
        "\n",
        "Linear Algebra is very important in the context of data science. It provides concepts and structures that allow data scientists to efficiently represent data, and do various computations with them. There are two structures that we will talk about today, **vectors** and **matrices**.\n",
        "\n",
        "Abstractly, vectors are objects that can be added together (to form new vectors) and that can be multiplied by scalars (i.e., numbers), also to form new vectors.\n",
        "\n",
        "For example, if you have the heights, weights, and ages of a large number of people, you can treat your data as three-dimensional vectors `(height, weight, age)`. If youâre teaching a class with four exams, you can treat student grades as four-dimensional vectors `(exam1, exam2, exam3, exam4)`."
      ]
    },
    {
      "metadata": {
        "id": "PwtfyL9v_DlS",
        "colab_type": "code",
        "colab": {},
        "outputId": "56df259f-cc9e-4f7d-e8ef-f5aa5dd36b57"
      },
      "cell_type": "code",
      "source": [
        "mike_data = np.array([70,  # inches,\n",
        "                      170, # pounds,\n",
        "                      40   # years\n",
        "                     ])\n",
        "print(mike_data)"
      ],
      "execution_count": 0,
      "outputs": [
        {
          "output_type": "stream",
          "text": [
            "[ 70 170  40]\n"
          ],
          "name": "stdout"
        }
      ]
    },
    {
      "metadata": {
        "id": "nZgBX52x_DlX",
        "colab_type": "text"
      },
      "cell_type": "markdown",
      "source": [
        "To begin with, weâll frequently need to **add** two vectors. Vectors add componentwise. This means that if two vectors v and w are the same length, their sum is just the vector whose first element is `v[0] + w[0]`, whose second element is `v[1] + w[1]`, and so on. (If theyâre not the same length, then weâre not allowed to add them.)"
      ]
    },
    {
      "metadata": {
        "id": "T7M78Vgo_DlY",
        "colab_type": "code",
        "colab": {},
        "outputId": "41cf2c55-713f-4339-f08d-29c5377e67df"
      },
      "cell_type": "code",
      "source": [
        "# create a second vector with Adam's data\n",
        "adam_data = np.array([72, 192, 31])\n",
        "\n",
        "print(mike_data + adam_data)"
      ],
      "execution_count": 0,
      "outputs": [
        {
          "output_type": "stream",
          "text": [
            "[142 362  71]\n"
          ],
          "name": "stdout"
        }
      ]
    },
    {
      "metadata": {
        "id": "C8jdp6Ce_Dld",
        "colab_type": "text"
      },
      "cell_type": "markdown",
      "source": [
        "Similarly we can **subtract** vectors too."
      ]
    },
    {
      "metadata": {
        "id": "HLjXMdKC_Dld",
        "colab_type": "code",
        "colab": {},
        "outputId": "ae41079b-1d46-4271-9401-3bbfb5d8d7ea"
      },
      "cell_type": "code",
      "source": [
        "print(mike_data - adam_data)"
      ],
      "execution_count": 0,
      "outputs": [
        {
          "output_type": "stream",
          "text": [
            "[ -2 -22   9]\n"
          ],
          "name": "stdout"
        }
      ]
    },
    {
      "metadata": {
        "id": "hwXYi8Jw_Dlg",
        "colab_type": "text"
      },
      "cell_type": "markdown",
      "source": [
        "Weâll also need to be able to multiply a vector by a **scalar**, which we do simply by multiplying each element of the vector by that number."
      ]
    },
    {
      "metadata": {
        "id": "zPnDHtx2_Dlh",
        "colab_type": "code",
        "colab": {},
        "outputId": "7ca2e4f8-cc0e-4480-d270-6443fd1e1642"
      },
      "cell_type": "code",
      "source": [
        "print(2.3 * adam_data)"
      ],
      "execution_count": 0,
      "outputs": [
        {
          "output_type": "stream",
          "text": [
            "[165.6 441.6  71.3]\n"
          ],
          "name": "stdout"
        }
      ]
    },
    {
      "metadata": {
        "id": "UPkcijNR_Dlj",
        "colab_type": "text"
      },
      "cell_type": "markdown",
      "source": [
        "A less obvious tool is the **dot** product. The dot product of two vectors is the sum of their componentwise products. The mathematical computation for $v \\cdot w$ looks like this: $v_1 w_1 + v_2 w_2 + \\dots + v_n w_n$"
      ]
    },
    {
      "metadata": {
        "id": "xK_3gTC3_Dlk",
        "colab_type": "code",
        "colab": {},
        "outputId": "c95a8e1c-e01e-48c1-b877-7255cb7c8dd5"
      },
      "cell_type": "code",
      "source": [
        "print(mike_data.dot(adam_data))"
      ],
      "execution_count": 0,
      "outputs": [
        {
          "output_type": "stream",
          "text": [
            "38920\n"
          ],
          "name": "stdout"
        }
      ]
    },
    {
      "metadata": {
        "id": "nzajo2ZZ_Dlm",
        "colab_type": "text"
      },
      "cell_type": "markdown",
      "source": [
        "The dot product measures how far the vector `v` extends in the `w` direction. For example, if `w = [1, 0]` then `dot(v, w)` is just the first component of `v`. Another way of saying this is that itâs the length of the vector you would get if you projected `v` onto `w`.\n",
        "![Dot Product Graph](http://i.imgur.com/jPBLBEK.png?1)\n",
        "\n",
        "Finally, we need to be able to compute the **magnitude** of a vector. In graphical terms, it is just the length of the vector. The mathematical computation for the magnitude of a vector `v` is:\n",
        "$\\sqrt{v_1 ^ 2 + v_2 ^ 2 + \\dots + v_n ^ 2}$"
      ]
    },
    {
      "metadata": {
        "id": "6MTonVUo_Dlo",
        "colab_type": "code",
        "colab": {},
        "outputId": "36f80384-6cf8-4b82-9a72-ec3fc34f5623"
      },
      "cell_type": "code",
      "source": [
        "# print magnitude of mike_data\n",
        "print(np.sqrt(mike_data[0]**2 + mike_data[1]**2 + mike_data[2]**2))"
      ],
      "execution_count": 0,
      "outputs": [
        {
          "output_type": "stream",
          "text": [
            "188.1488772222678\n"
          ],
          "name": "stdout"
        }
      ]
    },
    {
      "metadata": {
        "id": "C23gRlbt_Dls",
        "colab_type": "code",
        "colab": {},
        "outputId": "91bff5d9-7c21-4876-9999-ba5c61b3a4ca"
      },
      "cell_type": "code",
      "source": [
        "# another way to compute the magnitude of a vector\n",
        "print(np.sqrt(mike_data.dot(mike_data)))"
      ],
      "execution_count": 0,
      "outputs": [
        {
          "output_type": "stream",
          "text": [
            "188.1488772222678\n"
          ],
          "name": "stdout"
        }
      ]
    },
    {
      "metadata": {
        "id": "LTz3nQ2p_Dlv",
        "colab_type": "text"
      },
      "cell_type": "markdown",
      "source": [
        "***\n",
        "\n",
        "## Linear Algebra: Matrices\n",
        "\n",
        "A matrix is a two-dimensional collection of numbers. We will represent matrices as `lists` of `lists`, with each inner list having the same size and representing a row of the matrix. If `A` is a matrix, then `A[i][j]` is the element in the `i`th row and the `j`th column. Per mathematical convention, we will typically use capital letters to represent matrices."
      ]
    },
    {
      "metadata": {
        "id": "BoP2SF08_Dlw",
        "colab_type": "code",
        "colab": {},
        "outputId": "e9e5d602-daae-437e-81be-274a8196e08b"
      },
      "cell_type": "code",
      "source": [
        "mat_a = np.array( [[1, 2], [5, 6], [14, 15]] )\n",
        "mat_b = np.array( [[4, 5, 6], [8, 9, 10]] )\n",
        "\n",
        "print(\"Matrix A:\\n\", mat_a)\n",
        "print(\"\\nMatrix B:\\n\", mat_b)"
      ],
      "execution_count": 0,
      "outputs": [
        {
          "output_type": "stream",
          "text": [
            "Matrix A:\n",
            " [[ 1  2]\n",
            " [ 5  6]\n",
            " [14 15]]\n",
            "\n",
            "Matrix B:\n",
            " [[ 4  5  6]\n",
            " [ 8  9 10]]\n"
          ],
          "name": "stdout"
        }
      ]
    },
    {
      "metadata": {
        "id": "-rCo6yYJ_Dl0",
        "colab_type": "text"
      },
      "cell_type": "markdown",
      "source": [
        "To find out what the dimensions (number of rows vs. number of columns) of a matrix are, we can use the Numpy shape property."
      ]
    },
    {
      "metadata": {
        "id": "C4e45PtM_Dl4",
        "colab_type": "code",
        "colab": {},
        "outputId": "fe8ea3ac-d777-4c03-8a0a-30d011ca404f"
      },
      "cell_type": "code",
      "source": [
        "print(\"Matrix A shape: \", mat_a.shape)\n",
        "print(\"Matrix B shape: \", mat_b.shape)"
      ],
      "execution_count": 0,
      "outputs": [
        {
          "output_type": "stream",
          "text": [
            "Matrix A shape:  (3, 2)\n",
            "Matrix B shape:  (2, 3)\n"
          ],
          "name": "stdout"
        }
      ]
    },
    {
      "metadata": {
        "id": "fEYmeFt__Dl6",
        "colab_type": "text"
      },
      "cell_type": "markdown",
      "source": [
        "Matrices will be important to us for several reasons.\n",
        "\n",
        "First, we can use a matrix to represent a data set consisting of multiple vectors, simply by considering each vector as a row of the matrix. For example, if you had the heights, weights, and ages of 1,000 people you could put them in a 1,000 Ã 3 matrix:\n",
        "\n",
        "    data = [[70, 170, 40],\n",
        "            [65, 120, 26],\n",
        "            [77, 250, 19],\n",
        "            # ....\n",
        "            ]"
      ]
    },
    {
      "metadata": {
        "id": "w9_c3fa5_Dl8",
        "colab_type": "text"
      },
      "cell_type": "markdown",
      "source": [
        "A differentiating feature of matrices is an operation called transpose. This swaps elements of the matrix along the leading diagonal. It can be thought of as an operation that makes all the rows - columns, and all the columns - rows. Let's see an example."
      ]
    },
    {
      "metadata": {
        "id": "vBSQ-DHR_Dl-",
        "colab_type": "code",
        "colab": {},
        "outputId": "a552f057-ccac-434c-a9d2-3727ad37a031"
      },
      "cell_type": "code",
      "source": [
        "print(\"Matrix A:\\n\", mat_a)\n",
        "print(\"\\nMatrix A Transposed:\\n\", mat_a.T)"
      ],
      "execution_count": 0,
      "outputs": [
        {
          "output_type": "stream",
          "text": [
            "Matrix A:\n",
            " [[ 1  2]\n",
            " [ 5  6]\n",
            " [14 15]]\n",
            "\n",
            "Matrix A Transposed:\n",
            " [[ 1  5 14]\n",
            " [ 2  6 15]]\n"
          ],
          "name": "stdout"
        }
      ]
    },
    {
      "metadata": {
        "id": "KjIRuGZp_DmD",
        "colab_type": "text"
      },
      "cell_type": "markdown",
      "source": [
        "We can run similar mathematical operations with matrices, like we did with vectors.\n",
        "\n",
        "**Adding** and **subtracting** matrices (matrices need to have similar shapes):"
      ]
    },
    {
      "metadata": {
        "id": "_mc-aheC_DmF",
        "colab_type": "code",
        "colab": {},
        "outputId": "977560d3-4c53-4c97-c874-3c6d9c0dde0e"
      },
      "cell_type": "code",
      "source": [
        "try:\n",
        "    print(mat_a + mat_b) # will throw an error\n",
        "except ValueError as e:\n",
        "    print(\"Error:\", e)"
      ],
      "execution_count": 0,
      "outputs": [
        {
          "output_type": "stream",
          "text": [
            "Error: operands could not be broadcast together with shapes (3,2) (2,3) \n"
          ],
          "name": "stdout"
        }
      ]
    },
    {
      "metadata": {
        "id": "WO3uqVl2_DmH",
        "colab_type": "code",
        "colab": {},
        "outputId": "7fdbc8e1-e983-4839-ab9e-667368377274"
      },
      "cell_type": "code",
      "source": [
        "print(mat_a + mat_b.T)"
      ],
      "execution_count": 0,
      "outputs": [
        {
          "output_type": "stream",
          "text": [
            "[[ 5 10]\n",
            " [10 15]\n",
            " [20 25]]\n"
          ],
          "name": "stdout"
        }
      ]
    },
    {
      "metadata": {
        "id": "FJi88WBm_DmK",
        "colab_type": "text"
      },
      "cell_type": "markdown",
      "source": [
        "**Element-wise multiplication**, which returns a matrix of the same dimensions."
      ]
    },
    {
      "metadata": {
        "id": "xGgO84cb_DmK",
        "colab_type": "code",
        "colab": {},
        "outputId": "8553ec78-eb2c-4364-d0f1-48e696b33da0"
      },
      "cell_type": "code",
      "source": [
        "print(mat_a * mat_b.T)"
      ],
      "execution_count": 0,
      "outputs": [
        {
          "output_type": "stream",
          "text": [
            "[[  4  16]\n",
            " [ 25  54]\n",
            " [ 84 150]]\n"
          ],
          "name": "stdout"
        }
      ]
    },
    {
      "metadata": {
        "id": "3zqGdP78_DmM",
        "colab_type": "text"
      },
      "cell_type": "markdown",
      "source": [
        "**Matrix multiplication** is a more complex calculation, which computes a dot product of the rows of the first matrix and the columns of the second matrix, to return a new matrix. You can learn more about matrix multiplication at [Khan Academy â Basic Matrix operations](http://www.khanacademy.org/math/algebra/algebra-matrices) and [Khan Academy â Linear Algebra](http://www.khanacademy.org/math/linear-algebra)."
      ]
    },
    {
      "metadata": {
        "id": "eLrM741j_DmP",
        "colab_type": "text"
      },
      "cell_type": "markdown",
      "source": [
        "***\n",
        "\n",
        "## Statistics\n",
        "\n",
        "Along with managing sets of data, python and numpy give you the tools to describe your set of data. \n",
        "\n",
        "Ways to describe data sets:\n",
        "* Length\n",
        "* Max/Min\n",
        "* Mean, Median, Mode\n",
        "* Dispersion (Spread) of values\n",
        "* Standard Deviation\n"
      ]
    },
    {
      "metadata": {
        "id": "SnGjS3I1_DmQ",
        "colab_type": "code",
        "colab": {}
      },
      "cell_type": "code",
      "source": [
        "basic_list = [14, 7, 15, 7, 3, 5, 6, 8, 10]"
      ],
      "execution_count": 0,
      "outputs": []
    },
    {
      "metadata": {
        "id": "zLtogeR__DmZ",
        "colab_type": "code",
        "colab": {},
        "outputId": "84440c43-679a-42f7-9bbd-3c363d6a4a60"
      },
      "cell_type": "code",
      "source": [
        "print(\"length: \", len(basic_list))"
      ],
      "execution_count": 0,
      "outputs": [
        {
          "output_type": "stream",
          "text": [
            "length:  9\n"
          ],
          "name": "stdout"
        }
      ]
    },
    {
      "metadata": {
        "id": "pFXkhBep_Dmc",
        "colab_type": "code",
        "colab": {},
        "outputId": "05bf5003-2cca-48a7-c873-f97039c3f9e0"
      },
      "cell_type": "code",
      "source": [
        "print(\"min: \", min(basic_list))\n",
        "print(\"max: \", max(basic_list))"
      ],
      "execution_count": 0,
      "outputs": [
        {
          "output_type": "stream",
          "text": [
            "min:  3\n",
            "max:  15\n"
          ],
          "name": "stdout"
        }
      ]
    },
    {
      "metadata": {
        "id": "VLwrZHdu_Dmg",
        "colab_type": "code",
        "colab": {},
        "outputId": "a1a593b9-22c2-463a-95ad-86f78f03ff4d"
      },
      "cell_type": "code",
      "source": [
        "def mean(x):\n",
        "    return sum(x) / len(x)\n",
        "\n",
        "print(\"average: \", mean(basic_list))"
      ],
      "execution_count": 0,
      "outputs": [
        {
          "output_type": "stream",
          "text": [
            "average:  8.333333333333334\n"
          ],
          "name": "stdout"
        }
      ]
    },
    {
      "metadata": {
        "id": "Uoh7RTps_Dmj",
        "colab_type": "text"
      },
      "cell_type": "markdown",
      "source": [
        "You can also easily sort lists with sorted(), which helps when defining central tendencies"
      ]
    },
    {
      "metadata": {
        "id": "ZQyVCWxt_Dml",
        "colab_type": "code",
        "colab": {},
        "outputId": "f7b4ee3d-174d-46ad-ac54-210d8c6af876"
      },
      "cell_type": "code",
      "source": [
        "print(\"original: \", basic_list)\n",
        "sorted_list = sorted(basic_list)\n",
        "print(\"sorted:   \", sorted_list)"
      ],
      "execution_count": 0,
      "outputs": [
        {
          "output_type": "stream",
          "text": [
            "original:  [14, 7, 15, 7, 3, 5, 6, 8, 10]\n",
            "sorted:    [3, 5, 6, 7, 7, 8, 10, 14, 15]\n"
          ],
          "name": "stdout"
        }
      ]
    },
    {
      "metadata": {
        "id": "FW5rgrqj_Dmm",
        "colab_type": "text"
      },
      "cell_type": "markdown",
      "source": [
        "If you already have a sorted list, you can use indexes to get the min/max values: "
      ]
    },
    {
      "metadata": {
        "id": "X3HLbBZS_Dmm",
        "colab_type": "code",
        "colab": {},
        "outputId": "21a48a67-21f8-4e2e-cb34-abadac9d71f7"
      },
      "cell_type": "code",
      "source": [
        "print(\"Min: \", sorted_list[0])\n",
        "print(\"Max: \", sorted_list[-1]) # 1st from last"
      ],
      "execution_count": 0,
      "outputs": [
        {
          "output_type": "stream",
          "text": [
            "Min:  3\n",
            "Max:  15\n"
          ],
          "name": "stdout"
        }
      ]
    },
    {
      "metadata": {
        "id": "qUiS-7lv_Dmr",
        "colab_type": "text"
      },
      "cell_type": "markdown",
      "source": [
        "Otherwise you can also use the `min` and `max` functions:"
      ]
    },
    {
      "metadata": {
        "id": "bjq-iXnB_Dms",
        "colab_type": "code",
        "colab": {},
        "outputId": "e6a01321-4072-4436-b969-fcc6e1e52132"
      },
      "cell_type": "code",
      "source": [
        "print(\"Min: \", min(basic_list))\n",
        "print(\"Max: \", max(basic_list))"
      ],
      "execution_count": 0,
      "outputs": [
        {
          "output_type": "stream",
          "text": [
            "Min:  3\n",
            "Max:  15\n"
          ],
          "name": "stdout"
        }
      ]
    },
    {
      "metadata": {
        "id": "9k9nQFmw_Dmw",
        "colab_type": "text"
      },
      "cell_type": "markdown",
      "source": [
        "Finding the median is a little less straightforward, just depends on whether length is even or odd"
      ]
    },
    {
      "metadata": {
        "id": "BjjTcM6__Dmw",
        "colab_type": "code",
        "colab": {}
      },
      "cell_type": "code",
      "source": [
        "def median(v):\n",
        "    n = len(v)\n",
        "    sorted_v = sorted(v)\n",
        "    midpoint = n // 2 # the '//' makes sure result is an int\n",
        "    if n % 2 == 1: # if odd, return the middle value\n",
        "        return sorted_v[midpoint]\n",
        "    else: # if even, return the average of the middle values\n",
        "        lo = midpoint - 1\n",
        "        hi = midpoint\n",
        "        return((sorted_v[lo] + sorted_v[hi]) / 2)"
      ],
      "execution_count": 0,
      "outputs": []
    },
    {
      "metadata": {
        "id": "sFvk4TEe_Dmy",
        "colab_type": "code",
        "colab": {},
        "outputId": "6b83dffc-f51d-4ae1-866b-77425c328c63"
      },
      "cell_type": "code",
      "source": [
        "print(\"Median: \", median(basic_list))"
      ],
      "execution_count": 0,
      "outputs": [
        {
          "output_type": "stream",
          "text": [
            "Median:  7\n"
          ],
          "name": "stdout"
        }
      ]
    },
    {
      "metadata": {
        "id": "SmwcCc_g_Dm0",
        "colab_type": "text"
      },
      "cell_type": "markdown",
      "source": [
        "The quantile of a data set returns the pth percentile value"
      ]
    },
    {
      "metadata": {
        "id": "jyR99KpR_Dm1",
        "colab_type": "code",
        "colab": {}
      },
      "cell_type": "code",
      "source": [
        "def quantile(x, p):\n",
        "    p_index = int(p * len(x))\n",
        "    return sorted(x)[p_index]"
      ],
      "execution_count": 0,
      "outputs": []
    },
    {
      "metadata": {
        "id": "Djv-LZg6_Dm3",
        "colab_type": "code",
        "colab": {},
        "outputId": "fce00280-efbc-4d32-ac3c-0a291ede1ea0"
      },
      "cell_type": "code",
      "source": [
        "print(\"1st Quartile (25th Percantile): \", quantile(basic_list, .25))\n",
        "print(\"3rd Quartile (75th Percantile): \", quantile(basic_list, .75))"
      ],
      "execution_count": 0,
      "outputs": [
        {
          "output_type": "stream",
          "text": [
            "1st Quartile (25th Percantile):  6\n",
            "3rd Quartile (75th Percantile):  10\n"
          ],
          "name": "stdout"
        }
      ]
    },
    {
      "metadata": {
        "id": "txlDMb7r_Dm9",
        "colab_type": "code",
        "colab": {}
      },
      "cell_type": "code",
      "source": [
        "def IQR(x): #IQR - interquartile range\n",
        "    return quantile(x, 0.75) - quantile(x, 0.25)"
      ],
      "execution_count": 0,
      "outputs": []
    },
    {
      "metadata": {
        "id": "l61aV1b9_DnA",
        "colab_type": "code",
        "colab": {},
        "outputId": "460cc760-4482-44c1-ff0a-4211a3c9d695"
      },
      "cell_type": "code",
      "source": [
        "print(\"Interquartile Range: \", IQR(basic_list))"
      ],
      "execution_count": 0,
      "outputs": [
        {
          "output_type": "stream",
          "text": [
            "Interquartile Range:  4\n"
          ],
          "name": "stdout"
        }
      ]
    },
    {
      "metadata": {
        "id": "aoud1JAa_DnC",
        "colab_type": "text"
      },
      "cell_type": "markdown",
      "source": [
        "In addition to the many simple statistical functions you can write yourself, numpy gives you access to a lot more, including the common ones from above."
      ]
    },
    {
      "metadata": {
        "id": "QwtI5eRN_DnD",
        "colab_type": "code",
        "colab": {},
        "outputId": "1d5d3ad0-013b-4344-bcad-6843aad2cd52"
      },
      "cell_type": "code",
      "source": [
        "print(\"Standard Deviation: \", np.std(basic_list))"
      ],
      "execution_count": 0,
      "outputs": [
        {
          "output_type": "stream",
          "text": [
            "Standard Deviation:  3.7712361663282534\n"
          ],
          "name": "stdout"
        }
      ]
    },
    {
      "metadata": {
        "id": "GqkybEcE_DnF",
        "colab_type": "code",
        "colab": {},
        "outputId": "a6cf6610-e091-4f73-a101-e90aa3354fcd"
      },
      "cell_type": "code",
      "source": [
        "x = [14, 7, 15, 7, 3, 5, 6, 8, 10]\n",
        "y = [44, 3, 7, 2, 17, 5, 3, 11, 14]\n",
        "print(\"Correlation between x and y: \\n\", np.corrcoef(x, y))"
      ],
      "execution_count": 0,
      "outputs": [
        {
          "output_type": "stream",
          "text": [
            "Correlation between x and y: \n",
            " [[1.         0.46158177]\n",
            " [0.46158177 1.        ]]\n"
          ],
          "name": "stdout"
        }
      ]
    },
    {
      "metadata": {
        "id": "0bxoglG6_DnH",
        "colab_type": "text"
      },
      "cell_type": "markdown",
      "source": [
        "## Histograms\n",
        "Histograms are a diagram consisting of rectangles whose area is proportional to the frequency of a variable and whose width is equal to the class interval. They are a very useful tool in visualizing data. "
      ]
    },
    {
      "metadata": {
        "id": "t30vipD5_DnI",
        "colab_type": "code",
        "colab": {},
        "outputId": "d3d283d1-847b-430a-8c7d-09812ea1ed14"
      },
      "cell_type": "code",
      "source": [
        "import matplotlib.pyplot as plt\n",
        "import matplotlib.mlab as mlab\n",
        "\n",
        "data = [1,2,1]\n",
        "bins = [0,1,2,3]\n",
        "x = np.histogram(data, bins)\n",
        "print(x) #output is a tuple of the number of occurences in each bin and the bins. \n",
        "        #x[0] is the frequency of each bin, x[1] is the range of each bin. "
      ],
      "execution_count": 0,
      "outputs": [
        {
          "output_type": "stream",
          "text": [
            "(array([0, 2, 1]), array([0, 1, 2, 3]))\n"
          ],
          "name": "stdout"
        }
      ]
    },
    {
      "metadata": {
        "id": "0GfX9qjg_DnK",
        "colab_type": "text"
      },
      "cell_type": "markdown",
      "source": [
        "What are bins? For this example, we have 3 bins. Ranging from 0 to 1, 1 to 2, and 2 to 3, respectively. "
      ]
    },
    {
      "metadata": {
        "id": "u14wlxcN_DnK",
        "colab_type": "code",
        "colab": {},
        "outputId": "69aeb680-8033-4480-e905-439e7111be42"
      },
      "cell_type": "code",
      "source": [
        "plt.bar(range(0,3),x[0])\n",
        "\n",
        "plt.title('Our Histogram')\n",
        "plt.xlabel('Data')\n",
        "plt.ylabel('Frequency')\n",
        "plt.axis([0, 5, 0, 5])#[start of x-axis, end of x-axis, start of y-axis, end of y-axis]\n",
        "plt.grid(True)\n",
        "\n",
        "plt.show()\n",
        " "
      ],
      "execution_count": 0,
      "outputs": [
        {
          "output_type": "display_data",
          "data": {
            "image/png": "[encoded data removed]",
            "text/plain": [
              "<matplotlib.figure.Figure at 0x119838f28>"
            ]
          },
          "metadata": {
            "tags": []
          }
        }
      ]
    },
    {
      "metadata": {
        "id": "uYDAd7s2_DnM",
        "colab_type": "text"
      },
      "cell_type": "markdown",
      "source": [
        "***\n",
        "\n",
        "## Probability\n",
        "\n",
        "Now it's time for some basic probability to help with the upcoming workshops.\n",
        "\n",
        "What is probability? It is the process of quantifiying the uncertainty associated with a certain set of events. There are plenty of random events in nature that make probability very useful for building and evaluating models that analyze and predict on data."
      ]
    },
    {
      "metadata": {
        "id": "EsY33yfN_DnM",
        "colab_type": "text"
      },
      "cell_type": "markdown",
      "source": [
        "### Dependent vs Independent Events\n",
        "\n",
        "Two events E and F are independent if $P(E, F) = P(E) \\cdot P(F)$.\n",
        "That is, the probability of both E and F happening is $P(E) \\cdot P(F)$.\n",
        "\n",
        "E and F are dependent events when $P(E | F) = \\frac{P(E,F)}{P(F)} = P(E | F) \\cdot P(F)$\n",
        "\n",
        "Let's program some examples in Python."
      ]
    },
    {
      "metadata": {
        "id": "FJ2iXXpb_DnN",
        "colab_type": "text"
      },
      "cell_type": "markdown",
      "source": [
        "### Tricky Example 1: Family with two children\n",
        "\n",
        "Let's assume the following statements:\n",
        "1. Each child is equally likely to be a boy or a girl\n",
        "2. The gender of the second child is independent of the gender of the first child\n",
        "\n",
        "Based on these assumptions, we know that the event âno girlsâ has probability $\\frac{1}{4}$, the event âone girl, one boyâ has probability $\\frac{1}{2}$, and the event âtwo girlsâ has probability $\\frac{1}{4}$.\n",
        "\n",
        "Now, let's think about the events:\n",
        "* B = \"both children are girls\"\n",
        "* G = \"the older child is a girl\"\n",
        "* L = \"at least one of the children is a girl\"\n",
        "\n",
        "Using the concept of conditional probability, we can ask what is the likelihood of these events conditioned on each other. Or, what is the probability that both children are girls and the older child is a girl?\n",
        "\n",
        "By mathematical calculation, we know $P(B|G) = \\frac{P(B, G)}{P(G)} = \\frac{P(B)}{P(G)} = \\frac{1}{2}$\n",
        "\n",
        "And this makes sense because the event B and G (âboth children are girls and the older child is a girlâ) is just the event B. (Once you know that both children are girls, itâs necessarily true that the older child is a girl.)\n",
        "\n",
        "We could also ask about the probability of the event âboth children are girlsâ conditional on the event âat least one of the children is a girlâ (L). Surprisingly, the answer is different from before! We know that the event B and L (âboth children are girls and at least one of the children is a girlâ) is just the event B.\n",
        "\n",
        "This means we have $P(B|L) = \\frac{P(B,L)}{P(L)} = \\frac{P(B)}{P(L)} = \\frac{\\frac{1}{4}}{\\frac{3}{4}} = \\frac{1}{3}$"
      ]
    },
    {
      "metadata": {
        "id": "hBxEHa0x_DnN",
        "colab_type": "code",
        "colab": {},
        "outputId": "0d1d970f-0d44-49e2-ff2f-bb1e7da8ab29"
      },
      "cell_type": "code",
      "source": [
        "# a function that randomly returns a choice between \"boy\" and \"girl\"\n",
        "def random_kid():\n",
        "    return np.random.choice([\"boy\", \"girl\"])\n",
        "\n",
        "# counter variables\n",
        "both_girls = 0.0\n",
        "older_girl = 0.0\n",
        "either_girl = 0.0\n",
        "\n",
        "for i in range(10000):\n",
        "    younger = random_kid()\n",
        "    older = random_kid()\n",
        "    if older == \"girl\":\n",
        "        older_girl += 1\n",
        "    if older == \"girl\" and younger == \"girl\":\n",
        "        both_girls += 1\n",
        "    if older == \"girl\" or younger == \"girl\":\n",
        "        either_girl += 1\n",
        "        \n",
        "\n",
        "print(\"P(both | older):\", both_girls / older_girl) # 1/2\n",
        "print(\"P(both | either): \", both_girls / either_girl) # 1/3"
      ],
      "execution_count": 0,
      "outputs": [
        {
          "output_type": "stream",
          "text": [
            "P(both | older): 0.5100178536004761\n",
            "P(both | either):  0.3408006362672322\n"
          ],
          "name": "stdout"
        }
      ]
    },
    {
      "metadata": {
        "id": "1mJpgWpg_DnQ",
        "colab_type": "text"
      },
      "cell_type": "markdown",
      "source": [
        "### Tricky Example 2: The famous Monty Hall Problem\n",
        "\n",
        "Suppose you're on a game show, and you're given the choice of three doors: Behind one door is a car; behind the others, goats. You pick a door, say No. 1. The host, who knows what's behind the doors, opens one of the two remaining doors which will have a goat, say No. 3.\n",
        "\n",
        "He then says to you, \"Do you want to stay with door No. 1 or pick door No. 2?\" Is it to your advantage to switch your choice?\n",
        "\n",
        "Intuition says no, the chance should be the same regardless of whether you stay with your choice or switch doors\n",
        "\n",
        "A key insight is that, under these standard conditions, there is more information about doors 2 and 3 that was not available at the beginning of the game, when the door 1 was chosen by the player: the host's deliberate action adds value to the door he did not choose to eliminate, but not to the one chosen by the contestant originally.\n",
        "\n",
        "But how can we prove it? Let's simulate an example."
      ]
    },
    {
      "metadata": {
        "id": "NVcubBTG_DnR",
        "colab_type": "code",
        "colab": {}
      },
      "cell_type": "code",
      "source": [
        "import random\n",
        "\n",
        "def montyhall():\n",
        "    carscore = 0.0\n",
        "    goatscore = 0.0\n",
        "\n",
        "    # Set swap for this set of runs\n",
        "    swap = input(\"Do you want to change your choice of door for this run? (y or n) \")\n",
        "    # Set number of runs\n",
        "    test_count = int(input(\"Enter number runs: \"))\n",
        "    \n",
        "    for count in range(test_count):\n",
        "        # Set random choice\n",
        "        choice = random.randint(0, 2)\n",
        "        # Initialize doors list\n",
        "        doors = [\"\", \"\", \"\"]\n",
        "\n",
        "        # Set random door that has car prize\n",
        "        car_prize_door = random.randint(0, 2)\n",
        "        # Populate doors list\n",
        "        for i in range(3):\n",
        "            if i == car_prize_door:\n",
        "                doors[i] = \"Car\"\n",
        "            else:\n",
        "                doors[i] = \"Goat\"\n",
        "\n",
        "        # If player's chosen door has car inside\n",
        "        if doors[choice] == \"Car\":\n",
        "            # Set door that Monty Hall opens to either 1 or 2\n",
        "            open_door = random.randint(1, 2)\n",
        "\n",
        "            # Set open_door to 0 if the choice is the same as the random door\n",
        "            # If they are not the same, the random door definitely has a \"Goat\"\n",
        "            if choice == 1 and open_door == 1:\n",
        "                open_door = 0\n",
        "            if choice == 2 and open_door == 2:\n",
        "                open_door = 0\n",
        "        else:\n",
        "            # Set open_door to the one that doesn't have \"Car\"\n",
        "            # and is not the chosen door\n",
        "            for i in range(3):\n",
        "                if doors[i] != \"Car\" and i != choice:\n",
        "                    open_door = i\n",
        "\n",
        "        # Swap if set to \"y\", else do nothing\n",
        "        if swap == \"y\":\n",
        "            if choice == 0:\n",
        "                if open_door == 1:\n",
        "                    choice = 2\n",
        "                else:\n",
        "                    choice = 1\n",
        "            elif choice == 1:\n",
        "                if open_door == 0:\n",
        "                    choice = 2\n",
        "                else:\n",
        "                    choice = 0\n",
        "            else:\n",
        "                if open_door == 0:\n",
        "                    choice = 1\n",
        "                else:\n",
        "                    choice = 0\n",
        "\n",
        "        if doors[choice] == \"Car\":\n",
        "            carscore += 1\n",
        "        else:\n",
        "            goatscore += 1\n",
        "\n",
        "    winpercent = (carscore / test_count) * 100\n",
        "    print(\"\\nCar Score:\", carscore)\n",
        "    print(\"Goat Score:\" , goatscore)\n",
        "    print(\"Win Percent:\", winpercent)"
      ],
      "execution_count": 0,
      "outputs": []
    },
    {
      "metadata": {
        "id": "lRwEG1sj_DnT",
        "colab_type": "code",
        "colab": {},
        "outputId": "663173ea-552b-4778-d907-95dd5b79151d"
      },
      "cell_type": "code",
      "source": [
        "montyhall()"
      ],
      "execution_count": 0,
      "outputs": [
        {
          "output_type": "stream",
          "text": [
            "Do you want to change your choice of door for this run? (y or n) y\n",
            "Enter number runs: 3\n",
            "\n",
            "Car Score: 3.0\n",
            "Goat Score: 0.0\n",
            "Win Percent: 100.0\n"
          ],
          "name": "stdout"
        }
      ]
    },
    {
      "metadata": {
        "id": "m2TnrWWd_DnW",
        "colab_type": "code",
        "colab": {},
        "outputId": "d118e9be-8848-4c86-803c-74b870137e18"
      },
      "cell_type": "code",
      "source": [
        "montyhall()"
      ],
      "execution_count": 0,
      "outputs": [
        {
          "output_type": "stream",
          "text": [
            "Do you want to change your choice of door for this run? (y or n) yt\n",
            "Enter number runs: 5\n",
            "\n",
            "Car Score: 1.0\n",
            "Goat Score: 4.0\n",
            "Win Percent: 20.0\n"
          ],
          "name": "stdout"
        }
      ]
    },
    {
      "metadata": {
        "id": "8dyi0Zel_DnZ",
        "colab_type": "code",
        "colab": {}
      },
      "cell_type": "code",
      "source": [
        ""
      ],
      "execution_count": 0,
      "outputs": []
    }
  ]
}